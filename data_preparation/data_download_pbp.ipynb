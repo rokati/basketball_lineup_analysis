{
 "cells": [
  {
   "cell_type": "code",
   "execution_count": null,
   "metadata": {},
   "outputs": [
    {
     "name": "stdout",
     "output_type": "stream",
     "text": [
      "Requirement already satisfied: tenacity in c:\\users\\rokaa\\egyetem\\basketball_lineup_analysis\\.venv\\lib\\site-packages (9.0.0)\n",
      "Requirement already satisfied: tqdm in c:\\users\\rokaa\\egyetem\\basketball_lineup_analysis\\.venv\\lib\\site-packages (4.67.1)\n",
      "Requirement already satisfied: colorama in c:\\users\\rokaa\\egyetem\\basketball_lineup_analysis\\.venv\\lib\\site-packages (from tqdm) (0.4.6)\n",
      "Note: you may need to restart the kernel to use updated packages.\n"
     ]
    }
   ],
   "source": [
    "%pip install tenacity tqdm"
   ]
  },
  {
   "cell_type": "code",
   "execution_count": 1,
   "metadata": {},
   "outputs": [],
   "source": [
    "from nba_api.stats.endpoints import BoxScoreAdvancedV2, LeagueDashTeamStats, LeagueGameFinder, LeagueDashPlayerStats, PlayByPlayV2, LeagueLineupViz, TeamPlayerOnOffSummary\n",
    "from tenacity import retry, stop_after_attempt, wait_exponential\n",
    "import pandas as pd\n",
    "from tqdm import tqdm\n",
    "\n",
    "pd.set_option('display.max_columns', None)\n"
   ]
  },
  {
   "cell_type": "code",
   "execution_count": 2,
   "metadata": {},
   "outputs": [],
   "source": [
    "season = \"2023-24\""
   ]
  },
  {
   "cell_type": "code",
   "execution_count": 10,
   "metadata": {},
   "outputs": [],
   "source": [
    "def fetch_team_stats(season):\n",
    "    team_stats = LeagueDashTeamStats(season=season).get_data_frames()[0]\n",
    "    team_stats = team_stats[['TEAM_ID', 'TEAM_NAME', 'GP', 'W', 'L']]\n",
    "    return team_stats\n",
    "\n",
    "def fetch_game_stats(season, team=None):\n",
    "    if team is None:\n",
    "        game_stats = LeagueGameFinder(season_nullable=season).get_data_frames()[0]\n",
    "    else:\n",
    "        game_stats = LeagueGameFinder(season_nullable=season, team_id_nullable=team).get_data_frames()[0]\n",
    "    return game_stats\n",
    "\n",
    "def fetch_player_stats(season):\n",
    "    player_stats = LeagueDashPlayerStats(season=season).get_data_frames()[0]\n",
    "    player_stats = player_stats[['PLAYER_ID', 'PLAYER_NAME', 'TEAM_ID', 'GP', 'MIN', 'PTS', 'AST', 'REB', 'STL', 'BLK', 'TOV', 'PLUS_MINUS']]\n",
    "    return player_stats\n",
    "\n",
    "def fetch_lineup_data(season, minutes_min, team=None):\n",
    "    if team is None:\n",
    "        lineup_data = LeagueLineupViz(season=season, measure_type_detailed_defense=\"Advanced\", minutes_min=minutes_min).get_data_frames()[0]\n",
    "    else:\n",
    "        lineup_data = LeagueLineupViz(season=season, measure_type_detailed_defense=\"Advanced\", minutes_min=minutes_min, team_id_nullable=team).get_data_frames()[0]\n",
    "    lineup_data = lineup_data[['GROUP_ID', 'GROUP_NAME', 'TEAM_ID' , 'OFF_RATING', 'DEF_RATING', 'NET_RATING']]\n",
    "    return lineup_data\n",
    "\n",
    "@retry(stop=stop_after_attempt(3), wait=wait_exponential(multiplier=1, min=2, max=30))\n",
    "def fetch_events(game_id):\n",
    "    play_by_play = PlayByPlayV2(game_id=game_id).get_data_frames()[0]\n",
    "    play_by_play = play_by_play[[\n",
    "        \"GAME_ID\",\n",
    "        \"EVENTNUM\",\n",
    "        \"EVENTMSGTYPE\",\n",
    "        \"PERIOD\",\n",
    "        \"PCTIMESTRING\",\n",
    "        \"PLAYER1_ID\",\n",
    "        \"PLAYER1_NAME\",\n",
    "        \"PLAYER1_TEAM_ID\",\n",
    "        \"PLAYER1_TEAM_ABBREVIATION\",\n",
    "        \"PLAYER2_ID\",\n",
    "        \"PLAYER2_NAME\",\n",
    "        \"PLAYER2_TEAM_ID\",\n",
    "        \"PLAYER2_TEAM_ABBREVIATION\"\n",
    "    ]]\n",
    "    return play_by_play\n",
    "\n",
    "@retry(stop=stop_after_attempt(3), wait=wait_exponential(multiplier=2, min=5, max=40))\n",
    "def fetch_team_on_off_summary(team_id, season):\n",
    "    team_on_off_summary = TeamPlayerOnOffSummary(team_id=team_id, season=season).get_data_frames()[0]\n",
    "    return team_on_off_summary\n",
    "\n",
    "@retry(stop=stop_after_attempt(3), wait=wait_exponential(multiplier=2, min=5, max=40))\n",
    "def fetch_player_on_summary(team_id, season):\n",
    "    player_on_summary = TeamPlayerOnOffSummary(team_id=team_id, season=season).get_data_frames()[1]\n",
    "    return player_on_summary\n",
    "\n",
    "@retry(stop=stop_after_attempt(3), wait=wait_exponential(multiplier=2, min=5, max=40))\n",
    "def fetch_player_off_summary(team_id, season):\n",
    "    player_off_summary = TeamPlayerOnOffSummary(team_id=team_id, season=season).get_data_frames()[2]\n",
    "    return player_off_summary"
   ]
  },
  {
   "cell_type": "code",
   "execution_count": 11,
   "metadata": {},
   "outputs": [],
   "source": [
    "team_stats = fetch_team_stats(season=season)\n",
    "team_stats = team_stats[0:1]\n",
    "\n",
    "player_stats = fetch_player_stats(season=season)\n",
    "player_stats = player_stats[player_stats.TEAM_ID == team_stats.TEAM_ID.values[0]]\n",
    "\n",
    "lineup_data = fetch_lineup_data(season=season, minutes_min=5, team=team_stats.TEAM_ID.values[0])\n",
    "lineup_data = lineup_data[lineup_data.TEAM_ID == team_stats.TEAM_ID.values[0]]\n",
    "game_stats = fetch_game_stats(season=season, team=team_stats.TEAM_ID.values[0])\n",
    "\n",
    "team_stats.to_csv(\"../data/team_stats.csv\", index=False)\n",
    "player_stats.to_csv(\"../data/player_stats.csv\", index=False)\n",
    "lineup_data.to_csv(\"../data/lineup_data.csv\", index=False)\n",
    "game_stats.to_csv(\"../data/game_stats.csv\", index=False)"
   ]
  },
  {
   "cell_type": "code",
   "execution_count": 12,
   "metadata": {},
   "outputs": [
    {
     "data": {
      "text/html": [
       "<div>\n",
       "<style scoped>\n",
       "    .dataframe tbody tr th:only-of-type {\n",
       "        vertical-align: middle;\n",
       "    }\n",
       "\n",
       "    .dataframe tbody tr th {\n",
       "        vertical-align: top;\n",
       "    }\n",
       "\n",
       "    .dataframe thead th {\n",
       "        text-align: right;\n",
       "    }\n",
       "</style>\n",
       "<table border=\"1\" class=\"dataframe\">\n",
       "  <thead>\n",
       "    <tr style=\"text-align: right;\">\n",
       "      <th></th>\n",
       "      <th>GROUP_SET</th>\n",
       "      <th>GROUP_VALUE</th>\n",
       "      <th>TEAM_ID</th>\n",
       "      <th>TEAM_ABBREVIATION</th>\n",
       "      <th>TEAM_NAME</th>\n",
       "      <th>GP</th>\n",
       "      <th>W</th>\n",
       "      <th>L</th>\n",
       "      <th>W_PCT</th>\n",
       "      <th>MIN</th>\n",
       "      <th>FGM</th>\n",
       "      <th>FGA</th>\n",
       "      <th>FG_PCT</th>\n",
       "      <th>FG3M</th>\n",
       "      <th>FG3A</th>\n",
       "      <th>FG3_PCT</th>\n",
       "      <th>FTM</th>\n",
       "      <th>FTA</th>\n",
       "      <th>FT_PCT</th>\n",
       "      <th>OREB</th>\n",
       "      <th>DREB</th>\n",
       "      <th>REB</th>\n",
       "      <th>AST</th>\n",
       "      <th>TOV</th>\n",
       "      <th>STL</th>\n",
       "      <th>BLK</th>\n",
       "      <th>BLKA</th>\n",
       "      <th>PF</th>\n",
       "      <th>PFD</th>\n",
       "      <th>PTS</th>\n",
       "      <th>PLUS_MINUS</th>\n",
       "      <th>GP_RANK</th>\n",
       "      <th>W_RANK</th>\n",
       "      <th>L_RANK</th>\n",
       "      <th>W_PCT_RANK</th>\n",
       "      <th>MIN_RANK</th>\n",
       "      <th>FGM_RANK</th>\n",
       "      <th>FGA_RANK</th>\n",
       "      <th>FG_PCT_RANK</th>\n",
       "      <th>FG3M_RANK</th>\n",
       "      <th>FG3A_RANK</th>\n",
       "      <th>FG3_PCT_RANK</th>\n",
       "      <th>FTM_RANK</th>\n",
       "      <th>FTA_RANK</th>\n",
       "      <th>FT_PCT_RANK</th>\n",
       "      <th>OREB_RANK</th>\n",
       "      <th>DREB_RANK</th>\n",
       "      <th>REB_RANK</th>\n",
       "      <th>AST_RANK</th>\n",
       "      <th>TOV_RANK</th>\n",
       "      <th>STL_RANK</th>\n",
       "      <th>BLK_RANK</th>\n",
       "      <th>BLKA_RANK</th>\n",
       "      <th>PF_RANK</th>\n",
       "      <th>PFD_RANK</th>\n",
       "      <th>PTS_RANK</th>\n",
       "      <th>PLUS_MINUS_RANK</th>\n",
       "    </tr>\n",
       "  </thead>\n",
       "  <tbody>\n",
       "    <tr>\n",
       "      <th>0</th>\n",
       "      <td>Overall</td>\n",
       "      <td>2023-24</td>\n",
       "      <td>1610612737</td>\n",
       "      <td>ATL</td>\n",
       "      <td>Atlanta Hawks</td>\n",
       "      <td>82</td>\n",
       "      <td>36</td>\n",
       "      <td>46</td>\n",
       "      <td>0.439</td>\n",
       "      <td>3971.0</td>\n",
       "      <td>3529</td>\n",
       "      <td>7584</td>\n",
       "      <td>0.465</td>\n",
       "      <td>1125</td>\n",
       "      <td>3092</td>\n",
       "      <td>0.364</td>\n",
       "      <td>1520</td>\n",
       "      <td>1906</td>\n",
       "      <td>0.797</td>\n",
       "      <td>1024</td>\n",
       "      <td>2639</td>\n",
       "      <td>3663</td>\n",
       "      <td>2180</td>\n",
       "      <td>1110.0</td>\n",
       "      <td>615</td>\n",
       "      <td>369</td>\n",
       "      <td>461</td>\n",
       "      <td>1522</td>\n",
       "      <td>1594</td>\n",
       "      <td>9703</td>\n",
       "      <td>-179.0</td>\n",
       "      <td>1</td>\n",
       "      <td>1</td>\n",
       "      <td>1</td>\n",
       "      <td>1</td>\n",
       "      <td>1</td>\n",
       "      <td>1</td>\n",
       "      <td>1</td>\n",
       "      <td>1</td>\n",
       "      <td>1</td>\n",
       "      <td>1</td>\n",
       "      <td>1</td>\n",
       "      <td>1</td>\n",
       "      <td>1</td>\n",
       "      <td>1</td>\n",
       "      <td>1</td>\n",
       "      <td>1</td>\n",
       "      <td>1</td>\n",
       "      <td>1</td>\n",
       "      <td>1</td>\n",
       "      <td>1</td>\n",
       "      <td>1</td>\n",
       "      <td>1</td>\n",
       "      <td>1</td>\n",
       "      <td>1</td>\n",
       "      <td>1</td>\n",
       "      <td>1</td>\n",
       "    </tr>\n",
       "  </tbody>\n",
       "</table>\n",
       "</div>"
      ],
      "text/plain": [
       "  GROUP_SET GROUP_VALUE     TEAM_ID TEAM_ABBREVIATION      TEAM_NAME  GP   W  \\\n",
       "0   Overall     2023-24  1610612737               ATL  Atlanta Hawks  82  36   \n",
       "\n",
       "    L  W_PCT     MIN   FGM   FGA  FG_PCT  FG3M  FG3A  FG3_PCT   FTM   FTA  \\\n",
       "0  46  0.439  3971.0  3529  7584   0.465  1125  3092    0.364  1520  1906   \n",
       "\n",
       "   FT_PCT  OREB  DREB   REB   AST     TOV  STL  BLK  BLKA    PF   PFD   PTS  \\\n",
       "0   0.797  1024  2639  3663  2180  1110.0  615  369   461  1522  1594  9703   \n",
       "\n",
       "   PLUS_MINUS  GP_RANK  W_RANK  L_RANK  W_PCT_RANK  MIN_RANK  FGM_RANK  \\\n",
       "0      -179.0        1       1       1           1         1         1   \n",
       "\n",
       "   FGA_RANK  FG_PCT_RANK  FG3M_RANK  FG3A_RANK  FG3_PCT_RANK  FTM_RANK  \\\n",
       "0         1            1          1          1             1         1   \n",
       "\n",
       "   FTA_RANK  FT_PCT_RANK  OREB_RANK  DREB_RANK  REB_RANK  AST_RANK  TOV_RANK  \\\n",
       "0         1            1          1          1         1         1         1   \n",
       "\n",
       "   STL_RANK  BLK_RANK  BLKA_RANK  PF_RANK  PFD_RANK  PTS_RANK  PLUS_MINUS_RANK  \n",
       "0         1         1          1        1         1         1                1  "
      ]
     },
     "execution_count": 12,
     "metadata": {},
     "output_type": "execute_result"
    }
   ],
   "source": [
    "team_on_of = fetch_team_on_off_summary(team_id=team_stats.TEAM_ID.values[0], season=season)\n",
    "team_on_of"
   ]
  },
  {
   "cell_type": "code",
   "execution_count": 13,
   "metadata": {},
   "outputs": [
    {
     "name": "stderr",
     "output_type": "stream",
     "text": [
      "0it [00:00, ?it/s]"
     ]
    },
    {
     "name": "stderr",
     "output_type": "stream",
     "text": [
      "1it [00:00,  6.52it/s]\n"
     ]
    }
   ],
   "source": [
    "all_team_on_off_summary = pd.DataFrame()\n",
    "all_player_on_summary = pd.DataFrame()\n",
    "all_player_off_summary = pd.DataFrame()\n",
    "n = 0\n",
    "for _, team in tqdm(team_stats.iterrows()):\n",
    "  if n == 100:\n",
    "    break\n",
    "  n += 1\n",
    "  try:\n",
    "    team_on_off_summary = fetch_team_on_off_summary(team_id=team['TEAM_ID'], season=season)\n",
    "    all_team_on_off_summary = pd.concat([all_team_on_off_summary, team_on_off_summary])\n",
    "\n",
    "    player_on_summary = fetch_player_on_summary(team_id=team['TEAM_ID'], season=season)\n",
    "    all_player_on_summary = pd.concat([all_player_on_summary, player_on_summary])\n",
    "\n",
    "    player_off_summary = fetch_player_off_summary(team_id=team['TEAM_ID'], season=season)\n",
    "    all_player_off_summary = pd.concat([all_player_off_summary, player_off_summary])\n",
    "\n",
    "  except Exception as e:\n",
    "    print(f\"Skipping team {team['TEAM_ID']} after retries: {e}\")\n",
    "\n",
    "all_team_on_off_summary.to_csv(\"../data/team_on_off_summary.csv\")\n",
    "all_player_on_summary.to_csv(\"../data/player_on_summary.csv\")\n",
    "all_player_off_summary.to_csv(\"../data/player_off_summary.csv\")"
   ]
  },
  {
   "cell_type": "code",
   "execution_count": 18,
   "metadata": {},
   "outputs": [],
   "source": [
    "def create_player_on_of_summary(all_player_off_summary, all_player_on_summary, team_stats):\n",
    "    all_player_on_off_summary = pd.DataFrame()\n",
    "    ratings = ['NET_RATING', 'OFF_RATING', 'DEF_RATING']\n",
    "    for _, team in team_stats.iterrows():\n",
    "        for rating in ratings:\n",
    "            players_on_summary = all_player_on_summary.loc[all_player_on_summary['TEAM_ID'] == team['TEAM_ID']]\n",
    "            player_off_summary = all_player_off_summary.loc[all_player_off_summary['TEAM_ID'] == team['TEAM_ID']]\n",
    "\n",
    "            # Merge the dataframes\n",
    "            player_on_off_summary = pd.merge(players_on_summary, player_off_summary, on='VS_PLAYER_ID', suffixes=('_on', '_off'))\n",
    "            player_on_off_summary[f'{rating}_DIFF'] = player_on_off_summary[f'{rating}_on'] - player_on_off_summary[f'{rating}_off']\n",
    "            all_player_on_off_summary = pd.concat([all_player_on_off_summary, player_on_off_summary])\n",
    "            \n",
    "    all_player_on_off_summary.drop(columns=[\n",
    "        'GROUP_SET_on',\n",
    "        'TEAM_ID_on',\n",
    "        'TEAM_ABBREVIATION_on',\n",
    "        'TEAM_NAME_on',\n",
    "        'VS_PLAYER_NAME_on',\n",
    "        ], inplace=True)\n",
    "    all_player_on_off_summary.rename(columns={\n",
    "        'GROUP_SET_off': 'GROUP_SET',\n",
    "        'TEAM_ID_off': 'TEAM_ID',\n",
    "        'TEAM_ABBREVIATION_off': 'TEAM_ABBREVIATION',\n",
    "        'TEAM_NAME_off': 'TEAM_NAME',\n",
    "        'VS_PLAYER_NAME_off': 'VS_PLAYER_NAME',\n",
    "    }, inplace=True)\n",
    "    return all_player_on_off_summary\n"
   ]
  },
  {
   "cell_type": "code",
   "execution_count": 19,
   "metadata": {},
   "outputs": [],
   "source": [
    "all_player_on_off_summary = create_player_on_of_summary(all_player_off_summary, all_player_on_summary, team_stats)\n",
    "all_player_on_off_summary.to_csv(\"../data/player_on_off_summary.csv\")"
   ]
  },
  {
   "cell_type": "code",
   "execution_count": 20,
   "metadata": {},
   "outputs": [
    {
     "data": {
      "text/plain": [
       "Index(['VS_PLAYER_ID', 'COURT_STATUS_on', 'GP_on', 'MIN_on', 'PLUS_MINUS_on',\n",
       "       'OFF_RATING_on', 'DEF_RATING_on', 'NET_RATING_on', 'GROUP_SET',\n",
       "       'TEAM_ID', 'TEAM_ABBREVIATION', 'TEAM_NAME', 'VS_PLAYER_NAME',\n",
       "       'COURT_STATUS_off', 'GP_off', 'MIN_off', 'PLUS_MINUS_off',\n",
       "       'OFF_RATING_off', 'DEF_RATING_off', 'NET_RATING_off', 'NET_RATING_DIFF',\n",
       "       'OFF_RATING_DIFF', 'DEF_RATING_DIFF'],\n",
       "      dtype='object')"
      ]
     },
     "execution_count": 20,
     "metadata": {},
     "output_type": "execute_result"
    }
   ],
   "source": [
    "all_player_on_off_summary.columns"
   ]
  },
  {
   "cell_type": "code",
   "execution_count": 21,
   "metadata": {},
   "outputs": [
    {
     "name": "stderr",
     "output_type": "stream",
     "text": [
      "88it [00:49,  1.79it/s]\n"
     ]
    }
   ],
   "source": [
    "all_events = pd.DataFrame()\n",
    "n = 0\n",
    "for game in tqdm(game_stats.iterrows()):\n",
    "  if n == 100:\n",
    "    break\n",
    "  n += 1\n",
    "  try:\n",
    "    events = fetch_events(game_id=game[1]['GAME_ID'])\n",
    "    all_events = pd.concat([all_events, events])\n",
    "  except Exception as e:\n",
    "    print(f\"Skipping game {game[1]['GAME_ID']} after retries: {e}\")\n",
    "\n",
    "all_events.to_csv(\"../data/events.csv\")"
   ]
  }
 ],
 "metadata": {
  "kernelspec": {
   "display_name": ".venv",
   "language": "python",
   "name": "python3"
  },
  "language_info": {
   "codemirror_mode": {
    "name": "ipython",
    "version": 3
   },
   "file_extension": ".py",
   "mimetype": "text/x-python",
   "name": "python",
   "nbconvert_exporter": "python",
   "pygments_lexer": "ipython3",
   "version": "3.12.4"
  }
 },
 "nbformat": 4,
 "nbformat_minor": 2
}
