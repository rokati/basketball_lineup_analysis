{
  "cells": [
    {
      "cell_type": "markdown",
      "metadata": {
        "id": "Kere6IHX8NIx"
      },
      "source": [
        "# Installing all needed dataframes"
      ]
    },
    {
      "cell_type": "code",
      "execution_count": 5,
      "metadata": {
        "id": "W2UwGTHR7dtK"
      },
      "outputs": [
        {
          "name": "stdout",
          "output_type": "stream",
          "text": [
            "Requirement already satisfied: nba_api in c:\\users\\rokaa\\egyetem\\basketball_lineup_analysis\\.venv\\lib\\site-packages (1.8.0)\n",
            "Requirement already satisfied: matplotlib in c:\\users\\rokaa\\egyetem\\basketball_lineup_analysis\\.venv\\lib\\site-packages (3.10.1)\n",
            "Collecting seaborn\n",
            "  Using cached seaborn-0.13.2-py3-none-any.whl.metadata (5.4 kB)\n",
            "Requirement already satisfied: numpy<2.0.0 in c:\\users\\rokaa\\egyetem\\basketball_lineup_analysis\\.venv\\lib\\site-packages (from nba_api) (1.26.4)\n",
            "Requirement already satisfied: requests<3.0.0,>=2.32.3 in c:\\users\\rokaa\\egyetem\\basketball_lineup_analysis\\.venv\\lib\\site-packages (from nba_api) (2.32.3)\n",
            "Requirement already satisfied: contourpy>=1.0.1 in c:\\users\\rokaa\\egyetem\\basketball_lineup_analysis\\.venv\\lib\\site-packages (from matplotlib) (1.3.1)\n",
            "Requirement already satisfied: cycler>=0.10 in c:\\users\\rokaa\\egyetem\\basketball_lineup_analysis\\.venv\\lib\\site-packages (from matplotlib) (0.12.1)\n",
            "Requirement already satisfied: fonttools>=4.22.0 in c:\\users\\rokaa\\egyetem\\basketball_lineup_analysis\\.venv\\lib\\site-packages (from matplotlib) (4.56.0)\n",
            "Requirement already satisfied: kiwisolver>=1.3.1 in c:\\users\\rokaa\\egyetem\\basketball_lineup_analysis\\.venv\\lib\\site-packages (from matplotlib) (1.4.8)\n",
            "Requirement already satisfied: packaging>=20.0 in c:\\users\\rokaa\\egyetem\\basketball_lineup_analysis\\.venv\\lib\\site-packages (from matplotlib) (24.2)\n",
            "Requirement already satisfied: pillow>=8 in c:\\users\\rokaa\\egyetem\\basketball_lineup_analysis\\.venv\\lib\\site-packages (from matplotlib) (11.1.0)\n",
            "Requirement already satisfied: pyparsing>=2.3.1 in c:\\users\\rokaa\\egyetem\\basketball_lineup_analysis\\.venv\\lib\\site-packages (from matplotlib) (3.2.1)\n",
            "Requirement already satisfied: python-dateutil>=2.7 in c:\\users\\rokaa\\egyetem\\basketball_lineup_analysis\\.venv\\lib\\site-packages (from matplotlib) (2.9.0.post0)\n",
            "Requirement already satisfied: pandas>=1.2 in c:\\users\\rokaa\\egyetem\\basketball_lineup_analysis\\.venv\\lib\\site-packages (from seaborn) (2.2.3)\n",
            "Requirement already satisfied: pytz>=2020.1 in c:\\users\\rokaa\\egyetem\\basketball_lineup_analysis\\.venv\\lib\\site-packages (from pandas>=1.2->seaborn) (2025.1)\n",
            "Requirement already satisfied: tzdata>=2022.7 in c:\\users\\rokaa\\egyetem\\basketball_lineup_analysis\\.venv\\lib\\site-packages (from pandas>=1.2->seaborn) (2025.1)\n",
            "Requirement already satisfied: six>=1.5 in c:\\users\\rokaa\\egyetem\\basketball_lineup_analysis\\.venv\\lib\\site-packages (from python-dateutil>=2.7->matplotlib) (1.17.0)\n",
            "Requirement already satisfied: charset-normalizer<4,>=2 in c:\\users\\rokaa\\egyetem\\basketball_lineup_analysis\\.venv\\lib\\site-packages (from requests<3.0.0,>=2.32.3->nba_api) (3.4.1)\n",
            "Requirement already satisfied: idna<4,>=2.5 in c:\\users\\rokaa\\egyetem\\basketball_lineup_analysis\\.venv\\lib\\site-packages (from requests<3.0.0,>=2.32.3->nba_api) (3.10)\n",
            "Requirement already satisfied: urllib3<3,>=1.21.1 in c:\\users\\rokaa\\egyetem\\basketball_lineup_analysis\\.venv\\lib\\site-packages (from requests<3.0.0,>=2.32.3->nba_api) (2.3.0)\n",
            "Requirement already satisfied: certifi>=2017.4.17 in c:\\users\\rokaa\\egyetem\\basketball_lineup_analysis\\.venv\\lib\\site-packages (from requests<3.0.0,>=2.32.3->nba_api) (2025.1.31)\n",
            "Using cached seaborn-0.13.2-py3-none-any.whl (294 kB)\n",
            "Installing collected packages: seaborn\n",
            "Successfully installed seaborn-0.13.2\n"
          ]
        }
      ],
      "source": [
        "!pip install nba_api matplotlib seaborn"
      ]
    },
    {
      "cell_type": "code",
      "execution_count": 6,
      "metadata": {
        "id": "Huz6g8_-D0yF"
      },
      "outputs": [],
      "source": [
        "from nba_api.stats.endpoints import BoxScoreAdvancedV2, LeagueDashTeamStats, LeagueGameFinder, LeagueDashPlayerStats, PlayByPlayV2, LeagueLineupViz, TeamPlayerOnOffDetails, TeamPlayerOnOffSummary\n",
        "import pandas as pd\n",
        "from tqdm import tqdm\n",
        "import time\n",
        "from tenacity import retry, stop_after_attempt, wait_exponential\n",
        "import matplotlib.pyplot as plt\n",
        "import seaborn as sns\n",
        "\n",
        "pd.set_option('display.max_columns', None)"
      ]
    },
    {
      "cell_type": "code",
      "execution_count": null,
      "metadata": {
        "id": "CK4hqxfsDSP-"
      },
      "outputs": [],
      "source": [
        "season = \"2023-24\"\n",
        "game_id = \"0022300881\"\n",
        "team_id = \"1610612741\""
      ]
    },
    {
      "cell_type": "code",
      "execution_count": 1,
      "metadata": {},
      "outputs": [
        {
          "ename": "NameError",
          "evalue": "name 'pd' is not defined",
          "output_type": "error",
          "traceback": [
            "\u001b[31m---------------------------------------------------------------------------\u001b[39m",
            "\u001b[31mNameError\u001b[39m                                 Traceback (most recent call last)",
            "\u001b[36mCell\u001b[39m\u001b[36m \u001b[39m\u001b[32mIn[1]\u001b[39m\u001b[32m, line 1\u001b[39m\n\u001b[32m----> \u001b[39m\u001b[32m1\u001b[39m team_stats = \u001b[43mpd\u001b[49m.read_csv(\u001b[33m\"\u001b[39m\u001b[33m..data/team_stats.csv\u001b[39m\u001b[33m\"\u001b[39m)\n\u001b[32m      2\u001b[39m player_stats = pd.read_csv(\u001b[33m\"\u001b[39m\u001b[33m..data/player_stats.csv\u001b[39m\u001b[33m\"\u001b[39m)\n\u001b[32m      3\u001b[39m lineup_data = pd.read_csv(\u001b[33m\"\u001b[39m\u001b[33m..data/lineup_data.csv\u001b[39m\u001b[33m\"\u001b[39m)\n",
            "\u001b[31mNameError\u001b[39m: name 'pd' is not defined"
          ]
        }
      ],
      "source": [
        "team_stats = pd.read_csv(\"..data/team_stats.csv\")\n",
        "player_stats = pd.read_csv(\"..data/player_stats.csv\")\n",
        "lineup_data = pd.read_csv(\"..data/lineup_data.csv\")\n",
        "game_stats = pd.read_csv(\"..data/game_stats.csv\")\n",
        "all_team_on_off_details = pd.read_csv(\"..data/team_on_off_details.csv\")\n",
        "all_player_on_details = pd.read_csv(\"..data/player_on_details.csv\")\n",
        "all_player_off_details = pd.read_csv(\"..data/player_off_details.csv\")\n",
        "all_events = pd.read_csv(\"..data/events.csv\")"
      ]
    },
    {
      "cell_type": "code",
      "execution_count": null,
      "metadata": {
        "id": "MEpzD1kg5_-X"
      },
      "outputs": [],
      "source": [
        "all_player_on_details[all_player_on_details['TEAM_ID'] == 1610612744]"
      ]
    },
    {
      "cell_type": "code",
      "execution_count": null,
      "metadata": {
        "id": "_xsqEUyw5pvi"
      },
      "outputs": [],
      "source": [
        "game = game_stats.loc[game_stats['TEAM_ID'] == 1610612744].reset_index(drop=True)\n",
        "game.loc[0]"
      ]
    },
    {
      "cell_type": "code",
      "execution_count": null,
      "metadata": {},
      "outputs": [],
      "source": []
    },
    {
      "cell_type": "code",
      "execution_count": null,
      "metadata": {
        "id": "lbo6oRXE2l5k"
      },
      "outputs": [],
      "source": [
        "\n",
        "def plot_on_off_rating_difference(players_on_details, player_off_details, team_id, rating='NET_RATING'):\n",
        "  \"\"\"\n",
        "  Plots the difference in on/off ratings for each player in a given team.\n",
        "\n",
        "  Args:\n",
        "      players_on_details: DataFrame of player on-court details.\n",
        "      player_off_details: DataFrame of player off-court details.\n",
        "      team_id: ID of the team to plot.\n",
        "      rating: Rating to use\n",
        "      (default is 'NET_RATING')\n",
        "  \"\"\"\n",
        "\n",
        "  players_on_details = players_on_details.loc[players_on_details['TEAM_ID'] == team_id]\n",
        "  player_off_details = player_off_details.loc[player_off_details['TEAM_ID'] == team_id]\n",
        "\n",
        "  # Merge the dataframes\n",
        "  player_on_off_details = pd.merge(players_on_details, player_off_details, on='VS_PLAYER_ID', suffixes=('_on', '_off'))\n",
        "\n",
        "  # Calculate the difference in rating\n",
        "  player_on_off_details['RATING_DIFF'] = player_on_off_details[f'{rating}_on'] - player_on_off_details[f'{rating}_off']\n",
        "\n",
        "  # Create the plot\n",
        "  plt.figure(figsize=(12, 8))\n",
        "  sns.barplot(x='VS_PLAYER_NAME_on', y='RATING_DIFF', data=player_on_off_details)\n",
        "  plt.xticks(rotation=90)\n",
        "  plt.xlabel('Player Name')\n",
        "  plt.ylabel('On/Off Rating Difference')\n",
        "  plt.title(f'Difference in On/Off {rating.upper()} for Each Player in ')\n",
        "  plt.tight_layout()\n",
        "  plt.show()"
      ]
    },
    {
      "cell_type": "code",
      "execution_count": null,
      "metadata": {
        "id": "wcQau1ic37f8"
      },
      "outputs": [],
      "source": [
        "plot_on_off_rating_difference(player_on_details, player_off_details, team_id=team_id, rating='NET_RATING')"
      ]
    },
    {
      "cell_type": "code",
      "execution_count": null,
      "metadata": {
        "id": "coW4jb5k5HHY"
      },
      "outputs": [],
      "source": [
        "def plot_team_rating_over_substitutions(substitution_events, player_on_details, player_off_details, team_on_off_details, game_id):\n",
        "    \"\"\"\n",
        "    Plots the team's rating over time, updating it at each substitution.\n",
        "\n",
        "    Args:\n",
        "        substitution_events: DataFrame of substitution events.\n",
        "        player_on_details: DataFrame of player on-court details.\n",
        "        player_off_details: DataFrame of player off-court details.\n",
        "    \"\"\"\n",
        "\n",
        "    # Placeholder for team rating (replace with your actual rating calculation)\n",
        "\n",
        "    substitution_events = substitution_events.loc[substitution_events['GAME_ID'] == game_id]\n",
        "\n",
        "    team_ids = substitution_events['PLAYER1_TEAM_ID'].unique()\n",
        "    team_names = substitution_events['PLAYER1_TEAM_NAME'].unique()\n",
        "    substitution_times_list = []\n",
        "    team_ratings_list = []\n",
        "\n",
        "    for i, team_id in enumerate(team_ids):\n",
        "        team_on_off_details = team_on_off_details.loc[team_on_off_details['TEAM_ID'] == team_id]\n",
        "        player_on_details = player_on_details.loc[player_on_details['TEAM_ID'] == team_id]\n",
        "        player_off_details = player_off_details.loc[player_off_details['TEAM_ID'] == team_id]\n",
        "\n",
        "        team_rating = team_on_off_details['NET_RATING'].values[0]\n",
        "        team_ratings_over_time = []\n",
        "        substitution_times = []\n",
        "\n",
        "        for index, row in substitution_events.iterrows():\n",
        "            substitution_times.append(row['PCTIMESTRING'])\n",
        "\n",
        "            incoming_player = row['PLAYER1_ID']\n",
        "            outgoing_player = row['PLAYER2_ID']\n",
        "\n",
        "            incoming_player_rating = player_on_details[player_on_details['VS_PLAYER_ID'] == incoming_player]['NET_RATING'].values[0]\n",
        "            outgoing_player_rating = player_off_details[player_off_details['VS_PLAYER_ID'] == outgoing_player]['NET_RATING'].values[0]\n",
        "\n",
        "            team_rating = team_rating + incoming_player_rating - outgoing_player_rating\n",
        "\n",
        "            team_ratings_over_time.append(team_rating)\n",
        "        substitution_times_list.append(substitution_times)\n",
        "        team_ratings_list.append(team_ratings_over_time)\n",
        "\n",
        "    fig, (ax1, ax2) = plt.subplots(2)\n",
        "\n",
        "    # Create the plot\n",
        "    fig.suptitle('Team Rating Over Time (Substitutions)')\n",
        "    ax1.plot(substitution_times_list[0], team_ratings_list[0], marker='o')\n",
        "    ax1.set_xlabel('Time')\n",
        "    ax1.set_ylabel(f'{team_names[0]} Rating')\n",
        "    ax1.set_title(f'{team_names[0]} Rating Over Time (Substitutions)')\n",
        "\n",
        "    ax2.plot(substitution_times_list[1], team_ratings_list[1], marker='o')\n",
        "    ax2.set_xlabel('Time')\n",
        "    ax2.set_ylabel(f'{team_names[1]} Rating')\n",
        "    ax2.set_title(f'{team_names[1]} Rating Over Time (Substitutions)')\n",
        "    plt.xticks(rotation=45)\n",
        "    plt.tight_layout()\n",
        "    plt.show()"
      ]
    }
  ],
  "metadata": {
    "colab": {
      "provenance": []
    },
    "kernelspec": {
      "display_name": ".venv",
      "language": "python",
      "name": "python3"
    },
    "language_info": {
      "codemirror_mode": {
        "name": "ipython",
        "version": 3
      },
      "file_extension": ".py",
      "mimetype": "text/x-python",
      "name": "python",
      "nbconvert_exporter": "python",
      "pygments_lexer": "ipython3",
      "version": "3.12.4"
    }
  },
  "nbformat": 4,
  "nbformat_minor": 0
}
