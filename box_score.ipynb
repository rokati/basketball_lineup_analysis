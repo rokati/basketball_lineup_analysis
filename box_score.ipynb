{
  "nbformat": 4,
  "nbformat_minor": 0,
  "metadata": {
    "colab": {
      "provenance": []
    },
    "kernelspec": {
      "name": "python3",
      "display_name": "Python 3"
    },
    "language_info": {
      "name": "python"
    }
  },
  "cells": [
    {
      "cell_type": "code",
      "source": [
        "!pip install nba_api"
      ],
      "metadata": {
        "colab": {
          "base_uri": "https://localhost:8080/"
        },
        "id": "JYe_8LfKSfPM",
        "outputId": "1e79949f-8af7-43e0-fe79-e6eaa90316f6"
      },
      "execution_count": null,
      "outputs": [
        {
          "output_type": "stream",
          "name": "stdout",
          "text": [
            "Collecting nba_api\n",
            "  Downloading nba_api-1.8.0-py3-none-any.whl.metadata (5.7 kB)\n",
            "Requirement already satisfied: numpy<2.0.0 in /usr/local/lib/python3.11/dist-packages (from nba_api) (1.26.4)\n",
            "Requirement already satisfied: requests<3.0.0,>=2.32.3 in /usr/local/lib/python3.11/dist-packages (from nba_api) (2.32.3)\n",
            "Requirement already satisfied: charset-normalizer<4,>=2 in /usr/local/lib/python3.11/dist-packages (from requests<3.0.0,>=2.32.3->nba_api) (3.4.1)\n",
            "Requirement already satisfied: idna<4,>=2.5 in /usr/local/lib/python3.11/dist-packages (from requests<3.0.0,>=2.32.3->nba_api) (3.10)\n",
            "Requirement already satisfied: urllib3<3,>=1.21.1 in /usr/local/lib/python3.11/dist-packages (from requests<3.0.0,>=2.32.3->nba_api) (2.3.0)\n",
            "Requirement already satisfied: certifi>=2017.4.17 in /usr/local/lib/python3.11/dist-packages (from requests<3.0.0,>=2.32.3->nba_api) (2025.1.31)\n",
            "Downloading nba_api-1.8.0-py3-none-any.whl (285 kB)\n",
            "\u001b[2K   \u001b[90m━━━━━━━━━━━━━━━━━━━━━━━━━━━━━━━━━━━━━━━━\u001b[0m \u001b[32m285.2/285.2 kB\u001b[0m \u001b[31m5.6 MB/s\u001b[0m eta \u001b[36m0:00:00\u001b[0m\n",
            "\u001b[?25hInstalling collected packages: nba_api\n",
            "Successfully installed nba_api-1.8.0\n"
          ]
        }
      ]
    },
    {
      "cell_type": "code",
      "source": [
        "from nba_api.stats.endpoints import (\n",
        "    LeagueGameFinder, BoxScoreAdvancedV2, PlayerCareerStats,\n",
        "    PlayerDashboardByYearOverYear, TeamPlayerDashboard,\n",
        "    LeagueDashPlayerStats, LeagueLineupViz, LeagueDashTeamStats,\n",
        "    TeamPlayerOnOffDetails\n",
        ")\n",
        "import pandas as pd\n",
        "import time"
      ],
      "metadata": {
        "id": "VoVXEbtgSiQg"
      },
      "execution_count": null,
      "outputs": []
    },
    {
      "cell_type": "code",
      "source": [
        "# Function to fetch league-wide player stats\n",
        "def fetch_player_stats(season='2023-24'):\n",
        "    print(\"Fetching player stats...\")\n",
        "    player_stats = LeagueDashPlayerStats(season=season).get_data_frames()[0]\n",
        "    player_stats = player_stats[['PLAYER_ID', 'PLAYER_NAME', 'TEAM_ID', 'GP', 'MIN', 'PTS', 'AST', 'REB', 'STL', 'BLK', 'TOV', 'PLUS_MINUS']]\n",
        "    return player_stats\n",
        "\n",
        "# Function to fetch team stats\n",
        "def fetch_team_stats(season='2023-24'):\n",
        "    print(\"Fetching team stats...\")\n",
        "    team_stats = LeagueDashTeamStats(season=season).get_data_frames()[0]\n",
        "    team_stats = team_stats[['TEAM_ID', 'TEAM_NAME', 'GP', 'W', 'L']]\n",
        "    return team_stats\n",
        "\n",
        "# Function to fetch lineup data\n",
        "def fetch_lineup_data(season='2023-24'):\n",
        "    print(\"Fetching lineup data...\")\n",
        "    lineup_data = LeagueLineupViz(season=season, minutes_min=30).get_data_frames()[0]\n",
        "    lineup_data = lineup_data[['GROUP_ID', 'GROUP_NAME', 'TEAM_ID' , 'OFF_RATING', 'DEF_RATING', 'NET_RATING']]\n",
        "    return lineup_data\n",
        "\n",
        "# Function to fetch BoxScoreAdvancedV2 data for a specific game\n",
        "def fetch_advanced_boxscore(game_id):\n",
        "    print(f\"Fetching advanced box score for game {game_id}...\")\n",
        "    boxscore = BoxScoreAdvancedV2(game_id=game_id).get_data_frames()[0]\n",
        "\n",
        "    # Selecting relevant advanced stats\n",
        "    boxscore = boxscore[['GAME_ID', 'TEAM_ID', 'PLAYER_ID', 'PLAYER_NAME', 'OFF_RATING', 'DEF_RATING', 'USG_PCT', 'AST_RATIO', 'TS_PCT', 'PIE']]\n",
        "    return boxscore\n",
        "\n",
        "# Function to fetch game IDs (to use with BoxScoreAdvancedV2)\n",
        "def fetch_game_ids(season='2023-24', team_id=None):\n",
        "    print(\"Fetching recent game IDs...\")\n",
        "    game_finder = LeagueGameFinder(season_nullable=season, team_id_nullable=team_id)\n",
        "    games = game_finder.get_data_frames()[0]\n",
        "\n",
        "    # Return the most recent 10 games\n",
        "    return games['GAME_ID'].unique()[:10]"
      ],
      "metadata": {
        "id": "5dLe1p4DYfl1"
      },
      "execution_count": null,
      "outputs": []
    },
    {
      "cell_type": "code",
      "source": [
        "# Function to clean and merge data\n",
        "def clean_and_merge_data():\n",
        "    player_stats = fetch_player_stats()\n",
        "    team_stats = fetch_team_stats()\n",
        "    lineup_data = fetch_lineup_data()\n",
        "\n",
        "    # Fetch BoxScoreAdvancedV2 for recent games\n",
        "    game_ids = fetch_game_ids()\n",
        "    all_boxscores = []\n",
        "    for game_id in game_ids:\n",
        "        time.sleep(1)  # Prevent API rate limits\n",
        "        try:\n",
        "            boxscore = fetch_advanced_boxscore(game_id)\n",
        "            all_boxscores.append(boxscore)\n",
        "        except:\n",
        "            print(f\"Skipping game {game_id} due to API error.\")\n",
        "\n",
        "    # Combine all box scores\n",
        "    if all_boxscores:\n",
        "        boxscore_df = pd.concat(all_boxscores, ignore_index=True)\n",
        "    else:\n",
        "        boxscore_df = pd.DataFrame()\n",
        "\n",
        "    # Merge player stats with team stats\n",
        "    df = player_stats.merge(team_stats, on='TEAM_ID', how='left')\n",
        "\n",
        "    # Merge lineup data\n",
        "    df = df.merge(lineup_data, on='TEAM_ID', how='left')\n",
        "\n",
        "    # Merge advanced box score data\n",
        "    if not boxscore_df.empty:\n",
        "        df = df.merge(boxscore_df, on=['PLAYER_ID', 'TEAM_ID'], how='left')\n",
        "\n",
        "    # Drop duplicates and NaN values\n",
        "    df.dropna(inplace=True)\n",
        "    df.drop_duplicates(inplace=True)\n",
        "\n",
        "    # Normalize per-minute stats\n",
        "    df['PTS_per_MIN'] = df['PTS'] / df['MIN']\n",
        "    df['AST_per_MIN'] = df['AST'] / df['MIN']\n",
        "    df['REB_per_MIN'] = df['REB'] / df['MIN']\n",
        "    df['STL_per_MIN'] = df['STL'] / df['MIN']\n",
        "    df['BLK_per_MIN'] = df['BLK'] / df['MIN']\n",
        "    df['TOV_per_MIN'] = df['TOV'] / df['MIN']\n",
        "\n",
        "    # Drop old columns\n",
        "    df.drop(columns=['PTS', 'AST', 'REB', 'STL', 'BLK', 'TOV', 'MIN'], inplace=True)\n",
        "\n",
        "    return df"
      ],
      "metadata": {
        "id": "SFfZxYj9S6Yl"
      },
      "execution_count": null,
      "outputs": []
    },
    {
      "cell_type": "code",
      "source": [
        "# Main function to execute data pipeline\n",
        "def main():\n",
        "    df = clean_and_merge_data()\n",
        "\n",
        "    # Save the cleaned dataset\n",
        "    csv_filename = \"nba_lineup_data.csv\"\n",
        "    df.to_csv(csv_filename, index=False)\n",
        "    print(f\"Data saved to {csv_filename}\")\n",
        "\n",
        "if __name__ == \"__main__\":\n",
        "    main()"
      ],
      "metadata": {
        "colab": {
          "base_uri": "https://localhost:8080/"
        },
        "id": "2X3YL36HYkje",
        "outputId": "5e416b43-17ed-4993-ae19-af584859675f"
      },
      "execution_count": null,
      "outputs": [
        {
          "output_type": "stream",
          "name": "stdout",
          "text": [
            "Fetching player stats...\n",
            "Fetching team stats...\n",
            "Fetching lineup data...\n",
            "Fetching recent game IDs...\n",
            "Fetching advanced box score for game 0042300405...\n",
            "Fetching advanced box score for game 0042300404...\n",
            "Fetching advanced box score for game 0042300403...\n",
            "Fetching advanced box score for game 0042300402...\n",
            "Fetching advanced box score for game 0042300401...\n",
            "Fetching advanced box score for game 0042300315...\n",
            "Fetching advanced box score for game 0042300314...\n",
            "Fetching advanced box score for game 0042300304...\n",
            "Fetching advanced box score for game 0042300313...\n",
            "Fetching advanced box score for game 0042300303...\n",
            "Data saved to nba_lineup_data.csv\n"
          ]
        }
      ]
    }
  ]
}