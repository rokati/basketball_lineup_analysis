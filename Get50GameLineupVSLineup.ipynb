{
  "nbformat": 4,
  "nbformat_minor": 0,
  "metadata": {
    "colab": {
      "provenance": []
    },
    "kernelspec": {
      "name": "python3",
      "display_name": "Python 3"
    },
    "language_info": {
      "name": "python"
    }
  },
  "cells": [
    {
      "cell_type": "code",
      "execution_count": null,
      "metadata": {
        "collapsed": true,
        "id": "jPWTB0yjREVH"
      },
      "outputs": [],
      "source": [
        "!pip install --no-cache-dir --force-reinstall numpy==1.26.4 pandas==2.2.2"
      ]
    },
    {
      "cell_type": "code",
      "source": [
        "!pip install nba_api --quiet"
      ],
      "metadata": {
        "colab": {
          "base_uri": "https://localhost:8080/"
        },
        "collapsed": true,
        "id": "Vb8LTkrgRLrQ",
        "outputId": "f717bed3-2fd4-42da-ce27-13bafba6e4a4"
      },
      "execution_count": 1,
      "outputs": [
        {
          "output_type": "stream",
          "name": "stdout",
          "text": [
            "\u001b[?25l   \u001b[90m━━━━━━━━━━━━━━━━━━━━━━━━━━━━━━━━━━━━━━━━\u001b[0m \u001b[32m0.0/284.9 kB\u001b[0m \u001b[31m?\u001b[0m eta \u001b[36m-:--:--\u001b[0m\r\u001b[2K   \u001b[90m━━━━━━━━━━━━━━━━━━━━━━━━━━━━━━━━━━━━━━━━\u001b[0m \u001b[32m284.9/284.9 kB\u001b[0m \u001b[31m11.6 MB/s\u001b[0m eta \u001b[36m0:00:00\u001b[0m\n",
            "\u001b[?25h"
          ]
        }
      ]
    },
    {
      "cell_type": "code",
      "source": [
        "import pandas as pd\n",
        "import time\n",
        "from tqdm import tqdm\n",
        "import numpy as np\n",
        "from collections import defaultdict\n",
        "from nba_api.stats.endpoints import (PlayByPlayV2,\n",
        "                                     BoxScoreSummaryV2,\n",
        "                                     BoxScoreTraditionalV2,\n",
        "                                     LeagueGameFinder)"
      ],
      "metadata": {
        "id": "k5s6JaVsRNGQ"
      },
      "execution_count": 2,
      "outputs": []
    },
    {
      "cell_type": "code",
      "source": [
        "gamefinder = LeagueGameFinder(season_nullable='2023-24', season_type_nullable='Regular Season')\n",
        "games_df = gamefinder.get_data_frames()[0]\n",
        "all_game_ids = games_df['GAME_ID'].unique().tolist()"
      ],
      "metadata": {
        "id": "6uNJHtZ4Rrr7"
      },
      "execution_count": 3,
      "outputs": []
    },
    {
      "cell_type": "code",
      "source": [
        "# Helper to convert clock time string to seconds\n",
        "def time_str_to_sec(t):\n",
        "    if isinstance(t, str):\n",
        "        m, s = map(int, t.strip().split(\":\"))\n",
        "        return m * 60 + s\n",
        "    return 0\n",
        "\n",
        "# Helper to compute duration between lineup segments\n",
        "def compute_duration(row):\n",
        "    start_sec = time_str_to_sec(row['start_time'])\n",
        "    end_sec = time_str_to_sec(row['end_time'])\n",
        "    start_period = row['period']\n",
        "    end_period = row['period']\n",
        "    if end_sec > start_sec:\n",
        "        end_period = start_period + 1\n",
        "    period_diff = end_period - start_period\n",
        "    return start_sec + period_diff * 720 - end_sec"
      ],
      "metadata": {
        "id": "NEC0UwkYR2_8"
      },
      "execution_count": 4,
      "outputs": []
    },
    {
      "cell_type": "code",
      "source": [
        "game_ids = all_game_ids[0:50] # next is [50:100]"
      ],
      "metadata": {
        "id": "M-Ynjy_NZkCX"
      },
      "execution_count": 5,
      "outputs": []
    },
    {
      "cell_type": "code",
      "source": [
        "# Store all results\n",
        "all_lineup_vs_lineup = []\n",
        "all_player_stats = []\n",
        "nr = 1\n",
        "for game_id in tqdm(game_ids):\n",
        "    try:\n",
        "        # --- Load game data ---\n",
        "        print(f\"-----------------GAME nr.{nr}-----------\\n\")\n",
        "        nr += 1\n",
        "\n",
        "        pbp = PlayByPlayV2(game_id=game_id).get_data_frames()[0]\n",
        "        box = BoxScoreTraditionalV2(game_id=game_id).get_data_frames()[0]\n",
        "        summary = BoxScoreSummaryV2(game_id=game_id).get_data_frames()[0]\n",
        "\n",
        "        home_team_id = int(summary['HOME_TEAM_ID'][0])\n",
        "        away_team_id = int(summary['VISITOR_TEAM_ID'][0])\n",
        "\n",
        "        starters_df = box[box['START_POSITION'] != '']\n",
        "        starters_by_team = starters_df.groupby('TEAM_ID')['PLAYER_NAME'].apply(list).to_dict()\n",
        "\n",
        "        current_lineups = {\n",
        "            home_team_id: starters_by_team.get(home_team_id, [])[:],\n",
        "            away_team_id: starters_by_team.get(away_team_id, [])[:]\n",
        "        }\n",
        "\n",
        "        # --- Build lineup_df ---\n",
        "        important_event_types = list(range(1, 14))\n",
        "        lineup_timeline = []\n",
        "\n",
        "        for _, row in pbp.iterrows():\n",
        "            event_type = row['EVENTMSGTYPE']\n",
        "            home_desc = str(row['HOMEDESCRIPTION']) if pd.notna(row['HOMEDESCRIPTION']) else ''\n",
        "            away_desc = str(row['VISITORDESCRIPTION']) if pd.notna(row['VISITORDESCRIPTION']) else ''\n",
        "\n",
        "            if event_type == 8:\n",
        "                out_player = row['PLAYER1_NAME']\n",
        "                in_player = row['PLAYER2_NAME']\n",
        "                team_id = row['PLAYER1_TEAM_ID'] if pd.notna(row['PLAYER1_TEAM_ID']) else row['PLAYER2_TEAM_ID']\n",
        "                team_id = int(team_id) if pd.notna(team_id) else None\n",
        "\n",
        "                if team_id in current_lineups:\n",
        "                    if out_player in current_lineups[team_id]:\n",
        "                        current_lineups[team_id].remove(out_player)\n",
        "                    if in_player not in current_lineups[team_id]:\n",
        "                        current_lineups[team_id].append(in_player)\n",
        "\n",
        "            if event_type in important_event_types:\n",
        "                lineup_timeline.append({\n",
        "                    'EVENTNUM': row['EVENTNUM'],\n",
        "                    'PERIOD': row['PERIOD'],\n",
        "                    'TIME': row['PCTIMESTRING'],\n",
        "                    'EVENT_TYPE': event_type,\n",
        "                    'SCORE': row['SCORE'],\n",
        "                    'HOME_DESCRIPTION': home_desc,\n",
        "                    'AWAY_DESCRIPTION': away_desc,\n",
        "                    'HOME_LINEUP': current_lineups[home_team_id][:],\n",
        "                    'AWAY_LINEUP': current_lineups[away_team_id][:],\n",
        "                    'PLAYER1_NAME': row['PLAYER1_NAME'],\n",
        "                    'PLAYER2_NAME': row['PLAYER2_NAME'],\n",
        "                    'PLAYER3_NAME': row['PLAYER3_NAME']\n",
        "                })\n",
        "\n",
        "        lineup_df = pd.DataFrame(lineup_timeline)\n",
        "\n",
        "        # --- Build lineup segments ---\n",
        "        lineup_segments = []\n",
        "        segment = None\n",
        "        prev_home = None\n",
        "        prev_away = None\n",
        "        last_shot_team = None\n",
        "        SKIP_KEYWORDS = ['SUB', 'Jump Ball', 'Delay', 'Offensive', 'Timeout', 'Rebound']\n",
        "\n",
        "        for _, row in lineup_df.iterrows():\n",
        "            home_lineup = tuple(sorted(row['HOME_LINEUP']))\n",
        "            away_lineup = tuple(sorted(row['AWAY_LINEUP']))\n",
        "\n",
        "            if segment is None or home_lineup != prev_home or away_lineup != prev_away:\n",
        "                if segment:\n",
        "                    segment['end_event'] = row['EVENTNUM']\n",
        "                    segment['end_time'] = row['TIME']\n",
        "                    lineup_segments.append(segment)\n",
        "                segment = {\n",
        "                    'home_lineup': home_lineup,\n",
        "                    'away_lineup': away_lineup,\n",
        "                    'start_event': row['EVENTNUM'],\n",
        "                    'start_time': row['TIME'],\n",
        "                    'period': row['PERIOD'],\n",
        "                    'team_stats': {'home': defaultdict(int), 'away': defaultdict(int)},\n",
        "                    'player_stats': defaultdict(lambda: defaultdict(int)),\n",
        "                    'events': []\n",
        "                }\n",
        "                prev_home = home_lineup\n",
        "                prev_away = away_lineup\n",
        "\n",
        "            segment['events'].append({\n",
        "                'EVENTNUM': row['EVENTNUM'],\n",
        "                'TIME': row['TIME'],\n",
        "                'HOME_DESCRIPTION': row['HOME_DESCRIPTION'],\n",
        "                'AWAY_DESCRIPTION': row['AWAY_DESCRIPTION']\n",
        "            })\n",
        "\n",
        "            for team_side, desc in [('home', row['HOME_DESCRIPTION']), ('away', row['AWAY_DESCRIPTION'])]:\n",
        "                if not desc or any(skip_word in desc for skip_word in SKIP_KEYWORDS):\n",
        "                    continue\n",
        "\n",
        "                lineup = segment[f'{team_side}_lineup']\n",
        "                players_on_court = set(lineup)\n",
        "\n",
        "                def inc(stat, players, value=1):\n",
        "                    segment['team_stats'][team_side][stat] += value\n",
        "                    for p in players:\n",
        "                        if p in players_on_court:\n",
        "                            segment['player_stats'][p][stat] += value\n",
        "\n",
        "                players = [p for p in [row['PLAYER1_NAME'], row['PLAYER2_NAME'], row['PLAYER3_NAME']]\n",
        "                           if isinstance(p, str) and p in players_on_court]\n",
        "\n",
        "                if '3PT' in desc and 'MISS' not in desc:\n",
        "                    inc('3pt_made', [row['PLAYER1_NAME']])\n",
        "                    inc('points', [row['PLAYER1_NAME']], value=3)\n",
        "                elif 'Free Throw' in desc and 'MISS' not in desc:\n",
        "                    inc('ft_made', [row['PLAYER1_NAME']])\n",
        "                    inc('points', [row['PLAYER1_NAME']], value=1)\n",
        "                elif 'MISS' not in desc and any(kw in desc for kw in ['Fadeaway', 'Dunk', 'Layup', 'Jump Shot', 'Hook Shot']):\n",
        "                    inc('2pt_made', [row['PLAYER1_NAME']])\n",
        "                    inc('points', [row['PLAYER1_NAME']], value=2)\n",
        "                elif 'MISS' in desc:\n",
        "                    last_shot_team = team_side\n",
        "\n",
        "                if 'AST' in desc: inc('assists', [row['PLAYER2_NAME']])\n",
        "                if 'Turnover' in desc: inc('turnovers', [row['PLAYER1_NAME']])\n",
        "                if 'STL' in desc: inc('steals', [row['PLAYER2_NAME']])\n",
        "                if 'BLK' in desc: inc('blocks', [row['PLAYER2_NAME']])\n",
        "                if '.FOUL' in desc: inc('fouls', [row['PLAYER1_NAME']])\n",
        "\n",
        "                if 'REBOUND' in desc:\n",
        "                    rebounder = row['PLAYER1_NAME']\n",
        "                    if last_shot_team:\n",
        "                        if team_side == last_shot_team:\n",
        "                            inc('off_rebounds', [rebounder])\n",
        "                        else:\n",
        "                            inc('def_rebounds', [rebounder])\n",
        "                        last_shot_team = None\n",
        "\n",
        "        if segment:\n",
        "            segment['end_event'] = row['EVENTNUM']\n",
        "            segment['end_time'] = row['TIME']\n",
        "            lineup_segments.append(segment)\n",
        "\n",
        "        # --- Build lineup_vs_lineup_df ---\n",
        "        for seg in lineup_segments:\n",
        "            row = {\n",
        "                'game_id': game_id,\n",
        "                'period': seg['period'],\n",
        "                'start_event': seg['start_event'],\n",
        "                'end_event': seg['end_event'],\n",
        "                'start_time': seg['start_time'],\n",
        "                'end_time': seg['end_time'],\n",
        "                'home_lineup': seg['home_lineup'],\n",
        "                'away_lineup': seg['away_lineup'],\n",
        "            }\n",
        "            for team in ['home', 'away']:\n",
        "                for stat, value in seg['team_stats'][team].items():\n",
        "                    row[f'{team}_{stat}'] = value\n",
        "            row['duration'] = compute_duration(row)\n",
        "            all_lineup_vs_lineup.append(row)\n",
        "\n",
        "        # --- Build player_stats_df ---\n",
        "        for seg in lineup_segments:\n",
        "            for player_name, stats in seg['player_stats'].items():\n",
        "                row = {\n",
        "                    'game_id': game_id,\n",
        "                    'player': player_name,\n",
        "                    'period': seg['period'],\n",
        "                    'start_event': seg['start_event'],\n",
        "                    'end_event': seg['end_event'],\n",
        "                    'start_time': seg['start_time'],\n",
        "                    'end_time': seg['end_time'],\n",
        "                    'home_lineup': seg['home_lineup'],\n",
        "                    'away_lineup': seg['away_lineup'],\n",
        "                }\n",
        "                for stat, value in stats.items():\n",
        "                    row[stat] = value\n",
        "                all_player_stats.append(row)\n",
        "\n",
        "        print(f\"Finished game: {game_id}\")\n",
        "        # Respect rate limits\n",
        "        time.sleep(1)\n",
        "\n",
        "    except Exception as e:\n",
        "        print(f\"Failed on game {game_id}: {e}\")\n",
        "        continue"
      ],
      "metadata": {
        "colab": {
          "base_uri": "https://localhost:8080/"
        },
        "id": "7__iRnQLSj7_",
        "outputId": "114f0a42-5f09-4819-88fa-89156ec779f4"
      },
      "execution_count": 6,
      "outputs": [
        {
          "output_type": "stream",
          "name": "stderr",
          "text": [
            "\r  0%|          | 0/50 [00:00<?, ?it/s]"
          ]
        },
        {
          "output_type": "stream",
          "name": "stdout",
          "text": [
            "-----------------GAME nr.1-----------\n",
            "\n",
            "Finished game: 0022301191\n"
          ]
        },
        {
          "output_type": "stream",
          "name": "stderr",
          "text": [
            "\r  2%|▏         | 1/50 [00:01<01:08,  1.41s/it]"
          ]
        },
        {
          "output_type": "stream",
          "name": "stdout",
          "text": [
            "-----------------GAME nr.2-----------\n",
            "\n",
            "Finished game: 0022301195\n"
          ]
        },
        {
          "output_type": "stream",
          "name": "stderr",
          "text": [
            "\r  4%|▍         | 2/50 [00:02<01:05,  1.36s/it]"
          ]
        },
        {
          "output_type": "stream",
          "name": "stdout",
          "text": [
            "-----------------GAME nr.3-----------\n",
            "\n",
            "Finished game: 0022301192\n"
          ]
        },
        {
          "output_type": "stream",
          "name": "stderr",
          "text": [
            "\r  6%|▌         | 3/50 [00:04<01:02,  1.34s/it]"
          ]
        },
        {
          "output_type": "stream",
          "name": "stdout",
          "text": [
            "-----------------GAME nr.4-----------\n",
            "\n",
            "Finished game: 0022301196\n"
          ]
        },
        {
          "output_type": "stream",
          "name": "stderr",
          "text": [
            "\r  8%|▊         | 4/50 [00:05<01:00,  1.32s/it]"
          ]
        },
        {
          "output_type": "stream",
          "name": "stdout",
          "text": [
            "-----------------GAME nr.5-----------\n",
            "\n",
            "Finished game: 0022301187\n"
          ]
        },
        {
          "output_type": "stream",
          "name": "stderr",
          "text": [
            "\r 10%|█         | 5/50 [00:06<00:58,  1.31s/it]"
          ]
        },
        {
          "output_type": "stream",
          "name": "stdout",
          "text": [
            "-----------------GAME nr.6-----------\n",
            "\n",
            "Finished game: 0022301190\n"
          ]
        },
        {
          "output_type": "stream",
          "name": "stderr",
          "text": [
            "\r 12%|█▏        | 6/50 [00:07<00:56,  1.28s/it]"
          ]
        },
        {
          "output_type": "stream",
          "name": "stdout",
          "text": [
            "-----------------GAME nr.7-----------\n",
            "\n",
            "Finished game: 0022301189\n"
          ]
        },
        {
          "output_type": "stream",
          "name": "stderr",
          "text": [
            "\r 14%|█▍        | 7/50 [00:09<00:54,  1.26s/it]"
          ]
        },
        {
          "output_type": "stream",
          "name": "stdout",
          "text": [
            "-----------------GAME nr.8-----------\n",
            "\n",
            "Finished game: 0022301186\n"
          ]
        },
        {
          "output_type": "stream",
          "name": "stderr",
          "text": [
            "\r 16%|█▌        | 8/50 [00:10<00:52,  1.24s/it]"
          ]
        },
        {
          "output_type": "stream",
          "name": "stdout",
          "text": [
            "-----------------GAME nr.9-----------\n",
            "\n",
            "Finished game: 0022301188\n"
          ]
        },
        {
          "output_type": "stream",
          "name": "stderr",
          "text": [
            "\r 18%|█▊        | 9/50 [00:11<00:50,  1.23s/it]"
          ]
        },
        {
          "output_type": "stream",
          "name": "stdout",
          "text": [
            "-----------------GAME nr.10-----------\n",
            "\n",
            "Finished game: 0022301200\n"
          ]
        },
        {
          "output_type": "stream",
          "name": "stderr",
          "text": [
            "\r 20%|██        | 10/50 [00:12<00:49,  1.23s/it]"
          ]
        },
        {
          "output_type": "stream",
          "name": "stdout",
          "text": [
            "-----------------GAME nr.11-----------\n",
            "\n",
            "Finished game: 0022301197\n"
          ]
        },
        {
          "output_type": "stream",
          "name": "stderr",
          "text": [
            "\r 22%|██▏       | 11/50 [00:13<00:47,  1.23s/it]"
          ]
        },
        {
          "output_type": "stream",
          "name": "stdout",
          "text": [
            "-----------------GAME nr.12-----------\n",
            "\n",
            "Finished game: 0022301194\n"
          ]
        },
        {
          "output_type": "stream",
          "name": "stderr",
          "text": [
            "\r 24%|██▍       | 12/50 [00:15<00:46,  1.23s/it]"
          ]
        },
        {
          "output_type": "stream",
          "name": "stdout",
          "text": [
            "-----------------GAME nr.13-----------\n",
            "\n",
            "Finished game: 0022301193\n"
          ]
        },
        {
          "output_type": "stream",
          "name": "stderr",
          "text": [
            "\r 26%|██▌       | 13/50 [00:16<00:45,  1.23s/it]"
          ]
        },
        {
          "output_type": "stream",
          "name": "stdout",
          "text": [
            "-----------------GAME nr.14-----------\n",
            "\n",
            "Finished game: 0022301199\n"
          ]
        },
        {
          "output_type": "stream",
          "name": "stderr",
          "text": [
            "\r 28%|██▊       | 14/50 [00:17<00:44,  1.25s/it]"
          ]
        },
        {
          "output_type": "stream",
          "name": "stdout",
          "text": [
            "-----------------GAME nr.15-----------\n",
            "\n",
            "Finished game: 0022301198\n"
          ]
        },
        {
          "output_type": "stream",
          "name": "stderr",
          "text": [
            "\r 30%|███       | 15/50 [00:18<00:43,  1.24s/it]"
          ]
        },
        {
          "output_type": "stream",
          "name": "stdout",
          "text": [
            "-----------------GAME nr.16-----------\n",
            "\n",
            "Finished game: 0022301172\n"
          ]
        },
        {
          "output_type": "stream",
          "name": "stderr",
          "text": [
            "\r 32%|███▏      | 16/50 [00:20<00:42,  1.25s/it]"
          ]
        },
        {
          "output_type": "stream",
          "name": "stdout",
          "text": [
            "-----------------GAME nr.17-----------\n",
            "\n",
            "Finished game: 0022301177\n"
          ]
        },
        {
          "output_type": "stream",
          "name": "stderr",
          "text": [
            "\r 34%|███▍      | 17/50 [00:21<00:40,  1.24s/it]"
          ]
        },
        {
          "output_type": "stream",
          "name": "stdout",
          "text": [
            "-----------------GAME nr.18-----------\n",
            "\n",
            "Finished game: 0022301171\n"
          ]
        },
        {
          "output_type": "stream",
          "name": "stderr",
          "text": [
            "\r 36%|███▌      | 18/50 [00:22<00:39,  1.23s/it]"
          ]
        },
        {
          "output_type": "stream",
          "name": "stdout",
          "text": [
            "-----------------GAME nr.19-----------\n",
            "\n",
            "Finished game: 0022301182\n"
          ]
        },
        {
          "output_type": "stream",
          "name": "stderr",
          "text": [
            "\r 38%|███▊      | 19/50 [00:23<00:38,  1.24s/it]"
          ]
        },
        {
          "output_type": "stream",
          "name": "stdout",
          "text": [
            "-----------------GAME nr.20-----------\n",
            "\n",
            "Finished game: 0022301173\n"
          ]
        },
        {
          "output_type": "stream",
          "name": "stderr",
          "text": [
            "\r 40%|████      | 20/50 [00:25<00:37,  1.23s/it]"
          ]
        },
        {
          "output_type": "stream",
          "name": "stdout",
          "text": [
            "-----------------GAME nr.21-----------\n",
            "\n",
            "Finished game: 0022301181\n"
          ]
        },
        {
          "output_type": "stream",
          "name": "stderr",
          "text": [
            "\r 42%|████▏     | 21/50 [00:26<00:35,  1.22s/it]"
          ]
        },
        {
          "output_type": "stream",
          "name": "stdout",
          "text": [
            "-----------------GAME nr.22-----------\n",
            "\n",
            "Finished game: 0022301179\n"
          ]
        },
        {
          "output_type": "stream",
          "name": "stderr",
          "text": [
            "\r 44%|████▍     | 22/50 [00:27<00:34,  1.22s/it]"
          ]
        },
        {
          "output_type": "stream",
          "name": "stdout",
          "text": [
            "-----------------GAME nr.23-----------\n",
            "\n",
            "Finished game: 0022301184\n"
          ]
        },
        {
          "output_type": "stream",
          "name": "stderr",
          "text": [
            "\r 46%|████▌     | 23/50 [00:28<00:33,  1.24s/it]"
          ]
        },
        {
          "output_type": "stream",
          "name": "stdout",
          "text": [
            "-----------------GAME nr.24-----------\n",
            "\n",
            "Finished game: 0022301175\n"
          ]
        },
        {
          "output_type": "stream",
          "name": "stderr",
          "text": [
            "\r 48%|████▊     | 24/50 [00:30<00:32,  1.25s/it]"
          ]
        },
        {
          "output_type": "stream",
          "name": "stdout",
          "text": [
            "-----------------GAME nr.25-----------\n",
            "\n",
            "Finished game: 0022301183\n"
          ]
        },
        {
          "output_type": "stream",
          "name": "stderr",
          "text": [
            "\r 50%|█████     | 25/50 [00:31<00:31,  1.25s/it]"
          ]
        },
        {
          "output_type": "stream",
          "name": "stdout",
          "text": [
            "-----------------GAME nr.26-----------\n",
            "\n",
            "Finished game: 0022301178\n"
          ]
        },
        {
          "output_type": "stream",
          "name": "stderr",
          "text": [
            "\r 52%|█████▏    | 26/50 [00:32<00:29,  1.24s/it]"
          ]
        },
        {
          "output_type": "stream",
          "name": "stdout",
          "text": [
            "-----------------GAME nr.27-----------\n",
            "\n",
            "Finished game: 0022301176\n"
          ]
        },
        {
          "output_type": "stream",
          "name": "stderr",
          "text": [
            "\r 54%|█████▍    | 27/50 [00:33<00:28,  1.26s/it]"
          ]
        },
        {
          "output_type": "stream",
          "name": "stdout",
          "text": [
            "-----------------GAME nr.28-----------\n",
            "\n",
            "Finished game: 0022301180\n"
          ]
        },
        {
          "output_type": "stream",
          "name": "stderr",
          "text": [
            "\r 56%|█████▌    | 28/50 [00:35<00:27,  1.25s/it]"
          ]
        },
        {
          "output_type": "stream",
          "name": "stdout",
          "text": [
            "-----------------GAME nr.29-----------\n",
            "\n",
            "Finished game: 0022301174\n"
          ]
        },
        {
          "output_type": "stream",
          "name": "stderr",
          "text": [
            "\r 58%|█████▊    | 29/50 [00:36<00:26,  1.24s/it]"
          ]
        },
        {
          "output_type": "stream",
          "name": "stdout",
          "text": [
            "-----------------GAME nr.30-----------\n",
            "\n",
            "Finished game: 0022301185\n"
          ]
        },
        {
          "output_type": "stream",
          "name": "stderr",
          "text": [
            "\r 60%|██████    | 30/50 [00:37<00:24,  1.23s/it]"
          ]
        },
        {
          "output_type": "stream",
          "name": "stdout",
          "text": [
            "-----------------GAME nr.31-----------\n",
            "\n",
            "Finished game: 0022301170\n"
          ]
        },
        {
          "output_type": "stream",
          "name": "stderr",
          "text": [
            "\r 62%|██████▏   | 31/50 [00:38<00:23,  1.23s/it]"
          ]
        },
        {
          "output_type": "stream",
          "name": "stdout",
          "text": [
            "-----------------GAME nr.32-----------\n",
            "\n",
            "Finished game: 0022301166\n"
          ]
        },
        {
          "output_type": "stream",
          "name": "stderr",
          "text": [
            "\r 64%|██████▍   | 32/50 [00:39<00:22,  1.22s/it]"
          ]
        },
        {
          "output_type": "stream",
          "name": "stdout",
          "text": [
            "-----------------GAME nr.33-----------\n",
            "\n",
            "Finished game: 0022301169\n"
          ]
        },
        {
          "output_type": "stream",
          "name": "stderr",
          "text": [
            "\r 66%|██████▌   | 33/50 [00:41<00:21,  1.24s/it]"
          ]
        },
        {
          "output_type": "stream",
          "name": "stdout",
          "text": [
            "-----------------GAME nr.34-----------\n",
            "\n",
            "Finished game: 0022301168\n"
          ]
        },
        {
          "output_type": "stream",
          "name": "stderr",
          "text": [
            "\r 68%|██████▊   | 34/50 [00:42<00:20,  1.25s/it]"
          ]
        },
        {
          "output_type": "stream",
          "name": "stdout",
          "text": [
            "-----------------GAME nr.35-----------\n",
            "\n",
            "Finished game: 0022301167\n"
          ]
        },
        {
          "output_type": "stream",
          "name": "stderr",
          "text": [
            "\r 70%|███████   | 35/50 [00:43<00:18,  1.24s/it]"
          ]
        },
        {
          "output_type": "stream",
          "name": "stdout",
          "text": [
            "-----------------GAME nr.36-----------\n",
            "\n",
            "Finished game: 0022301161\n"
          ]
        },
        {
          "output_type": "stream",
          "name": "stderr",
          "text": [
            "\r 72%|███████▏  | 36/50 [00:44<00:17,  1.23s/it]"
          ]
        },
        {
          "output_type": "stream",
          "name": "stdout",
          "text": [
            "-----------------GAME nr.37-----------\n",
            "\n",
            "Finished game: 0022301163\n"
          ]
        },
        {
          "output_type": "stream",
          "name": "stderr",
          "text": [
            "\r 74%|███████▍  | 37/50 [00:46<00:15,  1.23s/it]"
          ]
        },
        {
          "output_type": "stream",
          "name": "stdout",
          "text": [
            "-----------------GAME nr.38-----------\n",
            "\n",
            "Finished game: 0022301159\n"
          ]
        },
        {
          "output_type": "stream",
          "name": "stderr",
          "text": [
            "\r 76%|███████▌  | 38/50 [00:47<00:14,  1.23s/it]"
          ]
        },
        {
          "output_type": "stream",
          "name": "stdout",
          "text": [
            "-----------------GAME nr.39-----------\n",
            "\n",
            "Finished game: 0022301165\n"
          ]
        },
        {
          "output_type": "stream",
          "name": "stderr",
          "text": [
            "\r 78%|███████▊  | 39/50 [00:48<00:13,  1.23s/it]"
          ]
        },
        {
          "output_type": "stream",
          "name": "stdout",
          "text": [
            "-----------------GAME nr.40-----------\n",
            "\n",
            "Finished game: 0022301158\n"
          ]
        },
        {
          "output_type": "stream",
          "name": "stderr",
          "text": [
            "\r 80%|████████  | 40/50 [00:49<00:12,  1.23s/it]"
          ]
        },
        {
          "output_type": "stream",
          "name": "stdout",
          "text": [
            "-----------------GAME nr.41-----------\n",
            "\n",
            "Finished game: 0022301162\n"
          ]
        },
        {
          "output_type": "stream",
          "name": "stderr",
          "text": [
            "\r 82%|████████▏ | 41/50 [00:50<00:10,  1.22s/it]"
          ]
        },
        {
          "output_type": "stream",
          "name": "stdout",
          "text": [
            "-----------------GAME nr.42-----------\n",
            "\n",
            "Finished game: 0022301164\n"
          ]
        },
        {
          "output_type": "stream",
          "name": "stderr",
          "text": [
            "\r 84%|████████▍ | 42/50 [00:52<00:09,  1.24s/it]"
          ]
        },
        {
          "output_type": "stream",
          "name": "stdout",
          "text": [
            "-----------------GAME nr.43-----------\n",
            "\n",
            "Finished game: 0022301160\n"
          ]
        },
        {
          "output_type": "stream",
          "name": "stderr",
          "text": [
            "\r 86%|████████▌ | 43/50 [00:53<00:08,  1.26s/it]"
          ]
        },
        {
          "output_type": "stream",
          "name": "stdout",
          "text": [
            "-----------------GAME nr.44-----------\n",
            "\n",
            "Finished game: 0022301153\n"
          ]
        },
        {
          "output_type": "stream",
          "name": "stderr",
          "text": [
            "\r 88%|████████▊ | 44/50 [00:54<00:07,  1.27s/it]"
          ]
        },
        {
          "output_type": "stream",
          "name": "stdout",
          "text": [
            "-----------------GAME nr.45-----------\n",
            "\n",
            "Finished game: 0022301152\n"
          ]
        },
        {
          "output_type": "stream",
          "name": "stderr",
          "text": [
            "\r 90%|█████████ | 45/50 [00:56<00:06,  1.27s/it]"
          ]
        },
        {
          "output_type": "stream",
          "name": "stdout",
          "text": [
            "-----------------GAME nr.46-----------\n",
            "\n",
            "Finished game: 0022301144\n"
          ]
        },
        {
          "output_type": "stream",
          "name": "stderr",
          "text": [
            "\r 92%|█████████▏| 46/50 [00:57<00:05,  1.26s/it]"
          ]
        },
        {
          "output_type": "stream",
          "name": "stdout",
          "text": [
            "-----------------GAME nr.47-----------\n",
            "\n",
            "Finished game: 0022301148\n"
          ]
        },
        {
          "output_type": "stream",
          "name": "stderr",
          "text": [
            "\r 94%|█████████▍| 47/50 [00:58<00:03,  1.24s/it]"
          ]
        },
        {
          "output_type": "stream",
          "name": "stdout",
          "text": [
            "-----------------GAME nr.48-----------\n",
            "\n",
            "Finished game: 0022301154\n"
          ]
        },
        {
          "output_type": "stream",
          "name": "stderr",
          "text": [
            "\r 96%|█████████▌| 48/50 [00:59<00:02,  1.23s/it]"
          ]
        },
        {
          "output_type": "stream",
          "name": "stdout",
          "text": [
            "-----------------GAME nr.49-----------\n",
            "\n",
            "Finished game: 0022301155\n"
          ]
        },
        {
          "output_type": "stream",
          "name": "stderr",
          "text": [
            "\r 98%|█████████▊| 49/50 [01:00<00:01,  1.22s/it]"
          ]
        },
        {
          "output_type": "stream",
          "name": "stdout",
          "text": [
            "-----------------GAME nr.50-----------\n",
            "\n",
            "Finished game: 0022301147\n"
          ]
        },
        {
          "output_type": "stream",
          "name": "stderr",
          "text": [
            "100%|██████████| 50/50 [01:02<00:00,  1.24s/it]\n"
          ]
        }
      ]
    },
    {
      "cell_type": "code",
      "source": [
        "batch_index = 1  # Increment after every run\n",
        "\n",
        "# Create DataFrames from this batch\n",
        "lineup_vs_lineup_df = pd.DataFrame(all_lineup_vs_lineup)\n",
        "player_stats_df = pd.DataFrame(all_player_stats)\n",
        "\n",
        "# Save to CSV\n",
        "lineup_vs_lineup_df.to_csv(f'lineup_vs_lineup_batch_{batch_index}.csv', index=False)\n",
        "player_stats_df.to_csv(f'player_stats_batch_{batch_index}.csv', index=False)\n",
        "\n",
        "print(f\"Saved batch {batch_index} with {len(lineup_vs_lineup_df)} lineup segments and {len(player_stats_df)} player segments.\")"
      ],
      "metadata": {
        "colab": {
          "base_uri": "https://localhost:8080/"
        },
        "id": "JDxYq9UGSpkX",
        "outputId": "0ae81df6-cc09-4216-9f50-67e94eb15f91"
      },
      "execution_count": 7,
      "outputs": [
        {
          "output_type": "stream",
          "name": "stdout",
          "text": [
            "Saved batch 1 with 2048 lineup segments and 6125 player segments.\n"
          ]
        }
      ]
    }
  ]
}