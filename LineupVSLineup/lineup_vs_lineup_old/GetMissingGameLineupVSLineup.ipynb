{
  "cells": [
    {
      "cell_type": "code",
      "execution_count": 48,
      "metadata": {
        "collapsed": true,
        "id": "jPWTB0yjREVH"
      },
      "outputs": [],
      "source": [
        "# %pip install --no-cache-dir --force-reinstall numpy==1.26.4 pandas==2.2.2"
      ]
    },
    {
      "cell_type": "code",
      "execution_count": 49,
      "metadata": {
        "colab": {
          "base_uri": "https://localhost:8080/"
        },
        "collapsed": true,
        "id": "Vb8LTkrgRLrQ",
        "outputId": "f717bed3-2fd4-42da-ce27-13bafba6e4a4"
      },
      "outputs": [],
      "source": [
        "# %pip install nba_api --quiet"
      ]
    },
    {
      "cell_type": "code",
      "execution_count": 3,
      "metadata": {},
      "outputs": [
        {
          "name": "stdout",
          "output_type": "stream",
          "text": [
            "Collecting pandas\n",
            "  Using cached pandas-2.2.3-cp311-cp311-win_amd64.whl.metadata (19 kB)\n",
            "Collecting numpy>=1.23.2 (from pandas)\n",
            "  Using cached numpy-2.2.4-cp311-cp311-win_amd64.whl.metadata (60 kB)\n",
            "Requirement already satisfied: python-dateutil>=2.8.2 in c:\\users\\anna\\documents\\bme_vik\\a_targyak\\3felev\\halado_adatel\\.venv\\lib\\site-packages (from pandas) (2.9.0.post0)\n",
            "Collecting pytz>=2020.1 (from pandas)\n",
            "  Using cached pytz-2025.2-py2.py3-none-any.whl.metadata (22 kB)\n",
            "Collecting tzdata>=2022.7 (from pandas)\n",
            "  Using cached tzdata-2025.2-py2.py3-none-any.whl.metadata (1.4 kB)\n",
            "Requirement already satisfied: six>=1.5 in c:\\users\\anna\\documents\\bme_vik\\a_targyak\\3felev\\halado_adatel\\.venv\\lib\\site-packages (from python-dateutil>=2.8.2->pandas) (1.17.0)\n",
            "Using cached pandas-2.2.3-cp311-cp311-win_amd64.whl (11.6 MB)\n",
            "Using cached numpy-2.2.4-cp311-cp311-win_amd64.whl (12.9 MB)\n",
            "Using cached pytz-2025.2-py2.py3-none-any.whl (509 kB)\n",
            "Using cached tzdata-2025.2-py2.py3-none-any.whl (347 kB)\n",
            "Installing collected packages: pytz, tzdata, numpy, pandas\n",
            "Successfully installed numpy-2.2.4 pandas-2.2.3 pytz-2025.2 tzdata-2025.2\n"
          ]
        },
        {
          "name": "stderr",
          "output_type": "stream",
          "text": [
            "\n",
            "[notice] A new release of pip is available: 24.0 -> 25.0.1\n",
            "[notice] To update, run: python.exe -m pip install --upgrade pip\n"
          ]
        }
      ],
      "source": [
        "!pip install pandas"
      ]
    },
    {
      "cell_type": "code",
      "execution_count": 6,
      "metadata": {},
      "outputs": [
        {
          "name": "stdout",
          "output_type": "stream",
          "text": [
            "Requirement already satisfied: tqdm in c:\\users\\anna\\documents\\bme_vik\\a_targyak\\3felev\\halado_adatel\\.venv\\lib\\site-packages (4.67.1)\n",
            "Collecting nba_api\n",
            "  Downloading nba_api-1.9.0-py3-none-any.whl.metadata (5.8 kB)\n",
            "Requirement already satisfied: colorama in c:\\users\\anna\\documents\\bme_vik\\a_targyak\\3felev\\halado_adatel\\.venv\\lib\\site-packages (from tqdm) (0.4.6)\n",
            "Requirement already satisfied: numpy>=1.26.0 in c:\\users\\anna\\documents\\bme_vik\\a_targyak\\3felev\\halado_adatel\\.venv\\lib\\site-packages (from nba_api) (2.2.4)\n",
            "Requirement already satisfied: pandas>=2.1.0 in c:\\users\\anna\\documents\\bme_vik\\a_targyak\\3felev\\halado_adatel\\.venv\\lib\\site-packages (from nba_api) (2.2.3)\n",
            "Collecting requests<3.0.0,>=2.32.3 (from nba_api)\n",
            "  Using cached requests-2.32.3-py3-none-any.whl.metadata (4.6 kB)\n",
            "Requirement already satisfied: python-dateutil>=2.8.2 in c:\\users\\anna\\documents\\bme_vik\\a_targyak\\3felev\\halado_adatel\\.venv\\lib\\site-packages (from pandas>=2.1.0->nba_api) (2.9.0.post0)\n",
            "Requirement already satisfied: pytz>=2020.1 in c:\\users\\anna\\documents\\bme_vik\\a_targyak\\3felev\\halado_adatel\\.venv\\lib\\site-packages (from pandas>=2.1.0->nba_api) (2025.2)\n",
            "Requirement already satisfied: tzdata>=2022.7 in c:\\users\\anna\\documents\\bme_vik\\a_targyak\\3felev\\halado_adatel\\.venv\\lib\\site-packages (from pandas>=2.1.0->nba_api) (2025.2)\n",
            "Collecting charset-normalizer<4,>=2 (from requests<3.0.0,>=2.32.3->nba_api)\n",
            "  Using cached charset_normalizer-3.4.1-cp311-cp311-win_amd64.whl.metadata (36 kB)\n",
            "Collecting idna<4,>=2.5 (from requests<3.0.0,>=2.32.3->nba_api)\n",
            "  Using cached idna-3.10-py3-none-any.whl.metadata (10 kB)\n",
            "Collecting urllib3<3,>=1.21.1 (from requests<3.0.0,>=2.32.3->nba_api)\n",
            "  Using cached urllib3-2.3.0-py3-none-any.whl.metadata (6.5 kB)\n",
            "Collecting certifi>=2017.4.17 (from requests<3.0.0,>=2.32.3->nba_api)\n",
            "  Using cached certifi-2025.1.31-py3-none-any.whl.metadata (2.5 kB)\n",
            "Requirement already satisfied: six>=1.5 in c:\\users\\anna\\documents\\bme_vik\\a_targyak\\3felev\\halado_adatel\\.venv\\lib\\site-packages (from python-dateutil>=2.8.2->pandas>=2.1.0->nba_api) (1.17.0)\n",
            "Downloading nba_api-1.9.0-py3-none-any.whl (284 kB)\n",
            "   ---------------------------------------- 0.0/284.9 kB ? eta -:--:--\n",
            "   -- ------------------------------------ 20.5/284.9 kB 640.0 kB/s eta 0:00:01\n",
            "   ------------ --------------------------- 92.2/284.9 kB 1.3 MB/s eta 0:00:01\n",
            "   -------------------------------------- - 276.5/284.9 kB 3.4 MB/s eta 0:00:01\n",
            "   ---------------------------------------- 284.9/284.9 kB 2.2 MB/s eta 0:00:00\n",
            "Using cached requests-2.32.3-py3-none-any.whl (64 kB)\n",
            "Using cached certifi-2025.1.31-py3-none-any.whl (166 kB)\n",
            "Using cached charset_normalizer-3.4.1-cp311-cp311-win_amd64.whl (102 kB)\n",
            "Using cached idna-3.10-py3-none-any.whl (70 kB)\n",
            "Using cached urllib3-2.3.0-py3-none-any.whl (128 kB)\n",
            "Installing collected packages: urllib3, idna, charset-normalizer, certifi, requests, nba_api\n",
            "Successfully installed certifi-2025.1.31 charset-normalizer-3.4.1 idna-3.10 nba_api-1.9.0 requests-2.32.3 urllib3-2.3.0\n"
          ]
        },
        {
          "name": "stderr",
          "output_type": "stream",
          "text": [
            "\n",
            "[notice] A new release of pip is available: 24.0 -> 25.0.1\n",
            "[notice] To update, run: python.exe -m pip install --upgrade pip\n"
          ]
        }
      ],
      "source": [
        "!pip install tqdm  nba_api"
      ]
    },
    {
      "cell_type": "code",
      "execution_count": 1,
      "metadata": {
        "id": "k5s6JaVsRNGQ"
      },
      "outputs": [],
      "source": [
        "import pandas as pd\n",
        "import time\n",
        "from tqdm import tqdm\n",
        "import numpy as np\n",
        "from collections import defaultdict\n",
        "from nba_api.stats.endpoints import (PlayByPlayV2,\n",
        "                                     BoxScoreSummaryV2,\n",
        "                                     BoxScoreTraditionalV2,\n",
        "                                     LeagueGameFinder)"
      ]
    },
    {
      "cell_type": "code",
      "execution_count": 2,
      "metadata": {
        "id": "6uNJHtZ4Rrr7"
      },
      "outputs": [],
      "source": [
        "gamefinder = LeagueGameFinder(season_nullable='2023-24', season_type_nullable='Regular Season')\n",
        "games_df = gamefinder.get_data_frames()[0]\n",
        "all_game_ids = games_df['GAME_ID'].unique().tolist()"
      ]
    },
    {
      "cell_type": "code",
      "execution_count": 3,
      "metadata": {
        "id": "NEC0UwkYR2_8"
      },
      "outputs": [],
      "source": [
        "# Helper to convert clock time string to seconds\n",
        "def time_str_to_sec(t):\n",
        "    if isinstance(t, str):\n",
        "        m, s = map(int, t.strip().split(\":\"))\n",
        "        return m * 60 + s\n",
        "    return 0\n",
        "\n",
        "# Helper to compute duration between lineup segments\n",
        "def compute_duration(row):\n",
        "    start_sec = time_str_to_sec(row['start_time'])\n",
        "    end_sec = time_str_to_sec(row['end_time'])\n",
        "    start_period = row['period']\n",
        "    end_period = row['period']\n",
        "    if end_sec > start_sec:\n",
        "        end_period = start_period + 1\n",
        "    period_diff = end_period - start_period\n",
        "    return start_sec + period_diff * 720 - end_sec"
      ]
    },
    {
      "cell_type": "code",
      "execution_count": 4,
      "metadata": {
        "id": "M-Ynjy_NZkCX"
      },
      "outputs": [],
      "source": [
        "game_ids = all_game_ids[0:50] # next is [50:100]"
      ]
    },
    {
      "cell_type": "code",
      "execution_count": 5,
      "metadata": {},
      "outputs": [],
      "source": [
        "previous_lineup_vs_lineup_df = pd.read_csv('lineup_vs_lineup.csv', dtype={'game_id': 'object'})\n",
        "previous_player_stats_df = pd.read_csv('player_stats.csv', dtype={'game_id': 'object'})"
      ]
    },
    {
      "cell_type": "code",
      "execution_count": 6,
      "metadata": {},
      "outputs": [
        {
          "name": "stdout",
          "output_type": "stream",
          "text": [
            "Missing game_ids: ['0022300197', '0022300192', '0022300195', '0022300198', '0022300196', '0022300199', '0022300194', '0022300193', '0022300024', '0022300017', '0022300018', '0022300019', '0022300021', '0022300023', '0022300026', '0022300025', '0022300020', '0022300022', '0022300189', '0022300190', '0022300188', '0022300191', '0022300181', '0022300183', '0022300179', '0022300177', '0022300185', '0022300178', '0022300186', '0022300180', '0022300184', '0022300182', '0022300187', '0022300173', '0022300174', '0022300175', '0022300176', '0022300011', '0022300009', '0022300010', '0022300012', '0022300013', '0022300016', '0022300014', '0022300015', '0022300008', '0022300171', '0022300172', '0022300163', '0022300157', '0022300168', '0022300170', '0022300160', '0022300158', '0022300161', '0022300159', '0022300164', '0022300165', '0022300166', '0022300169', '0022300167', '0022300162', '0022300155', '0022300146', '0022300145', '0022300156', '0022300149', '0022300153', '0022300148', '0022300154', '0022300150', '0022300147', '0022300151', '0022300152', '0022300144', '0022300143', '0022300142', '0022300141', '0022300140', '0022300133', '0022300134', '0022300132', '0022300139', '0022300135', '0022300137', '0022300136', '0022300138', '0022300007', '0022300006', '0022300002', '0022300005', '0022300004', '0022300001', '0022300003', '0022300128', '0022300130', '0022300131', '0022300129', '0022300118', '0022300123', '0022300116', '0022300121', '0022300115', '0022300125', '0022300122', '0022300119', '0022300120', '0022300124', '0022300126', '0022300117', '0022300127', '0022300114', '0022300112', '0022300113', '0022300102', '0022300109', '0022300110', '0022300108', '0022300103', '0022300105', '0022300107', '0022300106', '0022300111', '0022300101', '0022300104', '0022300098', '0022300100', '0022300097', '0022300095', '0022300099', '0022300096', '0022300094', '0022300090', '0022300093', '0022300092', '0022300091', '0022300088', '0022300089', '0022300077', '0022300080', '0022300084', '0022300082', '0022300087', '0022300079', '0022300083', '0022300081', '0022300086', '0022300078', '0022300085', '0022300076', '0022300075', '0022300068', '0022300070', '0022300065', '0022300067', '0022300063', '0022300069', '0022300072', '0022300071', '0022300064', '0022300074', '0022300066', '0022300073', '0022300062', '0022300061']\n"
          ]
        }
      ],
      "source": [
        "# All missing lineup game_ids\n",
        "\n",
        "all_game_ids_series = pd.Series(all_game_ids)\n",
        "\n",
        "missing_game_ids = all_game_ids_series[~all_game_ids_series.isin(previous_lineup_vs_lineup_df['game_id'].unique())].tolist()\n",
        "print(f\"Missing game_ids: {missing_game_ids}\")"
      ]
    },
    {
      "cell_type": "code",
      "execution_count": 7,
      "metadata": {
        "colab": {
          "base_uri": "https://localhost:8080/"
        },
        "id": "7__iRnQLSj7_",
        "outputId": "114f0a42-5f09-4819-88fa-89156ec779f4"
      },
      "outputs": [
        {
          "name": "stderr",
          "output_type": "stream",
          "text": [
            "  0%|          | 0/165 [00:00<?, ?it/s]"
          ]
        },
        {
          "name": "stdout",
          "output_type": "stream",
          "text": [
            "----------------GAME nr.1-----------\n",
            "\n",
            "Finished game: 0022300197\n",
            "Data saved to CSV files.\n"
          ]
        },
        {
          "name": "stderr",
          "output_type": "stream",
          "text": [
            "  1%|          | 1/165 [00:10<29:59, 10.97s/it]"
          ]
        },
        {
          "name": "stdout",
          "output_type": "stream",
          "text": [
            "----------------GAME nr.2-----------\n",
            "\n",
            "Finished game: 0022300192\n",
            "Data saved to CSV files.\n"
          ]
        },
        {
          "name": "stderr",
          "output_type": "stream",
          "text": [
            "  1%|          | 2/165 [00:16<21:50,  8.04s/it]"
          ]
        },
        {
          "name": "stdout",
          "output_type": "stream",
          "text": [
            "----------------GAME nr.3-----------\n",
            "\n",
            "Finished game: 0022300195\n",
            "Data saved to CSV files.\n"
          ]
        },
        {
          "name": "stderr",
          "output_type": "stream",
          "text": [
            "  2%|▏         | 3/165 [00:23<20:18,  7.52s/it]"
          ]
        },
        {
          "name": "stdout",
          "output_type": "stream",
          "text": [
            "----------------GAME nr.4-----------\n",
            "\n",
            "Finished game: 0022300198\n",
            "Data saved to CSV files.\n"
          ]
        },
        {
          "name": "stderr",
          "output_type": "stream",
          "text": [
            "  2%|▏         | 4/165 [00:30<19:13,  7.17s/it]"
          ]
        },
        {
          "name": "stdout",
          "output_type": "stream",
          "text": [
            "----------------GAME nr.5-----------\n",
            "\n",
            "Finished game: 0022300196\n",
            "Data saved to CSV files.\n"
          ]
        },
        {
          "name": "stderr",
          "output_type": "stream",
          "text": [
            "  3%|▎         | 5/165 [00:36<17:50,  6.69s/it]"
          ]
        },
        {
          "name": "stdout",
          "output_type": "stream",
          "text": [
            "----------------GAME nr.6-----------\n",
            "\n",
            "Finished game: 0022300199\n",
            "Data saved to CSV files.\n"
          ]
        },
        {
          "name": "stderr",
          "output_type": "stream",
          "text": [
            "  4%|▎         | 6/165 [00:43<17:56,  6.77s/it]"
          ]
        },
        {
          "name": "stdout",
          "output_type": "stream",
          "text": [
            "----------------GAME nr.7-----------\n",
            "\n",
            "Finished game: 0022300194\n",
            "Data saved to CSV files.\n"
          ]
        },
        {
          "name": "stderr",
          "output_type": "stream",
          "text": [
            "  4%|▍         | 7/165 [00:49<17:39,  6.71s/it]"
          ]
        },
        {
          "name": "stdout",
          "output_type": "stream",
          "text": [
            "----------------GAME nr.8-----------\n",
            "\n",
            "Finished game: 0022300193\n",
            "Data saved to CSV files.\n"
          ]
        },
        {
          "name": "stderr",
          "output_type": "stream",
          "text": [
            "  5%|▍         | 8/165 [00:57<18:36,  7.11s/it]"
          ]
        },
        {
          "name": "stdout",
          "output_type": "stream",
          "text": [
            "----------------GAME nr.9-----------\n",
            "\n",
            "Finished game: 0022300024\n",
            "Data saved to CSV files.\n"
          ]
        },
        {
          "name": "stderr",
          "output_type": "stream",
          "text": [
            "  5%|▌         | 9/165 [01:04<18:12,  7.00s/it]"
          ]
        },
        {
          "name": "stdout",
          "output_type": "stream",
          "text": [
            "----------------GAME nr.10-----------\n",
            "\n",
            "Finished game: 0022300017\n",
            "Data saved to CSV files.\n"
          ]
        },
        {
          "name": "stderr",
          "output_type": "stream",
          "text": [
            "  6%|▌         | 10/165 [01:11<18:02,  6.98s/it]"
          ]
        },
        {
          "name": "stdout",
          "output_type": "stream",
          "text": [
            "----------------GAME nr.11-----------\n",
            "\n",
            "Finished game: 0022300018\n",
            "Data saved to CSV files.\n"
          ]
        },
        {
          "name": "stderr",
          "output_type": "stream",
          "text": [
            "  7%|▋         | 11/165 [01:18<18:01,  7.02s/it]"
          ]
        },
        {
          "name": "stdout",
          "output_type": "stream",
          "text": [
            "----------------GAME nr.12-----------\n",
            "\n",
            "Finished game: 0022300019\n",
            "Data saved to CSV files.\n"
          ]
        },
        {
          "name": "stderr",
          "output_type": "stream",
          "text": [
            "  7%|▋         | 12/165 [01:24<17:20,  6.80s/it]"
          ]
        },
        {
          "name": "stdout",
          "output_type": "stream",
          "text": [
            "----------------GAME nr.13-----------\n",
            "\n",
            "Finished game: 0022300021\n",
            "Data saved to CSV files.\n"
          ]
        },
        {
          "name": "stderr",
          "output_type": "stream",
          "text": [
            "  8%|▊         | 13/165 [01:31<17:25,  6.88s/it]"
          ]
        },
        {
          "name": "stdout",
          "output_type": "stream",
          "text": [
            "----------------GAME nr.14-----------\n",
            "\n",
            "Finished game: 0022300023\n",
            "Data saved to CSV files.\n"
          ]
        },
        {
          "name": "stderr",
          "output_type": "stream",
          "text": [
            "  8%|▊         | 14/165 [01:38<17:02,  6.77s/it]"
          ]
        },
        {
          "name": "stdout",
          "output_type": "stream",
          "text": [
            "----------------GAME nr.15-----------\n",
            "\n",
            "Finished game: 0022300026\n",
            "Data saved to CSV files.\n"
          ]
        },
        {
          "name": "stderr",
          "output_type": "stream",
          "text": [
            "  9%|▉         | 15/165 [01:45<16:51,  6.75s/it]"
          ]
        },
        {
          "name": "stdout",
          "output_type": "stream",
          "text": [
            "----------------GAME nr.16-----------\n",
            "\n",
            "Finished game: 0022300025\n",
            "Data saved to CSV files.\n"
          ]
        },
        {
          "name": "stderr",
          "output_type": "stream",
          "text": [
            " 10%|▉         | 16/165 [01:52<17:10,  6.91s/it]"
          ]
        },
        {
          "name": "stdout",
          "output_type": "stream",
          "text": [
            "----------------GAME nr.17-----------\n",
            "\n",
            "Finished game: 0022300020\n",
            "Data saved to CSV files.\n"
          ]
        },
        {
          "name": "stderr",
          "output_type": "stream",
          "text": [
            " 10%|█         | 17/165 [01:59<17:05,  6.93s/it]"
          ]
        },
        {
          "name": "stdout",
          "output_type": "stream",
          "text": [
            "----------------GAME nr.18-----------\n",
            "\n",
            "Finished game: 0022300022\n",
            "Data saved to CSV files.\n"
          ]
        },
        {
          "name": "stderr",
          "output_type": "stream",
          "text": [
            " 11%|█         | 18/165 [02:05<16:24,  6.70s/it]"
          ]
        },
        {
          "name": "stdout",
          "output_type": "stream",
          "text": [
            "----------------GAME nr.19-----------\n",
            "\n",
            "Finished game: 0022300189\n",
            "Data saved to CSV files.\n"
          ]
        },
        {
          "name": "stderr",
          "output_type": "stream",
          "text": [
            " 12%|█▏        | 19/165 [02:12<16:16,  6.69s/it]"
          ]
        },
        {
          "name": "stdout",
          "output_type": "stream",
          "text": [
            "----------------GAME nr.20-----------\n",
            "\n",
            "Finished game: 0022300190\n",
            "Data saved to CSV files.\n"
          ]
        },
        {
          "name": "stderr",
          "output_type": "stream",
          "text": [
            " 12%|█▏        | 20/165 [02:18<16:04,  6.65s/it]"
          ]
        },
        {
          "name": "stdout",
          "output_type": "stream",
          "text": [
            "----------------GAME nr.21-----------\n",
            "\n",
            "Finished game: 0022300188\n",
            "Data saved to CSV files.\n"
          ]
        },
        {
          "name": "stderr",
          "output_type": "stream",
          "text": [
            " 13%|█▎        | 21/165 [02:24<15:23,  6.41s/it]"
          ]
        },
        {
          "name": "stdout",
          "output_type": "stream",
          "text": [
            "----------------GAME nr.22-----------\n",
            "\n",
            "Finished game: 0022300191\n",
            "Data saved to CSV files.\n"
          ]
        },
        {
          "name": "stderr",
          "output_type": "stream",
          "text": [
            " 13%|█▎        | 22/165 [02:31<15:19,  6.43s/it]"
          ]
        },
        {
          "name": "stdout",
          "output_type": "stream",
          "text": [
            "----------------GAME nr.23-----------\n",
            "\n",
            "Finished game: 0022300181\n",
            "Data saved to CSV files.\n"
          ]
        },
        {
          "name": "stderr",
          "output_type": "stream",
          "text": [
            " 14%|█▍        | 23/165 [02:37<14:57,  6.32s/it]"
          ]
        },
        {
          "name": "stdout",
          "output_type": "stream",
          "text": [
            "----------------GAME nr.24-----------\n",
            "\n",
            "Finished game: 0022300183\n",
            "Data saved to CSV files.\n"
          ]
        },
        {
          "name": "stderr",
          "output_type": "stream",
          "text": [
            " 15%|█▍        | 24/165 [02:43<14:30,  6.17s/it]"
          ]
        },
        {
          "name": "stdout",
          "output_type": "stream",
          "text": [
            "----------------GAME nr.25-----------\n",
            "\n",
            "Finished game: 0022300179\n",
            "Data saved to CSV files.\n"
          ]
        },
        {
          "name": "stderr",
          "output_type": "stream",
          "text": [
            " 15%|█▌        | 25/165 [02:49<14:22,  6.16s/it]"
          ]
        },
        {
          "name": "stdout",
          "output_type": "stream",
          "text": [
            "----------------GAME nr.26-----------\n",
            "\n",
            "Finished game: 0022300177\n",
            "Data saved to CSV files.\n"
          ]
        },
        {
          "name": "stderr",
          "output_type": "stream",
          "text": [
            " 16%|█▌        | 26/165 [02:56<14:48,  6.39s/it]"
          ]
        },
        {
          "name": "stdout",
          "output_type": "stream",
          "text": [
            "----------------GAME nr.27-----------\n",
            "\n",
            "Finished game: 0022300185\n",
            "Data saved to CSV files.\n"
          ]
        },
        {
          "name": "stderr",
          "output_type": "stream",
          "text": [
            " 16%|█▋        | 27/165 [03:02<14:48,  6.44s/it]"
          ]
        },
        {
          "name": "stdout",
          "output_type": "stream",
          "text": [
            "----------------GAME nr.28-----------\n",
            "\n",
            "Finished game: 0022300178\n",
            "Data saved to CSV files.\n"
          ]
        },
        {
          "name": "stderr",
          "output_type": "stream",
          "text": [
            " 17%|█▋        | 28/165 [03:08<14:31,  6.36s/it]"
          ]
        },
        {
          "name": "stdout",
          "output_type": "stream",
          "text": [
            "----------------GAME nr.29-----------\n",
            "\n",
            "Finished game: 0022300186\n",
            "Data saved to CSV files.\n"
          ]
        },
        {
          "name": "stderr",
          "output_type": "stream",
          "text": [
            " 18%|█▊        | 29/165 [03:14<14:08,  6.24s/it]"
          ]
        },
        {
          "name": "stdout",
          "output_type": "stream",
          "text": [
            "----------------GAME nr.30-----------\n",
            "\n",
            "Finished game: 0022300180\n",
            "Data saved to CSV files.\n"
          ]
        },
        {
          "name": "stderr",
          "output_type": "stream",
          "text": [
            " 18%|█▊        | 30/165 [03:21<14:25,  6.41s/it]"
          ]
        },
        {
          "name": "stdout",
          "output_type": "stream",
          "text": [
            "----------------GAME nr.31-----------\n",
            "\n",
            "Finished game: 0022300184\n",
            "Data saved to CSV files.\n"
          ]
        },
        {
          "name": "stderr",
          "output_type": "stream",
          "text": [
            " 19%|█▉        | 31/165 [03:27<14:11,  6.35s/it]"
          ]
        },
        {
          "name": "stdout",
          "output_type": "stream",
          "text": [
            "----------------GAME nr.32-----------\n",
            "\n",
            "Finished game: 0022300182\n",
            "Data saved to CSV files.\n"
          ]
        },
        {
          "name": "stderr",
          "output_type": "stream",
          "text": [
            " 19%|█▉        | 32/165 [03:34<14:22,  6.48s/it]"
          ]
        },
        {
          "name": "stdout",
          "output_type": "stream",
          "text": [
            "----------------GAME nr.33-----------\n",
            "\n",
            "Finished game: 0022300187\n",
            "Data saved to CSV files.\n"
          ]
        },
        {
          "name": "stderr",
          "output_type": "stream",
          "text": [
            " 20%|██        | 33/165 [03:40<14:05,  6.41s/it]"
          ]
        },
        {
          "name": "stdout",
          "output_type": "stream",
          "text": [
            "----------------GAME nr.34-----------\n",
            "\n",
            "Finished game: 0022300173\n",
            "Data saved to CSV files.\n"
          ]
        },
        {
          "name": "stderr",
          "output_type": "stream",
          "text": [
            " 21%|██        | 34/165 [03:47<14:26,  6.62s/it]"
          ]
        },
        {
          "name": "stdout",
          "output_type": "stream",
          "text": [
            "----------------GAME nr.35-----------\n",
            "\n",
            "Finished game: 0022300174\n",
            "Data saved to CSV files.\n"
          ]
        },
        {
          "name": "stderr",
          "output_type": "stream",
          "text": [
            " 21%|██        | 35/165 [03:53<13:54,  6.42s/it]"
          ]
        },
        {
          "name": "stdout",
          "output_type": "stream",
          "text": [
            "----------------GAME nr.36-----------\n",
            "\n",
            "Finished game: 0022300175\n",
            "Data saved to CSV files.\n"
          ]
        },
        {
          "name": "stderr",
          "output_type": "stream",
          "text": [
            " 22%|██▏       | 36/165 [04:05<16:55,  7.87s/it]"
          ]
        },
        {
          "name": "stdout",
          "output_type": "stream",
          "text": [
            "----------------GAME nr.37-----------\n",
            "\n",
            "Finished game: 0022300176\n",
            "Data saved to CSV files.\n"
          ]
        },
        {
          "name": "stderr",
          "output_type": "stream",
          "text": [
            " 22%|██▏       | 37/165 [04:12<16:09,  7.57s/it]"
          ]
        },
        {
          "name": "stdout",
          "output_type": "stream",
          "text": [
            "----------------GAME nr.38-----------\n",
            "\n",
            "Finished game: 0022300011\n",
            "Data saved to CSV files.\n"
          ]
        },
        {
          "name": "stderr",
          "output_type": "stream",
          "text": [
            " 23%|██▎       | 38/165 [04:18<15:12,  7.19s/it]"
          ]
        },
        {
          "name": "stdout",
          "output_type": "stream",
          "text": [
            "----------------GAME nr.39-----------\n",
            "\n",
            "Finished game: 0022300009\n",
            "Data saved to CSV files.\n"
          ]
        },
        {
          "name": "stderr",
          "output_type": "stream",
          "text": [
            " 24%|██▎       | 39/165 [04:24<14:30,  6.91s/it]"
          ]
        },
        {
          "name": "stdout",
          "output_type": "stream",
          "text": [
            "----------------GAME nr.40-----------\n",
            "\n",
            "Finished game: 0022300010\n",
            "Data saved to CSV files.\n"
          ]
        },
        {
          "name": "stderr",
          "output_type": "stream",
          "text": [
            " 24%|██▍       | 40/165 [04:31<14:23,  6.90s/it]"
          ]
        },
        {
          "name": "stdout",
          "output_type": "stream",
          "text": [
            "----------------GAME nr.41-----------\n",
            "\n",
            "Finished game: 0022300012\n",
            "Data saved to CSV files.\n"
          ]
        },
        {
          "name": "stderr",
          "output_type": "stream",
          "text": [
            " 25%|██▍       | 41/165 [04:38<14:16,  6.91s/it]"
          ]
        },
        {
          "name": "stdout",
          "output_type": "stream",
          "text": [
            "----------------GAME nr.42-----------\n",
            "\n",
            "Finished game: 0022300013\n",
            "Data saved to CSV files.\n"
          ]
        },
        {
          "name": "stderr",
          "output_type": "stream",
          "text": [
            " 25%|██▌       | 42/165 [04:45<14:10,  6.92s/it]"
          ]
        },
        {
          "name": "stdout",
          "output_type": "stream",
          "text": [
            "----------------GAME nr.43-----------\n",
            "\n",
            "Finished game: 0022300016\n",
            "Data saved to CSV files.\n"
          ]
        },
        {
          "name": "stderr",
          "output_type": "stream",
          "text": [
            " 26%|██▌       | 43/165 [04:52<13:54,  6.84s/it]"
          ]
        },
        {
          "name": "stdout",
          "output_type": "stream",
          "text": [
            "----------------GAME nr.44-----------\n",
            "\n",
            "Finished game: 0022300014\n",
            "Data saved to CSV files.\n"
          ]
        },
        {
          "name": "stderr",
          "output_type": "stream",
          "text": [
            " 27%|██▋       | 44/165 [04:59<14:03,  6.97s/it]"
          ]
        },
        {
          "name": "stdout",
          "output_type": "stream",
          "text": [
            "----------------GAME nr.45-----------\n",
            "\n",
            "Finished game: 0022300015\n",
            "Data saved to CSV files.\n"
          ]
        },
        {
          "name": "stderr",
          "output_type": "stream",
          "text": [
            " 27%|██▋       | 45/165 [05:28<27:11, 13.60s/it]"
          ]
        },
        {
          "name": "stdout",
          "output_type": "stream",
          "text": [
            "----------------GAME nr.46-----------\n",
            "\n",
            "Finished game: 0022300008\n",
            "Data saved to CSV files.\n"
          ]
        },
        {
          "name": "stderr",
          "output_type": "stream",
          "text": [
            " 28%|██▊       | 46/165 [05:34<22:38, 11.42s/it]"
          ]
        },
        {
          "name": "stdout",
          "output_type": "stream",
          "text": [
            "----------------GAME nr.47-----------\n",
            "\n",
            "Finished game: 0022300171\n",
            "Data saved to CSV files.\n"
          ]
        },
        {
          "name": "stderr",
          "output_type": "stream",
          "text": [
            " 28%|██▊       | 47/165 [06:04<33:34, 17.08s/it]"
          ]
        },
        {
          "name": "stdout",
          "output_type": "stream",
          "text": [
            "----------------GAME nr.48-----------\n",
            "\n",
            "Finished game: 0022300172\n",
            "Data saved to CSV files.\n"
          ]
        },
        {
          "name": "stderr",
          "output_type": "stream",
          "text": [
            " 29%|██▉       | 48/165 [06:11<27:10, 13.93s/it]"
          ]
        },
        {
          "name": "stdout",
          "output_type": "stream",
          "text": [
            "----------------GAME nr.49-----------\n",
            "\n",
            "Finished game: 0022300163\n",
            "Data saved to CSV files.\n"
          ]
        },
        {
          "name": "stderr",
          "output_type": "stream",
          "text": [
            " 30%|██▉       | 49/165 [06:18<22:41, 11.73s/it]"
          ]
        },
        {
          "name": "stdout",
          "output_type": "stream",
          "text": [
            "----------------GAME nr.50-----------\n",
            "\n",
            "Finished game: 0022300157\n",
            "Data saved to CSV files.\n"
          ]
        },
        {
          "name": "stderr",
          "output_type": "stream",
          "text": [
            " 30%|███       | 50/165 [06:24<19:06,  9.97s/it]"
          ]
        },
        {
          "name": "stdout",
          "output_type": "stream",
          "text": [
            "----------------GAME nr.51-----------\n",
            "\n",
            "Finished game: 0022300168\n",
            "Data saved to CSV files.\n"
          ]
        },
        {
          "name": "stderr",
          "output_type": "stream",
          "text": [
            " 31%|███       | 51/165 [06:31<17:22,  9.15s/it]"
          ]
        },
        {
          "name": "stdout",
          "output_type": "stream",
          "text": [
            "----------------GAME nr.52-----------\n",
            "\n",
            "Finished game: 0022300170\n",
            "Data saved to CSV files.\n"
          ]
        },
        {
          "name": "stderr",
          "output_type": "stream",
          "text": [
            " 32%|███▏      | 52/165 [06:38<15:56,  8.46s/it]"
          ]
        },
        {
          "name": "stdout",
          "output_type": "stream",
          "text": [
            "----------------GAME nr.53-----------\n",
            "\n",
            "Finished game: 0022300160\n",
            "Data saved to CSV files.\n"
          ]
        },
        {
          "name": "stderr",
          "output_type": "stream",
          "text": [
            " 32%|███▏      | 53/165 [06:44<14:43,  7.89s/it]"
          ]
        },
        {
          "name": "stdout",
          "output_type": "stream",
          "text": [
            "----------------GAME nr.54-----------\n",
            "\n",
            "Finished game: 0022300158\n",
            "Data saved to CSV files.\n"
          ]
        },
        {
          "name": "stderr",
          "output_type": "stream",
          "text": [
            " 33%|███▎      | 54/165 [06:50<13:33,  7.33s/it]"
          ]
        },
        {
          "name": "stdout",
          "output_type": "stream",
          "text": [
            "----------------GAME nr.55-----------\n",
            "\n",
            "Finished game: 0022300161\n",
            "Data saved to CSV files.\n"
          ]
        },
        {
          "name": "stderr",
          "output_type": "stream",
          "text": [
            " 33%|███▎      | 55/165 [06:58<13:25,  7.33s/it]"
          ]
        },
        {
          "name": "stdout",
          "output_type": "stream",
          "text": [
            "----------------GAME nr.56-----------\n",
            "\n",
            "Finished game: 0022300159\n",
            "Data saved to CSV files.\n"
          ]
        },
        {
          "name": "stderr",
          "output_type": "stream",
          "text": [
            " 34%|███▍      | 56/165 [07:04<12:56,  7.12s/it]"
          ]
        },
        {
          "name": "stdout",
          "output_type": "stream",
          "text": [
            "----------------GAME nr.57-----------\n",
            "\n",
            "Finished game: 0022300164\n",
            "Data saved to CSV files.\n"
          ]
        },
        {
          "name": "stderr",
          "output_type": "stream",
          "text": [
            " 35%|███▍      | 57/165 [07:10<12:11,  6.77s/it]"
          ]
        },
        {
          "name": "stdout",
          "output_type": "stream",
          "text": [
            "----------------GAME nr.58-----------\n",
            "\n",
            "Finished game: 0022300165\n",
            "Data saved to CSV files.\n"
          ]
        },
        {
          "name": "stderr",
          "output_type": "stream",
          "text": [
            " 35%|███▌      | 58/165 [07:16<11:46,  6.60s/it]"
          ]
        },
        {
          "name": "stdout",
          "output_type": "stream",
          "text": [
            "----------------GAME nr.59-----------\n",
            "\n",
            "Finished game: 0022300166\n",
            "Data saved to CSV files.\n"
          ]
        },
        {
          "name": "stderr",
          "output_type": "stream",
          "text": [
            " 36%|███▌      | 59/165 [07:24<12:02,  6.82s/it]"
          ]
        },
        {
          "name": "stdout",
          "output_type": "stream",
          "text": [
            "----------------GAME nr.60-----------\n",
            "\n",
            "Finished game: 0022300169\n",
            "Data saved to CSV files.\n"
          ]
        },
        {
          "name": "stderr",
          "output_type": "stream",
          "text": [
            " 36%|███▋      | 60/165 [07:31<12:10,  6.96s/it]"
          ]
        },
        {
          "name": "stdout",
          "output_type": "stream",
          "text": [
            "----------------GAME nr.61-----------\n",
            "\n",
            "Finished game: 0022300167\n",
            "Data saved to CSV files.\n"
          ]
        },
        {
          "name": "stderr",
          "output_type": "stream",
          "text": [
            " 37%|███▋      | 61/165 [07:37<11:35,  6.69s/it]"
          ]
        },
        {
          "name": "stdout",
          "output_type": "stream",
          "text": [
            "----------------GAME nr.62-----------\n",
            "\n",
            "Finished game: 0022300162\n",
            "Data saved to CSV files.\n"
          ]
        },
        {
          "name": "stderr",
          "output_type": "stream",
          "text": [
            " 38%|███▊      | 62/165 [07:47<13:00,  7.58s/it]"
          ]
        },
        {
          "name": "stdout",
          "output_type": "stream",
          "text": [
            "----------------GAME nr.63-----------\n",
            "\n",
            "Finished game: 0022300155\n",
            "Data saved to CSV files.\n"
          ]
        },
        {
          "name": "stderr",
          "output_type": "stream",
          "text": [
            " 38%|███▊      | 63/165 [07:53<12:30,  7.35s/it]"
          ]
        },
        {
          "name": "stdout",
          "output_type": "stream",
          "text": [
            "----------------GAME nr.64-----------\n",
            "\n",
            "Finished game: 0022300146\n",
            "Data saved to CSV files.\n"
          ]
        },
        {
          "name": "stderr",
          "output_type": "stream",
          "text": [
            " 39%|███▉      | 64/165 [08:00<12:07,  7.21s/it]"
          ]
        },
        {
          "name": "stdout",
          "output_type": "stream",
          "text": [
            "----------------GAME nr.65-----------\n",
            "\n",
            "Finished game: 0022300145\n",
            "Data saved to CSV files.\n"
          ]
        },
        {
          "name": "stderr",
          "output_type": "stream",
          "text": [
            " 39%|███▉      | 65/165 [08:06<11:25,  6.86s/it]"
          ]
        },
        {
          "name": "stdout",
          "output_type": "stream",
          "text": [
            "----------------GAME nr.66-----------\n",
            "\n",
            "Finished game: 0022300156\n",
            "Data saved to CSV files.\n"
          ]
        },
        {
          "name": "stderr",
          "output_type": "stream",
          "text": [
            " 40%|████      | 66/165 [08:14<11:50,  7.18s/it]"
          ]
        },
        {
          "name": "stdout",
          "output_type": "stream",
          "text": [
            "----------------GAME nr.67-----------\n",
            "\n",
            "Finished game: 0022300149\n",
            "Data saved to CSV files.\n"
          ]
        },
        {
          "name": "stderr",
          "output_type": "stream",
          "text": [
            " 41%|████      | 67/165 [08:20<11:05,  6.79s/it]"
          ]
        },
        {
          "name": "stdout",
          "output_type": "stream",
          "text": [
            "----------------GAME nr.68-----------\n",
            "\n",
            "Finished game: 0022300153\n",
            "Data saved to CSV files.\n"
          ]
        },
        {
          "name": "stderr",
          "output_type": "stream",
          "text": [
            " 41%|████      | 68/165 [08:27<11:06,  6.87s/it]"
          ]
        },
        {
          "name": "stdout",
          "output_type": "stream",
          "text": [
            "----------------GAME nr.69-----------\n",
            "\n",
            "Finished game: 0022300148\n",
            "Data saved to CSV files.\n"
          ]
        },
        {
          "name": "stderr",
          "output_type": "stream",
          "text": [
            " 42%|████▏     | 69/165 [08:34<10:55,  6.83s/it]"
          ]
        },
        {
          "name": "stdout",
          "output_type": "stream",
          "text": [
            "----------------GAME nr.70-----------\n",
            "\n",
            "Finished game: 0022300154\n",
            "Data saved to CSV files.\n"
          ]
        },
        {
          "name": "stderr",
          "output_type": "stream",
          "text": [
            " 42%|████▏     | 70/165 [08:40<10:23,  6.56s/it]"
          ]
        },
        {
          "name": "stdout",
          "output_type": "stream",
          "text": [
            "----------------GAME nr.71-----------\n",
            "\n",
            "Finished game: 0022300150\n",
            "Data saved to CSV files.\n"
          ]
        },
        {
          "name": "stderr",
          "output_type": "stream",
          "text": [
            " 43%|████▎     | 71/165 [08:47<10:28,  6.68s/it]"
          ]
        },
        {
          "name": "stdout",
          "output_type": "stream",
          "text": [
            "----------------GAME nr.72-----------\n",
            "\n",
            "Finished game: 0022300147\n",
            "Data saved to CSV files.\n"
          ]
        },
        {
          "name": "stderr",
          "output_type": "stream",
          "text": [
            " 44%|████▎     | 72/165 [08:54<10:31,  6.79s/it]"
          ]
        },
        {
          "name": "stdout",
          "output_type": "stream",
          "text": [
            "----------------GAME nr.73-----------\n",
            "\n",
            "Finished game: 0022300151\n",
            "Data saved to CSV files.\n"
          ]
        },
        {
          "name": "stderr",
          "output_type": "stream",
          "text": [
            " 44%|████▍     | 73/165 [09:01<10:31,  6.86s/it]"
          ]
        },
        {
          "name": "stdout",
          "output_type": "stream",
          "text": [
            "----------------GAME nr.74-----------\n",
            "\n",
            "Finished game: 0022300152\n",
            "Data saved to CSV files.\n"
          ]
        },
        {
          "name": "stderr",
          "output_type": "stream",
          "text": [
            " 45%|████▍     | 74/165 [09:09<10:55,  7.21s/it]"
          ]
        },
        {
          "name": "stdout",
          "output_type": "stream",
          "text": [
            "----------------GAME nr.75-----------\n",
            "\n",
            "Finished game: 0022300144\n",
            "Data saved to CSV files.\n"
          ]
        },
        {
          "name": "stderr",
          "output_type": "stream",
          "text": [
            " 45%|████▌     | 75/165 [09:16<10:30,  7.01s/it]"
          ]
        },
        {
          "name": "stdout",
          "output_type": "stream",
          "text": [
            "----------------GAME nr.76-----------\n",
            "\n",
            "Finished game: 0022300143\n",
            "Data saved to CSV files.\n"
          ]
        },
        {
          "name": "stderr",
          "output_type": "stream",
          "text": [
            " 46%|████▌     | 76/165 [09:22<10:18,  6.95s/it]"
          ]
        },
        {
          "name": "stdout",
          "output_type": "stream",
          "text": [
            "----------------GAME nr.77-----------\n",
            "\n",
            "Finished game: 0022300142\n",
            "Data saved to CSV files.\n"
          ]
        },
        {
          "name": "stderr",
          "output_type": "stream",
          "text": [
            " 47%|████▋     | 77/165 [09:29<10:11,  6.95s/it]"
          ]
        },
        {
          "name": "stdout",
          "output_type": "stream",
          "text": [
            "----------------GAME nr.78-----------\n",
            "\n",
            "Finished game: 0022300141\n",
            "Data saved to CSV files.\n"
          ]
        },
        {
          "name": "stderr",
          "output_type": "stream",
          "text": [
            " 47%|████▋     | 78/165 [09:37<10:12,  7.04s/it]"
          ]
        },
        {
          "name": "stdout",
          "output_type": "stream",
          "text": [
            "----------------GAME nr.79-----------\n",
            "\n",
            "Finished game: 0022300140\n",
            "Data saved to CSV files.\n"
          ]
        },
        {
          "name": "stderr",
          "output_type": "stream",
          "text": [
            " 48%|████▊     | 79/165 [09:44<10:24,  7.26s/it]"
          ]
        },
        {
          "name": "stdout",
          "output_type": "stream",
          "text": [
            "----------------GAME nr.80-----------\n",
            "\n",
            "Finished game: 0022300133\n",
            "Data saved to CSV files.\n"
          ]
        },
        {
          "name": "stderr",
          "output_type": "stream",
          "text": [
            " 48%|████▊     | 80/165 [09:53<10:56,  7.73s/it]"
          ]
        },
        {
          "name": "stdout",
          "output_type": "stream",
          "text": [
            "----------------GAME nr.81-----------\n",
            "\n",
            "Finished game: 0022300134\n",
            "Data saved to CSV files.\n"
          ]
        },
        {
          "name": "stderr",
          "output_type": "stream",
          "text": [
            " 49%|████▉     | 81/165 [09:59<10:06,  7.21s/it]"
          ]
        },
        {
          "name": "stdout",
          "output_type": "stream",
          "text": [
            "----------------GAME nr.82-----------\n",
            "\n",
            "Finished game: 0022300132\n",
            "Data saved to CSV files.\n"
          ]
        },
        {
          "name": "stderr",
          "output_type": "stream",
          "text": [
            " 50%|████▉     | 82/165 [10:05<09:28,  6.85s/it]"
          ]
        },
        {
          "name": "stdout",
          "output_type": "stream",
          "text": [
            "----------------GAME nr.83-----------\n",
            "\n",
            "Finished game: 0022300139\n",
            "Data saved to CSV files.\n"
          ]
        },
        {
          "name": "stderr",
          "output_type": "stream",
          "text": [
            " 50%|█████     | 83/165 [10:13<09:48,  7.17s/it]"
          ]
        },
        {
          "name": "stdout",
          "output_type": "stream",
          "text": [
            "----------------GAME nr.84-----------\n",
            "\n",
            "Finished game: 0022300135\n",
            "Data saved to CSV files.\n"
          ]
        },
        {
          "name": "stderr",
          "output_type": "stream",
          "text": [
            " 51%|█████     | 84/165 [10:19<09:17,  6.88s/it]"
          ]
        },
        {
          "name": "stdout",
          "output_type": "stream",
          "text": [
            "----------------GAME nr.85-----------\n",
            "\n",
            "Finished game: 0022300137\n",
            "Data saved to CSV files.\n"
          ]
        },
        {
          "name": "stderr",
          "output_type": "stream",
          "text": [
            " 52%|█████▏    | 85/165 [10:25<08:46,  6.58s/it]"
          ]
        },
        {
          "name": "stdout",
          "output_type": "stream",
          "text": [
            "----------------GAME nr.86-----------\n",
            "\n",
            "Finished game: 0022300136\n",
            "Data saved to CSV files.\n"
          ]
        },
        {
          "name": "stderr",
          "output_type": "stream",
          "text": [
            " 52%|█████▏    | 86/165 [10:31<08:31,  6.47s/it]"
          ]
        },
        {
          "name": "stdout",
          "output_type": "stream",
          "text": [
            "----------------GAME nr.87-----------\n",
            "\n",
            "Finished game: 0022300138\n",
            "Data saved to CSV files.\n"
          ]
        },
        {
          "name": "stderr",
          "output_type": "stream",
          "text": [
            " 53%|█████▎    | 87/165 [10:38<08:37,  6.64s/it]"
          ]
        },
        {
          "name": "stdout",
          "output_type": "stream",
          "text": [
            "----------------GAME nr.88-----------\n",
            "\n",
            "Finished game: 0022300007\n",
            "Data saved to CSV files.\n"
          ]
        },
        {
          "name": "stderr",
          "output_type": "stream",
          "text": [
            " 53%|█████▎    | 88/165 [10:45<08:30,  6.62s/it]"
          ]
        },
        {
          "name": "stdout",
          "output_type": "stream",
          "text": [
            "----------------GAME nr.89-----------\n",
            "\n",
            "Finished game: 0022300006\n",
            "Data saved to CSV files.\n"
          ]
        },
        {
          "name": "stderr",
          "output_type": "stream",
          "text": [
            " 54%|█████▍    | 89/165 [10:53<08:51,  6.99s/it]"
          ]
        },
        {
          "name": "stdout",
          "output_type": "stream",
          "text": [
            "----------------GAME nr.90-----------\n",
            "\n",
            "Finished game: 0022300002\n",
            "Data saved to CSV files.\n"
          ]
        },
        {
          "name": "stderr",
          "output_type": "stream",
          "text": [
            " 55%|█████▍    | 90/165 [10:59<08:26,  6.76s/it]"
          ]
        },
        {
          "name": "stdout",
          "output_type": "stream",
          "text": [
            "----------------GAME nr.91-----------\n",
            "\n",
            "Finished game: 0022300005\n",
            "Data saved to CSV files.\n"
          ]
        },
        {
          "name": "stderr",
          "output_type": "stream",
          "text": [
            " 55%|█████▌    | 91/165 [11:06<08:18,  6.73s/it]"
          ]
        },
        {
          "name": "stdout",
          "output_type": "stream",
          "text": [
            "----------------GAME nr.92-----------\n",
            "\n",
            "Finished game: 0022300004\n",
            "Data saved to CSV files.\n"
          ]
        },
        {
          "name": "stderr",
          "output_type": "stream",
          "text": [
            " 56%|█████▌    | 92/165 [11:14<08:38,  7.10s/it]"
          ]
        },
        {
          "name": "stdout",
          "output_type": "stream",
          "text": [
            "----------------GAME nr.93-----------\n",
            "\n",
            "Finished game: 0022300001\n",
            "Data saved to CSV files.\n"
          ]
        },
        {
          "name": "stderr",
          "output_type": "stream",
          "text": [
            " 56%|█████▋    | 93/165 [11:20<08:23,  6.99s/it]"
          ]
        },
        {
          "name": "stdout",
          "output_type": "stream",
          "text": [
            "----------------GAME nr.94-----------\n",
            "\n",
            "Finished game: 0022300003\n",
            "Data saved to CSV files.\n"
          ]
        },
        {
          "name": "stderr",
          "output_type": "stream",
          "text": [
            " 57%|█████▋    | 94/165 [11:27<08:15,  6.98s/it]"
          ]
        },
        {
          "name": "stdout",
          "output_type": "stream",
          "text": [
            "----------------GAME nr.95-----------\n",
            "\n",
            "Finished game: 0022300128\n",
            "Data saved to CSV files.\n"
          ]
        },
        {
          "name": "stderr",
          "output_type": "stream",
          "text": [
            " 58%|█████▊    | 95/165 [11:35<08:21,  7.16s/it]"
          ]
        },
        {
          "name": "stdout",
          "output_type": "stream",
          "text": [
            "----------------GAME nr.96-----------\n",
            "\n",
            "Finished game: 0022300130\n",
            "Data saved to CSV files.\n"
          ]
        },
        {
          "name": "stderr",
          "output_type": "stream",
          "text": [
            " 58%|█████▊    | 96/165 [11:41<07:58,  6.93s/it]"
          ]
        },
        {
          "name": "stdout",
          "output_type": "stream",
          "text": [
            "----------------GAME nr.97-----------\n",
            "\n",
            "Finished game: 0022300131\n",
            "Data saved to CSV files.\n"
          ]
        },
        {
          "name": "stderr",
          "output_type": "stream",
          "text": [
            " 59%|█████▉    | 97/165 [11:51<08:40,  7.66s/it]"
          ]
        },
        {
          "name": "stdout",
          "output_type": "stream",
          "text": [
            "----------------GAME nr.98-----------\n",
            "\n",
            "Finished game: 0022300129\n",
            "Data saved to CSV files.\n"
          ]
        },
        {
          "name": "stderr",
          "output_type": "stream",
          "text": [
            " 59%|█████▉    | 98/165 [12:00<09:11,  8.23s/it]"
          ]
        },
        {
          "name": "stdout",
          "output_type": "stream",
          "text": [
            "----------------GAME nr.99-----------\n",
            "\n",
            "Finished game: 0022300118\n",
            "Data saved to CSV files.\n"
          ]
        },
        {
          "name": "stderr",
          "output_type": "stream",
          "text": [
            " 60%|██████    | 99/165 [12:09<09:11,  8.35s/it]"
          ]
        },
        {
          "name": "stdout",
          "output_type": "stream",
          "text": [
            "----------------GAME nr.100-----------\n",
            "\n",
            "Finished game: 0022300123\n",
            "Data saved to CSV files.\n"
          ]
        },
        {
          "name": "stderr",
          "output_type": "stream",
          "text": [
            " 61%|██████    | 100/165 [12:20<10:02,  9.27s/it]"
          ]
        },
        {
          "name": "stdout",
          "output_type": "stream",
          "text": [
            "----------------GAME nr.101-----------\n",
            "\n",
            "Finished game: 0022300116\n",
            "Data saved to CSV files.\n"
          ]
        },
        {
          "name": "stderr",
          "output_type": "stream",
          "text": [
            " 61%|██████    | 101/165 [12:28<09:23,  8.80s/it]"
          ]
        },
        {
          "name": "stdout",
          "output_type": "stream",
          "text": [
            "----------------GAME nr.102-----------\n",
            "\n",
            "Finished game: 0022300121\n",
            "Data saved to CSV files.\n"
          ]
        },
        {
          "name": "stderr",
          "output_type": "stream",
          "text": [
            " 62%|██████▏   | 102/165 [12:34<08:25,  8.03s/it]"
          ]
        },
        {
          "name": "stdout",
          "output_type": "stream",
          "text": [
            "----------------GAME nr.103-----------\n",
            "\n",
            "Finished game: 0022300115\n",
            "Data saved to CSV files.\n"
          ]
        },
        {
          "name": "stderr",
          "output_type": "stream",
          "text": [
            " 62%|██████▏   | 103/165 [12:41<07:53,  7.63s/it]"
          ]
        },
        {
          "name": "stdout",
          "output_type": "stream",
          "text": [
            "----------------GAME nr.104-----------\n",
            "\n",
            "Finished game: 0022300125\n",
            "Data saved to CSV files.\n"
          ]
        },
        {
          "name": "stderr",
          "output_type": "stream",
          "text": [
            " 63%|██████▎   | 104/165 [12:48<07:37,  7.51s/it]"
          ]
        },
        {
          "name": "stdout",
          "output_type": "stream",
          "text": [
            "----------------GAME nr.105-----------\n",
            "\n",
            "Finished game: 0022300122\n",
            "Data saved to CSV files.\n"
          ]
        },
        {
          "name": "stderr",
          "output_type": "stream",
          "text": [
            " 64%|██████▎   | 105/165 [12:55<07:15,  7.26s/it]"
          ]
        },
        {
          "name": "stdout",
          "output_type": "stream",
          "text": [
            "----------------GAME nr.106-----------\n",
            "\n",
            "Finished game: 0022300119\n",
            "Data saved to CSV files.\n"
          ]
        },
        {
          "name": "stderr",
          "output_type": "stream",
          "text": [
            " 64%|██████▍   | 106/165 [13:01<06:46,  6.90s/it]"
          ]
        },
        {
          "name": "stdout",
          "output_type": "stream",
          "text": [
            "----------------GAME nr.107-----------\n",
            "\n",
            "Finished game: 0022300120\n",
            "Data saved to CSV files.\n"
          ]
        },
        {
          "name": "stderr",
          "output_type": "stream",
          "text": [
            " 65%|██████▍   | 107/165 [13:12<07:57,  8.24s/it]"
          ]
        },
        {
          "name": "stdout",
          "output_type": "stream",
          "text": [
            "----------------GAME nr.108-----------\n",
            "\n",
            "Finished game: 0022300124\n",
            "Data saved to CSV files.\n"
          ]
        },
        {
          "name": "stderr",
          "output_type": "stream",
          "text": [
            " 65%|██████▌   | 108/165 [13:18<07:11,  7.57s/it]"
          ]
        },
        {
          "name": "stdout",
          "output_type": "stream",
          "text": [
            "----------------GAME nr.109-----------\n",
            "\n",
            "Finished game: 0022300126\n",
            "Data saved to CSV files.\n"
          ]
        },
        {
          "name": "stderr",
          "output_type": "stream",
          "text": [
            " 66%|██████▌   | 109/165 [13:24<06:36,  7.08s/it]"
          ]
        },
        {
          "name": "stdout",
          "output_type": "stream",
          "text": [
            "----------------GAME nr.110-----------\n",
            "\n",
            "Finished game: 0022300117\n",
            "Data saved to CSV files.\n"
          ]
        },
        {
          "name": "stderr",
          "output_type": "stream",
          "text": [
            " 67%|██████▋   | 110/165 [13:30<06:15,  6.84s/it]"
          ]
        },
        {
          "name": "stdout",
          "output_type": "stream",
          "text": [
            "----------------GAME nr.111-----------\n",
            "\n",
            "Finished game: 0022300127\n",
            "Data saved to CSV files.\n"
          ]
        },
        {
          "name": "stderr",
          "output_type": "stream",
          "text": [
            " 67%|██████▋   | 111/165 [13:41<07:03,  7.83s/it]"
          ]
        },
        {
          "name": "stdout",
          "output_type": "stream",
          "text": [
            "----------------GAME nr.112-----------\n",
            "\n",
            "Finished game: 0022300114\n",
            "Data saved to CSV files.\n"
          ]
        },
        {
          "name": "stderr",
          "output_type": "stream",
          "text": [
            " 68%|██████▊   | 112/165 [13:47<06:34,  7.45s/it]"
          ]
        },
        {
          "name": "stdout",
          "output_type": "stream",
          "text": [
            "----------------GAME nr.113-----------\n",
            "\n",
            "Finished game: 0022300112\n",
            "Data saved to CSV files.\n"
          ]
        },
        {
          "name": "stderr",
          "output_type": "stream",
          "text": [
            " 68%|██████▊   | 113/165 [13:54<06:20,  7.31s/it]"
          ]
        },
        {
          "name": "stdout",
          "output_type": "stream",
          "text": [
            "----------------GAME nr.114-----------\n",
            "\n",
            "Finished game: 0022300113\n",
            "Data saved to CSV files.\n"
          ]
        },
        {
          "name": "stderr",
          "output_type": "stream",
          "text": [
            " 69%|██████▉   | 114/165 [14:01<06:09,  7.25s/it]"
          ]
        },
        {
          "name": "stdout",
          "output_type": "stream",
          "text": [
            "----------------GAME nr.115-----------\n",
            "\n",
            "Finished game: 0022300102\n",
            "Data saved to CSV files.\n"
          ]
        },
        {
          "name": "stderr",
          "output_type": "stream",
          "text": [
            " 70%|██████▉   | 115/165 [14:09<06:12,  7.44s/it]"
          ]
        },
        {
          "name": "stdout",
          "output_type": "stream",
          "text": [
            "----------------GAME nr.116-----------\n",
            "\n",
            "Finished game: 0022300109\n",
            "Data saved to CSV files.\n"
          ]
        },
        {
          "name": "stderr",
          "output_type": "stream",
          "text": [
            " 70%|███████   | 116/165 [14:15<05:47,  7.09s/it]"
          ]
        },
        {
          "name": "stdout",
          "output_type": "stream",
          "text": [
            "----------------GAME nr.117-----------\n",
            "\n",
            "Finished game: 0022300110\n",
            "Data saved to CSV files.\n"
          ]
        },
        {
          "name": "stderr",
          "output_type": "stream",
          "text": [
            " 71%|███████   | 117/165 [14:23<05:40,  7.09s/it]"
          ]
        },
        {
          "name": "stdout",
          "output_type": "stream",
          "text": [
            "----------------GAME nr.118-----------\n",
            "\n",
            "Finished game: 0022300108\n",
            "Data saved to CSV files.\n"
          ]
        },
        {
          "name": "stderr",
          "output_type": "stream",
          "text": [
            " 72%|███████▏  | 118/165 [14:29<05:30,  7.04s/it]"
          ]
        },
        {
          "name": "stdout",
          "output_type": "stream",
          "text": [
            "----------------GAME nr.119-----------\n",
            "\n",
            "Finished game: 0022300103\n",
            "Data saved to CSV files.\n"
          ]
        },
        {
          "name": "stderr",
          "output_type": "stream",
          "text": [
            " 72%|███████▏  | 119/165 [14:36<05:20,  6.98s/it]"
          ]
        },
        {
          "name": "stdout",
          "output_type": "stream",
          "text": [
            "----------------GAME nr.120-----------\n",
            "\n",
            "Finished game: 0022300105\n",
            "Data saved to CSV files.\n"
          ]
        },
        {
          "name": "stderr",
          "output_type": "stream",
          "text": [
            " 73%|███████▎  | 120/165 [14:42<05:02,  6.73s/it]"
          ]
        },
        {
          "name": "stdout",
          "output_type": "stream",
          "text": [
            "----------------GAME nr.121-----------\n",
            "\n",
            "Finished game: 0022300107\n",
            "Data saved to CSV files.\n"
          ]
        },
        {
          "name": "stderr",
          "output_type": "stream",
          "text": [
            " 73%|███████▎  | 121/165 [14:49<04:56,  6.74s/it]"
          ]
        },
        {
          "name": "stdout",
          "output_type": "stream",
          "text": [
            "----------------GAME nr.122-----------\n",
            "\n",
            "Finished game: 0022300106\n",
            "Data saved to CSV files.\n"
          ]
        },
        {
          "name": "stderr",
          "output_type": "stream",
          "text": [
            " 74%|███████▍  | 122/165 [14:57<04:57,  6.93s/it]"
          ]
        },
        {
          "name": "stdout",
          "output_type": "stream",
          "text": [
            "----------------GAME nr.123-----------\n",
            "\n",
            "Finished game: 0022300111\n",
            "Data saved to CSV files.\n"
          ]
        },
        {
          "name": "stderr",
          "output_type": "stream",
          "text": [
            " 75%|███████▍  | 123/165 [15:04<05:03,  7.22s/it]"
          ]
        },
        {
          "name": "stdout",
          "output_type": "stream",
          "text": [
            "----------------GAME nr.124-----------\n",
            "\n",
            "Finished game: 0022300101\n",
            "Data saved to CSV files.\n"
          ]
        },
        {
          "name": "stderr",
          "output_type": "stream",
          "text": [
            " 75%|███████▌  | 124/165 [15:13<05:15,  7.70s/it]"
          ]
        },
        {
          "name": "stdout",
          "output_type": "stream",
          "text": [
            "----------------GAME nr.125-----------\n",
            "\n",
            "Finished game: 0022300104\n",
            "Data saved to CSV files.\n"
          ]
        },
        {
          "name": "stderr",
          "output_type": "stream",
          "text": [
            " 76%|███████▌  | 125/165 [15:19<04:47,  7.19s/it]"
          ]
        },
        {
          "name": "stdout",
          "output_type": "stream",
          "text": [
            "----------------GAME nr.126-----------\n",
            "\n",
            "Finished game: 0022300098\n",
            "Data saved to CSV files.\n"
          ]
        },
        {
          "name": "stderr",
          "output_type": "stream",
          "text": [
            " 76%|███████▋  | 126/165 [15:26<04:32,  6.99s/it]"
          ]
        },
        {
          "name": "stdout",
          "output_type": "stream",
          "text": [
            "----------------GAME nr.127-----------\n",
            "\n",
            "Finished game: 0022300100\n",
            "Data saved to CSV files.\n"
          ]
        },
        {
          "name": "stderr",
          "output_type": "stream",
          "text": [
            " 77%|███████▋  | 127/165 [15:32<04:16,  6.76s/it]"
          ]
        },
        {
          "name": "stdout",
          "output_type": "stream",
          "text": [
            "----------------GAME nr.128-----------\n",
            "\n",
            "Finished game: 0022300097\n",
            "Data saved to CSV files.\n"
          ]
        },
        {
          "name": "stderr",
          "output_type": "stream",
          "text": [
            " 78%|███████▊  | 128/165 [15:39<04:13,  6.85s/it]"
          ]
        },
        {
          "name": "stdout",
          "output_type": "stream",
          "text": [
            "----------------GAME nr.129-----------\n",
            "\n",
            "Finished game: 0022300095\n",
            "Data saved to CSV files.\n"
          ]
        },
        {
          "name": "stderr",
          "output_type": "stream",
          "text": [
            " 78%|███████▊  | 129/165 [15:52<05:09,  8.60s/it]"
          ]
        },
        {
          "name": "stdout",
          "output_type": "stream",
          "text": [
            "----------------GAME nr.130-----------\n",
            "\n",
            "Finished game: 0022300099\n",
            "Data saved to CSV files.\n"
          ]
        },
        {
          "name": "stderr",
          "output_type": "stream",
          "text": [
            " 79%|███████▉  | 130/165 [15:58<04:37,  7.92s/it]"
          ]
        },
        {
          "name": "stdout",
          "output_type": "stream",
          "text": [
            "----------------GAME nr.131-----------\n",
            "\n",
            "Finished game: 0022300096\n",
            "Data saved to CSV files.\n"
          ]
        },
        {
          "name": "stderr",
          "output_type": "stream",
          "text": [
            " 79%|███████▉  | 131/165 [16:05<04:14,  7.48s/it]"
          ]
        },
        {
          "name": "stdout",
          "output_type": "stream",
          "text": [
            "----------------GAME nr.132-----------\n",
            "\n",
            "Finished game: 0022300094\n",
            "Data saved to CSV files.\n"
          ]
        },
        {
          "name": "stderr",
          "output_type": "stream",
          "text": [
            " 80%|████████  | 132/165 [16:11<03:59,  7.26s/it]"
          ]
        },
        {
          "name": "stdout",
          "output_type": "stream",
          "text": [
            "----------------GAME nr.133-----------\n",
            "\n",
            "Finished game: 0022300090\n",
            "Data saved to CSV files.\n"
          ]
        },
        {
          "name": "stderr",
          "output_type": "stream",
          "text": [
            " 81%|████████  | 133/165 [16:18<03:47,  7.11s/it]"
          ]
        },
        {
          "name": "stdout",
          "output_type": "stream",
          "text": [
            "----------------GAME nr.134-----------\n",
            "\n",
            "Finished game: 0022300093\n",
            "Data saved to CSV files.\n"
          ]
        },
        {
          "name": "stderr",
          "output_type": "stream",
          "text": [
            " 81%|████████  | 134/165 [16:25<03:38,  7.05s/it]"
          ]
        },
        {
          "name": "stdout",
          "output_type": "stream",
          "text": [
            "----------------GAME nr.135-----------\n",
            "\n",
            "Finished game: 0022300092\n",
            "Data saved to CSV files.\n"
          ]
        },
        {
          "name": "stderr",
          "output_type": "stream",
          "text": [
            " 82%|████████▏ | 135/165 [16:32<03:28,  6.95s/it]"
          ]
        },
        {
          "name": "stdout",
          "output_type": "stream",
          "text": [
            "----------------GAME nr.136-----------\n",
            "\n",
            "Finished game: 0022300091\n",
            "Data saved to CSV files.\n"
          ]
        },
        {
          "name": "stderr",
          "output_type": "stream",
          "text": [
            " 82%|████████▏ | 136/165 [16:38<03:19,  6.89s/it]"
          ]
        },
        {
          "name": "stdout",
          "output_type": "stream",
          "text": [
            "----------------GAME nr.137-----------\n",
            "\n",
            "Finished game: 0022300088\n",
            "Data saved to CSV files.\n"
          ]
        },
        {
          "name": "stderr",
          "output_type": "stream",
          "text": [
            " 83%|████████▎ | 137/165 [16:45<03:08,  6.74s/it]"
          ]
        },
        {
          "name": "stdout",
          "output_type": "stream",
          "text": [
            "----------------GAME nr.138-----------\n",
            "\n",
            "Finished game: 0022300089\n",
            "Data saved to CSV files.\n"
          ]
        },
        {
          "name": "stderr",
          "output_type": "stream",
          "text": [
            " 84%|████████▎ | 138/165 [16:51<02:59,  6.66s/it]"
          ]
        },
        {
          "name": "stdout",
          "output_type": "stream",
          "text": [
            "----------------GAME nr.139-----------\n",
            "\n",
            "Finished game: 0022300077\n",
            "Data saved to CSV files.\n"
          ]
        },
        {
          "name": "stderr",
          "output_type": "stream",
          "text": [
            " 84%|████████▍ | 139/165 [16:58<02:55,  6.74s/it]"
          ]
        },
        {
          "name": "stdout",
          "output_type": "stream",
          "text": [
            "----------------GAME nr.140-----------\n",
            "\n",
            "Finished game: 0022300080\n",
            "Data saved to CSV files.\n"
          ]
        },
        {
          "name": "stderr",
          "output_type": "stream",
          "text": [
            " 85%|████████▍ | 140/165 [17:06<02:53,  6.94s/it]"
          ]
        },
        {
          "name": "stdout",
          "output_type": "stream",
          "text": [
            "----------------GAME nr.141-----------\n",
            "\n",
            "Finished game: 0022300084\n",
            "Data saved to CSV files.\n"
          ]
        },
        {
          "name": "stderr",
          "output_type": "stream",
          "text": [
            " 85%|████████▌ | 141/165 [17:12<02:44,  6.87s/it]"
          ]
        },
        {
          "name": "stdout",
          "output_type": "stream",
          "text": [
            "----------------GAME nr.142-----------\n",
            "\n",
            "Finished game: 0022300082\n",
            "Data saved to CSV files.\n"
          ]
        },
        {
          "name": "stderr",
          "output_type": "stream",
          "text": [
            " 86%|████████▌ | 142/165 [17:18<02:32,  6.64s/it]"
          ]
        },
        {
          "name": "stdout",
          "output_type": "stream",
          "text": [
            "----------------GAME nr.143-----------\n",
            "\n",
            "Finished game: 0022300087\n",
            "Data saved to CSV files.\n"
          ]
        },
        {
          "name": "stderr",
          "output_type": "stream",
          "text": [
            " 87%|████████▋ | 143/165 [17:25<02:22,  6.50s/it]"
          ]
        },
        {
          "name": "stdout",
          "output_type": "stream",
          "text": [
            "----------------GAME nr.144-----------\n",
            "\n",
            "Finished game: 0022300079\n",
            "Data saved to CSV files.\n"
          ]
        },
        {
          "name": "stderr",
          "output_type": "stream",
          "text": [
            " 87%|████████▋ | 144/165 [17:31<02:16,  6.52s/it]"
          ]
        },
        {
          "name": "stdout",
          "output_type": "stream",
          "text": [
            "----------------GAME nr.145-----------\n",
            "\n",
            "Finished game: 0022300083\n",
            "Data saved to CSV files.\n"
          ]
        },
        {
          "name": "stderr",
          "output_type": "stream",
          "text": [
            " 88%|████████▊ | 145/165 [17:39<02:15,  6.80s/it]"
          ]
        },
        {
          "name": "stdout",
          "output_type": "stream",
          "text": [
            "----------------GAME nr.146-----------\n",
            "\n",
            "Finished game: 0022300081\n",
            "Data saved to CSV files.\n"
          ]
        },
        {
          "name": "stderr",
          "output_type": "stream",
          "text": [
            " 88%|████████▊ | 146/165 [17:45<02:08,  6.78s/it]"
          ]
        },
        {
          "name": "stdout",
          "output_type": "stream",
          "text": [
            "----------------GAME nr.147-----------\n",
            "\n",
            "Finished game: 0022300086\n",
            "Data saved to CSV files.\n"
          ]
        },
        {
          "name": "stderr",
          "output_type": "stream",
          "text": [
            " 89%|████████▉ | 147/165 [17:53<02:06,  7.04s/it]"
          ]
        },
        {
          "name": "stdout",
          "output_type": "stream",
          "text": [
            "----------------GAME nr.148-----------\n",
            "\n",
            "Finished game: 0022300078\n",
            "Data saved to CSV files.\n"
          ]
        },
        {
          "name": "stderr",
          "output_type": "stream",
          "text": [
            " 90%|████████▉ | 148/165 [17:59<01:56,  6.83s/it]"
          ]
        },
        {
          "name": "stdout",
          "output_type": "stream",
          "text": [
            "----------------GAME nr.149-----------\n",
            "\n",
            "Finished game: 0022300085\n",
            "Data saved to CSV files.\n"
          ]
        },
        {
          "name": "stderr",
          "output_type": "stream",
          "text": [
            " 90%|█████████ | 149/165 [18:08<01:58,  7.43s/it]"
          ]
        },
        {
          "name": "stdout",
          "output_type": "stream",
          "text": [
            "----------------GAME nr.150-----------\n",
            "\n",
            "Finished game: 0022300076\n",
            "Data saved to CSV files.\n"
          ]
        },
        {
          "name": "stderr",
          "output_type": "stream",
          "text": [
            " 91%|█████████ | 150/165 [18:15<01:47,  7.18s/it]"
          ]
        },
        {
          "name": "stdout",
          "output_type": "stream",
          "text": [
            "----------------GAME nr.151-----------\n",
            "\n",
            "Finished game: 0022300075\n",
            "Data saved to CSV files.\n"
          ]
        },
        {
          "name": "stderr",
          "output_type": "stream",
          "text": [
            " 92%|█████████▏| 151/165 [18:22<01:40,  7.21s/it]"
          ]
        },
        {
          "name": "stdout",
          "output_type": "stream",
          "text": [
            "----------------GAME nr.152-----------\n",
            "\n",
            "Finished game: 0022300068\n",
            "Data saved to CSV files.\n"
          ]
        },
        {
          "name": "stderr",
          "output_type": "stream",
          "text": [
            " 92%|█████████▏| 152/165 [18:28<01:29,  6.86s/it]"
          ]
        },
        {
          "name": "stdout",
          "output_type": "stream",
          "text": [
            "----------------GAME nr.153-----------\n",
            "\n",
            "Finished game: 0022300070\n",
            "Data saved to CSV files.\n"
          ]
        },
        {
          "name": "stderr",
          "output_type": "stream",
          "text": [
            " 93%|█████████▎| 153/165 [18:35<01:21,  6.82s/it]"
          ]
        },
        {
          "name": "stdout",
          "output_type": "stream",
          "text": [
            "----------------GAME nr.154-----------\n",
            "\n",
            "Finished game: 0022300065\n",
            "Data saved to CSV files.\n"
          ]
        },
        {
          "name": "stderr",
          "output_type": "stream",
          "text": [
            " 93%|█████████▎| 154/165 [18:42<01:15,  6.87s/it]"
          ]
        },
        {
          "name": "stdout",
          "output_type": "stream",
          "text": [
            "----------------GAME nr.155-----------\n",
            "\n",
            "Finished game: 0022300067\n",
            "Data saved to CSV files.\n"
          ]
        },
        {
          "name": "stderr",
          "output_type": "stream",
          "text": [
            " 94%|█████████▍| 155/165 [18:48<01:05,  6.54s/it]"
          ]
        },
        {
          "name": "stdout",
          "output_type": "stream",
          "text": [
            "----------------GAME nr.156-----------\n",
            "\n",
            "Finished game: 0022300063\n",
            "Data saved to CSV files.\n"
          ]
        },
        {
          "name": "stderr",
          "output_type": "stream",
          "text": [
            " 95%|█████████▍| 156/165 [18:54<00:57,  6.42s/it]"
          ]
        },
        {
          "name": "stdout",
          "output_type": "stream",
          "text": [
            "----------------GAME nr.157-----------\n",
            "\n",
            "Finished game: 0022300069\n",
            "Data saved to CSV files.\n"
          ]
        },
        {
          "name": "stderr",
          "output_type": "stream",
          "text": [
            " 95%|█████████▌| 157/165 [19:00<00:51,  6.45s/it]"
          ]
        },
        {
          "name": "stdout",
          "output_type": "stream",
          "text": [
            "----------------GAME nr.158-----------\n",
            "\n",
            "Finished game: 0022300072\n",
            "Data saved to CSV files.\n"
          ]
        },
        {
          "name": "stderr",
          "output_type": "stream",
          "text": [
            " 96%|█████████▌| 158/165 [19:06<00:44,  6.38s/it]"
          ]
        },
        {
          "name": "stdout",
          "output_type": "stream",
          "text": [
            "----------------GAME nr.159-----------\n",
            "\n",
            "Finished game: 0022300071\n",
            "Data saved to CSV files.\n"
          ]
        },
        {
          "name": "stderr",
          "output_type": "stream",
          "text": [
            " 96%|█████████▋| 159/165 [19:13<00:37,  6.30s/it]"
          ]
        },
        {
          "name": "stdout",
          "output_type": "stream",
          "text": [
            "----------------GAME nr.160-----------\n",
            "\n",
            "Finished game: 0022300064\n",
            "Data saved to CSV files.\n"
          ]
        },
        {
          "name": "stderr",
          "output_type": "stream",
          "text": [
            " 97%|█████████▋| 160/165 [19:19<00:31,  6.23s/it]"
          ]
        },
        {
          "name": "stdout",
          "output_type": "stream",
          "text": [
            "----------------GAME nr.161-----------\n",
            "\n",
            "Finished game: 0022300074\n",
            "Data saved to CSV files.\n"
          ]
        },
        {
          "name": "stderr",
          "output_type": "stream",
          "text": [
            " 98%|█████████▊| 161/165 [19:25<00:25,  6.28s/it]"
          ]
        },
        {
          "name": "stdout",
          "output_type": "stream",
          "text": [
            "----------------GAME nr.162-----------\n",
            "\n",
            "Finished game: 0022300066\n",
            "Data saved to CSV files.\n"
          ]
        },
        {
          "name": "stderr",
          "output_type": "stream",
          "text": [
            " 98%|█████████▊| 162/165 [19:32<00:19,  6.34s/it]"
          ]
        },
        {
          "name": "stdout",
          "output_type": "stream",
          "text": [
            "----------------GAME nr.163-----------\n",
            "\n",
            "Finished game: 0022300073\n",
            "Data saved to CSV files.\n"
          ]
        },
        {
          "name": "stderr",
          "output_type": "stream",
          "text": [
            " 99%|█████████▉| 163/165 [19:38<00:12,  6.37s/it]"
          ]
        },
        {
          "name": "stdout",
          "output_type": "stream",
          "text": [
            "----------------GAME nr.164-----------\n",
            "\n",
            "Finished game: 0022300062\n",
            "Data saved to CSV files.\n"
          ]
        },
        {
          "name": "stderr",
          "output_type": "stream",
          "text": [
            " 99%|█████████▉| 164/165 [19:45<00:06,  6.52s/it]"
          ]
        },
        {
          "name": "stdout",
          "output_type": "stream",
          "text": [
            "----------------GAME nr.165-----------\n",
            "\n",
            "Finished game: 0022300061\n",
            "Data saved to CSV files.\n"
          ]
        },
        {
          "name": "stderr",
          "output_type": "stream",
          "text": [
            "100%|██████████| 165/165 [19:50<00:00,  7.22s/it]\n"
          ]
        }
      ],
      "source": [
        "# Store all results\n",
        "all_lineup_vs_lineup = []\n",
        "all_player_stats = []\n",
        "nr = 1\n",
        "for game_id in tqdm(missing_game_ids):\n",
        "    try:\n",
        "        # --- Load game data ---\n",
        "        print(f\"----------------GAME nr.{nr}-----------\\n\")\n",
        "        nr += 1\n",
        "\n",
        "        pbp = PlayByPlayV2(game_id=game_id).get_data_frames()[0]\n",
        "        box = BoxScoreTraditionalV2(game_id=game_id).get_data_frames()[0]\n",
        "        summary = BoxScoreSummaryV2(game_id=game_id).get_data_frames()[0]\n",
        "\n",
        "        home_team_id = int(summary['HOME_TEAM_ID'][0])\n",
        "        away_team_id = int(summary['VISITOR_TEAM_ID'][0])\n",
        "\n",
        "        starters_df = box[box['START_POSITION'] != '']\n",
        "        starters_by_team = starters_df.groupby('TEAM_ID')['PLAYER_NAME'].apply(list).to_dict()\n",
        "\n",
        "        current_lineups = {\n",
        "            home_team_id: starters_by_team.get(home_team_id, [])[:],\n",
        "            away_team_id: starters_by_team.get(away_team_id, [])[:]\n",
        "        }\n",
        "\n",
        "        # --- Build lineup_df ---\n",
        "        important_event_types = list(range(1, 14))\n",
        "        lineup_timeline = []\n",
        "\n",
        "        for _, row in pbp.iterrows():\n",
        "            event_type = row['EVENTMSGTYPE']\n",
        "            home_desc = str(row['HOMEDESCRIPTION']) if pd.notna(row['HOMEDESCRIPTION']) else ''\n",
        "            away_desc = str(row['VISITORDESCRIPTION']) if pd.notna(row['VISITORDESCRIPTION']) else ''\n",
        "\n",
        "            if event_type == 8:\n",
        "                out_player = row['PLAYER1_NAME']\n",
        "                in_player = row['PLAYER2_NAME']\n",
        "                team_id = row['PLAYER1_TEAM_ID'] if pd.notna(row['PLAYER1_TEAM_ID']) else row['PLAYER2_TEAM_ID']\n",
        "                team_id = int(team_id) if pd.notna(team_id) else None\n",
        "\n",
        "                if team_id in current_lineups:\n",
        "                    if out_player in current_lineups[team_id]:\n",
        "                        current_lineups[team_id].remove(out_player)\n",
        "                    if in_player not in current_lineups[team_id]:\n",
        "                        current_lineups[team_id].append(in_player)\n",
        "\n",
        "            if event_type in important_event_types:\n",
        "                lineup_timeline.append({\n",
        "                    'EVENTNUM': row['EVENTNUM'],\n",
        "                    'PERIOD': row['PERIOD'],\n",
        "                    'TIME': row['PCTIMESTRING'],\n",
        "                    'EVENT_TYPE': event_type,\n",
        "                    'SCORE': row['SCORE'],\n",
        "                    'HOME_DESCRIPTION': home_desc,\n",
        "                    'AWAY_DESCRIPTION': away_desc,\n",
        "                    'HOME_LINEUP': current_lineups[home_team_id][:],\n",
        "                    'AWAY_LINEUP': current_lineups[away_team_id][:],\n",
        "                    'PLAYER1_NAME': row['PLAYER1_NAME'],\n",
        "                    'PLAYER2_NAME': row['PLAYER2_NAME'],\n",
        "                    'PLAYER3_NAME': row['PLAYER3_NAME']\n",
        "                })\n",
        "\n",
        "        lineup_df = pd.DataFrame(lineup_timeline)\n",
        "\n",
        "        # --- Build lineup segments ---\n",
        "        lineup_segments = []\n",
        "        segment = None\n",
        "        prev_home = None\n",
        "        prev_away = None\n",
        "        last_shot_team = None\n",
        "        SKIP_KEYWORDS = ['SUB', 'Jump Ball', 'Delay', 'Offensive', 'Timeout', 'Rebound']\n",
        "\n",
        "        for _, row in lineup_df.iterrows():\n",
        "            home_lineup = tuple(sorted(row['HOME_LINEUP']))\n",
        "            away_lineup = tuple(sorted(row['AWAY_LINEUP']))\n",
        "\n",
        "            if segment is None or home_lineup != prev_home or away_lineup != prev_away:\n",
        "                if segment:\n",
        "                    segment['end_event'] = row['EVENTNUM']\n",
        "                    segment['end_time'] = row['TIME']\n",
        "                    lineup_segments.append(segment)\n",
        "                segment = {\n",
        "                    'home_lineup': home_lineup,\n",
        "                    'away_lineup': away_lineup,\n",
        "                    'start_event': row['EVENTNUM'],\n",
        "                    'start_time': row['TIME'],\n",
        "                    'period': row['PERIOD'],\n",
        "                    'team_stats': {'home': defaultdict(int), 'away': defaultdict(int)},\n",
        "                    'player_stats': defaultdict(lambda: defaultdict(int)),\n",
        "                    'events': []\n",
        "                }\n",
        "                prev_home = home_lineup\n",
        "                prev_away = away_lineup\n",
        "\n",
        "            segment['events'].append({\n",
        "                'EVENTNUM': row['EVENTNUM'],\n",
        "                'TIME': row['TIME'],\n",
        "                'HOME_DESCRIPTION': row['HOME_DESCRIPTION'],\n",
        "                'AWAY_DESCRIPTION': row['AWAY_DESCRIPTION']\n",
        "            })\n",
        "\n",
        "            for team_side, desc in [('home', row['HOME_DESCRIPTION']), ('away', row['AWAY_DESCRIPTION'])]:\n",
        "                if not desc or any(skip_word in desc for skip_word in SKIP_KEYWORDS):\n",
        "                    continue\n",
        "\n",
        "                lineup = segment[f'{team_side}_lineup']\n",
        "                players_on_court = set(lineup)\n",
        "\n",
        "                def inc(stat, players, value=1):\n",
        "                    segment['team_stats'][team_side][stat] += value\n",
        "                    for p in players:\n",
        "                        if p in players_on_court:\n",
        "                            segment['player_stats'][p][stat] += value\n",
        "\n",
        "                players = [p for p in [row['PLAYER1_NAME'], row['PLAYER2_NAME'], row['PLAYER3_NAME']]\n",
        "                           if isinstance(p, str) and p in players_on_court]\n",
        "\n",
        "                if '3PT' in desc and 'MISS' not in desc:\n",
        "                    inc('3pt_made', [row['PLAYER1_NAME']])\n",
        "                    inc('points', [row['PLAYER1_NAME']], value=3)\n",
        "                elif 'Free Throw' in desc and 'MISS' not in desc:\n",
        "                    inc('ft_made', [row['PLAYER1_NAME']])\n",
        "                    inc('points', [row['PLAYER1_NAME']], value=1)\n",
        "                elif 'MISS' not in desc and any(kw in desc for kw in ['Fadeaway', 'Dunk', 'Layup', 'Jump Shot', 'Hook Shot']):\n",
        "                    inc('2pt_made', [row['PLAYER1_NAME']])\n",
        "                    inc('points', [row['PLAYER1_NAME']], value=2)\n",
        "                elif 'MISS' in desc:\n",
        "                    last_shot_team = team_side\n",
        "\n",
        "                if 'AST' in desc: inc('assists', [row['PLAYER2_NAME']])\n",
        "                if 'Turnover' in desc: inc('turnovers', [row['PLAYER1_NAME']])\n",
        "                if 'STL' in desc: inc('steals', [row['PLAYER2_NAME']])\n",
        "                if 'BLK' in desc: inc('blocks', [row['PLAYER2_NAME']])\n",
        "                if '.FOUL' in desc: inc('fouls', [row['PLAYER1_NAME']])\n",
        "\n",
        "                if 'REBOUND' in desc:\n",
        "                    rebounder = row['PLAYER1_NAME']\n",
        "                    if last_shot_team:\n",
        "                        if team_side == last_shot_team:\n",
        "                            inc('off_rebounds', [rebounder])\n",
        "                        else:\n",
        "                            inc('def_rebounds', [rebounder])\n",
        "                        last_shot_team = None\n",
        "\n",
        "        if segment:\n",
        "            segment['end_event'] = row['EVENTNUM']\n",
        "            segment['end_time'] = row['TIME']\n",
        "            lineup_segments.append(segment)\n",
        "\n",
        "        # --- Build lineup_vs_lineup_df ---\n",
        "        for seg in lineup_segments:\n",
        "            row = {\n",
        "                'game_id': game_id,\n",
        "                'period': seg['period'],\n",
        "                'start_event': seg['start_event'],\n",
        "                'end_event': seg['end_event'],\n",
        "                'start_time': seg['start_time'],\n",
        "                'end_time': seg['end_time'],\n",
        "                'home_lineup': seg['home_lineup'],\n",
        "                'away_lineup': seg['away_lineup'],\n",
        "            }\n",
        "            for team in ['home', 'away']:\n",
        "                for stat, value in seg['team_stats'][team].items():\n",
        "                    row[f'{team}_{stat}'] = value\n",
        "            row['duration'] = compute_duration(row)\n",
        "            all_lineup_vs_lineup.append(row)\n",
        "\n",
        "        # --- Build player_stats_df ---\n",
        "        for seg in lineup_segments:\n",
        "            for player_name, stats in seg['player_stats'].items():\n",
        "                row = {\n",
        "                    'game_id': game_id,\n",
        "                    'player': player_name,\n",
        "                    'period': seg['period'],\n",
        "                    'start_event': seg['start_event'],\n",
        "                    'end_event': seg['end_event'],\n",
        "                    'start_time': seg['start_time'],\n",
        "                    'end_time': seg['end_time'],\n",
        "                    'home_lineup': seg['home_lineup'],\n",
        "                    'away_lineup': seg['away_lineup'],\n",
        "                }\n",
        "                for stat, value in stats.items():\n",
        "                    row[stat] = value\n",
        "                all_player_stats.append(row)\n",
        "\n",
        "        print(f\"Finished game: {game_id}\")\n",
        "        \n",
        "        # Convert to DataFrame\n",
        "        lineup_vs_lineup_df = pd.DataFrame(all_lineup_vs_lineup)\n",
        "        player_stats_df = pd.DataFrame(all_player_stats)\n",
        "\n",
        "        # Concatenate with previous data\n",
        "        lineup_vs_lineup_df = pd.concat([previous_lineup_vs_lineup_df, lineup_vs_lineup_df], ignore_index=True)\n",
        "        player_stats_df = pd.concat([previous_player_stats_df, player_stats_df], ignore_index=True)\n",
        "\n",
        "        # Save to CSV\n",
        "        lineup_vs_lineup_df.to_csv('lineup_vs_lineup.csv', index=False)\n",
        "        player_stats_df.to_csv('player_stats.csv', index=False)\n",
        "        print(\"Data saved to CSV files.\")\n",
        "\n",
        "        # Respect rate limits\n",
        "        time.sleep(1)\n",
        "\n",
        "    except Exception as e:\n",
        "        print(f\"Failed on game {game_id}: {e}\")\n",
        "        continue"
      ]
    }
  ],
  "metadata": {
    "colab": {
      "provenance": []
    },
    "kernelspec": {
      "display_name": ".venv",
      "language": "python",
      "name": "python3"
    },
    "language_info": {
      "codemirror_mode": {
        "name": "ipython",
        "version": 3
      },
      "file_extension": ".py",
      "mimetype": "text/x-python",
      "name": "python",
      "nbconvert_exporter": "python",
      "pygments_lexer": "ipython3",
      "version": "3.11.9"
    }
  },
  "nbformat": 4,
  "nbformat_minor": 0
}
