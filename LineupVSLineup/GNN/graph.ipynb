{
 "cells": [
  {
   "cell_type": "code",
   "execution_count": 54,
   "id": "d7f701b2",
   "metadata": {},
   "outputs": [],
   "source": [
    "# %pip install torch torch_geometric pytorch_lightning wandb scikit-learn"
   ]
  },
  {
   "cell_type": "code",
   "execution_count": 55,
   "id": "6e26f5d0",
   "metadata": {},
   "outputs": [],
   "source": [
    "import torch\n",
    "from torch_geometric.data import Data\n",
    "import pandas as pd\n",
    "import wandb\n",
    "from sklearn.preprocessing import MultiLabelBinarizer\n",
    "import ast"
   ]
  },
  {
   "cell_type": "markdown",
   "id": "f40255f3",
   "metadata": {},
   "source": [
    "# Load the data"
   ]
  },
  {
   "cell_type": "code",
   "execution_count": 111,
   "id": "bf4c6c9d",
   "metadata": {},
   "outputs": [],
   "source": [
    "df = pd.read_csv('../get_lineup_target_score/nba_with_lineup_score.csv')"
   ]
  },
  {
   "cell_type": "code",
   "execution_count": 112,
   "id": "1d0a841f",
   "metadata": {},
   "outputs": [
    {
     "data": {
      "text/plain": [
       "112860"
      ]
     },
     "execution_count": 112,
     "metadata": {},
     "output_type": "execute_result"
    }
   ],
   "source": [
    "df.size"
   ]
  },
  {
   "cell_type": "code",
   "execution_count": 113,
   "id": "e808a492",
   "metadata": {},
   "outputs": [],
   "source": [
    "df.dropna(subset=['net_score'], inplace=True)"
   ]
  },
  {
   "cell_type": "code",
   "execution_count": 114,
   "id": "083650d0",
   "metadata": {},
   "outputs": [
    {
     "data": {
      "text/plain": [
       "91808"
      ]
     },
     "execution_count": 114,
     "metadata": {},
     "output_type": "execute_result"
    }
   ],
   "source": [
    "df.size"
   ]
  },
  {
   "cell_type": "code",
   "execution_count": 86,
   "id": "821c6984",
   "metadata": {},
   "outputs": [
    {
     "name": "stdout",
     "output_type": "stream",
     "text": [
      "Data(x=[1990, 656], edge_index=[2, 2970], edge_attr=[2970, 1])\n"
     ]
    }
   ],
   "source": [
    "df['home_lineup'] = df['home_lineup'].apply(ast.literal_eval)\n",
    "df['away_lineup'] = df['away_lineup'].apply(ast.literal_eval)\n",
    "\n",
    "# All lineups\n",
    "all_lineups = df['home_lineup'].tolist() + df['away_lineup'].tolist()\n",
    "\n",
    "# Get unique lineups and encode them as binary vectors (each node = lineup)\n",
    "unique_lineups = list(set(tuple(lineup) for lineup in all_lineups))\n",
    "lineup2id = {lineup: idx for idx, lineup in enumerate(unique_lineups)}\n",
    "\n",
    "mlb = MultiLabelBinarizer()\n",
    "x = torch.tensor(mlb.fit_transform(unique_lineups), dtype=torch.float)  # Node features\n",
    "\n",
    "# Edges from lower to higher node id\n",
    "edge_index = []\n",
    "edge_attr = []\n",
    "\n",
    "for _, row in df.iterrows():\n",
    "    src = lineup2id[tuple(row['home_lineup'])]\n",
    "    dst = lineup2id[tuple(row['away_lineup'])]\n",
    "    \n",
    "    # Ensure edge goes from lower to higher ID\n",
    "    low, high = sorted((src, dst))\n",
    "    edge_index.append([low, high])\n",
    "    edge_attr.append([row['net_score']])\n",
    "\n",
    "edge_index = torch.tensor(edge_index, dtype=torch.long).t().contiguous()\n",
    "edge_attr = torch.tensor(edge_attr, dtype=torch.float)\n",
    "\n",
    "# Final graph\n",
    "data = Data(x=x, edge_index=edge_index, edge_attr=edge_attr)\n",
    "print(data)"
   ]
  },
  {
   "cell_type": "code",
   "execution_count": 115,
   "id": "06adb863",
   "metadata": {},
   "outputs": [],
   "source": [
    "def create_lineup_graph(df):\n",
    "    # Convert lineups to sorted tuples for consistency\n",
    "    df['home_lineup'] = df['home_lineup'].apply(lambda x: tuple(sorted(ast.literal_eval(x))))\n",
    "    df['away_lineup'] = df['away_lineup'].apply(lambda x: tuple(sorted(ast.literal_eval(x))))\n",
    "    \n",
    "    # Create unique lineup nodes\n",
    "    all_lineups = pd.concat([df['home_lineup'], df['away_lineup']]).unique()\n",
    "    lineup2idx = {lineup: idx for idx, lineup in enumerate(all_lineups)}\n",
    "    \n",
    "    # Create empty node features (required by PyG)\n",
    "    x = torch.ones(len(all_lineups), 1)  # Placeholder features\n",
    "    \n",
    "    # Create directed edges with score-based direction\n",
    "    edge_index = []\n",
    "    edge_attr = []\n",
    "    \n",
    "    for _, row in df.iterrows():\n",
    "        home = row['home_lineup']\n",
    "        away = row['away_lineup']\n",
    "        home_idx = lineup2idx[home]\n",
    "        away_idx = lineup2idx[away]\n",
    "        \n",
    "        # Determine edge direction based on normalized scores\n",
    "        if row['normalized_home_score'] > row['normalized_away_score']:\n",
    "            src, dst = home_idx, away_idx\n",
    "        else:\n",
    "            src, dst = away_idx, home_idx\n",
    "            \n",
    "        edge_index.append([src, dst])\n",
    "        edge_attr.append(abs(row['net_score']))\n",
    "    \n",
    "    edge_index = torch.tensor(edge_index, dtype=torch.long).t().contiguous()\n",
    "    edge_attr = torch.tensor(edge_attr, dtype=torch.float).unsqueeze(1)\n",
    "    \n",
    "    return Data(\n",
    "        x=x,\n",
    "        edge_index=edge_index,\n",
    "        edge_attr=edge_attr,\n",
    "        num_nodes=len(all_lineups))"
   ]
  },
  {
   "cell_type": "code",
   "execution_count": 116,
   "id": "29f55db8",
   "metadata": {},
   "outputs": [],
   "source": [
    "data = create_lineup_graph(df)"
   ]
  },
  {
   "cell_type": "code",
   "execution_count": 117,
   "id": "d3e787b2",
   "metadata": {},
   "outputs": [
    {
     "data": {
      "text/plain": [
       "Data(x=[1973, 1], edge_index=[2, 2416], edge_attr=[2416, 1], num_nodes=1973)"
      ]
     },
     "execution_count": 117,
     "metadata": {},
     "output_type": "execute_result"
    }
   ],
   "source": [
    "data"
   ]
  },
  {
   "cell_type": "markdown",
   "id": "a96ddd15",
   "metadata": {},
   "source": [
    "# GNN Model"
   ]
  },
  {
   "cell_type": "code",
   "execution_count": 118,
   "id": "71c66e5d",
   "metadata": {},
   "outputs": [],
   "source": [
    "from torch_geometric.transforms import RandomLinkSplit\n",
    "from torch_geometric.nn import GINEConv\n",
    "from torch_geometric.loader import DataLoader\n",
    "import torch.nn as nn\n",
    "import torch.nn.functional as F\n",
    "import pytorch_lightning as pl"
   ]
  },
  {
   "cell_type": "code",
   "execution_count": 119,
   "id": "9ad9056d",
   "metadata": {},
   "outputs": [],
   "source": [
    "class LineupGINE(pl.LightningModule):\n",
    "    def __init__(self, input_dim, edge_feature_dim, hidden_dim=32, lr=0.001, num_conv_layers=2, num_linear_layers=2, dropout=0.5):\n",
    "        super(LineupGINE, self).__init__()\n",
    "        self.save_hyperparameters()\n",
    "        self.lr = lr\n",
    "\n",
    "        # Convolutional layers\n",
    "        self.conv_layers = nn.ModuleList()\n",
    "        for i in range(num_conv_layers):\n",
    "            in_channels = input_dim if i == 0 else hidden_dim\n",
    "            mlp = nn.Sequential(\n",
    "                nn.Linear(in_channels, hidden_dim),\n",
    "                nn.ReLU(),\n",
    "                nn.Linear(hidden_dim, hidden_dim)\n",
    "            )\n",
    "            self.conv_layers.append(\n",
    "                GINEConv(mlp, edge_dim=edge_feature_dim)\n",
    "            )\n",
    "\n",
    "        self.dropout = nn.Dropout(dropout)\n",
    "            \n",
    "        # Decoder linear layers\n",
    "        self.decoder = self._build_decoder(hidden_dim * 2, num_linear_layers)\n",
    "\n",
    "    def _build_decoder(self, decoder_input_dim, num_layers):\n",
    "        layers = []\n",
    "        in_dim = decoder_input_dim\n",
    "        \n",
    "        for _ in range(num_layers - 1):\n",
    "            layers.append(nn.Linear(in_dim, self.hparams.hidden_dim))\n",
    "            layers.append(nn.ReLU())\n",
    "            in_dim = self.hparams.hidden_dim\n",
    "            \n",
    "        layers.append(nn.Linear(in_dim, 1))\n",
    "        return nn.Sequential(*layers)\n",
    "\n",
    "    def forward(self, data):\n",
    "        x, edge_index, edge_attr = data.x, data.edge_index, data.edge_attr\n",
    "        for conv in self.conv_layers:\n",
    "            x = conv(x, edge_index, edge_attr)\n",
    "            x = F.relu(x)\n",
    "            x = self.dropout(x)\n",
    "        \n",
    "        return x\n",
    "    \n",
    "    def training_step(self, batch, batch_idx):\n",
    "        embeddings = self(batch)\n",
    "\n",
    "        src, tgt = batch.edge_index\n",
    "        src_embeddings = embeddings[src]\n",
    "        tgt_embeddings = embeddings[tgt]\n",
    "        edge_feature_input = torch.cat([src_embeddings, tgt_embeddings], dim=1)\n",
    "\n",
    "        pred_scores = self.decoder(edge_feature_input)\n",
    "\n",
    "        print(f\"Predicted scores: {pred_scores}\")\n",
    "        print(f\"Actual scores: {batch.edge_attr}\")\n",
    "\n",
    "        loss = F.mse_loss(pred_scores, batch.edge_attr)\n",
    "        self.log('train_loss', loss, prog_bar=True, logger=True)\n",
    "        \n",
    "        return loss\n",
    "    \n",
    "    def validation_step(self, batch, batch_idx):\n",
    "        embeddings = self(batch)\n",
    "\n",
    "        src, tgt = batch.edge_index\n",
    "        src_embeddings = embeddings[src]\n",
    "        tgt_embeddings = embeddings[tgt]\n",
    "        edge_feature_input = torch.cat([src_embeddings, tgt_embeddings], dim=1)\n",
    "        pred_scores = self.decoder(edge_feature_input)\n",
    "        loss = F.mse_loss(pred_scores, batch.edge_attr)\n",
    "        self.log('val_loss', loss, prog_bar=True, logger=True)\n",
    "        return loss\n",
    "    \n",
    "    def test_step(self, batch, batch_idx):\n",
    "        embeddings = self(batch)\n",
    "\n",
    "        src, tgt = batch.edge_index\n",
    "        src_embeddings = embeddings[src]\n",
    "        tgt_embeddings = embeddings[tgt]\n",
    "        edge_feature_input = torch.cat([src_embeddings, tgt_embeddings], dim=1)\n",
    "        pred_scores = self.decoder(edge_feature_input)\n",
    "        loss = F.mse_loss(pred_scores, batch.edge_attr)\n",
    "        self.log('test_loss', loss, prog_bar=True, logger=True)\n",
    "        return loss\n",
    "    \n",
    "    def configure_optimizers(self):\n",
    "        return torch.optim.Adam(self.parameters(), lr=self.lr)\n"
   ]
  },
  {
   "cell_type": "code",
   "execution_count": 120,
   "id": "dba22331",
   "metadata": {},
   "outputs": [],
   "source": [
    "batch_size = 32\n",
    "train_data, val_data, test_data = RandomLinkSplit(num_val=0.1, num_test=0.1)(data)\n",
    "train_loader = DataLoader([train_data], batch_size=batch_size, shuffle=True)\n",
    "val_loader = DataLoader([val_data], batch_size=batch_size, shuffle=False)\n",
    "test_loader = DataLoader([test_data], batch_size=batch_size, shuffle=False)"
   ]
  },
  {
   "cell_type": "code",
   "execution_count": 121,
   "id": "7715819b",
   "metadata": {},
   "outputs": [],
   "source": [
    "sweep_config = {\n",
    "    'method': 'bayes',  # bayes, grid, or random\n",
    "    'metric': {\n",
    "        'name': 'val_loss',\n",
    "        'goal': 'minimize'   \n",
    "    },\n",
    "    'parameters': {\n",
    "        'hidden_dim': {\n",
    "            'values': [32, 64, 128]\n",
    "        },\n",
    "        'num_conv_layers': {\n",
    "            'values': [2, 3, 4]\n",
    "        },\n",
    "        'num_linear_layers': {\n",
    "            'values': [1, 2, 3]\n",
    "        },\n",
    "        'lr': {\n",
    "            'distribution': 'log_uniform',\n",
    "            'min': 1e-4,\n",
    "            'max': 1e-2\n",
    "        },\n",
    "        'dropout': {\n",
    "            'values': [0.0, 0.2, 0.4]\n",
    "        }\n",
    "    }\n",
    "}"
   ]
  },
  {
   "cell_type": "code",
   "execution_count": 122,
   "id": "f6d64040",
   "metadata": {},
   "outputs": [],
   "source": [
    "def train_sweep():\n",
    "    with wandb.init() as run:\n",
    "        config = wandb.config\n",
    "        model = LineupGINE(\n",
    "            input_dim=10,  # Number of features per lineup\n",
    "            edge_feature_dim=1,  # Number of features per edge (e.g., score difference)\n",
    "            hidden_dim=config.hidden_dim,\n",
    "            lr=config.lr,\n",
    "            num_conv_layers=config.num_conv_layers,\n",
    "            num_linear_layers=config.num_linear_layers,\n",
    "            dropout=config.dropout\n",
    "        )\n",
    "\n",
    "        trainer = pl.Trainer(\n",
    "            max_epochs=50,\n",
    "            logger=pl.loggers.WandbLogger(),\n",
    "            callbacks=[\n",
    "                pl.callbacks.EarlyStopping(monitor='val_loss', patience=10),\n",
    "                pl.callbacks.ModelCheckpoint(monitor='val_loss')\n",
    "            ]\n",
    "        )\n",
    "        trainer.fit(model, train_loader, val_loader)\n",
    "        trainer.test(model, test_loader)\n",
    "        wandb.finish()"
   ]
  },
  {
   "cell_type": "code",
   "execution_count": 123,
   "id": "b88dc6a7",
   "metadata": {},
   "outputs": [
    {
     "name": "stderr",
     "output_type": "stream",
     "text": [
      "You are using the plain ModelCheckpoint callback. Consider using LitModelCheckpoint which with seamless uploading to Model registry.\n",
      "GPU available: False, used: False\n",
      "TPU available: False, using: 0 TPU cores\n",
      "HPU available: False, using: 0 HPUs\n",
      "\n",
      "  | Name        | Type       | Params | Mode \n",
      "---------------------------------------------------\n",
      "0 | conv_layers | ModuleList | 3.6 K  | train\n",
      "1 | dropout     | Dropout    | 0      | train\n",
      "2 | decoder     | Sequential | 2.1 K  | train\n",
      "---------------------------------------------------\n",
      "5.7 K     Trainable params\n",
      "0         Non-trainable params\n",
      "5.7 K     Total params\n",
      "0.023     Total estimated model params size (MB)\n",
      "20        Modules in train mode\n",
      "0         Modules in eval mode\n"
     ]
    },
    {
     "name": "stdout",
     "output_type": "stream",
     "text": [
      "                                                                           "
     ]
    },
    {
     "name": "stderr",
     "output_type": "stream",
     "text": [
      "c:\\Users\\rokaa\\egyetem\\basketball_lineup_analysis\\.venv\\lib\\site-packages\\pytorch_lightning\\trainer\\connectors\\data_connector.py:425: The 'val_dataloader' does not have many workers which may be a bottleneck. Consider increasing the value of the `num_workers` argument` to `num_workers=7` in the `DataLoader` to improve performance.\n",
      "c:\\Users\\rokaa\\egyetem\\basketball_lineup_analysis\\.venv\\lib\\site-packages\\pytorch_lightning\\utilities\\data.py:79: Trying to infer the `batch_size` from an ambiguous collection. The batch size we found is 1973. To avoid any miscalculations, use `self.log(..., batch_size=batch_size)`.\n",
      "c:\\Users\\rokaa\\egyetem\\basketball_lineup_analysis\\.venv\\lib\\site-packages\\pytorch_lightning\\trainer\\connectors\\data_connector.py:425: The 'train_dataloader' does not have many workers which may be a bottleneck. Consider increasing the value of the `num_workers` argument` to `num_workers=7` in the `DataLoader` to improve performance.\n",
      "c:\\Users\\rokaa\\egyetem\\basketball_lineup_analysis\\.venv\\lib\\site-packages\\pytorch_lightning\\loops\\fit_loop.py:310: The number of training batches (1) is smaller than the logging interval Trainer(log_every_n_steps=50). Set a lower value for log_every_n_steps if you want to see logs for the training epoch.\n"
     ]
    },
    {
     "name": "stdout",
     "output_type": "stream",
     "text": [
      "Epoch 0:   0%|          | 0/1 [00:00<?, ?it/s] Predicted scores: tensor([[ 0.1084],\n",
      "        [-0.0343],\n",
      "        [ 0.0463],\n",
      "        ...,\n",
      "        [ 0.0119],\n",
      "        [-0.0467],\n",
      "        [ 0.0262]], grad_fn=<AddmmBackward0>)\n",
      "Actual scores: tensor([[0.0000],\n",
      "        [0.0319],\n",
      "        [0.1154],\n",
      "        ...,\n",
      "        [0.1500],\n",
      "        [0.0786],\n",
      "        [0.0036]])\n",
      "Epoch 1:   0%|          | 0/1 [00:00<?, ?it/s, v_num=18, train_loss=nan.0, val_loss=nan.0]        Predicted scores: tensor([[nan],\n",
      "        [nan],\n",
      "        [nan],\n",
      "        ...,\n",
      "        [nan],\n",
      "        [nan],\n",
      "        [nan]], grad_fn=<AddmmBackward0>)\n",
      "Actual scores: tensor([[0.0000],\n",
      "        [0.0319],\n",
      "        [0.1154],\n",
      "        ...,\n",
      "        [0.1500],\n",
      "        [0.0786],\n",
      "        [0.0036]])\n",
      "Epoch 2:   0%|          | 0/1 [00:00<?, ?it/s, v_num=18, train_loss=nan.0, val_loss=nan.0]        Predicted scores: tensor([[nan],\n",
      "        [nan],\n",
      "        [nan],\n",
      "        ...,\n",
      "        [nan],\n",
      "        [nan],\n",
      "        [nan]], grad_fn=<AddmmBackward0>)\n",
      "Actual scores: tensor([[0.0000],\n",
      "        [0.0319],\n",
      "        [0.1154],\n",
      "        ...,\n",
      "        [0.1500],\n",
      "        [0.0786],\n",
      "        [0.0036]])\n",
      "Epoch 3:   0%|          | 0/1 [00:00<?, ?it/s, v_num=18, train_loss=nan.0, val_loss=nan.0]        Predicted scores: tensor([[nan],\n",
      "        [nan],\n",
      "        [nan],\n",
      "        ...,\n",
      "        [nan],\n",
      "        [nan],\n",
      "        [nan]], grad_fn=<AddmmBackward0>)\n",
      "Actual scores: tensor([[0.0000],\n",
      "        [0.0319],\n",
      "        [0.1154],\n",
      "        ...,\n",
      "        [0.1500],\n",
      "        [0.0786],\n",
      "        [0.0036]])\n",
      "Epoch 4:   0%|          | 0/1 [00:00<?, ?it/s, v_num=18, train_loss=nan.0, val_loss=nan.0]        Predicted scores: tensor([[nan],\n",
      "        [nan],\n",
      "        [nan],\n",
      "        ...,\n",
      "        [nan],\n",
      "        [nan],\n",
      "        [nan]], grad_fn=<AddmmBackward0>)\n",
      "Actual scores: tensor([[0.0000],\n",
      "        [0.0319],\n",
      "        [0.1154],\n",
      "        ...,\n",
      "        [0.1500],\n",
      "        [0.0786],\n",
      "        [0.0036]])\n",
      "Epoch 5:   0%|          | 0/1 [00:00<?, ?it/s, v_num=18, train_loss=nan.0, val_loss=nan.0]        Predicted scores: tensor([[nan],\n",
      "        [nan],\n",
      "        [nan],\n",
      "        ...,\n",
      "        [nan],\n",
      "        [nan],\n",
      "        [nan]], grad_fn=<AddmmBackward0>)\n",
      "Actual scores: tensor([[0.0000],\n",
      "        [0.0319],\n",
      "        [0.1154],\n",
      "        ...,\n",
      "        [0.1500],\n",
      "        [0.0786],\n",
      "        [0.0036]])\n",
      "Epoch 6:   0%|          | 0/1 [00:00<?, ?it/s, v_num=18, train_loss=nan.0, val_loss=nan.0]        Predicted scores: tensor([[nan],\n",
      "        [nan],\n",
      "        [nan],\n",
      "        ...,\n",
      "        [nan],\n",
      "        [nan],\n",
      "        [nan]], grad_fn=<AddmmBackward0>)\n",
      "Actual scores: tensor([[0.0000],\n",
      "        [0.0319],\n",
      "        [0.1154],\n",
      "        ...,\n",
      "        [0.1500],\n",
      "        [0.0786],\n",
      "        [0.0036]])\n",
      "Epoch 7:   0%|          | 0/1 [00:00<?, ?it/s, v_num=18, train_loss=nan.0, val_loss=nan.0]        Predicted scores: tensor([[nan],\n",
      "        [nan],\n",
      "        [nan],\n",
      "        ...,\n",
      "        [nan],\n",
      "        [nan],\n",
      "        [nan]], grad_fn=<AddmmBackward0>)\n",
      "Actual scores: tensor([[0.0000],\n",
      "        [0.0319],\n",
      "        [0.1154],\n",
      "        ...,\n",
      "        [0.1500],\n",
      "        [0.0786],\n",
      "        [0.0036]])\n",
      "Epoch 8:   0%|          | 0/1 [00:00<?, ?it/s, v_num=18, train_loss=nan.0, val_loss=nan.0]        Predicted scores: tensor([[nan],\n",
      "        [nan],\n",
      "        [nan],\n",
      "        ...,\n",
      "        [nan],\n",
      "        [nan],\n",
      "        [nan]], grad_fn=<AddmmBackward0>)\n",
      "Actual scores: tensor([[0.0000],\n",
      "        [0.0319],\n",
      "        [0.1154],\n",
      "        ...,\n",
      "        [0.1500],\n",
      "        [0.0786],\n",
      "        [0.0036]])\n",
      "Epoch 9:   0%|          | 0/1 [00:00<?, ?it/s, v_num=18, train_loss=nan.0, val_loss=nan.0]        Predicted scores: tensor([[nan],\n",
      "        [nan],\n",
      "        [nan],\n",
      "        ...,\n",
      "        [nan],\n",
      "        [nan],\n",
      "        [nan]], grad_fn=<AddmmBackward0>)\n",
      "Actual scores: tensor([[0.0000],\n",
      "        [0.0319],\n",
      "        [0.1154],\n",
      "        ...,\n",
      "        [0.1500],\n",
      "        [0.0786],\n",
      "        [0.0036]])\n",
      "Epoch 9: 100%|██████████| 1/1 [00:00<00:00,  9.16it/s, v_num=18, train_loss=nan.0, val_loss=nan.0]"
     ]
    },
    {
     "name": "stderr",
     "output_type": "stream",
     "text": [
      "`Trainer.fit` stopped: `max_epochs=10` reached.\n"
     ]
    },
    {
     "name": "stdout",
     "output_type": "stream",
     "text": [
      "Epoch 9: 100%|██████████| 1/1 [00:00<00:00,  7.74it/s, v_num=18, train_loss=nan.0, val_loss=nan.0]\n"
     ]
    }
   ],
   "source": [
    "model = LineupGINE(\n",
    "    input_dim=10,  # Number of features per node\n",
    "    edge_feature_dim=1,  # Number of features per edge\n",
    "    hidden_dim=32,\n",
    "    lr=0.001,\n",
    "    num_conv_layers=2,\n",
    "    num_linear_layers=2\n",
    ")\n",
    "\n",
    "trainer = pl.Trainer(\n",
    "    max_epochs=10\n",
    ")\n",
    "\n",
    "trainer.fit(model, train_loader, val_loader)"
   ]
  },
  {
   "cell_type": "code",
   "execution_count": 124,
   "id": "347cb099",
   "metadata": {},
   "outputs": [
    {
     "name": "stderr",
     "output_type": "stream",
     "text": [
      "c:\\Users\\rokaa\\egyetem\\basketball_lineup_analysis\\.venv\\lib\\site-packages\\pytorch_lightning\\trainer\\connectors\\data_connector.py:425: The 'test_dataloader' does not have many workers which may be a bottleneck. Consider increasing the value of the `num_workers` argument` to `num_workers=7` in the `DataLoader` to improve performance.\n"
     ]
    },
    {
     "name": "stdout",
     "output_type": "stream",
     "text": [
      "Testing DataLoader 0: 100%|██████████| 1/1 [00:00<00:00, 66.61it/s] \n",
      "────────────────────────────────────────────────────────────────────────────────────────────────────────────────────────\n",
      "       Test metric             DataLoader 0\n",
      "────────────────────────────────────────────────────────────────────────────────────────────────────────────────────────\n",
      "        test_loss                   nan\n",
      "────────────────────────────────────────────────────────────────────────────────────────────────────────────────────────\n"
     ]
    },
    {
     "data": {
      "text/plain": [
       "[{'test_loss': nan}]"
      ]
     },
     "execution_count": 124,
     "metadata": {},
     "output_type": "execute_result"
    }
   ],
   "source": [
    "trainer.test(model, test_loader)"
   ]
  },
  {
   "cell_type": "code",
   "execution_count": null,
   "id": "0ff6749a",
   "metadata": {},
   "outputs": [],
   "source": [
    "sweep_id = wandb.sweep(sweep_config, project=\"lineup_gine_sweep\")\n",
    "wandb.agent(sweep_id, train_sweep, count=10)"
   ]
  },
  {
   "cell_type": "code",
   "execution_count": null,
   "id": "dab904c8",
   "metadata": {},
   "outputs": [],
   "source": []
  }
 ],
 "metadata": {
  "kernelspec": {
   "display_name": ".venv",
   "language": "python",
   "name": "python3"
  },
  "language_info": {
   "codemirror_mode": {
    "name": "ipython",
    "version": 3
   },
   "file_extension": ".py",
   "mimetype": "text/x-python",
   "name": "python",
   "nbconvert_exporter": "python",
   "pygments_lexer": "ipython3",
   "version": "3.9.7"
  }
 },
 "nbformat": 4,
 "nbformat_minor": 5
}
