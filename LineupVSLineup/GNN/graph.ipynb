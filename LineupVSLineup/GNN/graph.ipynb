{
 "cells": [
  {
   "cell_type": "code",
   "execution_count": 34,
   "id": "d7f701b2",
   "metadata": {},
   "outputs": [],
   "source": [
    "# %pip install torch torch_geometric pytorch_lightning"
   ]
  },
  {
   "cell_type": "code",
   "execution_count": 35,
   "id": "6e26f5d0",
   "metadata": {},
   "outputs": [],
   "source": [
    "import torch\n",
    "from torch_geometric.data import Data\n",
    "import pandas as pd"
   ]
  },
  {
   "cell_type": "markdown",
   "id": "f40255f3",
   "metadata": {},
   "source": [
    "# Load the data"
   ]
  },
  {
   "cell_type": "code",
   "execution_count": 36,
   "id": "bf4c6c9d",
   "metadata": {},
   "outputs": [],
   "source": [
    "df = pd.read_csv('../get_lineup_target_score/nba_with_lineup_score.csv')"
   ]
  },
  {
   "cell_type": "markdown",
   "id": "cdc4967a",
   "metadata": {},
   "source": [
    "# Step 1: Map each unique lineup to an integer index (node ID)"
   ]
  },
  {
   "cell_type": "code",
   "execution_count": 37,
   "id": "6d504c3f",
   "metadata": {},
   "outputs": [],
   "source": [
    "lineups = pd.unique(df[['home_lineup', 'away_lineup']].values.ravel())\n",
    "lineup_to_id = {lineup: i for i, lineup in enumerate(lineups)}"
   ]
  },
  {
   "cell_type": "markdown",
   "id": "6dba7aad",
   "metadata": {},
   "source": [
    "# Step 2: Build edge list with direction based on lineup_score"
   ]
  },
  {
   "cell_type": "code",
   "execution_count": 38,
   "id": "4e4247c5",
   "metadata": {},
   "outputs": [],
   "source": [
    "edge_index = []\n",
    "\n",
    "for _, row in df.iterrows():\n",
    "    home = row['home_lineup']\n",
    "    away = row['away_lineup']\n",
    "    home_score = row['lineup_score']\n",
    "\n",
    "    # Estimate away score if not directly available\n",
    "    # For now, let's assume both teams get the same formula\n",
    "    # You may want to calculate a true 'away_lineup_score' in your preprocessing\n",
    "    away_score = row.get('away_lineup_score', 0)\n",
    "\n",
    "    if home_score > away_score:\n",
    "        edge_index.append([lineup_to_id[away], lineup_to_id[home]])\n",
    "    elif away_score > home_score:\n",
    "        edge_index.append([lineup_to_id[home], lineup_to_id[away]])\n",
    "\n",
    "# Convert to tensor (shape: [2, num_edges])\n",
    "edge_index = torch.tensor(edge_index, dtype=torch.long).t().contiguous()"
   ]
  },
  {
   "cell_type": "code",
   "execution_count": 39,
   "id": "7224c4b1",
   "metadata": {},
   "outputs": [],
   "source": [
    "# Create an edge feature tensor filled with zeros\n",
    "edge_attr = torch.zeros((edge_index.size(1), 1))  # Assuming 1 feature per edge"
   ]
  },
  {
   "cell_type": "markdown",
   "id": "38da448d",
   "metadata": {},
   "source": [
    "# Step 3: Create node features"
   ]
  },
  {
   "cell_type": "code",
   "execution_count": 40,
   "id": "2bf2e1e8",
   "metadata": {},
   "outputs": [],
   "source": [
    "# Placeholder: use a simple zero vector for each lineup\n",
    "# Replace with actual stats (from nba_api) per lineup\n",
    "num_nodes = len(lineup_to_id)\n",
    "x = torch.zeros((num_nodes, 10))  # e.g., 10 features per lineup"
   ]
  },
  {
   "cell_type": "markdown",
   "id": "13089533",
   "metadata": {},
   "source": [
    "# Step 4: Create PyG Data object"
   ]
  },
  {
   "cell_type": "code",
   "execution_count": 41,
   "id": "cbb69e12",
   "metadata": {},
   "outputs": [
    {
     "name": "stdout",
     "output_type": "stream",
     "text": [
      "Data(x=[43136, 10], edge_index=[2, 46035], edge_attr=[46035, 1])\n"
     ]
    }
   ],
   "source": [
    "data = Data(x=x, edge_index=edge_index, edge_attr=edge_attr)\n",
    "\n",
    "print(data)"
   ]
  },
  {
   "cell_type": "markdown",
   "id": "a96ddd15",
   "metadata": {},
   "source": [
    "# GNN Model"
   ]
  },
  {
   "cell_type": "code",
   "execution_count": 42,
   "id": "71c66e5d",
   "metadata": {},
   "outputs": [],
   "source": [
    "from torch_geometric.transforms import RandomLinkSplit\n",
    "from torch_geometric.nn import GINEConv\n",
    "from torch_geometric.loader import DataLoader\n",
    "import torch.nn as nn\n",
    "import torch.nn.functional as F\n",
    "import pytorch_lightning as pl"
   ]
  },
  {
   "cell_type": "code",
   "execution_count": 52,
   "id": "9ad9056d",
   "metadata": {},
   "outputs": [],
   "source": [
    "class LineupGINE(pl.LightningModule):\n",
    "    def __init__(self, input_dim, edge_feature_dim, hidden_dim=32, output_dim=16, lr=0.001):\n",
    "        super(LineupGINE, self).__init__()\n",
    "        self.save_hyperparameters()\n",
    "        self.lr = lr\n",
    "\n",
    "        self.gine1 = GINEConv(\n",
    "            nn.Sequential(\n",
    "                nn.Linear(input_dim, hidden_dim),\n",
    "                nn.ReLU(),\n",
    "                nn.Linear(hidden_dim, hidden_dim),\n",
    "            ),\n",
    "            edge_dim=edge_feature_dim,\n",
    "        )\n",
    "        self.gine2 = GINEConv(\n",
    "            nn.Sequential(\n",
    "                nn.Linear(hidden_dim, hidden_dim),\n",
    "                nn.ReLU(),\n",
    "                nn.Linear(hidden_dim, output_dim),\n",
    "            ),\n",
    "            edge_dim=edge_feature_dim,\n",
    "        )\n",
    "        self.decoder = nn.Sequential(\n",
    "            nn.Linear(2 * output_dim, hidden_dim),\n",
    "            nn.ReLU(),\n",
    "            nn.Linear(hidden_dim, 1),\n",
    "        )\n",
    "\n",
    "    def forward(self, data):\n",
    "        x, edge_index, edge_attr = data.x, data.edge_index, data.edge_attr\n",
    "        x = self.gine1(x, edge_index, edge_attr)\n",
    "        x = F.relu(x)\n",
    "        x = self.gine2(x, edge_index, edge_attr)\n",
    "        return x\n",
    "    \n",
    "    def training_step(self, batch, batch_idx):\n",
    "        embeddings = self(batch)\n",
    "\n",
    "        src, tgt = batch.edge_index\n",
    "        src_embeddings = embeddings[src]\n",
    "        tgt_embeddings = embeddings[tgt]\n",
    "        edge_feature_input = torch.cat([src_embeddings, tgt_embeddings], dim=1)\n",
    "        pred_scores = self.decoder(edge_feature_input)\n",
    "        loss = F.mse_loss(pred_scores, batch.edge_attr)\n",
    "        self.log('train_loss', loss, prog_bar=True, logger=True)\n",
    "        return loss\n",
    "    \n",
    "    def validation_step(self, batch, batch_idx):\n",
    "        embeddings = self(batch)\n",
    "\n",
    "        src, tgt = batch.edge_index\n",
    "        src_embeddings = embeddings[src]\n",
    "        tgt_embeddings = embeddings[tgt]\n",
    "        edge_feature_input = torch.cat([src_embeddings, tgt_embeddings], dim=1)\n",
    "        pred_scores = self.decoder(edge_feature_input)\n",
    "        loss = F.mse_loss(pred_scores, batch.edge_attr)\n",
    "        self.log('val_loss', loss, prog_bar=True, logger=True)\n",
    "        return loss\n",
    "    \n",
    "    def test_step(self, batch, batch_idx):\n",
    "        embeddings = self(batch)\n",
    "\n",
    "        src, tgt = batch.edge_index\n",
    "        src_embeddings = embeddings[src]\n",
    "        tgt_embeddings = embeddings[tgt]\n",
    "        edge_feature_input = torch.cat([src_embeddings, tgt_embeddings], dim=1)\n",
    "        pred_scores = self.decoder(edge_feature_input)\n",
    "        loss = F.mse_loss(pred_scores, batch.edge_attr)\n",
    "        self.log('test_loss', loss, prog_bar=True, logger=True)\n",
    "        return loss\n",
    "    \n",
    "    def configure_optimizers(self):\n",
    "        return torch.optim.Adam(self.parameters(), lr=self.lr)\n"
   ]
  },
  {
   "cell_type": "code",
   "execution_count": 53,
   "id": "1b238614",
   "metadata": {},
   "outputs": [],
   "source": [
    "# Get the total number of edges\n",
    "num_edges = edge_index.size(1)\n",
    "\n",
    "# Define split ratios\n",
    "train_ratio = 0.8\n",
    "val_ratio = 0.1\n",
    "test_ratio = 0.1\n",
    "\n",
    "# Calculate the number of edges for each split\n",
    "num_train = int(num_edges * train_ratio)\n",
    "num_val = int(num_edges * val_ratio)\n",
    "num_test = num_edges - num_train - num_val\n",
    "\n",
    "# Shuffle the edges\n",
    "perm = torch.randperm(num_edges)\n",
    "\n",
    "# Split the edge indices and edge attributes\n",
    "train_edge_index = edge_index[:, perm[:num_train]]\n",
    "val_edge_index = edge_index[:, perm[num_train:num_train + num_val]]\n",
    "test_edge_index = edge_index[:, perm[num_train + num_val:]]\n",
    "\n",
    "train_edge_attr = edge_attr[perm[:num_train]]\n",
    "val_edge_attr = edge_attr[perm[num_train:num_train + num_val]]\n",
    "test_edge_attr = edge_attr[perm[num_train + num_val:]]\n",
    "\n",
    "# Create train, val, and test Data objects\n",
    "train_data = Data(x=x, edge_index=train_edge_index, edge_attr=train_edge_attr)\n",
    "val_data = Data(x=x, edge_index=val_edge_index, edge_attr=val_edge_attr)\n",
    "test_data = Data(x=x, edge_index=test_edge_index, edge_attr=test_edge_attr)"
   ]
  },
  {
   "cell_type": "code",
   "execution_count": 54,
   "id": "dba22331",
   "metadata": {},
   "outputs": [],
   "source": [
    "batch_size = 32\n",
    "train_loader = DataLoader([train_data], batch_size=batch_size, shuffle=True)\n",
    "val_loader = DataLoader([val_data], batch_size=batch_size, shuffle=False)\n",
    "test_loader = DataLoader([test_data], batch_size=batch_size, shuffle=False)"
   ]
  },
  {
   "cell_type": "code",
   "execution_count": 55,
   "id": "b88dc6a7",
   "metadata": {},
   "outputs": [
    {
     "name": "stderr",
     "output_type": "stream",
     "text": [
      "You are using the plain ModelCheckpoint callback. Consider using LitModelCheckpoint which with seamless uploading to Model registry.\n",
      "GPU available: False, used: False\n",
      "TPU available: False, using: 0 TPU cores\n",
      "HPU available: False, using: 0 HPUs\n",
      "\n",
      "  | Name    | Type       | Params | Mode \n",
      "-----------------------------------------------\n",
      "0 | gine1   | GINEConv   | 1.4 K  | train\n",
      "1 | gine2   | GINEConv   | 1.2 K  | train\n",
      "2 | decoder | Sequential | 129    | train\n",
      "-----------------------------------------------\n",
      "2.7 K     Trainable params\n",
      "0         Non-trainable params\n",
      "2.7 K     Total params\n",
      "0.011     Total estimated model params size (MB)\n",
      "18        Modules in train mode\n",
      "0         Modules in eval mode\n"
     ]
    },
    {
     "name": "stdout",
     "output_type": "stream",
     "text": [
      "                                                                           "
     ]
    },
    {
     "name": "stderr",
     "output_type": "stream",
     "text": [
      "c:\\Users\\rokaa\\egyetem\\basketball_lineup_analysis\\.venv\\lib\\site-packages\\pytorch_lightning\\trainer\\connectors\\data_connector.py:425: The 'val_dataloader' does not have many workers which may be a bottleneck. Consider increasing the value of the `num_workers` argument` to `num_workers=7` in the `DataLoader` to improve performance.\n",
      "c:\\Users\\rokaa\\egyetem\\basketball_lineup_analysis\\.venv\\lib\\site-packages\\pytorch_lightning\\utilities\\data.py:79: Trying to infer the `batch_size` from an ambiguous collection. The batch size we found is 43136. To avoid any miscalculations, use `self.log(..., batch_size=batch_size)`.\n"
     ]
    },
    {
     "name": "stdout",
     "output_type": "stream",
     "text": [
      "Epoch 9: 100%|██████████| 1/1 [00:00<00:00,  7.75it/s, v_num=6, train_loss=0.0201, val_loss=0.00715]"
     ]
    },
    {
     "name": "stderr",
     "output_type": "stream",
     "text": [
      "`Trainer.fit` stopped: `max_epochs=10` reached.\n"
     ]
    },
    {
     "name": "stdout",
     "output_type": "stream",
     "text": [
      "Epoch 9: 100%|██████████| 1/1 [00:00<00:00,  6.80it/s, v_num=6, train_loss=0.0201, val_loss=0.00715]\n"
     ]
    }
   ],
   "source": [
    "model = LineupGINE(\n",
    "    input_dim=10,  # Number of features per node\n",
    "    edge_feature_dim=1,  # Number of features per edge\n",
    "    hidden_dim=32,\n",
    "    output_dim=1,\n",
    "    lr=0.001\n",
    ")\n",
    "\n",
    "trainer = pl.Trainer(\n",
    "    max_epochs=10\n",
    ")\n",
    "\n",
    "trainer.fit(model, train_loader, val_loader)"
   ]
  },
  {
   "cell_type": "code",
   "execution_count": 57,
   "id": "347cb099",
   "metadata": {},
   "outputs": [
    {
     "name": "stdout",
     "output_type": "stream",
     "text": [
      "Testing DataLoader 0: 100%|██████████| 1/1 [00:00<00:00, 26.31it/s]\n",
      "────────────────────────────────────────────────────────────────────────────────────────────────────────────────────────\n",
      "       Test metric             DataLoader 0\n",
      "────────────────────────────────────────────────────────────────────────────────────────────────────────────────────────\n",
      "        test_loss          0.007198105100542307\n",
      "────────────────────────────────────────────────────────────────────────────────────────────────────────────────────────\n"
     ]
    },
    {
     "data": {
      "text/plain": [
       "[{'test_loss': 0.007198105100542307}]"
      ]
     },
     "execution_count": 57,
     "metadata": {},
     "output_type": "execute_result"
    }
   ],
   "source": [
    "trainer.test(model, test_loader)"
   ]
  },
  {
   "cell_type": "code",
   "execution_count": null,
   "id": "dab904c8",
   "metadata": {},
   "outputs": [],
   "source": []
  }
 ],
 "metadata": {
  "kernelspec": {
   "display_name": ".venv",
   "language": "python",
   "name": "python3"
  },
  "language_info": {
   "codemirror_mode": {
    "name": "ipython",
    "version": 3
   },
   "file_extension": ".py",
   "mimetype": "text/x-python",
   "name": "python",
   "nbconvert_exporter": "python",
   "pygments_lexer": "ipython3",
   "version": "3.9.7"
  }
 },
 "nbformat": 4,
 "nbformat_minor": 5
}
