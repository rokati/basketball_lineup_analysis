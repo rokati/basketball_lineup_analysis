{
 "cells": [
  {
   "cell_type": "code",
   "execution_count": 82,
   "id": "d7f701b2",
   "metadata": {},
   "outputs": [],
   "source": [
    "# %pip install torch torch_geometric pytorch_lightning wandb scikit-learn matplotlib"
   ]
  },
  {
   "cell_type": "code",
   "execution_count": 83,
   "id": "6e26f5d0",
   "metadata": {},
   "outputs": [],
   "source": [
    "import torch\n",
    "from torch_geometric.data import Data\n",
    "import pandas as pd\n",
    "import wandb\n",
    "from sklearn.preprocessing import MultiLabelBinarizer\n",
    "import ast\n",
    "import numpy as np\n",
    "\n",
    "pd.set_option('display.max_columns', None)"
   ]
  },
  {
   "cell_type": "markdown",
   "id": "f40255f3",
   "metadata": {},
   "source": [
    "# Load the data"
   ]
  },
  {
   "cell_type": "code",
   "execution_count": 84,
   "id": "bf4c6c9d",
   "metadata": {},
   "outputs": [],
   "source": [
    "df = pd.read_csv('../get_lineup_target_score/nba_with_lineup_score.csv')\n",
    "pre_df = pd.read_csv('../pre_season/pre_lineup_vs_lineup.csv')"
   ]
  },
  {
   "cell_type": "code",
   "execution_count": 85,
   "id": "8448e6ad",
   "metadata": {},
   "outputs": [],
   "source": [
    "pre_df.fillna(0, inplace=True)"
   ]
  },
  {
   "cell_type": "code",
   "execution_count": 86,
   "id": "e808a492",
   "metadata": {},
   "outputs": [],
   "source": [
    "df.dropna(subset=['net_score'], inplace=True)\n",
    "df = df[~df['net_score'].isin([np.inf, -np.inf])]"
   ]
  },
  {
   "cell_type": "code",
   "execution_count": 87,
   "id": "b3916f3e",
   "metadata": {},
   "outputs": [
    {
     "data": {
      "text/plain": [
       "91200"
      ]
     },
     "execution_count": 87,
     "metadata": {},
     "output_type": "execute_result"
    }
   ],
   "source": [
    "df.size"
   ]
  },
  {
   "cell_type": "code",
   "execution_count": 88,
   "id": "36fa0443",
   "metadata": {},
   "outputs": [],
   "source": [
    "all_lineups = pd.concat([df['home_lineup'], df['away_lineup']]).unique()\n",
    "pre_df_lineups = pd.concat([pre_df['home_lineup'], pre_df['away_lineup']]).unique()\n",
    "filtered_lineups = [lineup for lineup in all_lineups if lineup in pre_df_lineups]\n",
    "all_lineups = np.array(filtered_lineups)"
   ]
  },
  {
   "cell_type": "code",
   "execution_count": 89,
   "id": "ef03e562",
   "metadata": {},
   "outputs": [],
   "source": [
    "df = df[df['home_lineup'].isin(all_lineups) & df['away_lineup'].isin(all_lineups)]\n",
    "pre_df = pre_df[pre_df['home_lineup'].isin(all_lineups) & pre_df['away_lineup'].isin(all_lineups)]"
   ]
  },
  {
   "cell_type": "code",
   "execution_count": 90,
   "id": "6dbaa4fd",
   "metadata": {},
   "outputs": [],
   "source": [
    "lineups_df = pd.DataFrame(all_lineups, columns=['lineup'])\n",
    "lineups_df[\"3pt_made\"] = 0\n",
    "lineups_df[\"points\"] = 0\n",
    "lineups_df[\"assists\"] = 0\n",
    "lineups_df[\"def_rebounds\"] = 0\n",
    "lineups_df[\"off_rebounds\"] = 0\n",
    "lineups_df[\"fouls\"] = 0\n",
    "lineups_df[\"2pt_made\"] = 0\n",
    "lineups_df[\"turnovers\"] = 0\n",
    "lineups_df[\"ft_made\"] = 0\n",
    "lineups_df[\"steals\"] = 0\n",
    "lineups_df[\"blocks\"] = 0"
   ]
  },
  {
   "cell_type": "code",
   "execution_count": 91,
   "id": "cfabef1e",
   "metadata": {},
   "outputs": [],
   "source": [
    "cols = ['3pt_made', 'points', 'assists', 'def_rebounds', 'off_rebounds', 'fouls', '2pt_made', 'turnovers', 'ft_made', 'steals', 'blocks']\n",
    "for index, row in pre_df.iterrows():\n",
    "    home_lineup = row['home_lineup']\n",
    "    away_lineup = row['away_lineup']\n",
    "    \n",
    "    for col in cols:\n",
    "        home_col = 'home_' + col\n",
    "        away_col = 'away_' + col\n",
    "        if home_col in row and away_col in row:\n",
    "            lineups_df.loc[lineups_df['lineup'] == home_lineup, col] += row[home_col]\n",
    "            lineups_df.loc[lineups_df['lineup'] == away_lineup, col] += row[away_col]\n",
    "        else:\n",
    "            print(f'Column {home_col} or {away_col} not found in row')"
   ]
  },
  {
   "cell_type": "code",
   "execution_count": 92,
   "id": "06adb863",
   "metadata": {},
   "outputs": [],
   "source": [
    "def create_lineup_graph(df, pre_df):\n",
    "    all_lineups = pd.concat([df['home_lineup'], df['away_lineup']]).unique()\n",
    "    pre_df_lineups = pd.concat([pre_df['home_lineup'], pre_df['away_lineup']]).unique()\n",
    "    filtered_lineups = [lineup for lineup in all_lineups if lineup in pre_df_lineups]\n",
    "    all_lineups = np.array(filtered_lineups)\n",
    "\n",
    "    df = df[df['home_lineup'].isin(all_lineups) & df['away_lineup'].isin(all_lineups)]\n",
    "    pre_df = pre_df[pre_df['home_lineup'].isin(all_lineups) & pre_df['away_lineup'].isin(all_lineups)]\n",
    "\n",
    "    lineups_df = pd.DataFrame(all_lineups, columns=['lineup'])\n",
    "    lineups_df[\"3pt_made\"] = 0\n",
    "    lineups_df[\"points\"] = 0\n",
    "    lineups_df[\"assists\"] = 0\n",
    "    lineups_df[\"def_rebounds\"] = 0\n",
    "    lineups_df[\"off_rebounds\"] = 0\n",
    "    lineups_df[\"fouls\"] = 0\n",
    "    lineups_df[\"2pt_made\"] = 0\n",
    "    lineups_df[\"turnovers\"] = 0\n",
    "    lineups_df[\"ft_made\"] = 0\n",
    "    lineups_df[\"steals\"] = 0\n",
    "    lineups_df[\"blocks\"] = 0\n",
    "\n",
    "    cols = ['3pt_made', 'points', 'assists', 'def_rebounds', 'off_rebounds', 'fouls', '2pt_made', 'turnovers', 'ft_made', 'steals', 'blocks']\n",
    "    for index, row in pre_df.iterrows():\n",
    "        home_lineup = row['home_lineup']\n",
    "        away_lineup = row['away_lineup']\n",
    "        \n",
    "        for col in cols:\n",
    "            home_col = 'home_' + col\n",
    "            away_col = 'away_' + col\n",
    "            if home_col in row and away_col in row:\n",
    "                lineups_df.loc[lineups_df['lineup'] == home_lineup, col] += row[home_col]\n",
    "                lineups_df.loc[lineups_df['lineup'] == away_lineup, col] += row[away_col]\n",
    "            else:\n",
    "                print(f'Column {home_col} or {away_col} not found in row')\n",
    "    \n",
    "    # Create unique lineup nodes\n",
    "    lineup2idx = {lineup: idx for idx, lineup in enumerate(lineups_df['lineup'])}\n",
    "    \n",
    "    # Create node features based on lineups_df\n",
    "    x = torch.tensor(lineups_df.iloc[:, 1:].values, dtype=torch.float)\n",
    "    \n",
    "    # Create directed edges with score-based direction\n",
    "    edge_index = []\n",
    "    edge_attr = []\n",
    "    \n",
    "    for _, row in df.iterrows():\n",
    "        home = row['home_lineup']\n",
    "        away = row['away_lineup']\n",
    "        home_idx = lineup2idx[home]\n",
    "        away_idx = lineup2idx[away]\n",
    "        \n",
    "        # Determine edge direction based on normalized scores\n",
    "        if row['normalized_home_score'] > row['normalized_away_score']:\n",
    "            src, dst = home_idx, away_idx\n",
    "        else:\n",
    "            src, dst = away_idx, home_idx\n",
    "            \n",
    "        edge_index.append([src, dst])\n",
    "        edge_attr.append(abs(row['net_score']))\n",
    "    \n",
    "    edge_index = torch.tensor(edge_index, dtype=torch.long).t().contiguous()\n",
    "    edge_attr = torch.tensor(edge_attr, dtype=torch.float).unsqueeze(1)\n",
    "    \n",
    "    return Data(\n",
    "        x=x,\n",
    "        edge_index=edge_index,\n",
    "        edge_attr=edge_attr,\n",
    "        num_nodes=len(lineups_df))"
   ]
  },
  {
   "cell_type": "code",
   "execution_count": 93,
   "id": "29f55db8",
   "metadata": {},
   "outputs": [],
   "source": [
    "data = create_lineup_graph(df, pre_df)"
   ]
  },
  {
   "cell_type": "code",
   "execution_count": 94,
   "id": "d3e787b2",
   "metadata": {},
   "outputs": [
    {
     "data": {
      "text/plain": [
       "Data(x=[678, 11], edge_index=[2, 781], edge_attr=[781, 1], num_nodes=678)"
      ]
     },
     "execution_count": 94,
     "metadata": {},
     "output_type": "execute_result"
    }
   ],
   "source": [
    "data"
   ]
  },
  {
   "cell_type": "markdown",
   "id": "a96ddd15",
   "metadata": {},
   "source": [
    "# GNN Model"
   ]
  },
  {
   "cell_type": "code",
   "execution_count": 95,
   "id": "71c66e5d",
   "metadata": {},
   "outputs": [],
   "source": [
    "from torch_geometric.transforms import RandomLinkSplit\n",
    "from torch_geometric.nn import GINEConv\n",
    "from torch_geometric.loader import DataLoader\n",
    "import torch.nn as nn\n",
    "import torch.nn.functional as F\n",
    "import pytorch_lightning as pl\n",
    "from torchmetrics import Accuracy, AUROC"
   ]
  },
  {
   "cell_type": "code",
   "execution_count": null,
   "id": "5a2a4b81",
   "metadata": {},
   "outputs": [],
   "source": [
    "class GNNModel(nn.Module):\n",
    "    def __init__(self, input_dim, num_layers, hidden_dim, dropout_rate):\n",
    "        super().__init__()\n",
    "        self.convs = nn.ModuleList()\n",
    "        self.dropout_rate = dropout_rate\n",
    "        for _ in range(num_layers):\n",
    "            conv = GINEConv(\n",
    "                nn.Sequential(\n",
    "                    nn.Linear(input_dim, hidden_dim),\n",
    "                    nn.ReLU(),\n",
    "                    nn.Linear(hidden_dim, hidden_dim),\n",
    "                ),\n",
    "                train_eps=True,\n",
    "                edge_dim=1,\n",
    "            )\n",
    "            self.convs.append(conv)\n",
    "            input_dim = hidden_dim\n",
    "    \n",
    "    def forward(self, x, edge_index, edge_attr):\n",
    "        for conv in self.convs:\n",
    "            x = conv(x, edge_index, edge_attr)\n",
    "            x = F.relu(x)\n",
    "            x = F.dropout(x, p=self.dropout_rate, training=self.training)\n",
    "        return x\n",
    "\n",
    "# Link Prediction Decoder with Edge Attributes\n",
    "class LinkPredictor(nn.Module):\n",
    "    def __init__(self, num_layers, hidden_dim):\n",
    "        super().__init__()\n",
    "        mlp_layers = []\n",
    "        current_dim = 2 * hidden_dim\n",
    "        for _ in range(num_layers):\n",
    "            mlp_layers.append(nn.Linear(current_dim, hidden_dim))\n",
    "            mlp_layers.append(nn.ReLU())\n",
    "            current_dim = hidden_dim\n",
    "        mlp_layers.append(nn.Linear(hidden_dim, 1))\n",
    "        mlp_layers.append(nn.Sigmoid())\n",
    "        self.mlp = nn.Sequential(*mlp_layers)\n",
    "    \n",
    "    def forward(self, u_emb, v_emb):\n",
    "        concatenated = torch.cat([u_emb, v_emb], dim=1)\n",
    "        return self.mlp(concatenated).squeeze()\n",
    "\n",
    "# Lightning Module for Training\n",
    "class LitGNN(pl.LightningModule):\n",
    "    def __init__(self,\n",
    "                input_dim,\n",
    "                # Conv layer parameters\n",
    "                conv_layers=2,\n",
    "                conv_hidden_dim=64,\n",
    "                # Link prediction parameters\n",
    "                link_predictor_layers=1,\n",
    "                link_hidden_dim=64,\n",
    "                # Training parameters\n",
    "                learning_rate=0.001,\n",
    "                weight_decay=0.0001,\n",
    "                dropout_rate=0.5):\n",
    "        super().__init__()\n",
    "        self.save_hyperparameters()\n",
    "        self.gnn = GNNModel(input_dim, conv_layers, conv_hidden_dim, dropout_rate)\n",
    "        self.link_predictor = LinkPredictor(link_predictor_layers, link_hidden_dim)\n",
    "        self.loss_fn = nn.BCELoss()\n",
    "\n",
    "        self.learning_rate = learning_rate\n",
    "        self.weight_decay = weight_decay\n",
    "\n",
    "        # Initialize metrics\n",
    "        self.train_acc = Accuracy(task='binary')\n",
    "        self.val_acc = Accuracy(task='binary')\n",
    "        self.test_acc = Accuracy(task='binary')\n",
    "        self.train_auroc = AUROC(task='binary')\n",
    "        self.val_auroc = AUROC(task='binary')\n",
    "        self.test_auroc = AUROC(task='binary')\n",
    "    \n",
    "    def forward(self, x, edge_index, edge_attr):\n",
    "        return self.gnn(x, edge_index, edge_attr)\n",
    "    \n",
    "    def training_step(self, batch, batch_idx):\n",
    "        x, edge_index, edge_attr = batch.x, batch.edge_index, batch.edge_attr\n",
    "        edge_label_index, edge_label = batch.edge_label_index, batch.edge_label\n",
    "\n",
    "        node_emb = self.gnn(x, edge_index, edge_attr)\n",
    "        u_emb = node_emb[edge_label_index[0]]\n",
    "        v_emb = node_emb[edge_label_index[1]]\n",
    "        preds = self.link_predictor(u_emb, v_emb)\n",
    "\n",
    "        loss = self.loss_fn(preds, edge_label.float())\n",
    "        self.log('train_loss', loss, prog_bar=True)\n",
    "        # print(f\"Train Loss: {loss:.4f}\")\n",
    "\n",
    "        # Calculate accuracy\n",
    "        preds_binary = (preds > 0.5).int()\n",
    "        acc = self.train_acc(preds_binary, edge_label.int())\n",
    "        self.log('train_acc', acc, prog_bar=True)\n",
    "        # print(f\"Train Accuracy: {acc:.4f}\")\n",
    "\n",
    "        # Calculate AUC-ROC\n",
    "        if len(torch.unique(edge_label)) > 1:\n",
    "            auc = self.train_auroc(preds, edge_label.int())\n",
    "            self.log('train_auc', auc, prog_bar=True)\n",
    "            # print(f\"Train AUC: {auc:.4f}\")\n",
    "\n",
    "        return loss\n",
    "    \n",
    "    def validation_step(self, batch, batch_idx):\n",
    "        x, edge_index, edge_attr = batch.x, batch.edge_index, batch.edge_attr\n",
    "        edge_label_index, edge_label = batch.edge_label_index, batch.edge_label\n",
    "\n",
    "        node_emb = self.gnn(x, edge_index, edge_attr)\n",
    "        u_emb = node_emb[edge_label_index[0]]\n",
    "        v_emb = node_emb[edge_label_index[1]]\n",
    "        preds = self.link_predictor(u_emb, v_emb)\n",
    "\n",
    "        loss = self.loss_fn(preds, edge_label.float())\n",
    "        self.log('val_loss', loss, prog_bar=True)\n",
    "\n",
    "        # Calculate accuracy\n",
    "        preds_binary = (preds > 0.5).int()\n",
    "        acc = self.val_acc(preds_binary, edge_label.int())\n",
    "        self.log('val_acc', acc, prog_bar=True)\n",
    "\n",
    "        # Calculate AUC-ROC\n",
    "        if len(torch.unique(edge_label)) > 1:  # Ensure both classes are present\n",
    "            auc = self.val_auroc(preds, edge_label.int())\n",
    "            self.log('val_auc', auc, prog_bar=True)\n",
    "\n",
    "        return loss\n",
    "    \n",
    "    def test_step(self, batch, batch_idx):\n",
    "        x, edge_index, edge_attr = batch.x, batch.edge_index, batch.edge_attr\n",
    "        edge_label_index, edge_label = batch.edge_label_index, batch.edge_label\n",
    "\n",
    "        node_emb = self.gnn(x, edge_index, edge_attr)\n",
    "        u_emb = node_emb[edge_label_index[0]]\n",
    "        v_emb = node_emb[edge_label_index[1]]\n",
    "        preds = self.link_predictor(u_emb, v_emb)\n",
    "\n",
    "        loss = self.loss_fn(preds, edge_label.float())\n",
    "        self.log('test_loss', loss, prog_bar=True)\n",
    "\n",
    "        # Calculate accuracy\n",
    "        preds_binary = (preds > 0.5).int()\n",
    "        acc = self.test_acc(preds_binary, edge_label.int())\n",
    "        self.log('test_acc', acc, prog_bar=True)\n",
    "\n",
    "        # Calculate AUC-ROC\n",
    "        if len(torch.unique(edge_label)) > 1:\n",
    "            auc = self.test_auroc(preds, edge_label.int())\n",
    "            self.log('test_auc', auc, prog_bar=True)\n",
    "\n",
    "        return loss\n",
    "    \n",
    "    def configure_optimizers(self):\n",
    "        return torch.optim.Adam(\n",
    "            self.parameters(),\n",
    "            lr=self.learning_rate,\n",
    "            weight_decay=self.weight_decay,\n",
    "        )"
   ]
  },
  {
   "cell_type": "code",
   "execution_count": 107,
   "id": "658b1be8",
   "metadata": {},
   "outputs": [],
   "source": [
    "# Function to add reversed edges as negatives to a Data object\n",
    "def add_reversed_negatives(data):\n",
    "    if data.edge_index.size(1) == 0:\n",
    "        return data  # Skip if no edges\n",
    "    original_edges = data.edge_index\n",
    "    reversed_edges = torch.flip(original_edges, dims=[0])\n",
    "    \n",
    "    # Combine original and reversed edges\n",
    "    edge_label_index = torch.cat([original_edges, reversed_edges], dim=1)\n",
    "    edge_label = torch.cat([\n",
    "        torch.ones(original_edges.size(1)),\n",
    "        torch.zeros(reversed_edges.size(1))\n",
    "    ])\n",
    "    \n",
    "    # Use original edge_attr for both directions\n",
    "    edge_label_attr = torch.cat([data.edge_attr, data.edge_attr], dim=0)\n",
    "    \n",
    "    # Shuffle the combined data\n",
    "    perm = torch.randperm(edge_label_index.size(1))\n",
    "    edge_label_index = edge_label_index[:, perm]\n",
    "    edge_label_attr = edge_label_attr[perm]\n",
    "    edge_label = edge_label[perm]\n",
    "    \n",
    "    data.edge_label_index = edge_label_index\n",
    "    data.edge_label_attr = edge_label_attr\n",
    "    data.edge_label = edge_label\n",
    "    return data"
   ]
  },
  {
   "cell_type": "code",
   "execution_count": 108,
   "id": "dba22331",
   "metadata": {},
   "outputs": [],
   "source": [
    "batch_size = 1\n",
    "train_data, val_data, test_data = RandomLinkSplit(num_val=0.1, num_test=0.1)(data)\n",
    "train_data = add_reversed_negatives(train_data)\n",
    "val_data = add_reversed_negatives(val_data)\n",
    "test_data = add_reversed_negatives(test_data)\n",
    "train_loader = DataLoader([train_data], batch_size=batch_size, shuffle=True)\n",
    "val_loader = DataLoader([val_data], batch_size=batch_size, shuffle=False)\n",
    "test_loader = DataLoader([test_data], batch_size=batch_size, shuffle=False)"
   ]
  },
  {
   "cell_type": "code",
   "execution_count": 113,
   "id": "2edc1196",
   "metadata": {},
   "outputs": [
    {
     "name": "stderr",
     "output_type": "stream",
     "text": [
      "GPU available: False, used: False\n",
      "TPU available: False, using: 0 TPU cores\n",
      "HPU available: False, using: 0 HPUs\n",
      "\n",
      "  | Name           | Type           | Params | Mode \n",
      "----------------------------------------------------------\n",
      "0 | gnn            | GNNModel       | 13.4 K | train\n",
      "1 | link_predictor | LinkPredictor  | 8.3 K  | train\n",
      "2 | loss_fn        | BCELoss        | 0      | train\n",
      "3 | train_acc      | BinaryAccuracy | 0      | train\n",
      "4 | val_acc        | BinaryAccuracy | 0      | train\n",
      "5 | test_acc       | BinaryAccuracy | 0      | train\n",
      "6 | train_auroc    | BinaryAUROC    | 0      | train\n",
      "7 | val_auroc      | BinaryAUROC    | 0      | train\n",
      "8 | test_auroc     | BinaryAUROC    | 0      | train\n",
      "----------------------------------------------------------\n",
      "21.7 K    Trainable params\n",
      "0         Non-trainable params\n",
      "21.7 K    Total params\n",
      "0.087     Total estimated model params size (MB)\n",
      "29        Modules in train mode\n",
      "0         Modules in eval mode\n"
     ]
    },
    {
     "name": "stdout",
     "output_type": "stream",
     "text": [
      "                                                                           "
     ]
    },
    {
     "name": "stderr",
     "output_type": "stream",
     "text": [
      "c:\\Users\\rokaa\\egyetem\\basketball_lineup_analysis\\.venv\\lib\\site-packages\\pytorch_lightning\\trainer\\connectors\\data_connector.py:425: The 'val_dataloader' does not have many workers which may be a bottleneck. Consider increasing the value of the `num_workers` argument` to `num_workers=7` in the `DataLoader` to improve performance.\n",
      "c:\\Users\\rokaa\\egyetem\\basketball_lineup_analysis\\.venv\\lib\\site-packages\\pytorch_lightning\\trainer\\connectors\\data_connector.py:425: The 'train_dataloader' does not have many workers which may be a bottleneck. Consider increasing the value of the `num_workers` argument` to `num_workers=7` in the `DataLoader` to improve performance.\n",
      "c:\\Users\\rokaa\\egyetem\\basketball_lineup_analysis\\.venv\\lib\\site-packages\\pytorch_lightning\\loops\\fit_loop.py:310: The number of training batches (1) is smaller than the logging interval Trainer(log_every_n_steps=50). Set a lower value for log_every_n_steps if you want to see logs for the training epoch.\n"
     ]
    },
    {
     "name": "stdout",
     "output_type": "stream",
     "text": [
      "Epoch 0:   0%|          | 0/1 [00:00<?, ?it/s] Train Loss: 0.7192\n",
      "Train Accuracy: 0.4936\n",
      "Train AUC: 0.4833\n",
      "Epoch 0: 100%|██████████| 1/1 [00:00<00:00, 16.91it/s, v_num=71, train_loss=0.719, train_acc=0.494, train_auc=0.483, val_loss=0.688, val_acc=0.552, val_auc=0.645]"
     ]
    },
    {
     "name": "stderr",
     "output_type": "stream",
     "text": [
      "Metric val_loss improved. New best score: 0.688\n"
     ]
    },
    {
     "name": "stdout",
     "output_type": "stream",
     "text": [
      "Epoch 1:   0%|          | 0/1 [00:00<?, ?it/s, v_num=71, train_loss=0.719, train_acc=0.494, train_auc=0.483, val_loss=0.688, val_acc=0.552, val_auc=0.645]        Train Loss: 0.7112\n",
      "Train Accuracy: 0.5256\n",
      "Train AUC: 0.5276\n",
      "Epoch 1: 100%|██████████| 1/1 [00:00<00:00, 19.23it/s, v_num=71, train_loss=0.711, train_acc=0.526, train_auc=0.528, val_loss=0.680, val_acc=0.602, val_auc=0.710]"
     ]
    },
    {
     "name": "stderr",
     "output_type": "stream",
     "text": [
      "Metric val_loss improved by 0.008 >= min_delta = 0.0. New best score: 0.680\n"
     ]
    },
    {
     "name": "stdout",
     "output_type": "stream",
     "text": [
      "Epoch 2:   0%|          | 0/1 [00:00<?, ?it/s, v_num=71, train_loss=0.711, train_acc=0.526, train_auc=0.528, val_loss=0.680, val_acc=0.602, val_auc=0.710]        Train Loss: 0.6903\n",
      "Train Accuracy: 0.5888\n",
      "Train AUC: 0.6226\n",
      "Epoch 2: 100%|██████████| 1/1 [00:00<00:00, 19.02it/s, v_num=71, train_loss=0.690, train_acc=0.589, train_auc=0.623, val_loss=0.674, val_acc=0.623, val_auc=0.726]"
     ]
    },
    {
     "name": "stderr",
     "output_type": "stream",
     "text": [
      "Metric val_loss improved by 0.006 >= min_delta = 0.0. New best score: 0.674\n"
     ]
    },
    {
     "name": "stdout",
     "output_type": "stream",
     "text": [
      "Epoch 3:   0%|          | 0/1 [00:00<?, ?it/s, v_num=71, train_loss=0.690, train_acc=0.589, train_auc=0.623, val_loss=0.674, val_acc=0.623, val_auc=0.726]        Train Loss: 0.6781\n",
      "Train Accuracy: 0.6272\n",
      "Train AUC: 0.6585\n",
      "Epoch 3: 100%|██████████| 1/1 [00:00<00:00, 19.26it/s, v_num=71, train_loss=0.678, train_acc=0.627, train_auc=0.658, val_loss=0.670, val_acc=0.642, val_auc=0.729]"
     ]
    },
    {
     "name": "stderr",
     "output_type": "stream",
     "text": [
      "Metric val_loss improved by 0.004 >= min_delta = 0.0. New best score: 0.670\n"
     ]
    },
    {
     "name": "stdout",
     "output_type": "stream",
     "text": [
      "Epoch 4:   0%|          | 0/1 [00:00<?, ?it/s, v_num=71, train_loss=0.678, train_acc=0.627, train_auc=0.658, val_loss=0.670, val_acc=0.642, val_auc=0.729]        Train Loss: 0.7009\n",
      "Train Accuracy: 0.6616\n",
      "Train AUC: 0.6723\n",
      "Epoch 4: 100%|██████████| 1/1 [00:00<00:00, 20.83it/s, v_num=71, train_loss=0.701, train_acc=0.662, train_auc=0.672, val_loss=0.669, val_acc=0.649, val_auc=0.731]"
     ]
    },
    {
     "name": "stderr",
     "output_type": "stream",
     "text": [
      "Metric val_loss improved by 0.001 >= min_delta = 0.0. New best score: 0.669\n"
     ]
    },
    {
     "name": "stdout",
     "output_type": "stream",
     "text": [
      "Epoch 5:   0%|          | 0/1 [00:00<?, ?it/s, v_num=71, train_loss=0.701, train_acc=0.662, train_auc=0.672, val_loss=0.669, val_acc=0.649, val_auc=0.731]        Train Loss: 0.6740\n",
      "Train Accuracy: 0.6544\n",
      "Train AUC: 0.7040\n",
      "Epoch 6:   0%|          | 0/1 [00:00<?, ?it/s, v_num=71, train_loss=0.674, train_acc=0.654, train_auc=0.704, val_loss=0.669, val_acc=0.642, val_auc=0.737]        Train Loss: 0.6755\n",
      "Train Accuracy: 0.6664\n",
      "Train AUC: 0.7034\n",
      "Epoch 7:   0%|          | 0/1 [00:00<?, ?it/s, v_num=71, train_loss=0.675, train_acc=0.666, train_auc=0.703, val_loss=0.670, val_acc=0.650, val_auc=0.737]        Train Loss: 0.6750\n",
      "Train Accuracy: 0.6688\n",
      "Train AUC: 0.7253\n",
      "Epoch 8:   0%|          | 0/1 [00:00<?, ?it/s, v_num=71, train_loss=0.675, train_acc=0.669, train_auc=0.725, val_loss=0.669, val_acc=0.662, val_auc=0.740]        Train Loss: 0.6822\n",
      "Train Accuracy: 0.6584\n",
      "Train AUC: 0.7239\n",
      "Epoch 8: 100%|██████████| 1/1 [00:00<00:00, 20.83it/s, v_num=71, train_loss=0.682, train_acc=0.658, train_auc=0.724, val_loss=0.667, val_acc=0.677, val_auc=0.742]"
     ]
    },
    {
     "name": "stderr",
     "output_type": "stream",
     "text": [
      "Metric val_loss improved by 0.002 >= min_delta = 0.0. New best score: 0.667\n"
     ]
    },
    {
     "name": "stdout",
     "output_type": "stream",
     "text": [
      "Epoch 9:   0%|          | 0/1 [00:00<?, ?it/s, v_num=71, train_loss=0.682, train_acc=0.658, train_auc=0.724, val_loss=0.667, val_acc=0.677, val_auc=0.742]        Train Loss: 0.7125\n",
      "Train Accuracy: 0.6944\n",
      "Train AUC: 0.7013\n",
      "Epoch 9: 100%|██████████| 1/1 [00:00<00:00, 17.34it/s, v_num=71, train_loss=0.713, train_acc=0.694, train_auc=0.701, val_loss=0.665, val_acc=0.688, val_auc=0.743]"
     ]
    },
    {
     "name": "stderr",
     "output_type": "stream",
     "text": [
      "Metric val_loss improved by 0.002 >= min_delta = 0.0. New best score: 0.665\n"
     ]
    },
    {
     "name": "stdout",
     "output_type": "stream",
     "text": [
      "Epoch 10:   0%|          | 0/1 [00:00<?, ?it/s, v_num=71, train_loss=0.713, train_acc=0.694, train_auc=0.701, val_loss=0.665, val_acc=0.688, val_auc=0.743]       Train Loss: 0.6561\n",
      "Train Accuracy: 0.6848\n",
      "Train AUC: 0.7322\n",
      "Epoch 10: 100%|██████████| 1/1 [00:00<00:00, 18.87it/s, v_num=71, train_loss=0.656, train_acc=0.685, train_auc=0.732, val_loss=0.663, val_acc=0.704, val_auc=0.745]"
     ]
    },
    {
     "name": "stderr",
     "output_type": "stream",
     "text": [
      "Metric val_loss improved by 0.002 >= min_delta = 0.0. New best score: 0.663\n"
     ]
    },
    {
     "name": "stdout",
     "output_type": "stream",
     "text": [
      "Epoch 11:   0%|          | 0/1 [00:00<?, ?it/s, v_num=71, train_loss=0.656, train_acc=0.685, train_auc=0.732, val_loss=0.663, val_acc=0.704, val_auc=0.745]        Train Loss: 0.6816\n",
      "Train Accuracy: 0.7208\n",
      "Train AUC: 0.7294\n",
      "Epoch 11: 100%|██████████| 1/1 [00:00<00:00, 21.04it/s, v_num=71, train_loss=0.682, train_acc=0.721, train_auc=0.729, val_loss=0.661, val_acc=0.713, val_auc=0.746]"
     ]
    },
    {
     "name": "stderr",
     "output_type": "stream",
     "text": [
      "Metric val_loss improved by 0.002 >= min_delta = 0.0. New best score: 0.661\n"
     ]
    },
    {
     "name": "stdout",
     "output_type": "stream",
     "text": [
      "Epoch 12:   0%|          | 0/1 [00:00<?, ?it/s, v_num=71, train_loss=0.682, train_acc=0.721, train_auc=0.729, val_loss=0.661, val_acc=0.713, val_auc=0.746]        Train Loss: 0.6815\n",
      "Train Accuracy: 0.7224\n",
      "Train AUC: 0.7293\n",
      "Epoch 12: 100%|██████████| 1/1 [00:00<00:00, 19.61it/s, v_num=71, train_loss=0.682, train_acc=0.722, train_auc=0.729, val_loss=0.659, val_acc=0.734, val_auc=0.748]"
     ]
    },
    {
     "name": "stderr",
     "output_type": "stream",
     "text": [
      "Metric val_loss improved by 0.001 >= min_delta = 0.0. New best score: 0.659\n"
     ]
    },
    {
     "name": "stdout",
     "output_type": "stream",
     "text": [
      "Epoch 13:   0%|          | 0/1 [00:00<?, ?it/s, v_num=71, train_loss=0.682, train_acc=0.722, train_auc=0.729, val_loss=0.659, val_acc=0.734, val_auc=0.748]        Train Loss: 0.6714\n",
      "Train Accuracy: 0.7240\n",
      "Train AUC: 0.7378\n",
      "Epoch 13: 100%|██████████| 1/1 [00:00<00:00, 23.31it/s, v_num=71, train_loss=0.671, train_acc=0.724, train_auc=0.738, val_loss=0.658, val_acc=0.747, val_auc=0.749]"
     ]
    },
    {
     "name": "stderr",
     "output_type": "stream",
     "text": [
      "Metric val_loss improved by 0.001 >= min_delta = 0.0. New best score: 0.658\n"
     ]
    },
    {
     "name": "stdout",
     "output_type": "stream",
     "text": [
      "Epoch 14:   0%|          | 0/1 [00:00<?, ?it/s, v_num=71, train_loss=0.671, train_acc=0.724, train_auc=0.738, val_loss=0.658, val_acc=0.747, val_auc=0.749]        Train Loss: 0.6799\n",
      "Train Accuracy: 0.7304\n",
      "Train AUC: 0.7365\n",
      "Epoch 14: 100%|██████████| 1/1 [00:00<00:00, 21.74it/s, v_num=71, train_loss=0.680, train_acc=0.730, train_auc=0.737, val_loss=0.657, val_acc=0.745, val_auc=0.750]"
     ]
    },
    {
     "name": "stderr",
     "output_type": "stream",
     "text": [
      "Metric val_loss improved by 0.001 >= min_delta = 0.0. New best score: 0.657\n"
     ]
    },
    {
     "name": "stdout",
     "output_type": "stream",
     "text": [
      "Epoch 15:   0%|          | 0/1 [00:00<?, ?it/s, v_num=71, train_loss=0.680, train_acc=0.730, train_auc=0.737, val_loss=0.657, val_acc=0.745, val_auc=0.750]        Train Loss: 0.6563\n",
      "Train Accuracy: 0.7296\n",
      "Train AUC: 0.7467\n",
      "Epoch 15: 100%|██████████| 1/1 [00:00<00:00,  8.04it/s, v_num=71, train_loss=0.656, train_acc=0.730, train_auc=0.747, val_loss=0.656, val_acc=0.743, val_auc=0.751]"
     ]
    },
    {
     "name": "stderr",
     "output_type": "stream",
     "text": [
      "Metric val_loss improved by 0.001 >= min_delta = 0.0. New best score: 0.656\n"
     ]
    },
    {
     "name": "stdout",
     "output_type": "stream",
     "text": [
      "Epoch 16:   0%|          | 0/1 [00:00<?, ?it/s, v_num=71, train_loss=0.656, train_acc=0.730, train_auc=0.747, val_loss=0.656, val_acc=0.743, val_auc=0.751]        Train Loss: 0.6610\n",
      "Train Accuracy: 0.7184\n",
      "Train AUC: 0.7255\n",
      "Epoch 16: 100%|██████████| 1/1 [00:00<00:00, 14.71it/s, v_num=71, train_loss=0.661, train_acc=0.718, train_auc=0.726, val_loss=0.654, val_acc=0.742, val_auc=0.753]"
     ]
    },
    {
     "name": "stderr",
     "output_type": "stream",
     "text": [
      "Metric val_loss improved by 0.001 >= min_delta = 0.0. New best score: 0.654\n"
     ]
    },
    {
     "name": "stdout",
     "output_type": "stream",
     "text": [
      "Epoch 17:   0%|          | 0/1 [00:00<?, ?it/s, v_num=71, train_loss=0.661, train_acc=0.718, train_auc=0.726, val_loss=0.654, val_acc=0.742, val_auc=0.753]        Train Loss: 0.6592\n",
      "Train Accuracy: 0.7248\n",
      "Train AUC: 0.7185\n",
      "Epoch 17: 100%|██████████| 1/1 [00:00<00:00, 13.49it/s, v_num=71, train_loss=0.659, train_acc=0.725, train_auc=0.719, val_loss=0.653, val_acc=0.741, val_auc=0.755]"
     ]
    },
    {
     "name": "stderr",
     "output_type": "stream",
     "text": [
      "Metric val_loss improved by 0.002 >= min_delta = 0.0. New best score: 0.653\n"
     ]
    },
    {
     "name": "stdout",
     "output_type": "stream",
     "text": [
      "Epoch 18:   0%|          | 0/1 [00:00<?, ?it/s, v_num=71, train_loss=0.659, train_acc=0.725, train_auc=0.719, val_loss=0.653, val_acc=0.741, val_auc=0.755]        Train Loss: 0.6607\n",
      "Train Accuracy: 0.7320\n",
      "Train AUC: 0.7234\n",
      "Epoch 18: 100%|██████████| 1/1 [00:00<00:00, 12.35it/s, v_num=71, train_loss=0.661, train_acc=0.732, train_auc=0.723, val_loss=0.651, val_acc=0.742, val_auc=0.756]"
     ]
    },
    {
     "name": "stderr",
     "output_type": "stream",
     "text": [
      "Metric val_loss improved by 0.002 >= min_delta = 0.0. New best score: 0.651\n"
     ]
    },
    {
     "name": "stdout",
     "output_type": "stream",
     "text": [
      "Epoch 19:   0%|          | 0/1 [00:00<?, ?it/s, v_num=71, train_loss=0.661, train_acc=0.732, train_auc=0.723, val_loss=0.651, val_acc=0.742, val_auc=0.756]        Train Loss: 0.6581\n",
      "Train Accuracy: 0.7264\n",
      "Train AUC: 0.7422\n",
      "Epoch 19: 100%|██████████| 1/1 [00:00<00:00, 10.81it/s, v_num=71, train_loss=0.658, train_acc=0.726, train_auc=0.742, val_loss=0.649, val_acc=0.741, val_auc=0.758]"
     ]
    },
    {
     "name": "stderr",
     "output_type": "stream",
     "text": [
      "Metric val_loss improved by 0.002 >= min_delta = 0.0. New best score: 0.649\n"
     ]
    },
    {
     "name": "stdout",
     "output_type": "stream",
     "text": [
      "Epoch 20:   0%|          | 0/1 [00:00<?, ?it/s, v_num=71, train_loss=0.658, train_acc=0.726, train_auc=0.742, val_loss=0.649, val_acc=0.741, val_auc=0.758]        Train Loss: 0.6496\n",
      "Train Accuracy: 0.7568\n",
      "Train AUC: 0.7532\n",
      "Epoch 20: 100%|██████████| 1/1 [00:00<00:00, 13.47it/s, v_num=71, train_loss=0.650, train_acc=0.757, train_auc=0.753, val_loss=0.647, val_acc=0.742, val_auc=0.759]"
     ]
    },
    {
     "name": "stderr",
     "output_type": "stream",
     "text": [
      "Metric val_loss improved by 0.002 >= min_delta = 0.0. New best score: 0.647\n"
     ]
    },
    {
     "name": "stdout",
     "output_type": "stream",
     "text": [
      "Epoch 21:   0%|          | 0/1 [00:00<?, ?it/s, v_num=71, train_loss=0.650, train_acc=0.757, train_auc=0.753, val_loss=0.647, val_acc=0.742, val_auc=0.759]        Train Loss: 0.6432\n",
      "Train Accuracy: 0.7472\n",
      "Train AUC: 0.7635\n",
      "Epoch 21: 100%|██████████| 1/1 [00:00<00:00,  6.71it/s, v_num=71, train_loss=0.643, train_acc=0.747, train_auc=0.764, val_loss=0.644, val_acc=0.741, val_auc=0.759]"
     ]
    },
    {
     "name": "stderr",
     "output_type": "stream",
     "text": [
      "Metric val_loss improved by 0.003 >= min_delta = 0.0. New best score: 0.644\n"
     ]
    },
    {
     "name": "stdout",
     "output_type": "stream",
     "text": [
      "Epoch 22:   0%|          | 0/1 [00:00<?, ?it/s, v_num=71, train_loss=0.643, train_acc=0.747, train_auc=0.764, val_loss=0.644, val_acc=0.741, val_auc=0.759]        Train Loss: 0.6635\n",
      "Train Accuracy: 0.7360\n",
      "Train AUC: 0.7326\n",
      "Epoch 22: 100%|██████████| 1/1 [00:00<00:00, 13.27it/s, v_num=71, train_loss=0.664, train_acc=0.736, train_auc=0.733, val_loss=0.642, val_acc=0.741, val_auc=0.760]"
     ]
    },
    {
     "name": "stderr",
     "output_type": "stream",
     "text": [
      "Metric val_loss improved by 0.003 >= min_delta = 0.0. New best score: 0.642\n"
     ]
    },
    {
     "name": "stdout",
     "output_type": "stream",
     "text": [
      "Epoch 23:   0%|          | 0/1 [00:00<?, ?it/s, v_num=71, train_loss=0.664, train_acc=0.736, train_auc=0.733, val_loss=0.642, val_acc=0.741, val_auc=0.760]        Train Loss: 0.6585\n",
      "Train Accuracy: 0.7456\n",
      "Train AUC: 0.7554\n",
      "Epoch 23: 100%|██████████| 1/1 [00:00<00:00, 14.29it/s, v_num=71, train_loss=0.659, train_acc=0.746, train_auc=0.755, val_loss=0.639, val_acc=0.745, val_auc=0.762]"
     ]
    },
    {
     "name": "stderr",
     "output_type": "stream",
     "text": [
      "Metric val_loss improved by 0.002 >= min_delta = 0.0. New best score: 0.639\n"
     ]
    },
    {
     "name": "stdout",
     "output_type": "stream",
     "text": [
      "Epoch 24:   0%|          | 0/1 [00:00<?, ?it/s, v_num=71, train_loss=0.659, train_acc=0.746, train_auc=0.755, val_loss=0.639, val_acc=0.745, val_auc=0.762]        Train Loss: 0.6555\n",
      "Train Accuracy: 0.7352\n",
      "Train AUC: 0.7501\n",
      "Epoch 24: 100%|██████████| 1/1 [00:00<00:00, 14.70it/s, v_num=71, train_loss=0.655, train_acc=0.735, train_auc=0.750, val_loss=0.637, val_acc=0.744, val_auc=0.764]"
     ]
    },
    {
     "name": "stderr",
     "output_type": "stream",
     "text": [
      "Metric val_loss improved by 0.002 >= min_delta = 0.0. New best score: 0.637\n"
     ]
    },
    {
     "name": "stdout",
     "output_type": "stream",
     "text": [
      "Epoch 25:   0%|          | 0/1 [00:00<?, ?it/s, v_num=71, train_loss=0.655, train_acc=0.735, train_auc=0.750, val_loss=0.637, val_acc=0.744, val_auc=0.764]        Train Loss: 0.6293\n",
      "Train Accuracy: 0.7440\n",
      "Train AUC: 0.7534\n",
      "Epoch 25: 100%|██████████| 1/1 [00:00<00:00, 14.31it/s, v_num=71, train_loss=0.629, train_acc=0.744, train_auc=0.753, val_loss=0.634, val_acc=0.744, val_auc=0.766]"
     ]
    },
    {
     "name": "stderr",
     "output_type": "stream",
     "text": [
      "Metric val_loss improved by 0.003 >= min_delta = 0.0. New best score: 0.634\n"
     ]
    },
    {
     "name": "stdout",
     "output_type": "stream",
     "text": [
      "Epoch 26:   0%|          | 0/1 [00:00<?, ?it/s, v_num=71, train_loss=0.629, train_acc=0.744, train_auc=0.753, val_loss=0.634, val_acc=0.744, val_auc=0.766]        Train Loss: 0.6405\n",
      "Train Accuracy: 0.7408\n",
      "Train AUC: 0.7453\n",
      "Epoch 26: 100%|██████████| 1/1 [00:00<00:00, 14.10it/s, v_num=71, train_loss=0.640, train_acc=0.741, train_auc=0.745, val_loss=0.631, val_acc=0.746, val_auc=0.767]"
     ]
    },
    {
     "name": "stderr",
     "output_type": "stream",
     "text": [
      "Metric val_loss improved by 0.003 >= min_delta = 0.0. New best score: 0.631\n"
     ]
    },
    {
     "name": "stdout",
     "output_type": "stream",
     "text": [
      "Epoch 27:   0%|          | 0/1 [00:00<?, ?it/s, v_num=71, train_loss=0.640, train_acc=0.741, train_auc=0.745, val_loss=0.631, val_acc=0.746, val_auc=0.767]        Train Loss: 0.6314\n",
      "Train Accuracy: 0.7448\n",
      "Train AUC: 0.7641\n",
      "Epoch 27: 100%|██████████| 1/1 [00:00<00:00, 13.89it/s, v_num=71, train_loss=0.631, train_acc=0.745, train_auc=0.764, val_loss=0.627, val_acc=0.744, val_auc=0.768]"
     ]
    },
    {
     "name": "stderr",
     "output_type": "stream",
     "text": [
      "Metric val_loss improved by 0.004 >= min_delta = 0.0. New best score: 0.627\n"
     ]
    },
    {
     "name": "stdout",
     "output_type": "stream",
     "text": [
      "Epoch 28:   0%|          | 0/1 [00:00<?, ?it/s, v_num=71, train_loss=0.631, train_acc=0.745, train_auc=0.764, val_loss=0.627, val_acc=0.744, val_auc=0.768]        Train Loss: 0.6403\n",
      "Train Accuracy: 0.7312\n",
      "Train AUC: 0.7484\n",
      "Epoch 28: 100%|██████████| 1/1 [00:00<00:00, 14.92it/s, v_num=71, train_loss=0.640, train_acc=0.731, train_auc=0.748, val_loss=0.623, val_acc=0.742, val_auc=0.770]"
     ]
    },
    {
     "name": "stderr",
     "output_type": "stream",
     "text": [
      "Metric val_loss improved by 0.004 >= min_delta = 0.0. New best score: 0.623\n"
     ]
    },
    {
     "name": "stdout",
     "output_type": "stream",
     "text": [
      "Epoch 29:   0%|          | 0/1 [00:00<?, ?it/s, v_num=71, train_loss=0.640, train_acc=0.731, train_auc=0.748, val_loss=0.623, val_acc=0.742, val_auc=0.770]        Train Loss: 0.6465\n",
      "Train Accuracy: 0.7352\n",
      "Train AUC: 0.7476\n",
      "Epoch 29: 100%|██████████| 1/1 [00:00<00:00, 13.84it/s, v_num=71, train_loss=0.647, train_acc=0.735, train_auc=0.748, val_loss=0.620, val_acc=0.740, val_auc=0.772]"
     ]
    },
    {
     "name": "stderr",
     "output_type": "stream",
     "text": [
      "Metric val_loss improved by 0.003 >= min_delta = 0.0. New best score: 0.620\n"
     ]
    },
    {
     "name": "stdout",
     "output_type": "stream",
     "text": [
      "Epoch 30:   0%|          | 0/1 [00:00<?, ?it/s, v_num=71, train_loss=0.647, train_acc=0.735, train_auc=0.748, val_loss=0.620, val_acc=0.740, val_auc=0.772]        Train Loss: 0.6487\n",
      "Train Accuracy: 0.7472\n",
      "Train AUC: 0.7611\n",
      "Epoch 30: 100%|██████████| 1/1 [00:00<00:00, 11.77it/s, v_num=71, train_loss=0.649, train_acc=0.747, train_auc=0.761, val_loss=0.617, val_acc=0.742, val_auc=0.774]"
     ]
    },
    {
     "name": "stderr",
     "output_type": "stream",
     "text": [
      "Metric val_loss improved by 0.002 >= min_delta = 0.0. New best score: 0.617\n"
     ]
    },
    {
     "name": "stdout",
     "output_type": "stream",
     "text": [
      "Epoch 31:   0%|          | 0/1 [00:00<?, ?it/s, v_num=71, train_loss=0.649, train_acc=0.747, train_auc=0.761, val_loss=0.617, val_acc=0.742, val_auc=0.774]        Train Loss: 0.6454\n",
      "Train Accuracy: 0.7304\n",
      "Train AUC: 0.7445\n",
      "Epoch 31: 100%|██████████| 1/1 [00:00<00:00,  8.99it/s, v_num=71, train_loss=0.645, train_acc=0.730, train_auc=0.744, val_loss=0.615, val_acc=0.746, val_auc=0.777]"
     ]
    },
    {
     "name": "stderr",
     "output_type": "stream",
     "text": [
      "Metric val_loss improved by 0.002 >= min_delta = 0.0. New best score: 0.615\n"
     ]
    },
    {
     "name": "stdout",
     "output_type": "stream",
     "text": [
      "Epoch 32:   0%|          | 0/1 [00:00<?, ?it/s, v_num=71, train_loss=0.645, train_acc=0.730, train_auc=0.744, val_loss=0.615, val_acc=0.746, val_auc=0.777]        Train Loss: 0.6347\n",
      "Train Accuracy: 0.7384\n",
      "Train AUC: 0.7524\n",
      "Epoch 32: 100%|██████████| 1/1 [00:00<00:00,  9.14it/s, v_num=71, train_loss=0.635, train_acc=0.738, train_auc=0.752, val_loss=0.614, val_acc=0.739, val_auc=0.780]"
     ]
    },
    {
     "name": "stderr",
     "output_type": "stream",
     "text": [
      "Metric val_loss improved by 0.001 >= min_delta = 0.0. New best score: 0.614\n"
     ]
    },
    {
     "name": "stdout",
     "output_type": "stream",
     "text": [
      "Epoch 33:   0%|          | 0/1 [00:00<?, ?it/s, v_num=71, train_loss=0.635, train_acc=0.738, train_auc=0.752, val_loss=0.614, val_acc=0.739, val_auc=0.780]        Train Loss: 0.6380\n",
      "Train Accuracy: 0.7240\n",
      "Train AUC: 0.7441\n",
      "Epoch 33: 100%|██████████| 1/1 [00:00<00:00, 14.48it/s, v_num=71, train_loss=0.638, train_acc=0.724, train_auc=0.744, val_loss=0.614, val_acc=0.735, val_auc=0.784]"
     ]
    },
    {
     "name": "stderr",
     "output_type": "stream",
     "text": [
      "Metric val_loss improved by 0.001 >= min_delta = 0.0. New best score: 0.614\n"
     ]
    },
    {
     "name": "stdout",
     "output_type": "stream",
     "text": [
      "Epoch 34:   0%|          | 0/1 [00:00<?, ?it/s, v_num=71, train_loss=0.638, train_acc=0.724, train_auc=0.744, val_loss=0.614, val_acc=0.735, val_auc=0.784]        Train Loss: 0.6216\n",
      "Train Accuracy: 0.7416\n",
      "Train AUC: 0.7673\n",
      "Epoch 34: 100%|██████████| 1/1 [00:00<00:00, 14.50it/s, v_num=71, train_loss=0.622, train_acc=0.742, train_auc=0.767, val_loss=0.612, val_acc=0.735, val_auc=0.788]"
     ]
    },
    {
     "name": "stderr",
     "output_type": "stream",
     "text": [
      "Metric val_loss improved by 0.002 >= min_delta = 0.0. New best score: 0.612\n"
     ]
    },
    {
     "name": "stdout",
     "output_type": "stream",
     "text": [
      "Epoch 35:   0%|          | 0/1 [00:00<?, ?it/s, v_num=71, train_loss=0.622, train_acc=0.742, train_auc=0.767, val_loss=0.612, val_acc=0.735, val_auc=0.788]        Train Loss: 0.6222\n",
      "Train Accuracy: 0.7424\n",
      "Train AUC: 0.7741\n",
      "Epoch 35: 100%|██████████| 1/1 [00:00<00:00, 12.69it/s, v_num=71, train_loss=0.622, train_acc=0.742, train_auc=0.774, val_loss=0.609, val_acc=0.730, val_auc=0.791]"
     ]
    },
    {
     "name": "stderr",
     "output_type": "stream",
     "text": [
      "Metric val_loss improved by 0.003 >= min_delta = 0.0. New best score: 0.609\n"
     ]
    },
    {
     "name": "stdout",
     "output_type": "stream",
     "text": [
      "Epoch 36:   0%|          | 0/1 [00:00<?, ?it/s, v_num=71, train_loss=0.622, train_acc=0.742, train_auc=0.774, val_loss=0.609, val_acc=0.730, val_auc=0.791]        Train Loss: 0.6105\n",
      "Train Accuracy: 0.7504\n",
      "Train AUC: 0.7848\n",
      "Epoch 36: 100%|██████████| 1/1 [00:00<00:00, 14.11it/s, v_num=71, train_loss=0.610, train_acc=0.750, train_auc=0.785, val_loss=0.604, val_acc=0.733, val_auc=0.793]"
     ]
    },
    {
     "name": "stderr",
     "output_type": "stream",
     "text": [
      "Metric val_loss improved by 0.004 >= min_delta = 0.0. New best score: 0.604\n"
     ]
    },
    {
     "name": "stdout",
     "output_type": "stream",
     "text": [
      "Epoch 37:   0%|          | 0/1 [00:00<?, ?it/s, v_num=71, train_loss=0.610, train_acc=0.750, train_auc=0.785, val_loss=0.604, val_acc=0.733, val_auc=0.793]        Train Loss: 0.6136\n",
      "Train Accuracy: 0.7288\n",
      "Train AUC: 0.7762\n",
      "Epoch 37: 100%|██████████| 1/1 [00:00<00:00, 14.08it/s, v_num=71, train_loss=0.614, train_acc=0.729, train_auc=0.776, val_loss=0.599, val_acc=0.734, val_auc=0.794]"
     ]
    },
    {
     "name": "stderr",
     "output_type": "stream",
     "text": [
      "Metric val_loss improved by 0.005 >= min_delta = 0.0. New best score: 0.599\n"
     ]
    },
    {
     "name": "stdout",
     "output_type": "stream",
     "text": [
      "Epoch 38:   0%|          | 0/1 [00:00<?, ?it/s, v_num=71, train_loss=0.614, train_acc=0.729, train_auc=0.776, val_loss=0.599, val_acc=0.734, val_auc=0.794]        Train Loss: 0.6186\n",
      "Train Accuracy: 0.7504\n",
      "Train AUC: 0.7803\n",
      "Epoch 38: 100%|██████████| 1/1 [00:00<00:00, 15.87it/s, v_num=71, train_loss=0.619, train_acc=0.750, train_auc=0.780, val_loss=0.593, val_acc=0.729, val_auc=0.794]"
     ]
    },
    {
     "name": "stderr",
     "output_type": "stream",
     "text": [
      "Metric val_loss improved by 0.006 >= min_delta = 0.0. New best score: 0.593\n"
     ]
    },
    {
     "name": "stdout",
     "output_type": "stream",
     "text": [
      "Epoch 39:   0%|          | 0/1 [00:00<?, ?it/s, v_num=71, train_loss=0.619, train_acc=0.750, train_auc=0.780, val_loss=0.593, val_acc=0.729, val_auc=0.794]        Train Loss: 0.6003\n",
      "Train Accuracy: 0.7432\n",
      "Train AUC: 0.7717\n",
      "Epoch 39: 100%|██████████| 1/1 [00:00<00:00, 15.62it/s, v_num=71, train_loss=0.600, train_acc=0.743, train_auc=0.772, val_loss=0.588, val_acc=0.728, val_auc=0.795]"
     ]
    },
    {
     "name": "stderr",
     "output_type": "stream",
     "text": [
      "Metric val_loss improved by 0.006 >= min_delta = 0.0. New best score: 0.588\n"
     ]
    },
    {
     "name": "stdout",
     "output_type": "stream",
     "text": [
      "Epoch 40:   0%|          | 0/1 [00:00<?, ?it/s, v_num=71, train_loss=0.600, train_acc=0.743, train_auc=0.772, val_loss=0.588, val_acc=0.728, val_auc=0.795]        Train Loss: 0.5989\n",
      "Train Accuracy: 0.7408\n",
      "Train AUC: 0.7763\n",
      "Epoch 40: 100%|██████████| 1/1 [00:00<00:00, 14.49it/s, v_num=71, train_loss=0.599, train_acc=0.741, train_auc=0.776, val_loss=0.582, val_acc=0.729, val_auc=0.795]"
     ]
    },
    {
     "name": "stderr",
     "output_type": "stream",
     "text": [
      "Metric val_loss improved by 0.006 >= min_delta = 0.0. New best score: 0.582\n"
     ]
    },
    {
     "name": "stdout",
     "output_type": "stream",
     "text": [
      "Epoch 41:   0%|          | 0/1 [00:00<?, ?it/s, v_num=71, train_loss=0.599, train_acc=0.741, train_auc=0.776, val_loss=0.582, val_acc=0.729, val_auc=0.795]        Train Loss: 0.5897\n",
      "Train Accuracy: 0.7384\n",
      "Train AUC: 0.7801\n",
      "Epoch 41: 100%|██████████| 1/1 [00:00<00:00, 14.88it/s, v_num=71, train_loss=0.590, train_acc=0.738, train_auc=0.780, val_loss=0.576, val_acc=0.731, val_auc=0.796]"
     ]
    },
    {
     "name": "stderr",
     "output_type": "stream",
     "text": [
      "Metric val_loss improved by 0.006 >= min_delta = 0.0. New best score: 0.576\n"
     ]
    },
    {
     "name": "stdout",
     "output_type": "stream",
     "text": [
      "Epoch 42:   0%|          | 0/1 [00:00<?, ?it/s, v_num=71, train_loss=0.590, train_acc=0.738, train_auc=0.780, val_loss=0.576, val_acc=0.731, val_auc=0.796]        Train Loss: 0.6168\n",
      "Train Accuracy: 0.7472\n",
      "Train AUC: 0.7784\n",
      "Epoch 42: 100%|██████████| 1/1 [00:00<00:00,  6.41it/s, v_num=71, train_loss=0.617, train_acc=0.747, train_auc=0.778, val_loss=0.571, val_acc=0.730, val_auc=0.798]"
     ]
    },
    {
     "name": "stderr",
     "output_type": "stream",
     "text": [
      "Metric val_loss improved by 0.005 >= min_delta = 0.0. New best score: 0.571\n"
     ]
    },
    {
     "name": "stdout",
     "output_type": "stream",
     "text": [
      "Epoch 43:   0%|          | 0/1 [00:00<?, ?it/s, v_num=71, train_loss=0.617, train_acc=0.747, train_auc=0.778, val_loss=0.571, val_acc=0.730, val_auc=0.798]        Train Loss: 0.5952\n",
      "Train Accuracy: 0.7456\n",
      "Train AUC: 0.7701\n",
      "Epoch 43: 100%|██████████| 1/1 [00:00<00:00, 15.15it/s, v_num=71, train_loss=0.595, train_acc=0.746, train_auc=0.770, val_loss=0.566, val_acc=0.728, val_auc=0.800]"
     ]
    },
    {
     "name": "stderr",
     "output_type": "stream",
     "text": [
      "Metric val_loss improved by 0.004 >= min_delta = 0.0. New best score: 0.566\n"
     ]
    },
    {
     "name": "stdout",
     "output_type": "stream",
     "text": [
      "Epoch 44:   0%|          | 0/1 [00:00<?, ?it/s, v_num=71, train_loss=0.595, train_acc=0.746, train_auc=0.770, val_loss=0.566, val_acc=0.728, val_auc=0.800]        Train Loss: 0.5898\n",
      "Train Accuracy: 0.7312\n",
      "Train AUC: 0.7786\n",
      "Epoch 44: 100%|██████████| 1/1 [00:00<00:00, 11.76it/s, v_num=71, train_loss=0.590, train_acc=0.731, train_auc=0.779, val_loss=0.563, val_acc=0.728, val_auc=0.802]"
     ]
    },
    {
     "name": "stderr",
     "output_type": "stream",
     "text": [
      "Metric val_loss improved by 0.004 >= min_delta = 0.0. New best score: 0.563\n"
     ]
    },
    {
     "name": "stdout",
     "output_type": "stream",
     "text": [
      "Epoch 45:   0%|          | 0/1 [00:00<?, ?it/s, v_num=71, train_loss=0.590, train_acc=0.731, train_auc=0.779, val_loss=0.563, val_acc=0.728, val_auc=0.802]        Train Loss: 0.5703\n",
      "Train Accuracy: 0.7392\n",
      "Train AUC: 0.7965\n",
      "Epoch 45: 100%|██████████| 1/1 [00:00<00:00, 14.29it/s, v_num=71, train_loss=0.570, train_acc=0.739, train_auc=0.796, val_loss=0.559, val_acc=0.730, val_auc=0.805]"
     ]
    },
    {
     "name": "stderr",
     "output_type": "stream",
     "text": [
      "Metric val_loss improved by 0.004 >= min_delta = 0.0. New best score: 0.559\n"
     ]
    },
    {
     "name": "stdout",
     "output_type": "stream",
     "text": [
      "Epoch 46:   0%|          | 0/1 [00:00<?, ?it/s, v_num=71, train_loss=0.570, train_acc=0.739, train_auc=0.796, val_loss=0.559, val_acc=0.730, val_auc=0.805]        Train Loss: 0.5642\n",
      "Train Accuracy: 0.7424\n",
      "Train AUC: 0.8016\n",
      "Epoch 46: 100%|██████████| 1/1 [00:00<00:00, 13.93it/s, v_num=71, train_loss=0.564, train_acc=0.742, train_auc=0.802, val_loss=0.555, val_acc=0.729, val_auc=0.807]"
     ]
    },
    {
     "name": "stderr",
     "output_type": "stream",
     "text": [
      "Metric val_loss improved by 0.004 >= min_delta = 0.0. New best score: 0.555\n"
     ]
    },
    {
     "name": "stdout",
     "output_type": "stream",
     "text": [
      "Epoch 47:   0%|          | 0/1 [00:00<?, ?it/s, v_num=71, train_loss=0.564, train_acc=0.742, train_auc=0.802, val_loss=0.555, val_acc=0.729, val_auc=0.807]        Train Loss: 0.5664\n",
      "Train Accuracy: 0.7256\n",
      "Train AUC: 0.7989\n",
      "Epoch 47: 100%|██████████| 1/1 [00:00<00:00, 14.71it/s, v_num=71, train_loss=0.566, train_acc=0.726, train_auc=0.799, val_loss=0.551, val_acc=0.732, val_auc=0.808]"
     ]
    },
    {
     "name": "stderr",
     "output_type": "stream",
     "text": [
      "Metric val_loss improved by 0.004 >= min_delta = 0.0. New best score: 0.551\n"
     ]
    },
    {
     "name": "stdout",
     "output_type": "stream",
     "text": [
      "Epoch 48:   0%|          | 0/1 [00:00<?, ?it/s, v_num=71, train_loss=0.566, train_acc=0.726, train_auc=0.799, val_loss=0.551, val_acc=0.732, val_auc=0.808]        Train Loss: 0.5826\n",
      "Train Accuracy: 0.7480\n",
      "Train AUC: 0.7899\n",
      "Epoch 48: 100%|██████████| 1/1 [00:00<00:00, 13.26it/s, v_num=71, train_loss=0.583, train_acc=0.748, train_auc=0.790, val_loss=0.548, val_acc=0.730, val_auc=0.809]"
     ]
    },
    {
     "name": "stderr",
     "output_type": "stream",
     "text": [
      "Metric val_loss improved by 0.003 >= min_delta = 0.0. New best score: 0.548\n"
     ]
    },
    {
     "name": "stdout",
     "output_type": "stream",
     "text": [
      "Epoch 49:   0%|          | 0/1 [00:00<?, ?it/s, v_num=71, train_loss=0.583, train_acc=0.748, train_auc=0.790, val_loss=0.548, val_acc=0.730, val_auc=0.809]        Train Loss: 0.5621\n",
      "Train Accuracy: 0.7312\n",
      "Train AUC: 0.7960\n",
      "Epoch 49: 100%|██████████| 1/1 [00:00<00:00, 12.82it/s, v_num=71, train_loss=0.562, train_acc=0.731, train_auc=0.796, val_loss=0.545, val_acc=0.730, val_auc=0.811]"
     ]
    },
    {
     "name": "stderr",
     "output_type": "stream",
     "text": [
      "Metric val_loss improved by 0.003 >= min_delta = 0.0. New best score: 0.545\n",
      "`Trainer.fit` stopped: `max_epochs=50` reached.\n"
     ]
    },
    {
     "name": "stdout",
     "output_type": "stream",
     "text": [
      "Epoch 49: 100%|██████████| 1/1 [00:00<00:00,  9.99it/s, v_num=71, train_loss=0.562, train_acc=0.731, train_auc=0.796, val_loss=0.545, val_acc=0.730, val_auc=0.811]\n"
     ]
    },
    {
     "name": "stderr",
     "output_type": "stream",
     "text": [
      "c:\\Users\\rokaa\\egyetem\\basketball_lineup_analysis\\.venv\\lib\\site-packages\\pytorch_lightning\\trainer\\connectors\\data_connector.py:425: The 'test_dataloader' does not have many workers which may be a bottleneck. Consider increasing the value of the `num_workers` argument` to `num_workers=7` in the `DataLoader` to improve performance.\n"
     ]
    },
    {
     "name": "stdout",
     "output_type": "stream",
     "text": [
      "Testing DataLoader 0: 100%|██████████| 1/1 [00:00<00:00, 32.25it/s]\n",
      "────────────────────────────────────────────────────────────────────────────────────────────────────────────────────────\n",
      "       Test metric             DataLoader 0\n",
      "────────────────────────────────────────────────────────────────────────────────────────────────────────────────────────\n",
      "        test_acc             0.720483660697937\n",
      "        test_auc             0.804427981376648\n",
      "        test_loss           0.5506062507629395\n",
      "────────────────────────────────────────────────────────────────────────────────────────────────────────────────────────\n"
     ]
    },
    {
     "data": {
      "text/plain": [
       "[{'test_loss': 0.5506062507629395,\n",
       "  'test_acc': 0.720483660697937,\n",
       "  'test_auc': 0.804427981376648}]"
      ]
     },
     "execution_count": 113,
     "metadata": {},
     "output_type": "execute_result"
    }
   ],
   "source": [
    "model = LitGNN(input_dim=data.x.shape[1])\n",
    "\n",
    "trainer = pl.Trainer(\n",
    "    max_epochs=50,\n",
    "    callbacks=[\n",
    "        pl.callbacks.EarlyStopping(monitor='val_loss', patience=5, verbose=True, mode='min'),\n",
    "        pl.callbacks.ModelCheckpoint(monitor='val_loss', save_top_k=1, mode='min')\n",
    "    ],\n",
    ")\n",
    "\n",
    "trainer.fit(model, train_loader, val_loader)\n",
    "trainer.test(model, test_loader)"
   ]
  },
  {
   "cell_type": "code",
   "execution_count": 105,
   "id": "743d4e8b",
   "metadata": {},
   "outputs": [
    {
     "data": {
      "image/png": "[encoded data removed]",
      "text/plain": [
       "<Figure size 1000x600 with 1 Axes>"
      ]
     },
     "metadata": {},
     "output_type": "display_data"
    }
   ],
   "source": [
    "import matplotlib.pyplot as plt\n",
    "\n",
    "# Get the model predictions on the test dataset\n",
    "model.eval()\n",
    "with torch.no_grad():\n",
    "    x, edge_index, edge_attr = test_data.x, test_data.edge_index, test_data.edge_attr\n",
    "    edge_label_index, edge_label = test_data.edge_label_index, test_data.edge_label\n",
    "\n",
    "    node_emb = model.gnn(x, edge_index, edge_attr)\n",
    "    u_emb = node_emb[edge_label_index[0]]\n",
    "    v_emb = node_emb[edge_label_index[1]]\n",
    "    preds = model.link_predictor(u_emb, v_emb)\n",
    "\n",
    "# Plot the predicted values\n",
    "plt.figure(figsize=(10, 6))\n",
    "plt.scatter(range(len(preds)), preds.cpu().numpy(), label='Predicted', alpha=0.7)\n",
    "plt.scatter(range(len(edge_label)), edge_label.cpu().numpy(), label='True', alpha=0.7)\n",
    "plt.xlabel('Sample Index')\n",
    "plt.ylabel('Value')\n",
    "plt.title('Predicted vs True Values in Test Dataset')\n",
    "plt.legend()\n",
    "plt.show()"
   ]
  },
  {
   "cell_type": "markdown",
   "id": "12ef00fb",
   "metadata": {},
   "source": [
    "# Evaluation"
   ]
  },
  {
   "cell_type": "code",
   "execution_count": 110,
   "id": "7715819b",
   "metadata": {},
   "outputs": [],
   "source": [
    "sweep_config = {\n",
    "    'method': 'bayes',  # bayes, grid, or random\n",
    "    'metric': {\n",
    "        'name': 'val_loss',\n",
    "        'goal': 'minimize'   \n",
    "    },\n",
    "    'parameters': {\n",
    "        'hidden_dim': {\n",
    "            'values': [32, 64, 128]\n",
    "        },\n",
    "        'num_conv_layers': {\n",
    "            'values': [2, 3, 4]\n",
    "        },\n",
    "        'num_linear_layers': {\n",
    "            'values': [1, 2, 3]\n",
    "        },\n",
    "        'lr': {\n",
    "            'distribution': 'log_uniform',\n",
    "            'min': 1e-4,\n",
    "            'max': 1e-2\n",
    "        },\n",
    "        'weight_decay': {\n",
    "            'distribution': 'log_uniform',\n",
    "            'min': 1e-5,\n",
    "            'max': 1e-2\n",
    "        },\n",
    "        'dropout': {\n",
    "            'values': [0.0, 0.2, 0.4]\n",
    "        }\n",
    "    }\n",
    "}"
   ]
  },
  {
   "cell_type": "code",
   "execution_count": 114,
   "id": "f6d64040",
   "metadata": {},
   "outputs": [],
   "source": [
    "def train_sweep():\n",
    "    with wandb.init() as run:\n",
    "        config = wandb.config\n",
    "        \"\"\"\n",
    "        model = LitGNN(\n",
    "                input_dim=data.x.shape[1],\n",
    "                conv_layers=config.num_conv_layers,\n",
    "                link_predictor_layers=config.num_linear_layers,\n",
    "                conv_hidden_dim=config.hidden_dim,\n",
    "                link_hidden_dim=config.hidden_dim,\n",
    "                learning_rate=config.lr,\n",
    "                weight_decay=config.weight_decay,\n",
    "                dropout_rate=config.dropout\n",
    "            ) \"\"\"\n",
    "        model = LitGNN(input_dim=data.x.shape[1])\n",
    "\n",
    "        trainer = pl.Trainer(\n",
    "            max_epochs=50,\n",
    "            logger=pl.loggers.WandbLogger(),\n",
    "            callbacks=[\n",
    "                pl.callbacks.EarlyStopping(monitor='val_loss', patience=10),\n",
    "                pl.callbacks.ModelCheckpoint(monitor='val_loss')\n",
    "            ]\n",
    "        )\n",
    "        trainer.fit(model, train_loader, val_loader)\n",
    "        trainer.test(model, test_loader)"
   ]
  },
  {
   "cell_type": "code",
   "execution_count": 115,
   "id": "5de0792a",
   "metadata": {},
   "outputs": [
    {
     "name": "stderr",
     "output_type": "stream",
     "text": [
      "\u001b[34m\u001b[1mwandb\u001b[0m: \u001b[33mWARNING\u001b[0m Malformed sweep config detected! This may cause your sweep to behave in unexpected ways.\n",
      "\u001b[34m\u001b[1mwandb\u001b[0m: \u001b[33mWARNING\u001b[0m To avoid this, please fix the sweep config schema violations below:\n",
      "\u001b[34m\u001b[1mwandb\u001b[0m: \u001b[33mWARNING\u001b[0m   Violation 1. lr uses log_uniform, where min/max specify base-e exponents. Use log_uniform_values to specify limit values.\n",
      "\u001b[34m\u001b[1mwandb\u001b[0m: \u001b[33mWARNING\u001b[0m   Violation 2. weight_decay uses log_uniform, where min/max specify base-e exponents. Use log_uniform_values to specify limit values.\n"
     ]
    },
    {
     "name": "stdout",
     "output_type": "stream",
     "text": [
      "Create sweep with ID: vlnj32yu\n",
      "Sweep URL: https://wandb.ai/rokaati18-budapesti-m-szaki-s-gazdas-gtudom-nyi-egyetem/nba_lineup_prediction/sweeps/vlnj32yu\n"
     ]
    },
    {
     "name": "stderr",
     "output_type": "stream",
     "text": [
      "\u001b[34m\u001b[1mwandb\u001b[0m: Agent Starting Run: gvs58ert with config:\n",
      "\u001b[34m\u001b[1mwandb\u001b[0m: \tdropout: 0.2\n",
      "\u001b[34m\u001b[1mwandb\u001b[0m: \thidden_dim: 32\n",
      "\u001b[34m\u001b[1mwandb\u001b[0m: \tlr: 1.0012672756607033\n",
      "\u001b[34m\u001b[1mwandb\u001b[0m: \tnum_conv_layers: 4\n",
      "\u001b[34m\u001b[1mwandb\u001b[0m: \tnum_linear_layers: 3\n",
      "\u001b[34m\u001b[1mwandb\u001b[0m: \tweight_decay: 1.002390598864212\n"
     ]
    },
    {
     "data": {
      "text/html": [
       "Waiting for wandb.init()..."
      ],
      "text/plain": [
       "<IPython.core.display.HTML object>"
      ]
     },
     "metadata": {},
     "output_type": "display_data"
    },
    {
     "data": {
      "text/html": [
       "Tracking run with wandb version 0.19.9"
      ],
      "text/plain": [
       "<IPython.core.display.HTML object>"
      ]
     },
     "metadata": {},
     "output_type": "display_data"
    },
    {
     "data": {
      "text/html": [
       "Run data is saved locally in <code>c:\\Users\\rokaa\\egyetem\\basketball_lineup_analysis\\LineupVSLineup\\GNN\\wandb\\run-20250502_194121-gvs58ert</code>"
      ],
      "text/plain": [
       "<IPython.core.display.HTML object>"
      ]
     },
     "metadata": {},
     "output_type": "display_data"
    },
    {
     "data": {
      "text/html": [
       "Syncing run <strong><a href='https://wandb.ai/rokaati18-budapesti-m-szaki-s-gazdas-gtudom-nyi-egyetem/nba_lineup_prediction/runs/gvs58ert' target=\"_blank\">colorful-sweep-1</a></strong> to <a href='https://wandb.ai/rokaati18-budapesti-m-szaki-s-gazdas-gtudom-nyi-egyetem/nba_lineup_prediction' target=\"_blank\">Weights & Biases</a> (<a href='https://wandb.me/developer-guide' target=\"_blank\">docs</a>)<br>Sweep page: <a href='https://wandb.ai/rokaati18-budapesti-m-szaki-s-gazdas-gtudom-nyi-egyetem/nba_lineup_prediction/sweeps/vlnj32yu' target=\"_blank\">https://wandb.ai/rokaati18-budapesti-m-szaki-s-gazdas-gtudom-nyi-egyetem/nba_lineup_prediction/sweeps/vlnj32yu</a>"
      ],
      "text/plain": [
       "<IPython.core.display.HTML object>"
      ]
     },
     "metadata": {},
     "output_type": "display_data"
    },
    {
     "data": {
      "text/html": [
       " View project at <a href='https://wandb.ai/rokaati18-budapesti-m-szaki-s-gazdas-gtudom-nyi-egyetem/nba_lineup_prediction' target=\"_blank\">https://wandb.ai/rokaati18-budapesti-m-szaki-s-gazdas-gtudom-nyi-egyetem/nba_lineup_prediction</a>"
      ],
      "text/plain": [
       "<IPython.core.display.HTML object>"
      ]
     },
     "metadata": {},
     "output_type": "display_data"
    },
    {
     "data": {
      "text/html": [
       " View sweep at <a href='https://wandb.ai/rokaati18-budapesti-m-szaki-s-gazdas-gtudom-nyi-egyetem/nba_lineup_prediction/sweeps/vlnj32yu' target=\"_blank\">https://wandb.ai/rokaati18-budapesti-m-szaki-s-gazdas-gtudom-nyi-egyetem/nba_lineup_prediction/sweeps/vlnj32yu</a>"
      ],
      "text/plain": [
       "<IPython.core.display.HTML object>"
      ]
     },
     "metadata": {},
     "output_type": "display_data"
    },
    {
     "data": {
      "text/html": [
       " View run at <a href='https://wandb.ai/rokaati18-budapesti-m-szaki-s-gazdas-gtudom-nyi-egyetem/nba_lineup_prediction/runs/gvs58ert' target=\"_blank\">https://wandb.ai/rokaati18-budapesti-m-szaki-s-gazdas-gtudom-nyi-egyetem/nba_lineup_prediction/runs/gvs58ert</a>"
      ],
      "text/plain": [
       "<IPython.core.display.HTML object>"
      ]
     },
     "metadata": {},
     "output_type": "display_data"
    },
    {
     "name": "stderr",
     "output_type": "stream",
     "text": [
      "GPU available: False, used: False\n",
      "TPU available: False, using: 0 TPU cores\n",
      "HPU available: False, using: 0 HPUs\n",
      "c:\\Users\\rokaa\\egyetem\\basketball_lineup_analysis\\.venv\\lib\\site-packages\\pytorch_lightning\\loggers\\wandb.py:397: There is a wandb run already in progress and newly created instances of `WandbLogger` will reuse this run. If this is not desired, call `wandb.finish()` before instantiating `WandbLogger`.\n",
      "\n",
      "  | Name           | Type           | Params | Mode \n",
      "----------------------------------------------------------\n",
      "0 | gnn            | GNNModel       | 13.4 K | train\n",
      "1 | link_predictor | LinkPredictor  | 8.3 K  | train\n",
      "2 | loss_fn        | BCELoss        | 0      | train\n",
      "3 | train_acc      | BinaryAccuracy | 0      | train\n",
      "4 | val_acc        | BinaryAccuracy | 0      | train\n",
      "5 | test_acc       | BinaryAccuracy | 0      | train\n",
      "6 | train_auroc    | BinaryAUROC    | 0      | train\n",
      "7 | val_auroc      | BinaryAUROC    | 0      | train\n",
      "8 | test_auroc     | BinaryAUROC    | 0      | train\n",
      "----------------------------------------------------------\n",
      "21.7 K    Trainable params\n",
      "0         Non-trainable params\n",
      "21.7 K    Total params\n",
      "0.087     Total estimated model params size (MB)\n",
      "29        Modules in train mode\n",
      "0         Modules in eval mode\n",
      "\u001b[34m\u001b[1mwandb\u001b[0m: \u001b[33mWARNING\u001b[0m Config item 'weight_decay' was locked by 'sweep' (ignored update).\n"
     ]
    },
    {
     "name": "stdout",
     "output_type": "stream",
     "text": [
      "                                                                           "
     ]
    },
    {
     "name": "stderr",
     "output_type": "stream",
     "text": [
      "c:\\Users\\rokaa\\egyetem\\basketball_lineup_analysis\\.venv\\lib\\site-packages\\pytorch_lightning\\trainer\\connectors\\data_connector.py:425: The 'val_dataloader' does not have many workers which may be a bottleneck. Consider increasing the value of the `num_workers` argument` to `num_workers=7` in the `DataLoader` to improve performance.\n",
      "c:\\Users\\rokaa\\egyetem\\basketball_lineup_analysis\\.venv\\lib\\site-packages\\pytorch_lightning\\trainer\\connectors\\data_connector.py:425: The 'train_dataloader' does not have many workers which may be a bottleneck. Consider increasing the value of the `num_workers` argument` to `num_workers=7` in the `DataLoader` to improve performance.\n",
      "c:\\Users\\rokaa\\egyetem\\basketball_lineup_analysis\\.venv\\lib\\site-packages\\pytorch_lightning\\loops\\fit_loop.py:310: The number of training batches (1) is smaller than the logging interval Trainer(log_every_n_steps=50). Set a lower value for log_every_n_steps if you want to see logs for the training epoch.\n"
     ]
    },
    {
     "name": "stdout",
     "output_type": "stream",
     "text": [
      "Epoch 0:   0%|          | 0/1 [00:00<?, ?it/s] Train Loss: 0.7640\n",
      "Train Accuracy: 0.4384\n",
      "Train AUC: 0.4020\n",
      "Epoch 1:   0%|          | 0/1 [00:00<?, ?it/s, v_num=8ert, train_loss=0.764, train_acc=0.438, train_auc=0.402, val_loss=0.683, val_acc=0.544, val_auc=0.664]        Train Loss: 0.7016\n",
      "Train Accuracy: 0.5184\n",
      "Train AUC: 0.5299\n",
      "Epoch 2:   0%|          | 0/1 [00:00<?, ?it/s, v_num=8ert, train_loss=0.702, train_acc=0.518, train_auc=0.530, val_loss=0.673, val_acc=0.588, val_auc=0.722]        Train Loss: 0.6971\n",
      "Train Accuracy: 0.5424\n",
      "Train AUC: 0.6136\n",
      "Epoch 3:   0%|          | 0/1 [00:00<?, ?it/s, v_num=8ert, train_loss=0.697, train_acc=0.542, train_auc=0.614, val_loss=0.668, val_acc=0.597, val_auc=0.735]        Train Loss: 0.6828\n",
      "Train Accuracy: 0.6168\n",
      "Train AUC: 0.7031\n",
      "Epoch 4:   0%|          | 0/1 [00:00<?, ?it/s, v_num=8ert, train_loss=0.683, train_acc=0.617, train_auc=0.703, val_loss=0.664, val_acc=0.628, val_auc=0.740]        Train Loss: 0.6702\n",
      "Train Accuracy: 0.6128\n",
      "Train AUC: 0.7136\n",
      "Epoch 5:   0%|          | 0/1 [00:00<?, ?it/s, v_num=8ert, train_loss=0.670, train_acc=0.613, train_auc=0.714, val_loss=0.661, val_acc=0.641, val_auc=0.740]        Train Loss: 0.6758\n",
      "Train Accuracy: 0.6448\n",
      "Train AUC: 0.7161\n",
      "Epoch 6:   0%|          | 0/1 [00:00<?, ?it/s, v_num=8ert, train_loss=0.676, train_acc=0.645, train_auc=0.716, val_loss=0.659, val_acc=0.662, val_auc=0.741]        Train Loss: 0.6707\n",
      "Train Accuracy: 0.6632\n",
      "Train AUC: 0.7312\n",
      "Epoch 7:   0%|          | 0/1 [00:00<?, ?it/s, v_num=8ert, train_loss=0.671, train_acc=0.663, train_auc=0.731, val_loss=0.658, val_acc=0.686, val_auc=0.742]        Train Loss: 0.6671\n",
      "Train Accuracy: 0.6728\n",
      "Train AUC: 0.7176\n",
      "Epoch 8:   0%|          | 0/1 [00:00<?, ?it/s, v_num=8ert, train_loss=0.667, train_acc=0.673, train_auc=0.718, val_loss=0.656, val_acc=0.714, val_auc=0.744]        Train Loss: 0.6595\n",
      "Train Accuracy: 0.6928\n",
      "Train AUC: 0.7258\n",
      "Epoch 9:   0%|          | 0/1 [00:00<?, ?it/s, v_num=8ert, train_loss=0.660, train_acc=0.693, train_auc=0.726, val_loss=0.654, val_acc=0.733, val_auc=0.745]        Train Loss: 0.6652\n",
      "Train Accuracy: 0.7080\n",
      "Train AUC: 0.7397\n",
      "Epoch 10:   0%|          | 0/1 [00:00<?, ?it/s, v_num=8ert, train_loss=0.665, train_acc=0.708, train_auc=0.740, val_loss=0.651, val_acc=0.734, val_auc=0.748]       Train Loss: 0.6683\n",
      "Train Accuracy: 0.7152\n",
      "Train AUC: 0.7193\n",
      "Epoch 11:   0%|          | 0/1 [00:00<?, ?it/s, v_num=8ert, train_loss=0.668, train_acc=0.715, train_auc=0.719, val_loss=0.648, val_acc=0.736, val_auc=0.751]        Train Loss: 0.6500\n",
      "Train Accuracy: 0.7024\n",
      "Train AUC: 0.7314\n",
      "Epoch 12:   0%|          | 0/1 [00:00<?, ?it/s, v_num=8ert, train_loss=0.650, train_acc=0.702, train_auc=0.731, val_loss=0.646, val_acc=0.732, val_auc=0.753]        Train Loss: 0.6548\n",
      "Train Accuracy: 0.7256\n",
      "Train AUC: 0.7469\n",
      "Epoch 13:   0%|          | 0/1 [00:00<?, ?it/s, v_num=8ert, train_loss=0.655, train_acc=0.726, train_auc=0.747, val_loss=0.644, val_acc=0.737, val_auc=0.755]        Train Loss: 0.6374\n",
      "Train Accuracy: 0.7288\n",
      "Train AUC: 0.7594\n",
      "Epoch 14:   0%|          | 0/1 [00:00<?, ?it/s, v_num=8ert, train_loss=0.637, train_acc=0.729, train_auc=0.759, val_loss=0.642, val_acc=0.736, val_auc=0.755]        Train Loss: 0.6502\n",
      "Train Accuracy: 0.7232\n",
      "Train AUC: 0.7343\n",
      "Epoch 15:   0%|          | 0/1 [00:00<?, ?it/s, v_num=8ert, train_loss=0.650, train_acc=0.723, train_auc=0.734, val_loss=0.640, val_acc=0.738, val_auc=0.755]        Train Loss: 0.6511\n",
      "Train Accuracy: 0.7312\n",
      "Train AUC: 0.7561\n",
      "Epoch 16:   0%|          | 0/1 [00:00<?, ?it/s, v_num=8ert, train_loss=0.651, train_acc=0.731, train_auc=0.756, val_loss=0.638, val_acc=0.738, val_auc=0.755]        Train Loss: 0.6671\n",
      "Train Accuracy: 0.7432\n",
      "Train AUC: 0.7676\n",
      "Epoch 17:   0%|          | 0/1 [00:00<?, ?it/s, v_num=8ert, train_loss=0.667, train_acc=0.743, train_auc=0.768, val_loss=0.635, val_acc=0.738, val_auc=0.756]        Train Loss: 0.6528\n",
      "Train Accuracy: 0.7336\n",
      "Train AUC: 0.7490\n",
      "Epoch 18:   0%|          | 0/1 [00:00<?, ?it/s, v_num=8ert, train_loss=0.653, train_acc=0.734, train_auc=0.749, val_loss=0.633, val_acc=0.739, val_auc=0.757]        Train Loss: 0.6405\n",
      "Train Accuracy: 0.7144\n",
      "Train AUC: 0.7499\n",
      "Epoch 19:   0%|          | 0/1 [00:00<?, ?it/s, v_num=8ert, train_loss=0.641, train_acc=0.714, train_auc=0.750, val_loss=0.630, val_acc=0.738, val_auc=0.759]        Train Loss: 0.6287\n",
      "Train Accuracy: 0.7360\n",
      "Train AUC: 0.7608\n",
      "Epoch 20:   0%|          | 0/1 [00:00<?, ?it/s, v_num=8ert, train_loss=0.629, train_acc=0.736, train_auc=0.761, val_loss=0.627, val_acc=0.738, val_auc=0.759]        Train Loss: 0.6418\n",
      "Train Accuracy: 0.7408\n",
      "Train AUC: 0.7500\n",
      "Epoch 21:   0%|          | 0/1 [00:00<?, ?it/s, v_num=8ert, train_loss=0.642, train_acc=0.741, train_auc=0.750, val_loss=0.624, val_acc=0.738, val_auc=0.759]        Train Loss: 0.6234\n",
      "Train Accuracy: 0.7360\n",
      "Train AUC: 0.7612\n",
      "Epoch 22:   0%|          | 0/1 [00:00<?, ?it/s, v_num=8ert, train_loss=0.623, train_acc=0.736, train_auc=0.761, val_loss=0.620, val_acc=0.734, val_auc=0.758]        Train Loss: 0.6482\n",
      "Train Accuracy: 0.7248\n",
      "Train AUC: 0.7483\n",
      "Epoch 23:   0%|          | 0/1 [00:00<?, ?it/s, v_num=8ert, train_loss=0.648, train_acc=0.725, train_auc=0.748, val_loss=0.617, val_acc=0.733, val_auc=0.759]        Train Loss: 0.6288\n",
      "Train Accuracy: 0.7352\n",
      "Train AUC: 0.7502\n",
      "Epoch 24:   0%|          | 0/1 [00:00<?, ?it/s, v_num=8ert, train_loss=0.629, train_acc=0.735, train_auc=0.750, val_loss=0.614, val_acc=0.734, val_auc=0.761]        Train Loss: 0.6364\n",
      "Train Accuracy: 0.7400\n",
      "Train AUC: 0.7516\n",
      "Epoch 25:   0%|          | 0/1 [00:00<?, ?it/s, v_num=8ert, train_loss=0.636, train_acc=0.740, train_auc=0.752, val_loss=0.612, val_acc=0.729, val_auc=0.762]        Train Loss: 0.6337\n",
      "Train Accuracy: 0.7232\n",
      "Train AUC: 0.7359\n",
      "Epoch 26:   0%|          | 0/1 [00:00<?, ?it/s, v_num=8ert, train_loss=0.634, train_acc=0.723, train_auc=0.736, val_loss=0.609, val_acc=0.728, val_auc=0.763]        Train Loss: 0.6151\n",
      "Train Accuracy: 0.7344\n",
      "Train AUC: 0.7610\n",
      "Epoch 27:   0%|          | 0/1 [00:00<?, ?it/s, v_num=8ert, train_loss=0.615, train_acc=0.734, train_auc=0.761, val_loss=0.606, val_acc=0.727, val_auc=0.766]        Train Loss: 0.6123\n",
      "Train Accuracy: 0.7440\n",
      "Train AUC: 0.7692\n",
      "Epoch 28:   0%|          | 0/1 [00:00<?, ?it/s, v_num=8ert, train_loss=0.612, train_acc=0.744, train_auc=0.769, val_loss=0.602, val_acc=0.727, val_auc=0.768]        Train Loss: 0.6220\n",
      "Train Accuracy: 0.7392\n",
      "Train AUC: 0.7553\n",
      "Epoch 29:   0%|          | 0/1 [00:00<?, ?it/s, v_num=8ert, train_loss=0.622, train_acc=0.739, train_auc=0.755, val_loss=0.599, val_acc=0.730, val_auc=0.769]        Train Loss: 0.6218\n",
      "Train Accuracy: 0.7312\n",
      "Train AUC: 0.7520\n",
      "Epoch 30:   0%|          | 0/1 [00:00<?, ?it/s, v_num=8ert, train_loss=0.622, train_acc=0.731, train_auc=0.752, val_loss=0.595, val_acc=0.728, val_auc=0.771]        Train Loss: 0.6307\n",
      "Train Accuracy: 0.7312\n",
      "Train AUC: 0.7500\n",
      "Epoch 31:   0%|          | 0/1 [00:00<?, ?it/s, v_num=8ert, train_loss=0.631, train_acc=0.731, train_auc=0.750, val_loss=0.591, val_acc=0.734, val_auc=0.775]        Train Loss: 0.6232\n",
      "Train Accuracy: 0.7480\n",
      "Train AUC: 0.7743\n",
      "Epoch 32:   0%|          | 0/1 [00:00<?, ?it/s, v_num=8ert, train_loss=0.623, train_acc=0.748, train_auc=0.774, val_loss=0.588, val_acc=0.724, val_auc=0.781]        Train Loss: 0.6138\n",
      "Train Accuracy: 0.7120\n",
      "Train AUC: 0.7646\n",
      "Epoch 33:   0%|          | 0/1 [00:00<?, ?it/s, v_num=8ert, train_loss=0.614, train_acc=0.712, train_auc=0.765, val_loss=0.586, val_acc=0.728, val_auc=0.785]        Train Loss: 0.6087\n",
      "Train Accuracy: 0.7344\n",
      "Train AUC: 0.7572\n",
      "Epoch 34:   0%|          | 0/1 [00:00<?, ?it/s, v_num=8ert, train_loss=0.609, train_acc=0.734, train_auc=0.757, val_loss=0.585, val_acc=0.722, val_auc=0.790]        Train Loss: 0.5975\n",
      "Train Accuracy: 0.7232\n",
      "Train AUC: 0.7654\n",
      "Epoch 35:   0%|          | 0/1 [00:00<?, ?it/s, v_num=8ert, train_loss=0.597, train_acc=0.723, train_auc=0.765, val_loss=0.582, val_acc=0.721, val_auc=0.793]        Train Loss: 0.5894\n",
      "Train Accuracy: 0.7280\n",
      "Train AUC: 0.7889\n",
      "Epoch 36:   0%|          | 0/1 [00:00<?, ?it/s, v_num=8ert, train_loss=0.589, train_acc=0.728, train_auc=0.789, val_loss=0.579, val_acc=0.725, val_auc=0.795]        Train Loss: 0.5935\n",
      "Train Accuracy: 0.7264\n",
      "Train AUC: 0.7748\n",
      "Epoch 37:   0%|          | 0/1 [00:00<?, ?it/s, v_num=8ert, train_loss=0.593, train_acc=0.726, train_auc=0.775, val_loss=0.574, val_acc=0.722, val_auc=0.797]        Train Loss: 0.5889\n",
      "Train Accuracy: 0.7384\n",
      "Train AUC: 0.7854\n",
      "Epoch 38:   0%|          | 0/1 [00:00<?, ?it/s, v_num=8ert, train_loss=0.589, train_acc=0.738, train_auc=0.785, val_loss=0.570, val_acc=0.721, val_auc=0.797]        Train Loss: 0.5926\n",
      "Train Accuracy: 0.7312\n",
      "Train AUC: 0.7666\n",
      "Epoch 39:   0%|          | 0/1 [00:00<?, ?it/s, v_num=8ert, train_loss=0.593, train_acc=0.731, train_auc=0.767, val_loss=0.565, val_acc=0.720, val_auc=0.797]        Train Loss: 0.5865\n",
      "Train Accuracy: 0.7272\n",
      "Train AUC: 0.7694\n",
      "Epoch 40:   0%|          | 0/1 [00:00<?, ?it/s, v_num=8ert, train_loss=0.586, train_acc=0.727, train_auc=0.769, val_loss=0.561, val_acc=0.722, val_auc=0.798]        Train Loss: 0.5798\n",
      "Train Accuracy: 0.7304\n",
      "Train AUC: 0.7758\n",
      "Epoch 41:   0%|          | 0/1 [00:00<?, ?it/s, v_num=8ert, train_loss=0.580, train_acc=0.730, train_auc=0.776, val_loss=0.558, val_acc=0.718, val_auc=0.800]        Train Loss: 0.5838\n",
      "Train Accuracy: 0.7216\n",
      "Train AUC: 0.7721\n",
      "Epoch 42:   0%|          | 0/1 [00:00<?, ?it/s, v_num=8ert, train_loss=0.584, train_acc=0.722, train_auc=0.772, val_loss=0.556, val_acc=0.717, val_auc=0.801]        Train Loss: 0.5797\n",
      "Train Accuracy: 0.7168\n",
      "Train AUC: 0.7750\n",
      "Epoch 43:   0%|          | 0/1 [00:00<?, ?it/s, v_num=8ert, train_loss=0.580, train_acc=0.717, train_auc=0.775, val_loss=0.554, val_acc=0.715, val_auc=0.803]        Train Loss: 0.5851\n",
      "Train Accuracy: 0.7168\n",
      "Train AUC: 0.7767\n",
      "Epoch 44:   0%|          | 0/1 [00:00<?, ?it/s, v_num=8ert, train_loss=0.585, train_acc=0.717, train_auc=0.777, val_loss=0.552, val_acc=0.718, val_auc=0.805]        Train Loss: 0.5575\n",
      "Train Accuracy: 0.7312\n",
      "Train AUC: 0.8026\n",
      "Epoch 45:   0%|          | 0/1 [00:00<?, ?it/s, v_num=8ert, train_loss=0.558, train_acc=0.731, train_auc=0.803, val_loss=0.550, val_acc=0.718, val_auc=0.806]        Train Loss: 0.5659\n",
      "Train Accuracy: 0.7400\n",
      "Train AUC: 0.7961\n",
      "Epoch 46:   0%|          | 0/1 [00:00<?, ?it/s, v_num=8ert, train_loss=0.566, train_acc=0.740, train_auc=0.796, val_loss=0.548, val_acc=0.717, val_auc=0.807]        Train Loss: 0.5676\n",
      "Train Accuracy: 0.7128\n",
      "Train AUC: 0.7889\n",
      "Epoch 47:   0%|          | 0/1 [00:00<?, ?it/s, v_num=8ert, train_loss=0.568, train_acc=0.713, train_auc=0.789, val_loss=0.545, val_acc=0.719, val_auc=0.808]        Train Loss: 0.5587\n",
      "Train Accuracy: 0.7256\n",
      "Train AUC: 0.7987\n",
      "Epoch 48:   0%|          | 0/1 [00:00<?, ?it/s, v_num=8ert, train_loss=0.559, train_acc=0.726, train_auc=0.799, val_loss=0.542, val_acc=0.714, val_auc=0.810]        Train Loss: 0.5521\n",
      "Train Accuracy: 0.7328\n",
      "Train AUC: 0.7958\n",
      "Epoch 49:   0%|          | 0/1 [00:00<?, ?it/s, v_num=8ert, train_loss=0.552, train_acc=0.733, train_auc=0.796, val_loss=0.539, val_acc=0.713, val_auc=0.811]        Train Loss: 0.5550\n",
      "Train Accuracy: 0.7256\n",
      "Train AUC: 0.7976\n",
      "Epoch 49: 100%|██████████| 1/1 [00:00<00:00, 14.49it/s, v_num=8ert, train_loss=0.555, train_acc=0.726, train_auc=0.798, val_loss=0.536, val_acc=0.714, val_auc=0.812]"
     ]
    },
    {
     "name": "stderr",
     "output_type": "stream",
     "text": [
      "`Trainer.fit` stopped: `max_epochs=50` reached.\n"
     ]
    },
    {
     "name": "stdout",
     "output_type": "stream",
     "text": [
      "Epoch 49: 100%|██████████| 1/1 [00:00<00:00, 10.70it/s, v_num=8ert, train_loss=0.555, train_acc=0.726, train_auc=0.798, val_loss=0.536, val_acc=0.714, val_auc=0.812]\n"
     ]
    },
    {
     "name": "stderr",
     "output_type": "stream",
     "text": [
      "\u001b[34m\u001b[1mwandb\u001b[0m: \u001b[33mWARNING\u001b[0m Config item 'weight_decay' was locked by 'sweep' (ignored update).\n",
      "c:\\Users\\rokaa\\egyetem\\basketball_lineup_analysis\\.venv\\lib\\site-packages\\pytorch_lightning\\trainer\\connectors\\data_connector.py:425: The 'test_dataloader' does not have many workers which may be a bottleneck. Consider increasing the value of the `num_workers` argument` to `num_workers=7` in the `DataLoader` to improve performance.\n"
     ]
    },
    {
     "name": "stdout",
     "output_type": "stream",
     "text": [
      "Testing DataLoader 0: 100%|██████████| 1/1 [00:00<00:00, 37.11it/s]"
     ]
    },
    {
     "name": "stderr",
     "output_type": "stream",
     "text": [
      "\u001b[34m\u001b[1mwandb\u001b[0m: \u001b[32m\u001b[41mERROR\u001b[0m The nbformat package was not found. It is required to save notebook history.\n"
     ]
    },
    {
     "name": "stdout",
     "output_type": "stream",
     "text": [
      "\n",
      "────────────────────────────────────────────────────────────────────────────────────────────────────────────────────────\n",
      "       Test metric             DataLoader 0\n",
      "────────────────────────────────────────────────────────────────────────────────────────────────────────────────────────\n",
      "        test_acc            0.7133712768554688\n",
      "        test_auc             0.803183376789093\n",
      "        test_loss            0.542712390422821\n",
      "────────────────────────────────────────────────────────────────────────────────────────────────────────────────────────\n"
     ]
    },
    {
     "data": {
      "text/html": [],
      "text/plain": [
       "<IPython.core.display.HTML object>"
      ]
     },
     "metadata": {},
     "output_type": "display_data"
    },
    {
     "data": {
      "text/html": [
       "<br>    <style><br>        .wandb-row {<br>            display: flex;<br>            flex-direction: row;<br>            flex-wrap: wrap;<br>            justify-content: flex-start;<br>            width: 100%;<br>        }<br>        .wandb-col {<br>            display: flex;<br>            flex-direction: column;<br>            flex-basis: 100%;<br>            flex: 1;<br>            padding: 10px;<br>        }<br>    </style><br><div class=\"wandb-row\"><div class=\"wandb-col\"><h3>Run history:</h3><br/><table class=\"wandb\"><tr><td>epoch</td><td>▁▁▂▂▂▂▂▂▃▃▃▃▃▄▄▄▄▄▄▅▅▅▅▅▅▆▆▆▆▆▇▇▇▇▇▇████</td></tr><tr><td>test_acc</td><td>▁</td></tr><tr><td>test_auc</td><td>▁</td></tr><tr><td>test_loss</td><td>▁</td></tr><tr><td>train_acc</td><td>▁</td></tr><tr><td>train_auc</td><td>▁</td></tr><tr><td>train_loss</td><td>▁</td></tr><tr><td>trainer/global_step</td><td>▁▁▁▂▂▂▂▂▂▃▃▃▃▃▄▄▄▄▄▄▅▅▅▅▅▅▆▆▆▆▆▆▇▇▇▇▇███</td></tr><tr><td>val_acc</td><td>▁▁▃▃▄▇██████████████▇▇█▇█▇▇▇▇▇▇▇▇▇▇▇▇▇▇▇</td></tr><tr><td>val_auc</td><td>▁▄▄▅▅▅▅▅▅▅▅▅▅▅▅▅▅▅▅▆▆▆▆▆▆▆▇▇▇▇▇▇▇███████</td></tr><tr><td>val_loss</td><td>██▇▇▇▇▇▇▆▆▆▆▆▆▆▅▅▅▅▅▅▄▄▄▄▄▃▃▃▃▃▃▂▂▂▂▂▂▁▁</td></tr></table><br/></div><div class=\"wandb-col\"><h3>Run summary:</h3><br/><table class=\"wandb\"><tr><td>epoch</td><td>50</td></tr><tr><td>test_acc</td><td>0.71337</td></tr><tr><td>test_auc</td><td>0.80318</td></tr><tr><td>test_loss</td><td>0.54271</td></tr><tr><td>train_acc</td><td>0.7256</td></tr><tr><td>train_auc</td><td>0.79761</td></tr><tr><td>train_loss</td><td>0.55501</td></tr><tr><td>trainer/global_step</td><td>50</td></tr><tr><td>val_acc</td><td>0.7144</td></tr><tr><td>val_auc</td><td>0.81163</td></tr><tr><td>val_loss</td><td>0.53566</td></tr></table><br/></div></div>"
      ],
      "text/plain": [
       "<IPython.core.display.HTML object>"
      ]
     },
     "metadata": {},
     "output_type": "display_data"
    },
    {
     "data": {
      "text/html": [
       " View run <strong style=\"color:#cdcd00\">colorful-sweep-1</strong> at: <a href='https://wandb.ai/rokaati18-budapesti-m-szaki-s-gazdas-gtudom-nyi-egyetem/nba_lineup_prediction/runs/gvs58ert' target=\"_blank\">https://wandb.ai/rokaati18-budapesti-m-szaki-s-gazdas-gtudom-nyi-egyetem/nba_lineup_prediction/runs/gvs58ert</a><br> View project at: <a href='https://wandb.ai/rokaati18-budapesti-m-szaki-s-gazdas-gtudom-nyi-egyetem/nba_lineup_prediction' target=\"_blank\">https://wandb.ai/rokaati18-budapesti-m-szaki-s-gazdas-gtudom-nyi-egyetem/nba_lineup_prediction</a><br>Synced 5 W&B file(s), 0 media file(s), 0 artifact file(s) and 0 other file(s)"
      ],
      "text/plain": [
       "<IPython.core.display.HTML object>"
      ]
     },
     "metadata": {},
     "output_type": "display_data"
    },
    {
     "data": {
      "text/html": [
       "Find logs at: <code>.\\wandb\\run-20250502_194121-gvs58ert\\logs</code>"
      ],
      "text/plain": [
       "<IPython.core.display.HTML object>"
      ]
     },
     "metadata": {},
     "output_type": "display_data"
    },
    {
     "name": "stderr",
     "output_type": "stream",
     "text": [
      "\u001b[34m\u001b[1mwandb\u001b[0m: Agent Starting Run: 29vsxzgs with config:\n",
      "\u001b[34m\u001b[1mwandb\u001b[0m: \tdropout: 0\n",
      "\u001b[34m\u001b[1mwandb\u001b[0m: \thidden_dim: 128\n",
      "\u001b[34m\u001b[1mwandb\u001b[0m: \tlr: 1.0069905368863663\n",
      "\u001b[34m\u001b[1mwandb\u001b[0m: \tnum_conv_layers: 3\n",
      "\u001b[34m\u001b[1mwandb\u001b[0m: \tnum_linear_layers: 3\n",
      "\u001b[34m\u001b[1mwandb\u001b[0m: \tweight_decay: 1.0017362521182134\n"
     ]
    },
    {
     "data": {
      "text/html": [],
      "text/plain": [
       "<IPython.core.display.HTML object>"
      ]
     },
     "metadata": {},
     "output_type": "display_data"
    },
    {
     "data": {
      "text/html": [
       "Tracking run with wandb version 0.19.9"
      ],
      "text/plain": [
       "<IPython.core.display.HTML object>"
      ]
     },
     "metadata": {},
     "output_type": "display_data"
    },
    {
     "data": {
      "text/html": [
       "Run data is saved locally in <code>c:\\Users\\rokaa\\egyetem\\basketball_lineup_analysis\\LineupVSLineup\\GNN\\wandb\\run-20250502_194132-29vsxzgs</code>"
      ],
      "text/plain": [
       "<IPython.core.display.HTML object>"
      ]
     },
     "metadata": {},
     "output_type": "display_data"
    },
    {
     "data": {
      "text/html": [
       "Syncing run <strong><a href='https://wandb.ai/rokaati18-budapesti-m-szaki-s-gazdas-gtudom-nyi-egyetem/nba_lineup_prediction/runs/29vsxzgs' target=\"_blank\">divine-sweep-2</a></strong> to <a href='https://wandb.ai/rokaati18-budapesti-m-szaki-s-gazdas-gtudom-nyi-egyetem/nba_lineup_prediction' target=\"_blank\">Weights & Biases</a> (<a href='https://wandb.me/developer-guide' target=\"_blank\">docs</a>)<br>Sweep page: <a href='https://wandb.ai/rokaati18-budapesti-m-szaki-s-gazdas-gtudom-nyi-egyetem/nba_lineup_prediction/sweeps/vlnj32yu' target=\"_blank\">https://wandb.ai/rokaati18-budapesti-m-szaki-s-gazdas-gtudom-nyi-egyetem/nba_lineup_prediction/sweeps/vlnj32yu</a>"
      ],
      "text/plain": [
       "<IPython.core.display.HTML object>"
      ]
     },
     "metadata": {},
     "output_type": "display_data"
    },
    {
     "data": {
      "text/html": [
       " View project at <a href='https://wandb.ai/rokaati18-budapesti-m-szaki-s-gazdas-gtudom-nyi-egyetem/nba_lineup_prediction' target=\"_blank\">https://wandb.ai/rokaati18-budapesti-m-szaki-s-gazdas-gtudom-nyi-egyetem/nba_lineup_prediction</a>"
      ],
      "text/plain": [
       "<IPython.core.display.HTML object>"
      ]
     },
     "metadata": {},
     "output_type": "display_data"
    },
    {
     "data": {
      "text/html": [
       " View sweep at <a href='https://wandb.ai/rokaati18-budapesti-m-szaki-s-gazdas-gtudom-nyi-egyetem/nba_lineup_prediction/sweeps/vlnj32yu' target=\"_blank\">https://wandb.ai/rokaati18-budapesti-m-szaki-s-gazdas-gtudom-nyi-egyetem/nba_lineup_prediction/sweeps/vlnj32yu</a>"
      ],
      "text/plain": [
       "<IPython.core.display.HTML object>"
      ]
     },
     "metadata": {},
     "output_type": "display_data"
    },
    {
     "data": {
      "text/html": [
       " View run at <a href='https://wandb.ai/rokaati18-budapesti-m-szaki-s-gazdas-gtudom-nyi-egyetem/nba_lineup_prediction/runs/29vsxzgs' target=\"_blank\">https://wandb.ai/rokaati18-budapesti-m-szaki-s-gazdas-gtudom-nyi-egyetem/nba_lineup_prediction/runs/29vsxzgs</a>"
      ],
      "text/plain": [
       "<IPython.core.display.HTML object>"
      ]
     },
     "metadata": {},
     "output_type": "display_data"
    },
    {
     "name": "stderr",
     "output_type": "stream",
     "text": [
      "GPU available: False, used: False\n",
      "TPU available: False, using: 0 TPU cores\n",
      "HPU available: False, using: 0 HPUs\n",
      "c:\\Users\\rokaa\\egyetem\\basketball_lineup_analysis\\.venv\\lib\\site-packages\\pytorch_lightning\\loggers\\wandb.py:397: There is a wandb run already in progress and newly created instances of `WandbLogger` will reuse this run. If this is not desired, call `wandb.finish()` before instantiating `WandbLogger`.\n",
      "\n",
      "  | Name           | Type           | Params | Mode \n",
      "----------------------------------------------------------\n",
      "0 | gnn            | GNNModel       | 13.4 K | train\n",
      "1 | link_predictor | LinkPredictor  | 8.3 K  | train\n",
      "2 | loss_fn        | BCELoss        | 0      | train\n",
      "3 | train_acc      | BinaryAccuracy | 0      | train\n",
      "4 | val_acc        | BinaryAccuracy | 0      | train\n",
      "5 | test_acc       | BinaryAccuracy | 0      | train\n",
      "6 | train_auroc    | BinaryAUROC    | 0      | train\n",
      "7 | val_auroc      | BinaryAUROC    | 0      | train\n",
      "8 | test_auroc     | BinaryAUROC    | 0      | train\n",
      "----------------------------------------------------------\n",
      "21.7 K    Trainable params\n",
      "0         Non-trainable params\n",
      "21.7 K    Total params\n",
      "0.087     Total estimated model params size (MB)\n",
      "29        Modules in train mode\n",
      "0         Modules in eval mode\n",
      "\u001b[34m\u001b[1mwandb\u001b[0m: \u001b[33mWARNING\u001b[0m Config item 'weight_decay' was locked by 'sweep' (ignored update).\n"
     ]
    },
    {
     "name": "stdout",
     "output_type": "stream",
     "text": [
      "                                                                           "
     ]
    },
    {
     "name": "stderr",
     "output_type": "stream",
     "text": [
      "c:\\Users\\rokaa\\egyetem\\basketball_lineup_analysis\\.venv\\lib\\site-packages\\pytorch_lightning\\trainer\\connectors\\data_connector.py:425: The 'val_dataloader' does not have many workers which may be a bottleneck. Consider increasing the value of the `num_workers` argument` to `num_workers=7` in the `DataLoader` to improve performance.\n",
      "c:\\Users\\rokaa\\egyetem\\basketball_lineup_analysis\\.venv\\lib\\site-packages\\pytorch_lightning\\trainer\\connectors\\data_connector.py:425: The 'train_dataloader' does not have many workers which may be a bottleneck. Consider increasing the value of the `num_workers` argument` to `num_workers=7` in the `DataLoader` to improve performance.\n",
      "c:\\Users\\rokaa\\egyetem\\basketball_lineup_analysis\\.venv\\lib\\site-packages\\pytorch_lightning\\loops\\fit_loop.py:310: The number of training batches (1) is smaller than the logging interval Trainer(log_every_n_steps=50). Set a lower value for log_every_n_steps if you want to see logs for the training epoch.\n"
     ]
    },
    {
     "name": "stdout",
     "output_type": "stream",
     "text": [
      "Epoch 0:   0%|          | 0/1 [00:00<?, ?it/s] Train Loss: 0.8716\n",
      "Train Accuracy: 0.4432\n",
      "Train AUC: 0.4156\n",
      "Epoch 1:   0%|          | 0/1 [00:00<?, ?it/s, v_num=xzgs, train_loss=0.872, train_acc=0.443, train_auc=0.416, val_loss=0.733, val_acc=0.439, val_auc=0.361]        Train Loss: 0.7728\n",
      "Train Accuracy: 0.4576\n",
      "Train AUC: 0.4378\n",
      "Epoch 2:   0%|          | 0/1 [00:00<?, ?it/s, v_num=xzgs, train_loss=0.773, train_acc=0.458, train_auc=0.438, val_loss=0.731, val_acc=0.500, val_auc=0.542]        Train Loss: 0.7203\n",
      "Train Accuracy: 0.5392\n",
      "Train AUC: 0.5274\n",
      "Epoch 3:   0%|          | 0/1 [00:00<?, ?it/s, v_num=xzgs, train_loss=0.720, train_acc=0.539, train_auc=0.527, val_loss=0.716, val_acc=0.514, val_auc=0.634]        Train Loss: 0.7026\n",
      "Train Accuracy: 0.5944\n",
      "Train AUC: 0.6082\n",
      "Epoch 4:   0%|          | 0/1 [00:00<?, ?it/s, v_num=xzgs, train_loss=0.703, train_acc=0.594, train_auc=0.608, val_loss=0.692, val_acc=0.628, val_auc=0.715]        Train Loss: 0.6960\n",
      "Train Accuracy: 0.6288\n",
      "Train AUC: 0.6540\n",
      "Epoch 5:   0%|          | 0/1 [00:00<?, ?it/s, v_num=xzgs, train_loss=0.696, train_acc=0.629, train_auc=0.654, val_loss=0.671, val_acc=0.731, val_auc=0.755]        Train Loss: 0.7106\n",
      "Train Accuracy: 0.6600\n",
      "Train AUC: 0.6661\n",
      "Epoch 6:   0%|          | 0/1 [00:00<?, ?it/s, v_num=xzgs, train_loss=0.711, train_acc=0.660, train_auc=0.666, val_loss=0.659, val_acc=0.752, val_auc=0.756]        Train Loss: 0.6700\n",
      "Train Accuracy: 0.6968\n",
      "Train AUC: 0.7110\n",
      "Epoch 7:   0%|          | 0/1 [00:00<?, ?it/s, v_num=xzgs, train_loss=0.670, train_acc=0.697, train_auc=0.711, val_loss=0.655, val_acc=0.752, val_auc=0.753]        Train Loss: 0.6682\n",
      "Train Accuracy: 0.7176\n",
      "Train AUC: 0.7111\n",
      "Epoch 8:   0%|          | 0/1 [00:00<?, ?it/s, v_num=xzgs, train_loss=0.668, train_acc=0.718, train_auc=0.711, val_loss=0.653, val_acc=0.746, val_auc=0.751]        Train Loss: 0.6606\n",
      "Train Accuracy: 0.7128\n",
      "Train AUC: 0.7177\n",
      "Epoch 9:   0%|          | 0/1 [00:00<?, ?it/s, v_num=xzgs, train_loss=0.661, train_acc=0.713, train_auc=0.718, val_loss=0.653, val_acc=0.742, val_auc=0.750]        Train Loss: 0.6534\n",
      "Train Accuracy: 0.7280\n",
      "Train AUC: 0.7296\n",
      "Epoch 10:   0%|          | 0/1 [00:00<?, ?it/s, v_num=xzgs, train_loss=0.653, train_acc=0.728, train_auc=0.730, val_loss=0.651, val_acc=0.742, val_auc=0.750]       Train Loss: 0.6702\n",
      "Train Accuracy: 0.7376\n",
      "Train AUC: 0.7386\n",
      "Epoch 11:   0%|          | 0/1 [00:00<?, ?it/s, v_num=xzgs, train_loss=0.670, train_acc=0.738, train_auc=0.739, val_loss=0.648, val_acc=0.742, val_auc=0.751]        Train Loss: 0.6634\n",
      "Train Accuracy: 0.7240\n",
      "Train AUC: 0.7242\n",
      "Epoch 12:   0%|          | 0/1 [00:00<?, ?it/s, v_num=xzgs, train_loss=0.663, train_acc=0.724, train_auc=0.724, val_loss=0.644, val_acc=0.739, val_auc=0.754]        Train Loss: 0.6682\n",
      "Train Accuracy: 0.7408\n",
      "Train AUC: 0.7301\n",
      "Epoch 13:   0%|          | 0/1 [00:00<?, ?it/s, v_num=xzgs, train_loss=0.668, train_acc=0.741, train_auc=0.730, val_loss=0.640, val_acc=0.742, val_auc=0.758]        Train Loss: 0.6494\n",
      "Train Accuracy: 0.7320\n",
      "Train AUC: 0.7403\n",
      "Epoch 14:   0%|          | 0/1 [00:00<?, ?it/s, v_num=xzgs, train_loss=0.649, train_acc=0.732, train_auc=0.740, val_loss=0.635, val_acc=0.749, val_auc=0.759]        Train Loss: 0.6460\n",
      "Train Accuracy: 0.7368\n",
      "Train AUC: 0.7413\n",
      "Epoch 15:   0%|          | 0/1 [00:00<?, ?it/s, v_num=xzgs, train_loss=0.646, train_acc=0.737, train_auc=0.741, val_loss=0.630, val_acc=0.751, val_auc=0.762]        Train Loss: 0.6536\n",
      "Train Accuracy: 0.7536\n",
      "Train AUC: 0.7414\n",
      "Epoch 16:   0%|          | 0/1 [00:00<?, ?it/s, v_num=xzgs, train_loss=0.654, train_acc=0.754, train_auc=0.741, val_loss=0.625, val_acc=0.748, val_auc=0.764]        Train Loss: 0.6295\n",
      "Train Accuracy: 0.7304\n",
      "Train AUC: 0.7620\n",
      "Epoch 17:   0%|          | 0/1 [00:00<?, ?it/s, v_num=xzgs, train_loss=0.629, train_acc=0.730, train_auc=0.762, val_loss=0.621, val_acc=0.748, val_auc=0.765]        Train Loss: 0.6664\n",
      "Train Accuracy: 0.7072\n",
      "Train AUC: 0.7152\n",
      "Epoch 18:   0%|          | 0/1 [00:00<?, ?it/s, v_num=xzgs, train_loss=0.666, train_acc=0.707, train_auc=0.715, val_loss=0.617, val_acc=0.743, val_auc=0.767]        Train Loss: 0.6679\n",
      "Train Accuracy: 0.7168\n",
      "Train AUC: 0.7312\n",
      "Epoch 19:   0%|          | 0/1 [00:00<?, ?it/s, v_num=xzgs, train_loss=0.668, train_acc=0.717, train_auc=0.731, val_loss=0.615, val_acc=0.741, val_auc=0.771]        Train Loss: 0.6444\n",
      "Train Accuracy: 0.7320\n",
      "Train AUC: 0.7392\n",
      "Epoch 20:   0%|          | 0/1 [00:00<?, ?it/s, v_num=xzgs, train_loss=0.644, train_acc=0.732, train_auc=0.739, val_loss=0.612, val_acc=0.740, val_auc=0.776]        Train Loss: 0.6540\n",
      "Train Accuracy: 0.7312\n",
      "Train AUC: 0.7403\n",
      "Epoch 21:   0%|          | 0/1 [00:00<?, ?it/s, v_num=xzgs, train_loss=0.654, train_acc=0.731, train_auc=0.740, val_loss=0.610, val_acc=0.737, val_auc=0.782]        Train Loss: 0.6326\n",
      "Train Accuracy: 0.7312\n",
      "Train AUC: 0.7616\n",
      "Epoch 22:   0%|          | 0/1 [00:00<?, ?it/s, v_num=xzgs, train_loss=0.633, train_acc=0.731, train_auc=0.762, val_loss=0.608, val_acc=0.738, val_auc=0.787]        Train Loss: 0.6254\n",
      "Train Accuracy: 0.7360\n",
      "Train AUC: 0.7664\n",
      "Epoch 23:   0%|          | 0/1 [00:00<?, ?it/s, v_num=xzgs, train_loss=0.625, train_acc=0.736, train_auc=0.766, val_loss=0.606, val_acc=0.735, val_auc=0.791]        Train Loss: 0.6219\n",
      "Train Accuracy: 0.7320\n",
      "Train AUC: 0.7585\n",
      "Epoch 24:   0%|          | 0/1 [00:00<?, ?it/s, v_num=xzgs, train_loss=0.622, train_acc=0.732, train_auc=0.759, val_loss=0.603, val_acc=0.735, val_auc=0.795]        Train Loss: 0.6144\n",
      "Train Accuracy: 0.7376\n",
      "Train AUC: 0.7667\n",
      "Epoch 25:   0%|          | 0/1 [00:00<?, ?it/s, v_num=xzgs, train_loss=0.614, train_acc=0.738, train_auc=0.767, val_loss=0.600, val_acc=0.737, val_auc=0.800]        Train Loss: 0.6090\n",
      "Train Accuracy: 0.7344\n",
      "Train AUC: 0.7782\n",
      "Epoch 26:   0%|          | 0/1 [00:00<?, ?it/s, v_num=xzgs, train_loss=0.609, train_acc=0.734, train_auc=0.778, val_loss=0.595, val_acc=0.734, val_auc=0.803]        Train Loss: 0.6103\n",
      "Train Accuracy: 0.7224\n",
      "Train AUC: 0.7700\n",
      "Epoch 27:   0%|          | 0/1 [00:00<?, ?it/s, v_num=xzgs, train_loss=0.610, train_acc=0.722, train_auc=0.770, val_loss=0.590, val_acc=0.741, val_auc=0.805]        Train Loss: 0.6050\n",
      "Train Accuracy: 0.7344\n",
      "Train AUC: 0.7688\n",
      "Epoch 28:   0%|          | 0/1 [00:00<?, ?it/s, v_num=xzgs, train_loss=0.605, train_acc=0.734, train_auc=0.769, val_loss=0.585, val_acc=0.741, val_auc=0.805]        Train Loss: 0.5906\n",
      "Train Accuracy: 0.7464\n",
      "Train AUC: 0.7898\n",
      "Epoch 29:   0%|          | 0/1 [00:00<?, ?it/s, v_num=xzgs, train_loss=0.591, train_acc=0.746, train_auc=0.790, val_loss=0.578, val_acc=0.745, val_auc=0.804]        Train Loss: 0.5906\n",
      "Train Accuracy: 0.7368\n",
      "Train AUC: 0.7828\n",
      "Epoch 30:   0%|          | 0/1 [00:00<?, ?it/s, v_num=xzgs, train_loss=0.591, train_acc=0.737, train_auc=0.783, val_loss=0.571, val_acc=0.742, val_auc=0.804]        Train Loss: 0.5967\n",
      "Train Accuracy: 0.7280\n",
      "Train AUC: 0.7618\n",
      "Epoch 31:   0%|          | 0/1 [00:00<?, ?it/s, v_num=xzgs, train_loss=0.597, train_acc=0.728, train_auc=0.762, val_loss=0.566, val_acc=0.744, val_auc=0.804]        Train Loss: 0.5968\n",
      "Train Accuracy: 0.7344\n",
      "Train AUC: 0.7656\n",
      "Epoch 32:   0%|          | 0/1 [00:00<?, ?it/s, v_num=xzgs, train_loss=0.597, train_acc=0.734, train_auc=0.766, val_loss=0.562, val_acc=0.742, val_auc=0.804]        Train Loss: 0.5777\n",
      "Train Accuracy: 0.7488\n",
      "Train AUC: 0.7821\n",
      "Epoch 33:   0%|          | 0/1 [00:00<?, ?it/s, v_num=xzgs, train_loss=0.578, train_acc=0.749, train_auc=0.782, val_loss=0.559, val_acc=0.741, val_auc=0.805]        Train Loss: 0.5783\n",
      "Train Accuracy: 0.7312\n",
      "Train AUC: 0.7870\n",
      "Epoch 34:   0%|          | 0/1 [00:00<?, ?it/s, v_num=xzgs, train_loss=0.578, train_acc=0.731, train_auc=0.787, val_loss=0.557, val_acc=0.737, val_auc=0.805]        Train Loss: 0.5715\n",
      "Train Accuracy: 0.7392\n",
      "Train AUC: 0.7975\n",
      "Epoch 35:   0%|          | 0/1 [00:00<?, ?it/s, v_num=xzgs, train_loss=0.572, train_acc=0.739, train_auc=0.797, val_loss=0.555, val_acc=0.734, val_auc=0.806]        Train Loss: 0.5857\n",
      "Train Accuracy: 0.7280\n",
      "Train AUC: 0.7742\n",
      "Epoch 36:   0%|          | 0/1 [00:00<?, ?it/s, v_num=xzgs, train_loss=0.586, train_acc=0.728, train_auc=0.774, val_loss=0.553, val_acc=0.733, val_auc=0.806]        Train Loss: 0.5531\n",
      "Train Accuracy: 0.7512\n",
      "Train AUC: 0.8074\n",
      "Epoch 37:   0%|          | 0/1 [00:00<?, ?it/s, v_num=xzgs, train_loss=0.553, train_acc=0.751, train_auc=0.807, val_loss=0.551, val_acc=0.730, val_auc=0.806]        Train Loss: 0.5770\n",
      "Train Accuracy: 0.7320\n",
      "Train AUC: 0.7849\n",
      "Epoch 38:   0%|          | 0/1 [00:00<?, ?it/s, v_num=xzgs, train_loss=0.577, train_acc=0.732, train_auc=0.785, val_loss=0.548, val_acc=0.729, val_auc=0.807]        Train Loss: 0.5930\n",
      "Train Accuracy: 0.7144\n",
      "Train AUC: 0.7669\n",
      "Epoch 39:   0%|          | 0/1 [00:00<?, ?it/s, v_num=xzgs, train_loss=0.593, train_acc=0.714, train_auc=0.767, val_loss=0.547, val_acc=0.726, val_auc=0.809]        Train Loss: 0.5614\n",
      "Train Accuracy: 0.7224\n",
      "Train AUC: 0.7943\n",
      "Epoch 40:   0%|          | 0/1 [00:00<?, ?it/s, v_num=xzgs, train_loss=0.561, train_acc=0.722, train_auc=0.794, val_loss=0.546, val_acc=0.727, val_auc=0.809]        Train Loss: 0.5658\n",
      "Train Accuracy: 0.7192\n",
      "Train AUC: 0.7897\n",
      "Epoch 41:   0%|          | 0/1 [00:00<?, ?it/s, v_num=xzgs, train_loss=0.566, train_acc=0.719, train_auc=0.790, val_loss=0.545, val_acc=0.718, val_auc=0.809]        Train Loss: 0.5611\n",
      "Train Accuracy: 0.7272\n",
      "Train AUC: 0.7967\n",
      "Epoch 42:   0%|          | 0/1 [00:00<?, ?it/s, v_num=xzgs, train_loss=0.561, train_acc=0.727, train_auc=0.797, val_loss=0.543, val_acc=0.715, val_auc=0.809]        Train Loss: 0.5579\n",
      "Train Accuracy: 0.7200\n",
      "Train AUC: 0.7950\n",
      "Epoch 43:   0%|          | 0/1 [00:00<?, ?it/s, v_num=xzgs, train_loss=0.558, train_acc=0.720, train_auc=0.795, val_loss=0.541, val_acc=0.714, val_auc=0.809]        Train Loss: 0.5634\n",
      "Train Accuracy: 0.7240\n",
      "Train AUC: 0.7903\n",
      "Epoch 44:   0%|          | 0/1 [00:00<?, ?it/s, v_num=xzgs, train_loss=0.563, train_acc=0.724, train_auc=0.790, val_loss=0.538, val_acc=0.717, val_auc=0.810]        Train Loss: 0.5390\n",
      "Train Accuracy: 0.7376\n",
      "Train AUC: 0.8155\n",
      "Epoch 45:   0%|          | 0/1 [00:00<?, ?it/s, v_num=xzgs, train_loss=0.539, train_acc=0.738, train_auc=0.816, val_loss=0.535, val_acc=0.720, val_auc=0.812]        Train Loss: 0.5457\n",
      "Train Accuracy: 0.7256\n",
      "Train AUC: 0.8044\n",
      "Epoch 46:   0%|          | 0/1 [00:00<?, ?it/s, v_num=xzgs, train_loss=0.546, train_acc=0.726, train_auc=0.804, val_loss=0.532, val_acc=0.724, val_auc=0.813]        Train Loss: 0.5361\n",
      "Train Accuracy: 0.7376\n",
      "Train AUC: 0.8150\n",
      "Epoch 47:   0%|          | 0/1 [00:00<?, ?it/s, v_num=xzgs, train_loss=0.536, train_acc=0.738, train_auc=0.815, val_loss=0.530, val_acc=0.728, val_auc=0.814]        Train Loss: 0.5492\n",
      "Train Accuracy: 0.7288\n",
      "Train AUC: 0.8017\n",
      "Epoch 48:   0%|          | 0/1 [00:00<?, ?it/s, v_num=xzgs, train_loss=0.549, train_acc=0.729, train_auc=0.802, val_loss=0.528, val_acc=0.729, val_auc=0.815]        Train Loss: 0.5453\n",
      "Train Accuracy: 0.7408\n",
      "Train AUC: 0.8065\n",
      "Epoch 49:   0%|          | 0/1 [00:00<?, ?it/s, v_num=xzgs, train_loss=0.545, train_acc=0.741, train_auc=0.806, val_loss=0.525, val_acc=0.726, val_auc=0.816]        Train Loss: 0.5629\n",
      "Train Accuracy: 0.7240\n",
      "Train AUC: 0.7912\n",
      "Epoch 49: 100%|██████████| 1/1 [00:00<00:00, 16.53it/s, v_num=xzgs, train_loss=0.563, train_acc=0.724, train_auc=0.791, val_loss=0.523, val_acc=0.726, val_auc=0.818]"
     ]
    },
    {
     "name": "stderr",
     "output_type": "stream",
     "text": [
      "`Trainer.fit` stopped: `max_epochs=50` reached.\n"
     ]
    },
    {
     "name": "stdout",
     "output_type": "stream",
     "text": [
      "Epoch 49: 100%|██████████| 1/1 [00:00<00:00, 13.33it/s, v_num=xzgs, train_loss=0.563, train_acc=0.724, train_auc=0.791, val_loss=0.523, val_acc=0.726, val_auc=0.818]\n"
     ]
    },
    {
     "name": "stderr",
     "output_type": "stream",
     "text": [
      "\u001b[34m\u001b[1mwandb\u001b[0m: \u001b[33mWARNING\u001b[0m Config item 'weight_decay' was locked by 'sweep' (ignored update).\n",
      "c:\\Users\\rokaa\\egyetem\\basketball_lineup_analysis\\.venv\\lib\\site-packages\\pytorch_lightning\\trainer\\connectors\\data_connector.py:425: The 'test_dataloader' does not have many workers which may be a bottleneck. Consider increasing the value of the `num_workers` argument` to `num_workers=7` in the `DataLoader` to improve performance.\n"
     ]
    },
    {
     "name": "stdout",
     "output_type": "stream",
     "text": [
      "Testing DataLoader 0: 100%|██████████| 1/1 [00:00<00:00, 66.67it/s]\n",
      "────────────────────────────────────────────────────────────────────────────────────────────────────────────────────────\n",
      "       Test metric             DataLoader 0\n",
      "────────────────────────────────────────────────────────────────────────────────────────────────────────────────────────\n",
      "        test_acc            0.7140824794769287\n",
      "        test_auc            0.8106640577316284\n",
      "        test_loss           0.5292726159095764\n",
      "────────────────────────────────────────────────────────────────────────────────────────────────────────────────────────\n"
     ]
    },
    {
     "name": "stderr",
     "output_type": "stream",
     "text": [
      "\u001b[34m\u001b[1mwandb\u001b[0m: \u001b[32m\u001b[41mERROR\u001b[0m The nbformat package was not found. It is required to save notebook history.\n"
     ]
    },
    {
     "data": {
      "text/html": [],
      "text/plain": [
       "<IPython.core.display.HTML object>"
      ]
     },
     "metadata": {},
     "output_type": "display_data"
    },
    {
     "data": {
      "text/html": [
       "<br>    <style><br>        .wandb-row {<br>            display: flex;<br>            flex-direction: row;<br>            flex-wrap: wrap;<br>            justify-content: flex-start;<br>            width: 100%;<br>        }<br>        .wandb-col {<br>            display: flex;<br>            flex-direction: column;<br>            flex-basis: 100%;<br>            flex: 1;<br>            padding: 10px;<br>        }<br>    </style><br><div class=\"wandb-row\"><div class=\"wandb-col\"><h3>Run history:</h3><br/><table class=\"wandb\"><tr><td>epoch</td><td>▁▁▁▁▂▂▂▂▂▂▃▃▃▃▃▄▄▄▄▄▄▅▅▅▅▅▆▆▆▆▇▇▇▇▇▇████</td></tr><tr><td>test_acc</td><td>▁</td></tr><tr><td>test_auc</td><td>▁</td></tr><tr><td>test_loss</td><td>▁</td></tr><tr><td>train_acc</td><td>▁</td></tr><tr><td>train_auc</td><td>▁</td></tr><tr><td>train_loss</td><td>▁</td></tr><tr><td>trainer/global_step</td><td>▁▁▁▂▂▂▂▂▂▃▃▃▃▃▃▄▄▄▄▄▅▅▅▅▅▆▆▆▆▆▆▇▇▇▇▇████</td></tr><tr><td>val_acc</td><td>▁▂▃▅██████████████████████████▇▇▇▇▇▇▇▇▇▇</td></tr><tr><td>val_auc</td><td>▁▄▅▆▇▇▇▇▇▇▇▇▇▇▇▇▇▇██████████████████████</td></tr><tr><td>val_loss</td><td>██▇▇▆▅▅▅▅▅▅▅▄▄▄▄▄▄▄▄▃▃▃▃▃▂▂▂▂▂▂▂▂▂▂▂▁▁▁▁</td></tr></table><br/></div><div class=\"wandb-col\"><h3>Run summary:</h3><br/><table class=\"wandb\"><tr><td>epoch</td><td>50</td></tr><tr><td>test_acc</td><td>0.71408</td></tr><tr><td>test_auc</td><td>0.81066</td></tr><tr><td>test_loss</td><td>0.52927</td></tr><tr><td>train_acc</td><td>0.724</td></tr><tr><td>train_auc</td><td>0.79123</td></tr><tr><td>train_loss</td><td>0.56286</td></tr><tr><td>trainer/global_step</td><td>50</td></tr><tr><td>val_acc</td><td>0.7264</td></tr><tr><td>val_auc</td><td>0.81818</td></tr><tr><td>val_loss</td><td>0.52293</td></tr></table><br/></div></div>"
      ],
      "text/plain": [
       "<IPython.core.display.HTML object>"
      ]
     },
     "metadata": {},
     "output_type": "display_data"
    },
    {
     "data": {
      "text/html": [
       " View run <strong style=\"color:#cdcd00\">divine-sweep-2</strong> at: <a href='https://wandb.ai/rokaati18-budapesti-m-szaki-s-gazdas-gtudom-nyi-egyetem/nba_lineup_prediction/runs/29vsxzgs' target=\"_blank\">https://wandb.ai/rokaati18-budapesti-m-szaki-s-gazdas-gtudom-nyi-egyetem/nba_lineup_prediction/runs/29vsxzgs</a><br> View project at: <a href='https://wandb.ai/rokaati18-budapesti-m-szaki-s-gazdas-gtudom-nyi-egyetem/nba_lineup_prediction' target=\"_blank\">https://wandb.ai/rokaati18-budapesti-m-szaki-s-gazdas-gtudom-nyi-egyetem/nba_lineup_prediction</a><br>Synced 5 W&B file(s), 0 media file(s), 0 artifact file(s) and 0 other file(s)"
      ],
      "text/plain": [
       "<IPython.core.display.HTML object>"
      ]
     },
     "metadata": {},
     "output_type": "display_data"
    },
    {
     "data": {
      "text/html": [
       "Find logs at: <code>.\\wandb\\run-20250502_194132-29vsxzgs\\logs</code>"
      ],
      "text/plain": [
       "<IPython.core.display.HTML object>"
      ]
     },
     "metadata": {},
     "output_type": "display_data"
    },
    {
     "name": "stderr",
     "output_type": "stream",
     "text": [
      "\u001b[34m\u001b[1mwandb\u001b[0m: Agent Starting Run: mtxkct6f with config:\n",
      "\u001b[34m\u001b[1mwandb\u001b[0m: \tdropout: 0\n",
      "\u001b[34m\u001b[1mwandb\u001b[0m: \thidden_dim: 64\n",
      "\u001b[34m\u001b[1mwandb\u001b[0m: \tlr: 1.0008077174098855\n",
      "\u001b[34m\u001b[1mwandb\u001b[0m: \tnum_conv_layers: 4\n",
      "\u001b[34m\u001b[1mwandb\u001b[0m: \tnum_linear_layers: 3\n",
      "\u001b[34m\u001b[1mwandb\u001b[0m: \tweight_decay: 1.0006864712882424\n"
     ]
    },
    {
     "data": {
      "text/html": [
       "Tracking run with wandb version 0.19.9"
      ],
      "text/plain": [
       "<IPython.core.display.HTML object>"
      ]
     },
     "metadata": {},
     "output_type": "display_data"
    },
    {
     "data": {
      "text/html": [
       "Run data is saved locally in <code>c:\\Users\\rokaa\\egyetem\\basketball_lineup_analysis\\LineupVSLineup\\GNN\\wandb\\run-20250502_194142-mtxkct6f</code>"
      ],
      "text/plain": [
       "<IPython.core.display.HTML object>"
      ]
     },
     "metadata": {},
     "output_type": "display_data"
    },
    {
     "data": {
      "text/html": [
       "Syncing run <strong><a href='https://wandb.ai/rokaati18-budapesti-m-szaki-s-gazdas-gtudom-nyi-egyetem/nba_lineup_prediction/runs/mtxkct6f' target=\"_blank\">winter-sweep-3</a></strong> to <a href='https://wandb.ai/rokaati18-budapesti-m-szaki-s-gazdas-gtudom-nyi-egyetem/nba_lineup_prediction' target=\"_blank\">Weights & Biases</a> (<a href='https://wandb.me/developer-guide' target=\"_blank\">docs</a>)<br>Sweep page: <a href='https://wandb.ai/rokaati18-budapesti-m-szaki-s-gazdas-gtudom-nyi-egyetem/nba_lineup_prediction/sweeps/vlnj32yu' target=\"_blank\">https://wandb.ai/rokaati18-budapesti-m-szaki-s-gazdas-gtudom-nyi-egyetem/nba_lineup_prediction/sweeps/vlnj32yu</a>"
      ],
      "text/plain": [
       "<IPython.core.display.HTML object>"
      ]
     },
     "metadata": {},
     "output_type": "display_data"
    },
    {
     "data": {
      "text/html": [
       " View project at <a href='https://wandb.ai/rokaati18-budapesti-m-szaki-s-gazdas-gtudom-nyi-egyetem/nba_lineup_prediction' target=\"_blank\">https://wandb.ai/rokaati18-budapesti-m-szaki-s-gazdas-gtudom-nyi-egyetem/nba_lineup_prediction</a>"
      ],
      "text/plain": [
       "<IPython.core.display.HTML object>"
      ]
     },
     "metadata": {},
     "output_type": "display_data"
    },
    {
     "data": {
      "text/html": [
       " View sweep at <a href='https://wandb.ai/rokaati18-budapesti-m-szaki-s-gazdas-gtudom-nyi-egyetem/nba_lineup_prediction/sweeps/vlnj32yu' target=\"_blank\">https://wandb.ai/rokaati18-budapesti-m-szaki-s-gazdas-gtudom-nyi-egyetem/nba_lineup_prediction/sweeps/vlnj32yu</a>"
      ],
      "text/plain": [
       "<IPython.core.display.HTML object>"
      ]
     },
     "metadata": {},
     "output_type": "display_data"
    },
    {
     "data": {
      "text/html": [
       " View run at <a href='https://wandb.ai/rokaati18-budapesti-m-szaki-s-gazdas-gtudom-nyi-egyetem/nba_lineup_prediction/runs/mtxkct6f' target=\"_blank\">https://wandb.ai/rokaati18-budapesti-m-szaki-s-gazdas-gtudom-nyi-egyetem/nba_lineup_prediction/runs/mtxkct6f</a>"
      ],
      "text/plain": [
       "<IPython.core.display.HTML object>"
      ]
     },
     "metadata": {},
     "output_type": "display_data"
    },
    {
     "name": "stderr",
     "output_type": "stream",
     "text": [
      "GPU available: False, used: False\n",
      "TPU available: False, using: 0 TPU cores\n",
      "HPU available: False, using: 0 HPUs\n",
      "c:\\Users\\rokaa\\egyetem\\basketball_lineup_analysis\\.venv\\lib\\site-packages\\pytorch_lightning\\loggers\\wandb.py:397: There is a wandb run already in progress and newly created instances of `WandbLogger` will reuse this run. If this is not desired, call `wandb.finish()` before instantiating `WandbLogger`.\n",
      "\n",
      "  | Name           | Type           | Params | Mode \n",
      "----------------------------------------------------------\n",
      "0 | gnn            | GNNModel       | 13.4 K | train\n",
      "1 | link_predictor | LinkPredictor  | 8.3 K  | train\n",
      "2 | loss_fn        | BCELoss        | 0      | train\n",
      "3 | train_acc      | BinaryAccuracy | 0      | train\n",
      "4 | val_acc        | BinaryAccuracy | 0      | train\n",
      "5 | test_acc       | BinaryAccuracy | 0      | train\n",
      "6 | train_auroc    | BinaryAUROC    | 0      | train\n",
      "7 | val_auroc      | BinaryAUROC    | 0      | train\n",
      "8 | test_auroc     | BinaryAUROC    | 0      | train\n",
      "----------------------------------------------------------\n",
      "21.7 K    Trainable params\n",
      "0         Non-trainable params\n",
      "21.7 K    Total params\n",
      "0.087     Total estimated model params size (MB)\n",
      "29        Modules in train mode\n",
      "0         Modules in eval mode\n",
      "\u001b[34m\u001b[1mwandb\u001b[0m: \u001b[33mWARNING\u001b[0m Config item 'weight_decay' was locked by 'sweep' (ignored update).\n"
     ]
    },
    {
     "name": "stdout",
     "output_type": "stream",
     "text": [
      "                                                                           "
     ]
    },
    {
     "name": "stderr",
     "output_type": "stream",
     "text": [
      "c:\\Users\\rokaa\\egyetem\\basketball_lineup_analysis\\.venv\\lib\\site-packages\\pytorch_lightning\\trainer\\connectors\\data_connector.py:425: The 'val_dataloader' does not have many workers which may be a bottleneck. Consider increasing the value of the `num_workers` argument` to `num_workers=7` in the `DataLoader` to improve performance.\n",
      "c:\\Users\\rokaa\\egyetem\\basketball_lineup_analysis\\.venv\\lib\\site-packages\\pytorch_lightning\\trainer\\connectors\\data_connector.py:425: The 'train_dataloader' does not have many workers which may be a bottleneck. Consider increasing the value of the `num_workers` argument` to `num_workers=7` in the `DataLoader` to improve performance.\n",
      "c:\\Users\\rokaa\\egyetem\\basketball_lineup_analysis\\.venv\\lib\\site-packages\\pytorch_lightning\\loops\\fit_loop.py:310: The number of training batches (1) is smaller than the logging interval Trainer(log_every_n_steps=50). Set a lower value for log_every_n_steps if you want to see logs for the training epoch.\n"
     ]
    },
    {
     "name": "stdout",
     "output_type": "stream",
     "text": [
      "Epoch 0:   0%|          | 0/1 [00:00<?, ?it/s] Train Loss: 0.7224\n",
      "Train Accuracy: 0.5224\n",
      "Train AUC: 0.5322\n",
      "Epoch 1:   0%|          | 0/1 [00:00<?, ?it/s, v_num=ct6f, train_loss=0.722, train_acc=0.522, train_auc=0.532, val_loss=0.674, val_acc=0.752, val_auc=0.743]        Train Loss: 0.6956\n",
      "Train Accuracy: 0.6000\n",
      "Train AUC: 0.6114\n",
      "Epoch 2:   0%|          | 0/1 [00:00<?, ?it/s, v_num=ct6f, train_loss=0.696, train_acc=0.600, train_auc=0.611, val_loss=0.666, val_acc=0.756, val_auc=0.745]        Train Loss: 0.6862\n",
      "Train Accuracy: 0.6600\n",
      "Train AUC: 0.6537\n",
      "Epoch 3:   0%|          | 0/1 [00:00<?, ?it/s, v_num=ct6f, train_loss=0.686, train_acc=0.660, train_auc=0.654, val_loss=0.659, val_acc=0.753, val_auc=0.745]        Train Loss: 0.7043\n",
      "Train Accuracy: 0.6992\n",
      "Train AUC: 0.7034\n",
      "Epoch 4:   0%|          | 0/1 [00:00<?, ?it/s, v_num=ct6f, train_loss=0.704, train_acc=0.699, train_auc=0.703, val_loss=0.656, val_acc=0.754, val_auc=0.748]        Train Loss: 0.6772\n",
      "Train Accuracy: 0.7208\n",
      "Train AUC: 0.7200\n",
      "Epoch 5:   0%|          | 0/1 [00:00<?, ?it/s, v_num=ct6f, train_loss=0.677, train_acc=0.721, train_auc=0.720, val_loss=0.658, val_acc=0.741, val_auc=0.742]        Train Loss: 0.6769\n",
      "Train Accuracy: 0.6960\n",
      "Train AUC: 0.6963\n",
      "Epoch 6:   0%|          | 0/1 [00:00<?, ?it/s, v_num=ct6f, train_loss=0.677, train_acc=0.696, train_auc=0.696, val_loss=0.661, val_acc=0.736, val_auc=0.735]        Train Loss: 0.6701\n",
      "Train Accuracy: 0.7232\n",
      "Train AUC: 0.7181\n",
      "Epoch 7:   0%|          | 0/1 [00:00<?, ?it/s, v_num=ct6f, train_loss=0.670, train_acc=0.723, train_auc=0.718, val_loss=0.662, val_acc=0.737, val_auc=0.734]        Train Loss: 0.6888\n",
      "Train Accuracy: 0.7048\n",
      "Train AUC: 0.7064\n",
      "Epoch 8:   0%|          | 0/1 [00:00<?, ?it/s, v_num=ct6f, train_loss=0.689, train_acc=0.705, train_auc=0.706, val_loss=0.656, val_acc=0.738, val_auc=0.739]        Train Loss: 0.6674\n",
      "Train Accuracy: 0.7216\n",
      "Train AUC: 0.7251\n",
      "Epoch 9:   0%|          | 0/1 [00:00<?, ?it/s, v_num=ct6f, train_loss=0.667, train_acc=0.722, train_auc=0.725, val_loss=0.649, val_acc=0.742, val_auc=0.745]        Train Loss: 0.6639\n",
      "Train Accuracy: 0.7272\n",
      "Train AUC: 0.7249\n",
      "Epoch 10:   0%|          | 0/1 [00:00<?, ?it/s, v_num=ct6f, train_loss=0.664, train_acc=0.727, train_auc=0.725, val_loss=0.642, val_acc=0.746, val_auc=0.749]       Train Loss: 0.6529\n",
      "Train Accuracy: 0.7408\n",
      "Train AUC: 0.7352\n",
      "Epoch 11:   0%|          | 0/1 [00:00<?, ?it/s, v_num=ct6f, train_loss=0.653, train_acc=0.741, train_auc=0.735, val_loss=0.638, val_acc=0.751, val_auc=0.749]        Train Loss: 0.6602\n",
      "Train Accuracy: 0.7320\n",
      "Train AUC: 0.7354\n",
      "Epoch 12:   0%|          | 0/1 [00:00<?, ?it/s, v_num=ct6f, train_loss=0.660, train_acc=0.732, train_auc=0.735, val_loss=0.636, val_acc=0.750, val_auc=0.748]        Train Loss: 0.6544\n",
      "Train Accuracy: 0.7432\n",
      "Train AUC: 0.7409\n",
      "Epoch 13:   0%|          | 0/1 [00:00<?, ?it/s, v_num=ct6f, train_loss=0.654, train_acc=0.743, train_auc=0.741, val_loss=0.633, val_acc=0.748, val_auc=0.749]        Train Loss: 0.6570\n",
      "Train Accuracy: 0.7520\n",
      "Train AUC: 0.7445\n",
      "Epoch 14:   0%|          | 0/1 [00:00<?, ?it/s, v_num=ct6f, train_loss=0.657, train_acc=0.752, train_auc=0.745, val_loss=0.631, val_acc=0.750, val_auc=0.753]        Train Loss: 0.6410\n",
      "Train Accuracy: 0.7536\n",
      "Train AUC: 0.7508\n",
      "Epoch 15:   0%|          | 0/1 [00:00<?, ?it/s, v_num=ct6f, train_loss=0.641, train_acc=0.754, train_auc=0.751, val_loss=0.628, val_acc=0.750, val_auc=0.757]        Train Loss: 0.6318\n",
      "Train Accuracy: 0.7384\n",
      "Train AUC: 0.7633\n",
      "Epoch 16:   0%|          | 0/1 [00:00<?, ?it/s, v_num=ct6f, train_loss=0.632, train_acc=0.738, train_auc=0.763, val_loss=0.624, val_acc=0.750, val_auc=0.762]        Train Loss: 0.6500\n",
      "Train Accuracy: 0.7224\n",
      "Train AUC: 0.7354\n",
      "Epoch 17:   0%|          | 0/1 [00:00<?, ?it/s, v_num=ct6f, train_loss=0.650, train_acc=0.722, train_auc=0.735, val_loss=0.621, val_acc=0.747, val_auc=0.766]        Train Loss: 0.6294\n",
      "Train Accuracy: 0.7496\n",
      "Train AUC: 0.7627\n",
      "Epoch 18:   0%|          | 0/1 [00:00<?, ?it/s, v_num=ct6f, train_loss=0.629, train_acc=0.750, train_auc=0.763, val_loss=0.617, val_acc=0.749, val_auc=0.769]        Train Loss: 0.6407\n",
      "Train Accuracy: 0.7312\n",
      "Train AUC: 0.7479\n",
      "Epoch 19:   0%|          | 0/1 [00:00<?, ?it/s, v_num=ct6f, train_loss=0.641, train_acc=0.731, train_auc=0.748, val_loss=0.614, val_acc=0.751, val_auc=0.772]        Train Loss: 0.6287\n",
      "Train Accuracy: 0.7416\n",
      "Train AUC: 0.7568\n",
      "Epoch 20:   0%|          | 0/1 [00:00<?, ?it/s, v_num=ct6f, train_loss=0.629, train_acc=0.742, train_auc=0.757, val_loss=0.611, val_acc=0.748, val_auc=0.773]        Train Loss: 0.6385\n",
      "Train Accuracy: 0.7312\n",
      "Train AUC: 0.7425\n",
      "Epoch 21:   0%|          | 0/1 [00:00<?, ?it/s, v_num=ct6f, train_loss=0.639, train_acc=0.731, train_auc=0.743, val_loss=0.607, val_acc=0.746, val_auc=0.774]        Train Loss: 0.6293\n",
      "Train Accuracy: 0.7344\n",
      "Train AUC: 0.7508\n",
      "Epoch 22:   0%|          | 0/1 [00:00<?, ?it/s, v_num=ct6f, train_loss=0.629, train_acc=0.734, train_auc=0.751, val_loss=0.604, val_acc=0.745, val_auc=0.775]        Train Loss: 0.6222\n",
      "Train Accuracy: 0.7328\n",
      "Train AUC: 0.7568\n",
      "Epoch 23:   0%|          | 0/1 [00:00<?, ?it/s, v_num=ct6f, train_loss=0.622, train_acc=0.733, train_auc=0.757, val_loss=0.601, val_acc=0.744, val_auc=0.776]        Train Loss: 0.6185\n",
      "Train Accuracy: 0.7464\n",
      "Train AUC: 0.7560\n",
      "Epoch 24:   0%|          | 0/1 [00:00<?, ?it/s, v_num=ct6f, train_loss=0.619, train_acc=0.746, train_auc=0.756, val_loss=0.597, val_acc=0.744, val_auc=0.779]        Train Loss: 0.6170\n",
      "Train Accuracy: 0.7312\n",
      "Train AUC: 0.7518\n",
      "Epoch 25:   0%|          | 0/1 [00:00<?, ?it/s, v_num=ct6f, train_loss=0.617, train_acc=0.731, train_auc=0.752, val_loss=0.593, val_acc=0.745, val_auc=0.783]        Train Loss: 0.6099\n",
      "Train Accuracy: 0.7272\n",
      "Train AUC: 0.7658\n",
      "Epoch 26:   0%|          | 0/1 [00:00<?, ?it/s, v_num=ct6f, train_loss=0.610, train_acc=0.727, train_auc=0.766, val_loss=0.588, val_acc=0.746, val_auc=0.786]        Train Loss: 0.6165\n",
      "Train Accuracy: 0.7320\n",
      "Train AUC: 0.7571\n",
      "Epoch 27:   0%|          | 0/1 [00:00<?, ?it/s, v_num=ct6f, train_loss=0.616, train_acc=0.732, train_auc=0.757, val_loss=0.584, val_acc=0.747, val_auc=0.791]        Train Loss: 0.6025\n",
      "Train Accuracy: 0.7336\n",
      "Train AUC: 0.7698\n",
      "Epoch 28:   0%|          | 0/1 [00:00<?, ?it/s, v_num=ct6f, train_loss=0.602, train_acc=0.734, train_auc=0.770, val_loss=0.579, val_acc=0.744, val_auc=0.796]        Train Loss: 0.6029\n",
      "Train Accuracy: 0.7376\n",
      "Train AUC: 0.7788\n",
      "Epoch 29:   0%|          | 0/1 [00:00<?, ?it/s, v_num=ct6f, train_loss=0.603, train_acc=0.738, train_auc=0.779, val_loss=0.574, val_acc=0.744, val_auc=0.800]        Train Loss: 0.5885\n",
      "Train Accuracy: 0.7360\n",
      "Train AUC: 0.7810\n",
      "Epoch 30:   0%|          | 0/1 [00:00<?, ?it/s, v_num=ct6f, train_loss=0.589, train_acc=0.736, train_auc=0.781, val_loss=0.569, val_acc=0.746, val_auc=0.802]        Train Loss: 0.5898\n",
      "Train Accuracy: 0.7360\n",
      "Train AUC: 0.7794\n",
      "Epoch 31:   0%|          | 0/1 [00:00<?, ?it/s, v_num=ct6f, train_loss=0.590, train_acc=0.736, train_auc=0.779, val_loss=0.565, val_acc=0.747, val_auc=0.804]        Train Loss: 0.5770\n",
      "Train Accuracy: 0.7336\n",
      "Train AUC: 0.7848\n",
      "Epoch 32:   0%|          | 0/1 [00:00<?, ?it/s, v_num=ct6f, train_loss=0.577, train_acc=0.734, train_auc=0.785, val_loss=0.560, val_acc=0.747, val_auc=0.805]        Train Loss: 0.5872\n",
      "Train Accuracy: 0.7272\n",
      "Train AUC: 0.7774\n",
      "Epoch 33:   0%|          | 0/1 [00:00<?, ?it/s, v_num=ct6f, train_loss=0.587, train_acc=0.727, train_auc=0.777, val_loss=0.557, val_acc=0.746, val_auc=0.808]        Train Loss: 0.6029\n",
      "Train Accuracy: 0.7328\n",
      "Train AUC: 0.7662\n",
      "Epoch 34:   0%|          | 0/1 [00:00<?, ?it/s, v_num=ct6f, train_loss=0.603, train_acc=0.733, train_auc=0.766, val_loss=0.554, val_acc=0.742, val_auc=0.812]        Train Loss: 0.5690\n",
      "Train Accuracy: 0.7240\n",
      "Train AUC: 0.7834\n",
      "Epoch 35:   0%|          | 0/1 [00:00<?, ?it/s, v_num=ct6f, train_loss=0.569, train_acc=0.724, train_auc=0.783, val_loss=0.551, val_acc=0.742, val_auc=0.813]        Train Loss: 0.5684\n",
      "Train Accuracy: 0.7400\n",
      "Train AUC: 0.7890\n",
      "Epoch 36:   0%|          | 0/1 [00:00<?, ?it/s, v_num=ct6f, train_loss=0.568, train_acc=0.740, train_auc=0.789, val_loss=0.549, val_acc=0.742, val_auc=0.815]        Train Loss: 0.5636\n",
      "Train Accuracy: 0.7544\n",
      "Train AUC: 0.8018\n",
      "Epoch 37:   0%|          | 0/1 [00:00<?, ?it/s, v_num=ct6f, train_loss=0.564, train_acc=0.754, train_auc=0.802, val_loss=0.545, val_acc=0.740, val_auc=0.816]        Train Loss: 0.5656\n",
      "Train Accuracy: 0.7208\n",
      "Train AUC: 0.7930\n",
      "Epoch 38:   0%|          | 0/1 [00:00<?, ?it/s, v_num=ct6f, train_loss=0.566, train_acc=0.721, train_auc=0.793, val_loss=0.541, val_acc=0.745, val_auc=0.817]        Train Loss: 0.5589\n",
      "Train Accuracy: 0.7304\n",
      "Train AUC: 0.7997\n",
      "Epoch 39:   0%|          | 0/1 [00:00<?, ?it/s, v_num=ct6f, train_loss=0.559, train_acc=0.730, train_auc=0.800, val_loss=0.537, val_acc=0.746, val_auc=0.818]        Train Loss: 0.5514\n",
      "Train Accuracy: 0.7336\n",
      "Train AUC: 0.8040\n",
      "Epoch 40:   0%|          | 0/1 [00:00<?, ?it/s, v_num=ct6f, train_loss=0.551, train_acc=0.734, train_auc=0.804, val_loss=0.533, val_acc=0.746, val_auc=0.819]        Train Loss: 0.5622\n",
      "Train Accuracy: 0.7320\n",
      "Train AUC: 0.7890\n",
      "Epoch 41:   0%|          | 0/1 [00:00<?, ?it/s, v_num=ct6f, train_loss=0.562, train_acc=0.732, train_auc=0.789, val_loss=0.529, val_acc=0.747, val_auc=0.821]        Train Loss: 0.5348\n",
      "Train Accuracy: 0.7432\n",
      "Train AUC: 0.8127\n",
      "Epoch 42:   0%|          | 0/1 [00:00<?, ?it/s, v_num=ct6f, train_loss=0.535, train_acc=0.743, train_auc=0.813, val_loss=0.525, val_acc=0.748, val_auc=0.823]        Train Loss: 0.5294\n",
      "Train Accuracy: 0.7528\n",
      "Train AUC: 0.8149\n",
      "Epoch 43:   0%|          | 0/1 [00:00<?, ?it/s, v_num=ct6f, train_loss=0.529, train_acc=0.753, train_auc=0.815, val_loss=0.521, val_acc=0.747, val_auc=0.825]        Train Loss: 0.5391\n",
      "Train Accuracy: 0.7536\n",
      "Train AUC: 0.8184\n",
      "Epoch 44:   0%|          | 0/1 [00:00<?, ?it/s, v_num=ct6f, train_loss=0.539, train_acc=0.754, train_auc=0.818, val_loss=0.517, val_acc=0.747, val_auc=0.828]        Train Loss: 0.5470\n",
      "Train Accuracy: 0.7248\n",
      "Train AUC: 0.8021\n",
      "Epoch 45:   0%|          | 0/1 [00:00<?, ?it/s, v_num=ct6f, train_loss=0.547, train_acc=0.725, train_auc=0.802, val_loss=0.514, val_acc=0.747, val_auc=0.830]        Train Loss: 0.5599\n",
      "Train Accuracy: 0.7352\n",
      "Train AUC: 0.7911\n",
      "Epoch 46:   0%|          | 0/1 [00:00<?, ?it/s, v_num=ct6f, train_loss=0.560, train_acc=0.735, train_auc=0.791, val_loss=0.514, val_acc=0.745, val_auc=0.833]        Train Loss: 0.5446\n",
      "Train Accuracy: 0.7328\n",
      "Train AUC: 0.8071\n",
      "Epoch 47:   0%|          | 0/1 [00:00<?, ?it/s, v_num=ct6f, train_loss=0.545, train_acc=0.733, train_auc=0.807, val_loss=0.516, val_acc=0.744, val_auc=0.834]        Train Loss: 0.5148\n",
      "Train Accuracy: 0.7360\n",
      "Train AUC: 0.8322\n",
      "Epoch 48:   0%|          | 0/1 [00:00<?, ?it/s, v_num=ct6f, train_loss=0.515, train_acc=0.736, train_auc=0.832, val_loss=0.515, val_acc=0.738, val_auc=0.835]        Train Loss: 0.5324\n",
      "Train Accuracy: 0.7216\n",
      "Train AUC: 0.8105\n",
      "Epoch 49:   0%|          | 0/1 [00:00<?, ?it/s, v_num=ct6f, train_loss=0.532, train_acc=0.722, train_auc=0.811, val_loss=0.511, val_acc=0.744, val_auc=0.837]        Train Loss: 0.5405\n",
      "Train Accuracy: 0.7352\n",
      "Train AUC: 0.8086\n",
      "Epoch 49: 100%|██████████| 1/1 [00:00<00:00, 14.24it/s, v_num=ct6f, train_loss=0.540, train_acc=0.735, train_auc=0.809, val_loss=0.505, val_acc=0.746, val_auc=0.839]"
     ]
    },
    {
     "name": "stderr",
     "output_type": "stream",
     "text": [
      "`Trainer.fit` stopped: `max_epochs=50` reached.\n"
     ]
    },
    {
     "name": "stdout",
     "output_type": "stream",
     "text": [
      "Epoch 49: 100%|██████████| 1/1 [00:00<00:00, 11.42it/s, v_num=ct6f, train_loss=0.540, train_acc=0.735, train_auc=0.809, val_loss=0.505, val_acc=0.746, val_auc=0.839]"
     ]
    },
    {
     "name": "stderr",
     "output_type": "stream",
     "text": [
      "\u001b[34m\u001b[1mwandb\u001b[0m: \u001b[33mWARNING\u001b[0m Config item 'weight_decay' was locked by 'sweep' (ignored update).\n"
     ]
    },
    {
     "name": "stdout",
     "output_type": "stream",
     "text": [
      "\n"
     ]
    },
    {
     "name": "stderr",
     "output_type": "stream",
     "text": [
      "c:\\Users\\rokaa\\egyetem\\basketball_lineup_analysis\\.venv\\lib\\site-packages\\pytorch_lightning\\trainer\\connectors\\data_connector.py:425: The 'test_dataloader' does not have many workers which may be a bottleneck. Consider increasing the value of the `num_workers` argument` to `num_workers=7` in the `DataLoader` to improve performance.\n"
     ]
    },
    {
     "name": "stdout",
     "output_type": "stream",
     "text": [
      "Testing DataLoader 0: 100%|██████████| 1/1 [00:00<00:00, 53.65it/s]\n",
      "────────────────────────────────────────────────────────────────────────────────────────────────────────────────────────\n",
      "       Test metric             DataLoader 0\n",
      "────────────────────────────────────────────────────────────────────────────────────────────────────────────────────────\n",
      "        test_acc            0.7311521768569946\n",
      "        test_auc            0.8296064734458923\n",
      "        test_loss           0.5097132921218872\n",
      "────────────────────────────────────────────────────────────────────────────────────────────────────────────────────────\n"
     ]
    },
    {
     "name": "stderr",
     "output_type": "stream",
     "text": [
      "\u001b[34m\u001b[1mwandb\u001b[0m: \u001b[32m\u001b[41mERROR\u001b[0m The nbformat package was not found. It is required to save notebook history.\n"
     ]
    },
    {
     "data": {
      "text/html": [],
      "text/plain": [
       "<IPython.core.display.HTML object>"
      ]
     },
     "metadata": {},
     "output_type": "display_data"
    },
    {
     "data": {
      "text/html": [
       "<br>    <style><br>        .wandb-row {<br>            display: flex;<br>            flex-direction: row;<br>            flex-wrap: wrap;<br>            justify-content: flex-start;<br>            width: 100%;<br>        }<br>        .wandb-col {<br>            display: flex;<br>            flex-direction: column;<br>            flex-basis: 100%;<br>            flex: 1;<br>            padding: 10px;<br>        }<br>    </style><br><div class=\"wandb-row\"><div class=\"wandb-col\"><h3>Run history:</h3><br/><table class=\"wandb\"><tr><td>epoch</td><td>▁▁▁▁▂▂▂▂▂▃▃▃▃▃▃▄▄▄▄▄▅▅▅▅▅▅▅▆▆▆▆▇▇▇▇▇▇███</td></tr><tr><td>test_acc</td><td>▁</td></tr><tr><td>test_auc</td><td>▁</td></tr><tr><td>test_loss</td><td>▁</td></tr><tr><td>train_acc</td><td>▁</td></tr><tr><td>train_auc</td><td>▁</td></tr><tr><td>train_loss</td><td>▁</td></tr><tr><td>trainer/global_step</td><td>▁▁▁▁▂▂▂▂▂▃▃▃▃▃▃▄▄▄▄▄▅▅▅▅▅▅▆▆▆▆▇▇▇▇▇▇████</td></tr><tr><td>val_acc</td><td>▆█▇▇▂▁▂▄▆▅▅▆▅▅▅▅▄▄▃▃▄▅▃▄▅▄▃▂▂▂▄▄▅▅▅▅▄▃▁▄</td></tr><tr><td>val_auc</td><td>▂▂▂▂▂▁▁▂▂▂▂▂▃▃▃▄▄▄▄▄▄▅▅▅▆▆▆▆▆▆▇▇▇▇▇▇████</td></tr><tr><td>val_loss</td><td>██▇▇▇▇▇▇▇▆▆▆▆▆▆▅▅▅▅▅▄▄▄▄▄▃▃▃▃▃▂▂▂▂▂▁▁▁▁▁</td></tr></table><br/></div><div class=\"wandb-col\"><h3>Run summary:</h3><br/><table class=\"wandb\"><tr><td>epoch</td><td>50</td></tr><tr><td>test_acc</td><td>0.73115</td></tr><tr><td>test_auc</td><td>0.82961</td></tr><tr><td>test_loss</td><td>0.50971</td></tr><tr><td>train_acc</td><td>0.7352</td></tr><tr><td>train_auc</td><td>0.80857</td></tr><tr><td>train_loss</td><td>0.5405</td></tr><tr><td>trainer/global_step</td><td>50</td></tr><tr><td>val_acc</td><td>0.7456</td></tr><tr><td>val_auc</td><td>0.83934</td></tr><tr><td>val_loss</td><td>0.50481</td></tr></table><br/></div></div>"
      ],
      "text/plain": [
       "<IPython.core.display.HTML object>"
      ]
     },
     "metadata": {},
     "output_type": "display_data"
    },
    {
     "data": {
      "text/html": [
       " View run <strong style=\"color:#cdcd00\">winter-sweep-3</strong> at: <a href='https://wandb.ai/rokaati18-budapesti-m-szaki-s-gazdas-gtudom-nyi-egyetem/nba_lineup_prediction/runs/mtxkct6f' target=\"_blank\">https://wandb.ai/rokaati18-budapesti-m-szaki-s-gazdas-gtudom-nyi-egyetem/nba_lineup_prediction/runs/mtxkct6f</a><br> View project at: <a href='https://wandb.ai/rokaati18-budapesti-m-szaki-s-gazdas-gtudom-nyi-egyetem/nba_lineup_prediction' target=\"_blank\">https://wandb.ai/rokaati18-budapesti-m-szaki-s-gazdas-gtudom-nyi-egyetem/nba_lineup_prediction</a><br>Synced 5 W&B file(s), 0 media file(s), 0 artifact file(s) and 0 other file(s)"
      ],
      "text/plain": [
       "<IPython.core.display.HTML object>"
      ]
     },
     "metadata": {},
     "output_type": "display_data"
    },
    {
     "data": {
      "text/html": [
       "Find logs at: <code>.\\wandb\\run-20250502_194142-mtxkct6f\\logs</code>"
      ],
      "text/plain": [
       "<IPython.core.display.HTML object>"
      ]
     },
     "metadata": {},
     "output_type": "display_data"
    },
    {
     "name": "stderr",
     "output_type": "stream",
     "text": [
      "\u001b[34m\u001b[1mwandb\u001b[0m: Agent Starting Run: 9v5ysxqp with config:\n",
      "\u001b[34m\u001b[1mwandb\u001b[0m: \tdropout: 0\n",
      "\u001b[34m\u001b[1mwandb\u001b[0m: \thidden_dim: 64\n",
      "\u001b[34m\u001b[1mwandb\u001b[0m: \tlr: 1.0088366135113855\n",
      "\u001b[34m\u001b[1mwandb\u001b[0m: \tnum_conv_layers: 2\n",
      "\u001b[34m\u001b[1mwandb\u001b[0m: \tnum_linear_layers: 1\n",
      "\u001b[34m\u001b[1mwandb\u001b[0m: \tweight_decay: 1.0035090792074977\n"
     ]
    },
    {
     "data": {
      "text/html": [
       "Tracking run with wandb version 0.19.9"
      ],
      "text/plain": [
       "<IPython.core.display.HTML object>"
      ]
     },
     "metadata": {},
     "output_type": "display_data"
    },
    {
     "data": {
      "text/html": [
       "Run data is saved locally in <code>c:\\Users\\rokaa\\egyetem\\basketball_lineup_analysis\\LineupVSLineup\\GNN\\wandb\\run-20250502_194154-9v5ysxqp</code>"
      ],
      "text/plain": [
       "<IPython.core.display.HTML object>"
      ]
     },
     "metadata": {},
     "output_type": "display_data"
    },
    {
     "data": {
      "text/html": [
       "Syncing run <strong><a href='https://wandb.ai/rokaati18-budapesti-m-szaki-s-gazdas-gtudom-nyi-egyetem/nba_lineup_prediction/runs/9v5ysxqp' target=\"_blank\">icy-sweep-4</a></strong> to <a href='https://wandb.ai/rokaati18-budapesti-m-szaki-s-gazdas-gtudom-nyi-egyetem/nba_lineup_prediction' target=\"_blank\">Weights & Biases</a> (<a href='https://wandb.me/developer-guide' target=\"_blank\">docs</a>)<br>Sweep page: <a href='https://wandb.ai/rokaati18-budapesti-m-szaki-s-gazdas-gtudom-nyi-egyetem/nba_lineup_prediction/sweeps/vlnj32yu' target=\"_blank\">https://wandb.ai/rokaati18-budapesti-m-szaki-s-gazdas-gtudom-nyi-egyetem/nba_lineup_prediction/sweeps/vlnj32yu</a>"
      ],
      "text/plain": [
       "<IPython.core.display.HTML object>"
      ]
     },
     "metadata": {},
     "output_type": "display_data"
    },
    {
     "data": {
      "text/html": [
       " View project at <a href='https://wandb.ai/rokaati18-budapesti-m-szaki-s-gazdas-gtudom-nyi-egyetem/nba_lineup_prediction' target=\"_blank\">https://wandb.ai/rokaati18-budapesti-m-szaki-s-gazdas-gtudom-nyi-egyetem/nba_lineup_prediction</a>"
      ],
      "text/plain": [
       "<IPython.core.display.HTML object>"
      ]
     },
     "metadata": {},
     "output_type": "display_data"
    },
    {
     "data": {
      "text/html": [
       " View sweep at <a href='https://wandb.ai/rokaati18-budapesti-m-szaki-s-gazdas-gtudom-nyi-egyetem/nba_lineup_prediction/sweeps/vlnj32yu' target=\"_blank\">https://wandb.ai/rokaati18-budapesti-m-szaki-s-gazdas-gtudom-nyi-egyetem/nba_lineup_prediction/sweeps/vlnj32yu</a>"
      ],
      "text/plain": [
       "<IPython.core.display.HTML object>"
      ]
     },
     "metadata": {},
     "output_type": "display_data"
    },
    {
     "data": {
      "text/html": [
       " View run at <a href='https://wandb.ai/rokaati18-budapesti-m-szaki-s-gazdas-gtudom-nyi-egyetem/nba_lineup_prediction/runs/9v5ysxqp' target=\"_blank\">https://wandb.ai/rokaati18-budapesti-m-szaki-s-gazdas-gtudom-nyi-egyetem/nba_lineup_prediction/runs/9v5ysxqp</a>"
      ],
      "text/plain": [
       "<IPython.core.display.HTML object>"
      ]
     },
     "metadata": {},
     "output_type": "display_data"
    },
    {
     "name": "stderr",
     "output_type": "stream",
     "text": [
      "GPU available: False, used: False\n",
      "TPU available: False, using: 0 TPU cores\n",
      "HPU available: False, using: 0 HPUs\n",
      "c:\\Users\\rokaa\\egyetem\\basketball_lineup_analysis\\.venv\\lib\\site-packages\\pytorch_lightning\\loggers\\wandb.py:397: There is a wandb run already in progress and newly created instances of `WandbLogger` will reuse this run. If this is not desired, call `wandb.finish()` before instantiating `WandbLogger`.\n",
      "\n",
      "  | Name           | Type           | Params | Mode \n",
      "----------------------------------------------------------\n",
      "0 | gnn            | GNNModel       | 13.4 K | train\n",
      "1 | link_predictor | LinkPredictor  | 8.3 K  | train\n",
      "2 | loss_fn        | BCELoss        | 0      | train\n",
      "3 | train_acc      | BinaryAccuracy | 0      | train\n",
      "4 | val_acc        | BinaryAccuracy | 0      | train\n",
      "5 | test_acc       | BinaryAccuracy | 0      | train\n",
      "6 | train_auroc    | BinaryAUROC    | 0      | train\n",
      "7 | val_auroc      | BinaryAUROC    | 0      | train\n",
      "8 | test_auroc     | BinaryAUROC    | 0      | train\n",
      "----------------------------------------------------------\n",
      "21.7 K    Trainable params\n",
      "0         Non-trainable params\n",
      "21.7 K    Total params\n",
      "0.087     Total estimated model params size (MB)\n",
      "29        Modules in train mode\n",
      "0         Modules in eval mode\n",
      "\u001b[34m\u001b[1mwandb\u001b[0m: \u001b[33mWARNING\u001b[0m Config item 'weight_decay' was locked by 'sweep' (ignored update).\n"
     ]
    },
    {
     "name": "stdout",
     "output_type": "stream",
     "text": [
      "                                                                           "
     ]
    },
    {
     "name": "stderr",
     "output_type": "stream",
     "text": [
      "c:\\Users\\rokaa\\egyetem\\basketball_lineup_analysis\\.venv\\lib\\site-packages\\pytorch_lightning\\trainer\\connectors\\data_connector.py:425: The 'val_dataloader' does not have many workers which may be a bottleneck. Consider increasing the value of the `num_workers` argument` to `num_workers=7` in the `DataLoader` to improve performance.\n",
      "c:\\Users\\rokaa\\egyetem\\basketball_lineup_analysis\\.venv\\lib\\site-packages\\pytorch_lightning\\trainer\\connectors\\data_connector.py:425: The 'train_dataloader' does not have many workers which may be a bottleneck. Consider increasing the value of the `num_workers` argument` to `num_workers=7` in the `DataLoader` to improve performance.\n",
      "c:\\Users\\rokaa\\egyetem\\basketball_lineup_analysis\\.venv\\lib\\site-packages\\pytorch_lightning\\loops\\fit_loop.py:310: The number of training batches (1) is smaller than the logging interval Trainer(log_every_n_steps=50). Set a lower value for log_every_n_steps if you want to see logs for the training epoch.\n"
     ]
    },
    {
     "name": "stdout",
     "output_type": "stream",
     "text": [
      "Epoch 0:   0%|          | 0/1 [00:00<?, ?it/s] Train Loss: 0.7736\n",
      "Train Accuracy: 0.5312\n",
      "Train AUC: 0.5480\n",
      "Epoch 1:   0%|          | 0/1 [00:00<?, ?it/s, v_num=sxqp, train_loss=0.774, train_acc=0.531, train_auc=0.548, val_loss=0.669, val_acc=0.676, val_auc=0.734]        Train Loss: 0.7433\n",
      "Train Accuracy: 0.6064\n",
      "Train AUC: 0.6065\n",
      "Epoch 2:   0%|          | 0/1 [00:00<?, ?it/s, v_num=sxqp, train_loss=0.743, train_acc=0.606, train_auc=0.607, val_loss=0.672, val_acc=0.666, val_auc=0.730]        Train Loss: 0.7223\n",
      "Train Accuracy: 0.6376\n",
      "Train AUC: 0.6528\n",
      "Epoch 3:   0%|          | 0/1 [00:00<?, ?it/s, v_num=sxqp, train_loss=0.722, train_acc=0.638, train_auc=0.653, val_loss=0.676, val_acc=0.656, val_auc=0.727]        Train Loss: 0.6813\n",
      "Train Accuracy: 0.6456\n",
      "Train AUC: 0.6947\n",
      "Epoch 4:   0%|          | 0/1 [00:00<?, ?it/s, v_num=sxqp, train_loss=0.681, train_acc=0.646, train_auc=0.695, val_loss=0.670, val_acc=0.667, val_auc=0.733]        Train Loss: 0.6958\n",
      "Train Accuracy: 0.6584\n",
      "Train AUC: 0.6743\n",
      "Epoch 5:   0%|          | 0/1 [00:00<?, ?it/s, v_num=sxqp, train_loss=0.696, train_acc=0.658, train_auc=0.674, val_loss=0.664, val_acc=0.680, val_auc=0.743]        Train Loss: 0.7040\n",
      "Train Accuracy: 0.6808\n",
      "Train AUC: 0.6904\n",
      "Epoch 6:   0%|          | 0/1 [00:00<?, ?it/s, v_num=sxqp, train_loss=0.704, train_acc=0.681, train_auc=0.690, val_loss=0.663, val_acc=0.690, val_auc=0.740]        Train Loss: 0.6755\n",
      "Train Accuracy: 0.6824\n",
      "Train AUC: 0.7094\n",
      "Epoch 7:   0%|          | 0/1 [00:00<?, ?it/s, v_num=sxqp, train_loss=0.675, train_acc=0.682, train_auc=0.709, val_loss=0.662, val_acc=0.697, val_auc=0.739]        Train Loss: 0.6689\n",
      "Train Accuracy: 0.6864\n",
      "Train AUC: 0.7069\n",
      "Epoch 8:   0%|          | 0/1 [00:00<?, ?it/s, v_num=sxqp, train_loss=0.669, train_acc=0.686, train_auc=0.707, val_loss=0.662, val_acc=0.697, val_auc=0.739]        Train Loss: 0.6807\n",
      "Train Accuracy: 0.7104\n",
      "Train AUC: 0.7256\n",
      "Epoch 9:   0%|          | 0/1 [00:00<?, ?it/s, v_num=sxqp, train_loss=0.681, train_acc=0.710, train_auc=0.726, val_loss=0.662, val_acc=0.694, val_auc=0.741]        Train Loss: 0.6671\n",
      "Train Accuracy: 0.7160\n",
      "Train AUC: 0.7246\n",
      "Epoch 10:   0%|          | 0/1 [00:00<?, ?it/s, v_num=sxqp, train_loss=0.667, train_acc=0.716, train_auc=0.725, val_loss=0.662, val_acc=0.681, val_auc=0.744]       Train Loss: 0.6665\n",
      "Train Accuracy: 0.7112\n",
      "Train AUC: 0.7282\n",
      "Epoch 11:   0%|          | 0/1 [00:00<?, ?it/s, v_num=sxqp, train_loss=0.667, train_acc=0.711, train_auc=0.728, val_loss=0.663, val_acc=0.675, val_auc=0.748]        Train Loss: 0.6617\n",
      "Train Accuracy: 0.6872\n",
      "Train AUC: 0.7166\n",
      "Epoch 12:   0%|          | 0/1 [00:00<?, ?it/s, v_num=sxqp, train_loss=0.662, train_acc=0.687, train_auc=0.717, val_loss=0.664, val_acc=0.669, val_auc=0.749]        Train Loss: 0.6717\n",
      "Train Accuracy: 0.6936\n",
      "Train AUC: 0.7241\n",
      "Epoch 13:   0%|          | 0/1 [00:00<?, ?it/s, v_num=sxqp, train_loss=0.672, train_acc=0.694, train_auc=0.724, val_loss=0.664, val_acc=0.664, val_auc=0.748]        Train Loss: 0.6752\n",
      "Train Accuracy: 0.6992\n",
      "Train AUC: 0.7276\n",
      "Epoch 14:   0%|          | 0/1 [00:00<?, ?it/s, v_num=sxqp, train_loss=0.675, train_acc=0.699, train_auc=0.728, val_loss=0.664, val_acc=0.666, val_auc=0.749]        Train Loss: 0.6893\n",
      "Train Accuracy: 0.6960\n",
      "Train AUC: 0.7166\n",
      "Epoch 15:   0%|          | 0/1 [00:00<?, ?it/s, v_num=sxqp, train_loss=0.689, train_acc=0.696, train_auc=0.717, val_loss=0.664, val_acc=0.665, val_auc=0.748]        Train Loss: 0.6604\n",
      "Train Accuracy: 0.7048\n",
      "Train AUC: 0.7313\n",
      "Epoch 16:   0%|          | 0/1 [00:00<?, ?it/s, v_num=sxqp, train_loss=0.660, train_acc=0.705, train_auc=0.731, val_loss=0.664, val_acc=0.673, val_auc=0.748]        Train Loss: 0.6493\n",
      "Train Accuracy: 0.7080\n",
      "Train AUC: 0.7441\n",
      "Epoch 17:   0%|          | 0/1 [00:00<?, ?it/s, v_num=sxqp, train_loss=0.649, train_acc=0.708, train_auc=0.744, val_loss=0.662, val_acc=0.692, val_auc=0.750]        Train Loss: 0.6528\n",
      "Train Accuracy: 0.7112\n",
      "Train AUC: 0.7380\n",
      "Epoch 18:   0%|          | 0/1 [00:00<?, ?it/s, v_num=sxqp, train_loss=0.653, train_acc=0.711, train_auc=0.738, val_loss=0.659, val_acc=0.718, val_auc=0.753]        Train Loss: 0.6489\n",
      "Train Accuracy: 0.7136\n",
      "Train AUC: 0.7522\n",
      "Epoch 19:   0%|          | 0/1 [00:00<?, ?it/s, v_num=sxqp, train_loss=0.649, train_acc=0.714, train_auc=0.752, val_loss=0.656, val_acc=0.726, val_auc=0.755]        Train Loss: 0.6860\n",
      "Train Accuracy: 0.7280\n",
      "Train AUC: 0.7252\n",
      "Epoch 20:   0%|          | 0/1 [00:00<?, ?it/s, v_num=sxqp, train_loss=0.686, train_acc=0.728, train_auc=0.725, val_loss=0.654, val_acc=0.733, val_auc=0.757]        Train Loss: 0.6611\n",
      "Train Accuracy: 0.7144\n",
      "Train AUC: 0.7246\n",
      "Epoch 21:   0%|          | 0/1 [00:00<?, ?it/s, v_num=sxqp, train_loss=0.661, train_acc=0.714, train_auc=0.725, val_loss=0.652, val_acc=0.736, val_auc=0.760]        Train Loss: 0.6545\n",
      "Train Accuracy: 0.7328\n",
      "Train AUC: 0.7450\n",
      "Epoch 22:   0%|          | 0/1 [00:00<?, ?it/s, v_num=sxqp, train_loss=0.655, train_acc=0.733, train_auc=0.745, val_loss=0.650, val_acc=0.736, val_auc=0.763]        Train Loss: 0.6633\n",
      "Train Accuracy: 0.7360\n",
      "Train AUC: 0.7411\n",
      "Epoch 23:   0%|          | 0/1 [00:00<?, ?it/s, v_num=sxqp, train_loss=0.663, train_acc=0.736, train_auc=0.741, val_loss=0.647, val_acc=0.737, val_auc=0.766]        Train Loss: 0.6479\n",
      "Train Accuracy: 0.7360\n",
      "Train AUC: 0.7458\n",
      "Epoch 24:   0%|          | 0/1 [00:00<?, ?it/s, v_num=sxqp, train_loss=0.648, train_acc=0.736, train_auc=0.746, val_loss=0.644, val_acc=0.742, val_auc=0.768]        Train Loss: 0.6544\n",
      "Train Accuracy: 0.7256\n",
      "Train AUC: 0.7234\n",
      "Epoch 25:   0%|          | 0/1 [00:00<?, ?it/s, v_num=sxqp, train_loss=0.654, train_acc=0.726, train_auc=0.723, val_loss=0.642, val_acc=0.746, val_auc=0.770]        Train Loss: 0.6376\n",
      "Train Accuracy: 0.7368\n",
      "Train AUC: 0.7481\n",
      "Epoch 26:   0%|          | 0/1 [00:00<?, ?it/s, v_num=sxqp, train_loss=0.638, train_acc=0.737, train_auc=0.748, val_loss=0.639, val_acc=0.745, val_auc=0.771]        Train Loss: 0.6561\n",
      "Train Accuracy: 0.7368\n",
      "Train AUC: 0.7415\n",
      "Epoch 27:   0%|          | 0/1 [00:00<?, ?it/s, v_num=sxqp, train_loss=0.656, train_acc=0.737, train_auc=0.742, val_loss=0.637, val_acc=0.747, val_auc=0.772]        Train Loss: 0.6425\n",
      "Train Accuracy: 0.7296\n",
      "Train AUC: 0.7476\n",
      "Epoch 28:   0%|          | 0/1 [00:00<?, ?it/s, v_num=sxqp, train_loss=0.642, train_acc=0.730, train_auc=0.748, val_loss=0.635, val_acc=0.744, val_auc=0.774]        Train Loss: 0.6545\n",
      "Train Accuracy: 0.7352\n",
      "Train AUC: 0.7367\n",
      "Epoch 29:   0%|          | 0/1 [00:00<?, ?it/s, v_num=sxqp, train_loss=0.654, train_acc=0.735, train_auc=0.737, val_loss=0.634, val_acc=0.744, val_auc=0.776]        Train Loss: 0.6340\n",
      "Train Accuracy: 0.7488\n",
      "Train AUC: 0.7670\n",
      "Epoch 30:   0%|          | 0/1 [00:00<?, ?it/s, v_num=sxqp, train_loss=0.634, train_acc=0.749, train_auc=0.767, val_loss=0.633, val_acc=0.744, val_auc=0.777]        Train Loss: 0.6559\n",
      "Train Accuracy: 0.7424\n",
      "Train AUC: 0.7480\n",
      "Epoch 31:   0%|          | 0/1 [00:00<?, ?it/s, v_num=sxqp, train_loss=0.656, train_acc=0.742, train_auc=0.748, val_loss=0.631, val_acc=0.739, val_auc=0.779]        Train Loss: 0.6370\n",
      "Train Accuracy: 0.7448\n",
      "Train AUC: 0.7537\n",
      "Epoch 32:   0%|          | 0/1 [00:00<?, ?it/s, v_num=sxqp, train_loss=0.637, train_acc=0.745, train_auc=0.754, val_loss=0.629, val_acc=0.736, val_auc=0.780]        Train Loss: 0.6557\n",
      "Train Accuracy: 0.7360\n",
      "Train AUC: 0.7315\n",
      "Epoch 33:   0%|          | 0/1 [00:00<?, ?it/s, v_num=sxqp, train_loss=0.656, train_acc=0.736, train_auc=0.731, val_loss=0.627, val_acc=0.735, val_auc=0.782]        Train Loss: 0.6317\n",
      "Train Accuracy: 0.7472\n",
      "Train AUC: 0.7577\n",
      "Epoch 34:   0%|          | 0/1 [00:00<?, ?it/s, v_num=sxqp, train_loss=0.632, train_acc=0.747, train_auc=0.758, val_loss=0.624, val_acc=0.734, val_auc=0.784]        Train Loss: 0.6361\n",
      "Train Accuracy: 0.7312\n",
      "Train AUC: 0.7461\n",
      "Epoch 35:   0%|          | 0/1 [00:00<?, ?it/s, v_num=sxqp, train_loss=0.636, train_acc=0.731, train_auc=0.746, val_loss=0.620, val_acc=0.734, val_auc=0.786]        Train Loss: 0.6244\n",
      "Train Accuracy: 0.7392\n",
      "Train AUC: 0.7666\n",
      "Epoch 36:   0%|          | 0/1 [00:00<?, ?it/s, v_num=sxqp, train_loss=0.624, train_acc=0.739, train_auc=0.767, val_loss=0.616, val_acc=0.736, val_auc=0.789]        Train Loss: 0.6205\n",
      "Train Accuracy: 0.7472\n",
      "Train AUC: 0.7824\n",
      "Epoch 37:   0%|          | 0/1 [00:00<?, ?it/s, v_num=sxqp, train_loss=0.621, train_acc=0.747, train_auc=0.782, val_loss=0.611, val_acc=0.738, val_auc=0.790]        Train Loss: 0.6203\n",
      "Train Accuracy: 0.7520\n",
      "Train AUC: 0.7718\n",
      "Epoch 38:   0%|          | 0/1 [00:00<?, ?it/s, v_num=sxqp, train_loss=0.620, train_acc=0.752, train_auc=0.772, val_loss=0.606, val_acc=0.738, val_auc=0.791]        Train Loss: 0.6149\n",
      "Train Accuracy: 0.7440\n",
      "Train AUC: 0.7646\n",
      "Epoch 39:   0%|          | 0/1 [00:00<?, ?it/s, v_num=sxqp, train_loss=0.615, train_acc=0.744, train_auc=0.765, val_loss=0.601, val_acc=0.736, val_auc=0.792]        Train Loss: 0.6270\n",
      "Train Accuracy: 0.7392\n",
      "Train AUC: 0.7678\n",
      "Epoch 40:   0%|          | 0/1 [00:00<?, ?it/s, v_num=sxqp, train_loss=0.627, train_acc=0.739, train_auc=0.768, val_loss=0.596, val_acc=0.741, val_auc=0.793]        Train Loss: 0.6399\n",
      "Train Accuracy: 0.7240\n",
      "Train AUC: 0.7470\n",
      "Epoch 41:   0%|          | 0/1 [00:00<?, ?it/s, v_num=sxqp, train_loss=0.640, train_acc=0.724, train_auc=0.747, val_loss=0.592, val_acc=0.742, val_auc=0.798]        Train Loss: 0.6137\n",
      "Train Accuracy: 0.7384\n",
      "Train AUC: 0.7644\n",
      "Epoch 42:   0%|          | 0/1 [00:00<?, ?it/s, v_num=sxqp, train_loss=0.614, train_acc=0.738, train_auc=0.764, val_loss=0.587, val_acc=0.738, val_auc=0.805]        Train Loss: 0.6370\n",
      "Train Accuracy: 0.7416\n",
      "Train AUC: 0.7737\n",
      "Epoch 43:   0%|          | 0/1 [00:00<?, ?it/s, v_num=sxqp, train_loss=0.637, train_acc=0.742, train_auc=0.774, val_loss=0.586, val_acc=0.734, val_auc=0.811]        Train Loss: 0.6101\n",
      "Train Accuracy: 0.7360\n",
      "Train AUC: 0.7723\n",
      "Epoch 44:   0%|          | 0/1 [00:00<?, ?it/s, v_num=sxqp, train_loss=0.610, train_acc=0.736, train_auc=0.772, val_loss=0.584, val_acc=0.738, val_auc=0.816]        Train Loss: 0.6265\n",
      "Train Accuracy: 0.7176\n",
      "Train AUC: 0.7591\n",
      "Epoch 45:   0%|          | 0/1 [00:00<?, ?it/s, v_num=sxqp, train_loss=0.626, train_acc=0.718, train_auc=0.759, val_loss=0.583, val_acc=0.734, val_auc=0.821]        Train Loss: 0.6102\n",
      "Train Accuracy: 0.7376\n",
      "Train AUC: 0.7704\n",
      "Epoch 46:   0%|          | 0/1 [00:00<?, ?it/s, v_num=sxqp, train_loss=0.610, train_acc=0.738, train_auc=0.770, val_loss=0.581, val_acc=0.734, val_auc=0.824]        Train Loss: 0.5918\n",
      "Train Accuracy: 0.7616\n",
      "Train AUC: 0.7989\n",
      "Epoch 47:   0%|          | 0/1 [00:00<?, ?it/s, v_num=sxqp, train_loss=0.592, train_acc=0.762, train_auc=0.799, val_loss=0.577, val_acc=0.734, val_auc=0.825]        Train Loss: 0.5865\n",
      "Train Accuracy: 0.7368\n",
      "Train AUC: 0.7950\n",
      "Epoch 48:   0%|          | 0/1 [00:00<?, ?it/s, v_num=sxqp, train_loss=0.586, train_acc=0.737, train_auc=0.795, val_loss=0.571, val_acc=0.736, val_auc=0.823]        Train Loss: 0.5910\n",
      "Train Accuracy: 0.7264\n",
      "Train AUC: 0.7827\n",
      "Epoch 49:   0%|          | 0/1 [00:00<?, ?it/s, v_num=sxqp, train_loss=0.591, train_acc=0.726, train_auc=0.783, val_loss=0.564, val_acc=0.738, val_auc=0.822]        Train Loss: 0.5778\n",
      "Train Accuracy: 0.7288\n",
      "Train AUC: 0.7937\n",
      "Epoch 49: 100%|██████████| 1/1 [00:00<00:00,  8.29it/s, v_num=sxqp, train_loss=0.578, train_acc=0.729, train_auc=0.794, val_loss=0.556, val_acc=0.738, val_auc=0.821]"
     ]
    },
    {
     "name": "stderr",
     "output_type": "stream",
     "text": [
      "`Trainer.fit` stopped: `max_epochs=50` reached.\n"
     ]
    },
    {
     "name": "stdout",
     "output_type": "stream",
     "text": [
      "Epoch 49: 100%|██████████| 1/1 [00:00<00:00,  6.74it/s, v_num=sxqp, train_loss=0.578, train_acc=0.729, train_auc=0.794, val_loss=0.556, val_acc=0.738, val_auc=0.821]"
     ]
    },
    {
     "name": "stderr",
     "output_type": "stream",
     "text": [
      "\u001b[34m\u001b[1mwandb\u001b[0m: \u001b[33mWARNING\u001b[0m Config item 'weight_decay' was locked by 'sweep' (ignored update).\n",
      "c:\\Users\\rokaa\\egyetem\\basketball_lineup_analysis\\.venv\\lib\\site-packages\\pytorch_lightning\\trainer\\connectors\\data_connector.py:425: The 'test_dataloader' does not have many workers which may be a bottleneck. Consider increasing the value of the `num_workers` argument` to `num_workers=7` in the `DataLoader` to improve performance.\n"
     ]
    },
    {
     "name": "stdout",
     "output_type": "stream",
     "text": [
      "\n",
      "Testing DataLoader 0: 100%|██████████| 1/1 [00:00<00:00, 29.27it/s]\n",
      "────────────────────────────────────────────────────────────────────────────────────────────────────────────────────────\n",
      "       Test metric             DataLoader 0\n",
      "────────────────────────────────────────────────────────────────────────────────────────────────────────────────────────\n",
      "        test_acc             0.72901850938797\n",
      "        test_auc             0.813040554523468\n",
      "        test_loss           0.5577583909034729\n",
      "────────────────────────────────────────────────────────────────────────────────────────────────────────────────────────\n"
     ]
    },
    {
     "name": "stderr",
     "output_type": "stream",
     "text": [
      "\u001b[34m\u001b[1mwandb\u001b[0m: \u001b[32m\u001b[41mERROR\u001b[0m The nbformat package was not found. It is required to save notebook history.\n"
     ]
    },
    {
     "data": {
      "text/html": [],
      "text/plain": [
       "<IPython.core.display.HTML object>"
      ]
     },
     "metadata": {},
     "output_type": "display_data"
    },
    {
     "data": {
      "text/html": [
       "<br>    <style><br>        .wandb-row {<br>            display: flex;<br>            flex-direction: row;<br>            flex-wrap: wrap;<br>            justify-content: flex-start;<br>            width: 100%;<br>        }<br>        .wandb-col {<br>            display: flex;<br>            flex-direction: column;<br>            flex-basis: 100%;<br>            flex: 1;<br>            padding: 10px;<br>        }<br>    </style><br><div class=\"wandb-row\"><div class=\"wandb-col\"><h3>Run history:</h3><br/><table class=\"wandb\"><tr><td>epoch</td><td>▁▁▁▁▂▂▂▂▂▃▃▃▃▃▄▄▄▄▄▄▅▅▅▅▅▅▆▆▆▆▆▆▇▇▇▇▇███</td></tr><tr><td>test_acc</td><td>▁</td></tr><tr><td>test_auc</td><td>▁</td></tr><tr><td>test_loss</td><td>▁</td></tr><tr><td>train_acc</td><td>▁</td></tr><tr><td>train_auc</td><td>▁</td></tr><tr><td>train_loss</td><td>▁</td></tr><tr><td>trainer/global_step</td><td>▁▁▁▁▂▂▂▂▃▃▃▃▃▃▄▄▄▄▄▄▅▅▅▅▅▅▆▆▆▆▆▆▇▇▇▇▇███</td></tr><tr><td>val_acc</td><td>▃▂▁▃▄▄▄▃▂▂▂▂▂▄▆▇▇▇▇██████▇▇▇▇▇▇██▇▇▇▇▇▇▇</td></tr><tr><td>val_auc</td><td>▁▁▁▁▂▂▂▂▂▂▂▃▃▃▃▃▃▃▄▄▄▄▄▄▄▅▅▅▅▅▆▆▆▆▇▇████</td></tr><tr><td>val_loss</td><td>████▇▇▇▇▇▇▇▇▇▇▇▇▇▆▆▆▆▆▆▆▅▅▅▅▅▄▄▄▃▃▃▃▃▂▂▁</td></tr></table><br/></div><div class=\"wandb-col\"><h3>Run summary:</h3><br/><table class=\"wandb\"><tr><td>epoch</td><td>50</td></tr><tr><td>test_acc</td><td>0.72902</td></tr><tr><td>test_auc</td><td>0.81304</td></tr><tr><td>test_loss</td><td>0.55776</td></tr><tr><td>train_acc</td><td>0.7288</td></tr><tr><td>train_auc</td><td>0.79373</td></tr><tr><td>train_loss</td><td>0.57778</td></tr><tr><td>trainer/global_step</td><td>50</td></tr><tr><td>val_acc</td><td>0.7384</td></tr><tr><td>val_auc</td><td>0.82125</td></tr><tr><td>val_loss</td><td>0.55611</td></tr></table><br/></div></div>"
      ],
      "text/plain": [
       "<IPython.core.display.HTML object>"
      ]
     },
     "metadata": {},
     "output_type": "display_data"
    },
    {
     "data": {
      "text/html": [
       " View run <strong style=\"color:#cdcd00\">icy-sweep-4</strong> at: <a href='https://wandb.ai/rokaati18-budapesti-m-szaki-s-gazdas-gtudom-nyi-egyetem/nba_lineup_prediction/runs/9v5ysxqp' target=\"_blank\">https://wandb.ai/rokaati18-budapesti-m-szaki-s-gazdas-gtudom-nyi-egyetem/nba_lineup_prediction/runs/9v5ysxqp</a><br> View project at: <a href='https://wandb.ai/rokaati18-budapesti-m-szaki-s-gazdas-gtudom-nyi-egyetem/nba_lineup_prediction' target=\"_blank\">https://wandb.ai/rokaati18-budapesti-m-szaki-s-gazdas-gtudom-nyi-egyetem/nba_lineup_prediction</a><br>Synced 5 W&B file(s), 0 media file(s), 0 artifact file(s) and 0 other file(s)"
      ],
      "text/plain": [
       "<IPython.core.display.HTML object>"
      ]
     },
     "metadata": {},
     "output_type": "display_data"
    },
    {
     "data": {
      "text/html": [
       "Find logs at: <code>.\\wandb\\run-20250502_194154-9v5ysxqp\\logs</code>"
      ],
      "text/plain": [
       "<IPython.core.display.HTML object>"
      ]
     },
     "metadata": {},
     "output_type": "display_data"
    },
    {
     "name": "stderr",
     "output_type": "stream",
     "text": [
      "\u001b[34m\u001b[1mwandb\u001b[0m: Agent Starting Run: vso5vjne with config:\n",
      "\u001b[34m\u001b[1mwandb\u001b[0m: \tdropout: 0\n",
      "\u001b[34m\u001b[1mwandb\u001b[0m: \thidden_dim: 128\n",
      "\u001b[34m\u001b[1mwandb\u001b[0m: \tlr: 1.0055782236327275\n",
      "\u001b[34m\u001b[1mwandb\u001b[0m: \tnum_conv_layers: 4\n",
      "\u001b[34m\u001b[1mwandb\u001b[0m: \tnum_linear_layers: 3\n",
      "\u001b[34m\u001b[1mwandb\u001b[0m: \tweight_decay: 1.0012336137266666\n"
     ]
    },
    {
     "data": {
      "text/html": [
       "Tracking run with wandb version 0.19.9"
      ],
      "text/plain": [
       "<IPython.core.display.HTML object>"
      ]
     },
     "metadata": {},
     "output_type": "display_data"
    },
    {
     "data": {
      "text/html": [
       "Run data is saved locally in <code>c:\\Users\\rokaa\\egyetem\\basketball_lineup_analysis\\LineupVSLineup\\GNN\\wandb\\run-20250502_194205-vso5vjne</code>"
      ],
      "text/plain": [
       "<IPython.core.display.HTML object>"
      ]
     },
     "metadata": {},
     "output_type": "display_data"
    },
    {
     "data": {
      "text/html": [
       "Syncing run <strong><a href='https://wandb.ai/rokaati18-budapesti-m-szaki-s-gazdas-gtudom-nyi-egyetem/nba_lineup_prediction/runs/vso5vjne' target=\"_blank\">effortless-sweep-5</a></strong> to <a href='https://wandb.ai/rokaati18-budapesti-m-szaki-s-gazdas-gtudom-nyi-egyetem/nba_lineup_prediction' target=\"_blank\">Weights & Biases</a> (<a href='https://wandb.me/developer-guide' target=\"_blank\">docs</a>)<br>Sweep page: <a href='https://wandb.ai/rokaati18-budapesti-m-szaki-s-gazdas-gtudom-nyi-egyetem/nba_lineup_prediction/sweeps/vlnj32yu' target=\"_blank\">https://wandb.ai/rokaati18-budapesti-m-szaki-s-gazdas-gtudom-nyi-egyetem/nba_lineup_prediction/sweeps/vlnj32yu</a>"
      ],
      "text/plain": [
       "<IPython.core.display.HTML object>"
      ]
     },
     "metadata": {},
     "output_type": "display_data"
    },
    {
     "data": {
      "text/html": [
       " View project at <a href='https://wandb.ai/rokaati18-budapesti-m-szaki-s-gazdas-gtudom-nyi-egyetem/nba_lineup_prediction' target=\"_blank\">https://wandb.ai/rokaati18-budapesti-m-szaki-s-gazdas-gtudom-nyi-egyetem/nba_lineup_prediction</a>"
      ],
      "text/plain": [
       "<IPython.core.display.HTML object>"
      ]
     },
     "metadata": {},
     "output_type": "display_data"
    },
    {
     "data": {
      "text/html": [
       " View sweep at <a href='https://wandb.ai/rokaati18-budapesti-m-szaki-s-gazdas-gtudom-nyi-egyetem/nba_lineup_prediction/sweeps/vlnj32yu' target=\"_blank\">https://wandb.ai/rokaati18-budapesti-m-szaki-s-gazdas-gtudom-nyi-egyetem/nba_lineup_prediction/sweeps/vlnj32yu</a>"
      ],
      "text/plain": [
       "<IPython.core.display.HTML object>"
      ]
     },
     "metadata": {},
     "output_type": "display_data"
    },
    {
     "data": {
      "text/html": [
       " View run at <a href='https://wandb.ai/rokaati18-budapesti-m-szaki-s-gazdas-gtudom-nyi-egyetem/nba_lineup_prediction/runs/vso5vjne' target=\"_blank\">https://wandb.ai/rokaati18-budapesti-m-szaki-s-gazdas-gtudom-nyi-egyetem/nba_lineup_prediction/runs/vso5vjne</a>"
      ],
      "text/plain": [
       "<IPython.core.display.HTML object>"
      ]
     },
     "metadata": {},
     "output_type": "display_data"
    },
    {
     "name": "stderr",
     "output_type": "stream",
     "text": [
      "GPU available: False, used: False\n",
      "TPU available: False, using: 0 TPU cores\n",
      "HPU available: False, using: 0 HPUs\n",
      "c:\\Users\\rokaa\\egyetem\\basketball_lineup_analysis\\.venv\\lib\\site-packages\\pytorch_lightning\\loggers\\wandb.py:397: There is a wandb run already in progress and newly created instances of `WandbLogger` will reuse this run. If this is not desired, call `wandb.finish()` before instantiating `WandbLogger`.\n",
      "\n",
      "  | Name           | Type           | Params | Mode \n",
      "----------------------------------------------------------\n",
      "0 | gnn            | GNNModel       | 13.4 K | train\n",
      "1 | link_predictor | LinkPredictor  | 8.3 K  | train\n",
      "2 | loss_fn        | BCELoss        | 0      | train\n",
      "3 | train_acc      | BinaryAccuracy | 0      | train\n",
      "4 | val_acc        | BinaryAccuracy | 0      | train\n",
      "5 | test_acc       | BinaryAccuracy | 0      | train\n",
      "6 | train_auroc    | BinaryAUROC    | 0      | train\n",
      "7 | val_auroc      | BinaryAUROC    | 0      | train\n",
      "8 | test_auroc     | BinaryAUROC    | 0      | train\n",
      "----------------------------------------------------------\n",
      "21.7 K    Trainable params\n",
      "0         Non-trainable params\n",
      "21.7 K    Total params\n",
      "0.087     Total estimated model params size (MB)\n",
      "29        Modules in train mode\n",
      "0         Modules in eval mode\n",
      "\u001b[34m\u001b[1mwandb\u001b[0m: \u001b[33mWARNING\u001b[0m Config item 'weight_decay' was locked by 'sweep' (ignored update).\n"
     ]
    },
    {
     "name": "stdout",
     "output_type": "stream",
     "text": [
      "                                                                            "
     ]
    },
    {
     "name": "stderr",
     "output_type": "stream",
     "text": [
      "c:\\Users\\rokaa\\egyetem\\basketball_lineup_analysis\\.venv\\lib\\site-packages\\pytorch_lightning\\trainer\\connectors\\data_connector.py:425: The 'val_dataloader' does not have many workers which may be a bottleneck. Consider increasing the value of the `num_workers` argument` to `num_workers=7` in the `DataLoader` to improve performance.\n",
      "c:\\Users\\rokaa\\egyetem\\basketball_lineup_analysis\\.venv\\lib\\site-packages\\pytorch_lightning\\trainer\\connectors\\data_connector.py:425: The 'train_dataloader' does not have many workers which may be a bottleneck. Consider increasing the value of the `num_workers` argument` to `num_workers=7` in the `DataLoader` to improve performance.\n",
      "c:\\Users\\rokaa\\egyetem\\basketball_lineup_analysis\\.venv\\lib\\site-packages\\pytorch_lightning\\loops\\fit_loop.py:310: The number of training batches (1) is smaller than the logging interval Trainer(log_every_n_steps=50). Set a lower value for log_every_n_steps if you want to see logs for the training epoch.\n"
     ]
    },
    {
     "name": "stdout",
     "output_type": "stream",
     "text": [
      "Epoch 0:   0%|          | 0/1 [00:00<?, ?it/s] Train Loss: 0.9042\n",
      "Train Accuracy: 0.4400\n",
      "Train AUC: 0.4297\n",
      "Epoch 1:   0%|          | 0/1 [00:00<?, ?it/s, v_num=vjne, train_loss=0.904, train_acc=0.440, train_auc=0.430, val_loss=0.723, val_acc=0.322, val_auc=0.285]        Train Loss: 0.7765\n",
      "Train Accuracy: 0.4640\n",
      "Train AUC: 0.4943\n",
      "Epoch 2:   0%|          | 0/1 [00:00<?, ?it/s, v_num=vjne, train_loss=0.777, train_acc=0.464, train_auc=0.494, val_loss=0.714, val_acc=0.494, val_auc=0.429]        Train Loss: 0.7623\n",
      "Train Accuracy: 0.4904\n",
      "Train AUC: 0.4967\n",
      "Epoch 3:   0%|          | 0/1 [00:00<?, ?it/s, v_num=vjne, train_loss=0.762, train_acc=0.490, train_auc=0.497, val_loss=0.695, val_acc=0.518, val_auc=0.620]        Train Loss: 0.7171\n",
      "Train Accuracy: 0.5520\n",
      "Train AUC: 0.5741\n",
      "Epoch 4:   0%|          | 0/1 [00:00<?, ?it/s, v_num=vjne, train_loss=0.717, train_acc=0.552, train_auc=0.574, val_loss=0.681, val_acc=0.601, val_auc=0.701]        Train Loss: 0.7390\n",
      "Train Accuracy: 0.5768\n",
      "Train AUC: 0.5922\n",
      "Epoch 5:   0%|          | 0/1 [00:00<?, ?it/s, v_num=vjne, train_loss=0.739, train_acc=0.577, train_auc=0.592, val_loss=0.671, val_acc=0.696, val_auc=0.731]        Train Loss: 0.6933\n",
      "Train Accuracy: 0.6280\n",
      "Train AUC: 0.6529\n",
      "Epoch 6:   0%|          | 0/1 [00:00<?, ?it/s, v_num=vjne, train_loss=0.693, train_acc=0.628, train_auc=0.653, val_loss=0.667, val_acc=0.724, val_auc=0.736]        Train Loss: 0.6931\n",
      "Train Accuracy: 0.6712\n",
      "Train AUC: 0.6901\n",
      "Epoch 7:   0%|          | 0/1 [00:00<?, ?it/s, v_num=vjne, train_loss=0.693, train_acc=0.671, train_auc=0.690, val_loss=0.667, val_acc=0.735, val_auc=0.741]        Train Loss: 0.6896\n",
      "Train Accuracy: 0.6760\n",
      "Train AUC: 0.6838\n",
      "Epoch 8:   0%|          | 0/1 [00:00<?, ?it/s, v_num=vjne, train_loss=0.690, train_acc=0.676, train_auc=0.684, val_loss=0.666, val_acc=0.746, val_auc=0.741]        Train Loss: 0.6774\n",
      "Train Accuracy: 0.6920\n",
      "Train AUC: 0.7074\n",
      "Epoch 9:   0%|          | 0/1 [00:00<?, ?it/s, v_num=vjne, train_loss=0.677, train_acc=0.692, train_auc=0.707, val_loss=0.665, val_acc=0.749, val_auc=0.739]        Train Loss: 0.6716\n",
      "Train Accuracy: 0.6888\n",
      "Train AUC: 0.6956\n",
      "Epoch 10:   0%|          | 0/1 [00:00<?, ?it/s, v_num=vjne, train_loss=0.672, train_acc=0.689, train_auc=0.696, val_loss=0.664, val_acc=0.746, val_auc=0.735]       Train Loss: 0.6992\n",
      "Train Accuracy: 0.6872\n",
      "Train AUC: 0.6860\n",
      "Epoch 11:   0%|          | 0/1 [00:00<?, ?it/s, v_num=vjne, train_loss=0.699, train_acc=0.687, train_auc=0.686, val_loss=0.663, val_acc=0.754, val_auc=0.735]        Train Loss: 0.6775\n",
      "Train Accuracy: 0.7000\n",
      "Train AUC: 0.7031\n",
      "Epoch 12:   0%|          | 0/1 [00:00<?, ?it/s, v_num=vjne, train_loss=0.678, train_acc=0.700, train_auc=0.703, val_loss=0.663, val_acc=0.756, val_auc=0.734]        Train Loss: 0.6770\n",
      "Train Accuracy: 0.7120\n",
      "Train AUC: 0.7307\n",
      "Epoch 13:   0%|          | 0/1 [00:00<?, ?it/s, v_num=vjne, train_loss=0.677, train_acc=0.712, train_auc=0.731, val_loss=0.662, val_acc=0.754, val_auc=0.734]        Train Loss: 0.6756\n",
      "Train Accuracy: 0.7192\n",
      "Train AUC: 0.7195\n",
      "Epoch 14:   0%|          | 0/1 [00:00<?, ?it/s, v_num=vjne, train_loss=0.676, train_acc=0.719, train_auc=0.720, val_loss=0.661, val_acc=0.755, val_auc=0.737]        Train Loss: 0.6645\n",
      "Train Accuracy: 0.7144\n",
      "Train AUC: 0.7278\n",
      "Epoch 15:   0%|          | 0/1 [00:00<?, ?it/s, v_num=vjne, train_loss=0.665, train_acc=0.714, train_auc=0.728, val_loss=0.660, val_acc=0.754, val_auc=0.741]        Train Loss: 0.6713\n",
      "Train Accuracy: 0.7296\n",
      "Train AUC: 0.7252\n",
      "Epoch 16:   0%|          | 0/1 [00:00<?, ?it/s, v_num=vjne, train_loss=0.671, train_acc=0.730, train_auc=0.725, val_loss=0.659, val_acc=0.751, val_auc=0.745]        Train Loss: 0.6815\n",
      "Train Accuracy: 0.7184\n",
      "Train AUC: 0.7228\n",
      "Epoch 17:   0%|          | 0/1 [00:00<?, ?it/s, v_num=vjne, train_loss=0.682, train_acc=0.718, train_auc=0.723, val_loss=0.658, val_acc=0.751, val_auc=0.747]        Train Loss: 0.6594\n",
      "Train Accuracy: 0.7368\n",
      "Train AUC: 0.7355\n",
      "Epoch 18:   0%|          | 0/1 [00:00<?, ?it/s, v_num=vjne, train_loss=0.659, train_acc=0.737, train_auc=0.735, val_loss=0.656, val_acc=0.751, val_auc=0.749]        Train Loss: 0.6682\n",
      "Train Accuracy: 0.7384\n",
      "Train AUC: 0.7375\n",
      "Epoch 19:   0%|          | 0/1 [00:00<?, ?it/s, v_num=vjne, train_loss=0.668, train_acc=0.738, train_auc=0.737, val_loss=0.655, val_acc=0.751, val_auc=0.751]        Train Loss: 0.6567\n",
      "Train Accuracy: 0.7352\n",
      "Train AUC: 0.7457\n",
      "Epoch 20:   0%|          | 0/1 [00:00<?, ?it/s, v_num=vjne, train_loss=0.657, train_acc=0.735, train_auc=0.746, val_loss=0.653, val_acc=0.752, val_auc=0.753]        Train Loss: 0.6860\n",
      "Train Accuracy: 0.7104\n",
      "Train AUC: 0.7028\n",
      "Epoch 21:   0%|          | 0/1 [00:00<?, ?it/s, v_num=vjne, train_loss=0.686, train_acc=0.710, train_auc=0.703, val_loss=0.652, val_acc=0.745, val_auc=0.755]        Train Loss: 0.6583\n",
      "Train Accuracy: 0.7336\n",
      "Train AUC: 0.7459\n",
      "Epoch 22:   0%|          | 0/1 [00:00<?, ?it/s, v_num=vjne, train_loss=0.658, train_acc=0.734, train_auc=0.746, val_loss=0.651, val_acc=0.746, val_auc=0.756]        Train Loss: 0.6586\n",
      "Train Accuracy: 0.7384\n",
      "Train AUC: 0.7411\n",
      "Epoch 23:   0%|          | 0/1 [00:00<?, ?it/s, v_num=vjne, train_loss=0.659, train_acc=0.738, train_auc=0.741, val_loss=0.650, val_acc=0.746, val_auc=0.758]        Train Loss: 0.6484\n",
      "Train Accuracy: 0.7232\n",
      "Train AUC: 0.7400\n",
      "Epoch 24:   0%|          | 0/1 [00:00<?, ?it/s, v_num=vjne, train_loss=0.648, train_acc=0.723, train_auc=0.740, val_loss=0.647, val_acc=0.750, val_auc=0.763]        Train Loss: 0.6623\n",
      "Train Accuracy: 0.7336\n",
      "Train AUC: 0.7356\n",
      "Epoch 25:   0%|          | 0/1 [00:00<?, ?it/s, v_num=vjne, train_loss=0.662, train_acc=0.734, train_auc=0.736, val_loss=0.645, val_acc=0.747, val_auc=0.766]        Train Loss: 0.6496\n",
      "Train Accuracy: 0.7392\n",
      "Train AUC: 0.7509\n",
      "Epoch 26:   0%|          | 0/1 [00:00<?, ?it/s, v_num=vjne, train_loss=0.650, train_acc=0.739, train_auc=0.751, val_loss=0.642, val_acc=0.747, val_auc=0.769]        Train Loss: 0.6451\n",
      "Train Accuracy: 0.7432\n",
      "Train AUC: 0.7643\n",
      "Epoch 27:   0%|          | 0/1 [00:00<?, ?it/s, v_num=vjne, train_loss=0.645, train_acc=0.743, train_auc=0.764, val_loss=0.638, val_acc=0.746, val_auc=0.771]        Train Loss: 0.6380\n",
      "Train Accuracy: 0.7240\n",
      "Train AUC: 0.7496\n",
      "Epoch 28:   0%|          | 0/1 [00:00<?, ?it/s, v_num=vjne, train_loss=0.638, train_acc=0.724, train_auc=0.750, val_loss=0.633, val_acc=0.748, val_auc=0.771]        Train Loss: 0.6605\n",
      "Train Accuracy: 0.7400\n",
      "Train AUC: 0.7403\n",
      "Epoch 29:   0%|          | 0/1 [00:00<?, ?it/s, v_num=vjne, train_loss=0.661, train_acc=0.740, train_auc=0.740, val_loss=0.629, val_acc=0.749, val_auc=0.770]        Train Loss: 0.6330\n",
      "Train Accuracy: 0.7496\n",
      "Train AUC: 0.7711\n",
      "Epoch 30:   0%|          | 0/1 [00:00<?, ?it/s, v_num=vjne, train_loss=0.633, train_acc=0.750, train_auc=0.771, val_loss=0.624, val_acc=0.750, val_auc=0.768]        Train Loss: 0.6333\n",
      "Train Accuracy: 0.7432\n",
      "Train AUC: 0.7524\n",
      "Epoch 31:   0%|          | 0/1 [00:00<?, ?it/s, v_num=vjne, train_loss=0.633, train_acc=0.743, train_auc=0.752, val_loss=0.620, val_acc=0.750, val_auc=0.766]        Train Loss: 0.6329\n",
      "Train Accuracy: 0.7384\n",
      "Train AUC: 0.7500\n",
      "Epoch 32:   0%|          | 0/1 [00:00<?, ?it/s, v_num=vjne, train_loss=0.633, train_acc=0.738, train_auc=0.750, val_loss=0.616, val_acc=0.751, val_auc=0.765]        Train Loss: 0.6374\n",
      "Train Accuracy: 0.7544\n",
      "Train AUC: 0.7661\n",
      "Epoch 33:   0%|          | 0/1 [00:00<?, ?it/s, v_num=vjne, train_loss=0.637, train_acc=0.754, train_auc=0.766, val_loss=0.612, val_acc=0.751, val_auc=0.766]        Train Loss: 0.6455\n",
      "Train Accuracy: 0.7400\n",
      "Train AUC: 0.7465\n",
      "Epoch 34:   0%|          | 0/1 [00:00<?, ?it/s, v_num=vjne, train_loss=0.646, train_acc=0.740, train_auc=0.747, val_loss=0.609, val_acc=0.751, val_auc=0.770]        Train Loss: 0.6233\n",
      "Train Accuracy: 0.7392\n",
      "Train AUC: 0.7654\n",
      "Epoch 35:   0%|          | 0/1 [00:00<?, ?it/s, v_num=vjne, train_loss=0.623, train_acc=0.739, train_auc=0.765, val_loss=0.606, val_acc=0.749, val_auc=0.773]        Train Loss: 0.6315\n",
      "Train Accuracy: 0.7416\n",
      "Train AUC: 0.7646\n",
      "Epoch 36:   0%|          | 0/1 [00:00<?, ?it/s, v_num=vjne, train_loss=0.631, train_acc=0.742, train_auc=0.765, val_loss=0.604, val_acc=0.746, val_auc=0.779]        Train Loss: 0.6227\n",
      "Train Accuracy: 0.7464\n",
      "Train AUC: 0.7751\n",
      "Epoch 37:   0%|          | 0/1 [00:00<?, ?it/s, v_num=vjne, train_loss=0.623, train_acc=0.746, train_auc=0.775, val_loss=0.601, val_acc=0.742, val_auc=0.784]        Train Loss: 0.6198\n",
      "Train Accuracy: 0.7392\n",
      "Train AUC: 0.7716\n",
      "Epoch 38:   0%|          | 0/1 [00:00<?, ?it/s, v_num=vjne, train_loss=0.620, train_acc=0.739, train_auc=0.772, val_loss=0.598, val_acc=0.740, val_auc=0.790]        Train Loss: 0.6071\n",
      "Train Accuracy: 0.7416\n",
      "Train AUC: 0.7754\n",
      "Epoch 39:   0%|          | 0/1 [00:00<?, ?it/s, v_num=vjne, train_loss=0.607, train_acc=0.742, train_auc=0.775, val_loss=0.594, val_acc=0.741, val_auc=0.793]        Train Loss: 0.5967\n",
      "Train Accuracy: 0.7464\n",
      "Train AUC: 0.7947\n",
      "Epoch 40:   0%|          | 0/1 [00:00<?, ?it/s, v_num=vjne, train_loss=0.597, train_acc=0.746, train_auc=0.795, val_loss=0.589, val_acc=0.740, val_auc=0.794]        Train Loss: 0.6080\n",
      "Train Accuracy: 0.7344\n",
      "Train AUC: 0.7718\n",
      "Epoch 41:   0%|          | 0/1 [00:00<?, ?it/s, v_num=vjne, train_loss=0.608, train_acc=0.734, train_auc=0.772, val_loss=0.584, val_acc=0.742, val_auc=0.794]        Train Loss: 0.5994\n",
      "Train Accuracy: 0.7544\n",
      "Train AUC: 0.7842\n",
      "Epoch 42:   0%|          | 0/1 [00:00<?, ?it/s, v_num=vjne, train_loss=0.599, train_acc=0.754, train_auc=0.784, val_loss=0.579, val_acc=0.745, val_auc=0.792]        Train Loss: 0.6107\n",
      "Train Accuracy: 0.7408\n",
      "Train AUC: 0.7583\n",
      "Epoch 43:   0%|          | 0/1 [00:00<?, ?it/s, v_num=vjne, train_loss=0.611, train_acc=0.741, train_auc=0.758, val_loss=0.574, val_acc=0.739, val_auc=0.795]        Train Loss: 0.6009\n",
      "Train Accuracy: 0.7352\n",
      "Train AUC: 0.7684\n",
      "Epoch 44:   0%|          | 0/1 [00:00<?, ?it/s, v_num=vjne, train_loss=0.601, train_acc=0.735, train_auc=0.768, val_loss=0.569, val_acc=0.739, val_auc=0.801]        Train Loss: 0.5964\n",
      "Train Accuracy: 0.7480\n",
      "Train AUC: 0.7864\n",
      "Epoch 45:   0%|          | 0/1 [00:00<?, ?it/s, v_num=vjne, train_loss=0.596, train_acc=0.748, train_auc=0.786, val_loss=0.565, val_acc=0.739, val_auc=0.806]        Train Loss: 0.5845\n",
      "Train Accuracy: 0.7432\n",
      "Train AUC: 0.7865\n",
      "Epoch 46:   0%|          | 0/1 [00:00<?, ?it/s, v_num=vjne, train_loss=0.585, train_acc=0.743, train_auc=0.786, val_loss=0.561, val_acc=0.740, val_auc=0.810]        Train Loss: 0.5836\n",
      "Train Accuracy: 0.7400\n",
      "Train AUC: 0.7778\n",
      "Epoch 47:   0%|          | 0/1 [00:00<?, ?it/s, v_num=vjne, train_loss=0.584, train_acc=0.740, train_auc=0.778, val_loss=0.558, val_acc=0.738, val_auc=0.814]        Train Loss: 0.5787\n",
      "Train Accuracy: 0.7464\n",
      "Train AUC: 0.7892\n",
      "Epoch 48:   0%|          | 0/1 [00:00<?, ?it/s, v_num=vjne, train_loss=0.579, train_acc=0.746, train_auc=0.789, val_loss=0.555, val_acc=0.739, val_auc=0.816]        Train Loss: 0.5957\n",
      "Train Accuracy: 0.7256\n",
      "Train AUC: 0.7653\n",
      "Epoch 49:   0%|          | 0/1 [00:00<?, ?it/s, v_num=vjne, train_loss=0.596, train_acc=0.726, train_auc=0.765, val_loss=0.553, val_acc=0.735, val_auc=0.821]        Train Loss: 0.5734\n",
      "Train Accuracy: 0.7064\n",
      "Train AUC: 0.7857\n",
      "Epoch 49: 100%|██████████| 1/1 [00:00<00:00,  9.97it/s, v_num=vjne, train_loss=0.573, train_acc=0.706, train_auc=0.786, val_loss=0.550, val_acc=0.734, val_auc=0.824]"
     ]
    },
    {
     "name": "stderr",
     "output_type": "stream",
     "text": [
      "`Trainer.fit` stopped: `max_epochs=50` reached.\n"
     ]
    },
    {
     "name": "stdout",
     "output_type": "stream",
     "text": [
      "Epoch 49: 100%|██████████| 1/1 [00:00<00:00,  7.78it/s, v_num=vjne, train_loss=0.573, train_acc=0.706, train_auc=0.786, val_loss=0.550, val_acc=0.734, val_auc=0.824]\n"
     ]
    },
    {
     "name": "stderr",
     "output_type": "stream",
     "text": [
      "\u001b[34m\u001b[1mwandb\u001b[0m: \u001b[33mWARNING\u001b[0m Config item 'weight_decay' was locked by 'sweep' (ignored update).\n",
      "c:\\Users\\rokaa\\egyetem\\basketball_lineup_analysis\\.venv\\lib\\site-packages\\pytorch_lightning\\trainer\\connectors\\data_connector.py:425: The 'test_dataloader' does not have many workers which may be a bottleneck. Consider increasing the value of the `num_workers` argument` to `num_workers=7` in the `DataLoader` to improve performance.\n"
     ]
    },
    {
     "name": "stdout",
     "output_type": "stream",
     "text": [
      "Testing DataLoader 0: 100%|██████████| 1/1 [00:00<00:00, 43.36it/s]\n",
      "────────────────────────────────────────────────────────────────────────────────────────────────────────────────────────\n",
      "       Test metric             DataLoader 0\n",
      "────────────────────────────────────────────────────────────────────────────────────────────────────────────────────────\n",
      "        test_acc            0.7325747013092041\n",
      "        test_auc            0.8178149461746216\n",
      "        test_loss           0.5520617365837097\n",
      "────────────────────────────────────────────────────────────────────────────────────────────────────────────────────────\n"
     ]
    },
    {
     "name": "stderr",
     "output_type": "stream",
     "text": [
      "\u001b[34m\u001b[1mwandb\u001b[0m: \u001b[32m\u001b[41mERROR\u001b[0m The nbformat package was not found. It is required to save notebook history.\n"
     ]
    },
    {
     "data": {
      "text/html": [],
      "text/plain": [
       "<IPython.core.display.HTML object>"
      ]
     },
     "metadata": {},
     "output_type": "display_data"
    },
    {
     "data": {
      "text/html": [
       "<br>    <style><br>        .wandb-row {<br>            display: flex;<br>            flex-direction: row;<br>            flex-wrap: wrap;<br>            justify-content: flex-start;<br>            width: 100%;<br>        }<br>        .wandb-col {<br>            display: flex;<br>            flex-direction: column;<br>            flex-basis: 100%;<br>            flex: 1;<br>            padding: 10px;<br>        }<br>    </style><br><div class=\"wandb-row\"><div class=\"wandb-col\"><h3>Run history:</h3><br/><table class=\"wandb\"><tr><td>epoch</td><td>▁▁▁▁▂▂▂▂▂▃▃▃▃▄▄▄▄▄▅▅▅▅▅▅▅▆▆▆▆▆▇▇▇▇▇▇████</td></tr><tr><td>test_acc</td><td>▁</td></tr><tr><td>test_auc</td><td>▁</td></tr><tr><td>test_loss</td><td>▁</td></tr><tr><td>train_acc</td><td>▁</td></tr><tr><td>train_auc</td><td>▁</td></tr><tr><td>train_loss</td><td>▁</td></tr><tr><td>trainer/global_step</td><td>▁▁▁▂▂▂▂▂▂▃▃▃▃▃▃▄▄▄▄▅▅▅▅▅▅▆▆▆▆▆▇▇▇▇▇▇████</td></tr><tr><td>val_acc</td><td>▁▄▄▆▇███████████████████████████████████</td></tr><tr><td>val_auc</td><td>▁▃▅▆▇▇▇▇▇▇▇▇▇▇▇▇▇▇▇▇▇▇▇▇▇▇▇▇▇▇██████████</td></tr><tr><td>val_loss</td><td>██▇▆▆▆▆▆▆▆▆▅▅▅▅▅▅▅▅▅▅▅▄▄▄▄▃▃▃▃▃▃▂▂▂▂▁▁▁▁</td></tr></table><br/></div><div class=\"wandb-col\"><h3>Run summary:</h3><br/><table class=\"wandb\"><tr><td>epoch</td><td>50</td></tr><tr><td>test_acc</td><td>0.73257</td></tr><tr><td>test_auc</td><td>0.81781</td></tr><tr><td>test_loss</td><td>0.55206</td></tr><tr><td>train_acc</td><td>0.7064</td></tr><tr><td>train_auc</td><td>0.78567</td></tr><tr><td>train_loss</td><td>0.57343</td></tr><tr><td>trainer/global_step</td><td>50</td></tr><tr><td>val_acc</td><td>0.7344</td></tr><tr><td>val_auc</td><td>0.82383</td></tr><tr><td>val_loss</td><td>0.5501</td></tr></table><br/></div></div>"
      ],
      "text/plain": [
       "<IPython.core.display.HTML object>"
      ]
     },
     "metadata": {},
     "output_type": "display_data"
    },
    {
     "data": {
      "text/html": [
       " View run <strong style=\"color:#cdcd00\">effortless-sweep-5</strong> at: <a href='https://wandb.ai/rokaati18-budapesti-m-szaki-s-gazdas-gtudom-nyi-egyetem/nba_lineup_prediction/runs/vso5vjne' target=\"_blank\">https://wandb.ai/rokaati18-budapesti-m-szaki-s-gazdas-gtudom-nyi-egyetem/nba_lineup_prediction/runs/vso5vjne</a><br> View project at: <a href='https://wandb.ai/rokaati18-budapesti-m-szaki-s-gazdas-gtudom-nyi-egyetem/nba_lineup_prediction' target=\"_blank\">https://wandb.ai/rokaati18-budapesti-m-szaki-s-gazdas-gtudom-nyi-egyetem/nba_lineup_prediction</a><br>Synced 5 W&B file(s), 0 media file(s), 0 artifact file(s) and 0 other file(s)"
      ],
      "text/plain": [
       "<IPython.core.display.HTML object>"
      ]
     },
     "metadata": {},
     "output_type": "display_data"
    },
    {
     "data": {
      "text/html": [
       "Find logs at: <code>.\\wandb\\run-20250502_194205-vso5vjne\\logs</code>"
      ],
      "text/plain": [
       "<IPython.core.display.HTML object>"
      ]
     },
     "metadata": {},
     "output_type": "display_data"
    }
   ],
   "source": [
    "# Initialize the sweep\n",
    "sweep_id = wandb.sweep(sweep_config, project=\"nba_lineup_prediction\")\n",
    "# Start the sweep agent\n",
    "wandb.agent(sweep_id, function=train_sweep, count=5)  # Run 5 agents in parallel"
   ]
  },
  {
   "cell_type": "code",
   "execution_count": null,
   "id": "0c544b26",
   "metadata": {},
   "outputs": [],
   "source": []
  }
 ],
 "metadata": {
  "kernelspec": {
   "display_name": ".venv",
   "language": "python",
   "name": "python3"
  },
  "language_info": {
   "codemirror_mode": {
    "name": "ipython",
    "version": 3
   },
   "file_extension": ".py",
   "mimetype": "text/x-python",
   "name": "python",
   "nbconvert_exporter": "python",
   "pygments_lexer": "ipython3",
   "version": "3.9.7"
  }
 },
 "nbformat": 4,
 "nbformat_minor": 5
}
