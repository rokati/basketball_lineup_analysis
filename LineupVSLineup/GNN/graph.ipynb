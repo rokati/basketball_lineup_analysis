{
 "cells": [
  {
   "cell_type": "code",
   "execution_count": 21,
   "id": "d7f701b2",
   "metadata": {},
   "outputs": [],
   "source": [
    "# %pip install torch torch_geometric pytorch_lightning wandb scikit-learn"
   ]
  },
  {
   "cell_type": "code",
   "execution_count": 22,
   "id": "6e26f5d0",
   "metadata": {},
   "outputs": [],
   "source": [
    "import torch\n",
    "from torch_geometric.data import Data\n",
    "import pandas as pd\n",
    "import wandb\n",
    "from sklearn.preprocessing import MultiLabelBinarizer\n",
    "import ast\n",
    "import numpy as np\n",
    "\n",
    "pd.set_option('display.max_columns', None)"
   ]
  },
  {
   "cell_type": "markdown",
   "id": "f40255f3",
   "metadata": {},
   "source": [
    "# Load the data"
   ]
  },
  {
   "cell_type": "code",
   "execution_count": 23,
   "id": "bf4c6c9d",
   "metadata": {},
   "outputs": [],
   "source": [
    "df = pd.read_csv('../get_lineup_target_score/nba_with_lineup_score.csv')\n",
    "pre_df = pd.read_csv('../pre_season/pre_lineup_vs_lineup.csv')"
   ]
  },
  {
   "cell_type": "code",
   "execution_count": 24,
   "id": "8448e6ad",
   "metadata": {},
   "outputs": [],
   "source": [
    "pre_df.fillna(0, inplace=True)"
   ]
  },
  {
   "cell_type": "code",
   "execution_count": 25,
   "id": "e808a492",
   "metadata": {},
   "outputs": [],
   "source": [
    "df.dropna(subset=['net_score'], inplace=True)\n",
    "df = df[~df['net_score'].isin([np.inf, -np.inf])]"
   ]
  },
  {
   "cell_type": "code",
   "execution_count": 26,
   "id": "b3916f3e",
   "metadata": {},
   "outputs": [
    {
     "data": {
      "text/plain": [
       "91200"
      ]
     },
     "execution_count": 26,
     "metadata": {},
     "output_type": "execute_result"
    }
   ],
   "source": [
    "df.size"
   ]
  },
  {
   "cell_type": "code",
   "execution_count": 27,
   "id": "36fa0443",
   "metadata": {},
   "outputs": [],
   "source": [
    "all_lineups = pd.concat([df['home_lineup'], df['away_lineup']]).unique()\n",
    "pre_df_lineups = pd.concat([pre_df['home_lineup'], pre_df['away_lineup']]).unique()\n",
    "filtered_lineups = [lineup for lineup in all_lineups if lineup in pre_df_lineups]\n",
    "all_lineups = np.array(filtered_lineups)"
   ]
  },
  {
   "cell_type": "code",
   "execution_count": 28,
   "id": "ef03e562",
   "metadata": {},
   "outputs": [],
   "source": [
    "df = df[df['home_lineup'].isin(all_lineups) & df['away_lineup'].isin(all_lineups)]\n",
    "pre_df = pre_df[pre_df['home_lineup'].isin(all_lineups) & pre_df['away_lineup'].isin(all_lineups)]"
   ]
  },
  {
   "cell_type": "code",
   "execution_count": 29,
   "id": "6dbaa4fd",
   "metadata": {},
   "outputs": [],
   "source": [
    "lineups_df = pd.DataFrame(all_lineups, columns=['lineup'])\n",
    "lineups_df[\"3pt_made\"] = 0\n",
    "lineups_df[\"points\"] = 0\n",
    "lineups_df[\"assists\"] = 0\n",
    "lineups_df[\"def_rebounds\"] = 0\n",
    "lineups_df[\"off_rebounds\"] = 0\n",
    "lineups_df[\"fouls\"] = 0\n",
    "lineups_df[\"2pt_made\"] = 0\n",
    "lineups_df[\"turnovers\"] = 0\n",
    "lineups_df[\"ft_made\"] = 0\n",
    "lineups_df[\"steals\"] = 0\n",
    "lineups_df[\"blocks\"] = 0"
   ]
  },
  {
   "cell_type": "code",
   "execution_count": 30,
   "id": "cfabef1e",
   "metadata": {},
   "outputs": [],
   "source": [
    "cols = ['3pt_made', 'points', 'assists', 'def_rebounds', 'off_rebounds', 'fouls', '2pt_made', 'turnovers', 'ft_made', 'steals', 'blocks']\n",
    "for index, row in pre_df.iterrows():\n",
    "    home_lineup = row['home_lineup']\n",
    "    away_lineup = row['away_lineup']\n",
    "    \n",
    "    for col in cols:\n",
    "        home_col = 'home_' + col\n",
    "        away_col = 'away_' + col\n",
    "        if home_col in row and away_col in row:\n",
    "            lineups_df.loc[lineups_df['lineup'] == home_lineup, col] += row[home_col]\n",
    "            lineups_df.loc[lineups_df['lineup'] == away_lineup, col] += row[away_col]\n",
    "        else:\n",
    "            print(f'Column {home_col} or {away_col} not found in row')"
   ]
  },
  {
   "cell_type": "code",
   "execution_count": 31,
   "id": "06adb863",
   "metadata": {},
   "outputs": [],
   "source": [
    "def create_lineup_graph(df, pre_df):\n",
    "    all_lineups = pd.concat([df['home_lineup'], df['away_lineup']]).unique()\n",
    "    pre_df_lineups = pd.concat([pre_df['home_lineup'], pre_df['away_lineup']]).unique()\n",
    "    filtered_lineups = [lineup for lineup in all_lineups if lineup in pre_df_lineups]\n",
    "    all_lineups = np.array(filtered_lineups)\n",
    "\n",
    "    df = df[df['home_lineup'].isin(all_lineups) & df['away_lineup'].isin(all_lineups)]\n",
    "    pre_df = pre_df[pre_df['home_lineup'].isin(all_lineups) & pre_df['away_lineup'].isin(all_lineups)]\n",
    "\n",
    "    lineups_df = pd.DataFrame(all_lineups, columns=['lineup'])\n",
    "    lineups_df[\"3pt_made\"] = 0\n",
    "    lineups_df[\"points\"] = 0\n",
    "    lineups_df[\"assists\"] = 0\n",
    "    lineups_df[\"def_rebounds\"] = 0\n",
    "    lineups_df[\"off_rebounds\"] = 0\n",
    "    lineups_df[\"fouls\"] = 0\n",
    "    lineups_df[\"2pt_made\"] = 0\n",
    "    lineups_df[\"turnovers\"] = 0\n",
    "    lineups_df[\"ft_made\"] = 0\n",
    "    lineups_df[\"steals\"] = 0\n",
    "    lineups_df[\"blocks\"] = 0\n",
    "\n",
    "    cols = ['3pt_made', 'points', 'assists', 'def_rebounds', 'off_rebounds', 'fouls', '2pt_made', 'turnovers', 'ft_made', 'steals', 'blocks']\n",
    "    for index, row in pre_df.iterrows():\n",
    "        home_lineup = row['home_lineup']\n",
    "        away_lineup = row['away_lineup']\n",
    "        \n",
    "        for col in cols:\n",
    "            home_col = 'home_' + col\n",
    "            away_col = 'away_' + col\n",
    "            if home_col in row and away_col in row:\n",
    "                lineups_df.loc[lineups_df['lineup'] == home_lineup, col] += row[home_col]\n",
    "                lineups_df.loc[lineups_df['lineup'] == away_lineup, col] += row[away_col]\n",
    "            else:\n",
    "                print(f'Column {home_col} or {away_col} not found in row')\n",
    "    \n",
    "    # Create unique lineup nodes\n",
    "    lineup2idx = {lineup: idx for idx, lineup in enumerate(lineups_df['lineup'])}\n",
    "    \n",
    "    # Create node features based on lineups_df\n",
    "    x = torch.tensor(lineups_df.iloc[:, 1:].values, dtype=torch.float)\n",
    "    \n",
    "    # Create directed edges with score-based direction\n",
    "    edge_index = []\n",
    "    edge_attr = []\n",
    "    \n",
    "    for _, row in df.iterrows():\n",
    "        home = row['home_lineup']\n",
    "        away = row['away_lineup']\n",
    "        home_idx = lineup2idx[home]\n",
    "        away_idx = lineup2idx[away]\n",
    "        \n",
    "        # Determine edge direction based on normalized scores\n",
    "        if row['normalized_home_score'] > row['normalized_away_score']:\n",
    "            src, dst = home_idx, away_idx\n",
    "        else:\n",
    "            src, dst = away_idx, home_idx\n",
    "            \n",
    "        edge_index.append([src, dst])\n",
    "        edge_attr.append(abs(row['net_score']))\n",
    "    \n",
    "    edge_index = torch.tensor(edge_index, dtype=torch.long).t().contiguous()\n",
    "    edge_attr = torch.tensor(edge_attr, dtype=torch.float).unsqueeze(1)\n",
    "    edge_attr = (edge_attr - edge_attr.mean()) / (edge_attr.std() + 1e-8)\n",
    "    \n",
    "    return Data(\n",
    "        x=x,\n",
    "        edge_index=edge_index,\n",
    "        edge_attr=edge_attr,\n",
    "        num_nodes=len(lineups_df))"
   ]
  },
  {
   "cell_type": "code",
   "execution_count": 32,
   "id": "29f55db8",
   "metadata": {},
   "outputs": [],
   "source": [
    "data = create_lineup_graph(df, pre_df)"
   ]
  },
  {
   "cell_type": "code",
   "execution_count": 33,
   "id": "d3e787b2",
   "metadata": {},
   "outputs": [
    {
     "data": {
      "text/plain": [
       "tensor(False)"
      ]
     },
     "execution_count": 33,
     "metadata": {},
     "output_type": "execute_result"
    }
   ],
   "source": [
    "data.x.isnan().any()"
   ]
  },
  {
   "cell_type": "markdown",
   "id": "a96ddd15",
   "metadata": {},
   "source": [
    "# GNN Model"
   ]
  },
  {
   "cell_type": "code",
   "execution_count": 34,
   "id": "71c66e5d",
   "metadata": {},
   "outputs": [],
   "source": [
    "from torch_geometric.transforms import RandomLinkSplit\n",
    "from torch_geometric.nn import GINEConv\n",
    "from torch_geometric.loader import DataLoader\n",
    "import torch.nn as nn\n",
    "import torch.nn.functional as F\n",
    "import pytorch_lightning as pl"
   ]
  },
  {
   "cell_type": "code",
   "execution_count": 35,
   "id": "5a2a4b81",
   "metadata": {},
   "outputs": [],
   "source": [
    "class GNNModel(nn.Module):\n",
    "    def __init__(self, input_dim, hidden_dim, output_dim):\n",
    "        super().__init__()\n",
    "        self.conv1 = GINEConv(\n",
    "            nn.Sequential(\n",
    "                nn.Linear(input_dim, hidden_dim),\n",
    "                nn.BatchNorm1d(hidden_dim),\n",
    "                nn.ReLU(),\n",
    "                nn.Linear(hidden_dim, hidden_dim),\n",
    "                nn.ReLU()\n",
    "            ),\n",
    "            train_eps=True,\n",
    "            edge_dim=1  # Edge attribute dimension (scalar)\n",
    "        )\n",
    "        self.conv2 = GINEConv(\n",
    "            nn.Sequential(\n",
    "                nn.Linear(hidden_dim, hidden_dim),\n",
    "                nn.BatchNorm1d(hidden_dim),\n",
    "                nn.ReLU(),\n",
    "                nn.Linear(hidden_dim, output_dim),\n",
    "                nn.ReLU()\n",
    "            ),\n",
    "            train_eps=True,\n",
    "            edge_dim=1\n",
    "        )\n",
    "    \n",
    "    def forward(self, x, edge_index, edge_attr):\n",
    "        x = self.conv1(x, edge_index, edge_attr)\n",
    "        x = F.relu(x)\n",
    "        x = self.conv2(x, edge_index, edge_attr)\n",
    "        return x\n",
    "\n",
    "# Link Prediction Decoder with Edge Attributes\n",
    "class LinkPredictor(nn.Module):\n",
    "    def __init__(self, node_emb_dim):\n",
    "        super().__init__()\n",
    "        self.mlp = nn.Sequential(\n",
    "            nn.Linear(2 * node_emb_dim + 1, node_emb_dim),  # +1 for edge_attr\n",
    "            nn.ReLU(),\n",
    "            nn.Linear(node_emb_dim, 1),\n",
    "            nn.Sigmoid()\n",
    "        )\n",
    "    \n",
    "    def forward(self, u_emb, v_emb, edge_attr):\n",
    "        concatenated = torch.cat([u_emb, v_emb, edge_attr], dim=1)\n",
    "        return self.mlp(concatenated).squeeze()\n",
    "\n",
    "# Lightning Module for Training\n",
    "class LitGNN(pl.LightningModule):\n",
    "    def __init__(self, input_dim, hidden_dim=64, output_dim=64):\n",
    "        super().__init__()\n",
    "        self.gnn = GNNModel(input_dim, hidden_dim, output_dim)\n",
    "        self.link_predictor = LinkPredictor(output_dim)\n",
    "        self.loss_fn = nn.BCELoss()\n",
    "    \n",
    "    def forward(self, x, edge_index, edge_attr):\n",
    "        return self.gnn(x, edge_index, edge_attr)\n",
    "    \n",
    "    def training_step(self, batch, batch_idx):\n",
    "        x, edge_index, edge_attr = batch.x, batch.edge_index, batch.edge_attr\n",
    "        edge_label_index = batch.edge_label_index\n",
    "        edge_label_attr = batch.edge_label_attr\n",
    "        edge_label = batch.edge_label\n",
    "        \n",
    "        node_emb = self.gnn(x, edge_index, edge_attr)\n",
    "        u_emb = node_emb[edge_label_index[0]]\n",
    "        v_emb = node_emb[edge_label_index[1]]\n",
    "        preds = self.link_predictor(u_emb, v_emb, edge_label_attr)\n",
    "        \n",
    "        loss = self.loss_fn(preds, edge_label)\n",
    "        self.log('train_loss', loss)\n",
    "        return loss\n",
    "    \n",
    "    def validation_step(self, batch, batch_idx):\n",
    "        x, edge_index, edge_attr = batch.x, batch.edge_index, batch.edge_attr\n",
    "        edge_label_index = batch.edge_label_index\n",
    "        edge_label_attr = batch.edge_label_attr\n",
    "        edge_label = batch.edge_label\n",
    "        \n",
    "        node_emb = self.gnn(x, edge_index, edge_attr)\n",
    "        u_emb = node_emb[edge_label_index[0]]\n",
    "        v_emb = node_emb[edge_label_index[1]]\n",
    "        preds = self.link_predictor(u_emb, v_emb, edge_label_attr)\n",
    "        \n",
    "        loss = self.loss_fn(preds, edge_label)\n",
    "        self.log('val_loss', loss)\n",
    "        acc = ((preds > 0.5).float() == edge_label).float().mean()\n",
    "        self.log('val_acc', acc)\n",
    "        return loss\n",
    "    \n",
    "    def test_step(self, batch, batch_idx):\n",
    "        x, edge_index, edge_attr = batch.x, batch.edge_index, batch.edge_attr\n",
    "        edge_label_index = batch.edge_label_index\n",
    "        edge_label_attr = batch.edge_label_attr\n",
    "        edge_label = batch.edge_label\n",
    "        \n",
    "        node_emb = self.gnn(x, edge_index, edge_attr)\n",
    "        u_emb = node_emb[edge_label_index[0]]\n",
    "        v_emb = node_emb[edge_label_index[1]]\n",
    "        preds = self.link_predictor(u_emb, v_emb, edge_label_attr)\n",
    "        \n",
    "        loss = self.loss_fn(preds, edge_label)\n",
    "        self.log('test_loss', loss)\n",
    "        acc = ((preds > 0.5).float() == edge_label).float().mean()\n",
    "        self.log('test_acc', acc)\n",
    "        return loss\n",
    "    \n",
    "    def configure_optimizers(self):\n",
    "        return torch.optim.Adam(self.parameters())"
   ]
  },
  {
   "cell_type": "code",
   "execution_count": 36,
   "id": "9ad9056d",
   "metadata": {},
   "outputs": [],
   "source": [
    "class LineupGINE(pl.LightningModule):\n",
    "    def __init__(self,\n",
    "                 input_dim,\n",
    "                 edge_feature_dim,\n",
    "                 hidden_dim=32,\n",
    "                 lr=0.001,\n",
    "                 num_conv_layers=2,\n",
    "                 num_linear_layers=2,\n",
    "                 dropout=0.5):\n",
    "        super(LineupGINE, self).__init__()\n",
    "        self.save_hyperparameters()\n",
    "        self.lr = lr\n",
    "\n",
    "        # Convolutional layers\n",
    "        self.conv_layers = nn.ModuleList()\n",
    "        for i in range(num_conv_layers):\n",
    "            in_channels = input_dim if i == 0 else hidden_dim\n",
    "            mlp = nn.Sequential(\n",
    "                nn.Linear(in_channels, hidden_dim),\n",
    "                nn.ReLU(),\n",
    "                nn.Linear(hidden_dim, hidden_dim)\n",
    "            )\n",
    "            self.conv_layers.append(\n",
    "                GINEConv(mlp,\n",
    "                         edge_dim=edge_feature_dim)\n",
    "            )\n",
    "\n",
    "        self.dropout = nn.Dropout(dropout)\n",
    "            \n",
    "        # Decoder linear layers\n",
    "        layers = []\n",
    "        current_dim = 2 * hidden_dim  # Concatenated embeddings from src and tgt\n",
    "        for i in range(num_linear_layers - 1):\n",
    "            layers.append(nn.Linear(current_dim, hidden_dim))\n",
    "            layers.append(nn.ReLU())\n",
    "            current_dim = hidden_dim\n",
    "        layers.append(nn.Linear(hidden_dim, 1))\n",
    "        self.decoder = nn.Sequential(*layers)\n",
    "\n",
    "    def forward(self, data):\n",
    "        x, edge_index, edge_attr = data.x, data.edge_index, data.edge_attr\n",
    "        for conv in self.conv_layers:\n",
    "            x = conv(x, edge_index, edge_attr)\n",
    "            x = F.relu(x)\n",
    "\n",
    "        x = self.dropout(x)\n",
    "        return x\n",
    "    \n",
    "    def training_step(self, batch, batch_idx):\n",
    "        embeddings = self(batch)\n",
    "\n",
    "        src, tgt = batch.edge_index\n",
    "        print(f\"Source: {src.isnan().any()}, Target: {tgt.isnan().any()}\")\n",
    "        src_embeddings = embeddings[src]\n",
    "        tgt_embeddings = embeddings[tgt]\n",
    "        edge_feature_input = torch.cat([src_embeddings, tgt_embeddings], dim=1)\n",
    "\n",
    "        # print(f\"Source embeddings: {src_embeddings}\")\n",
    "        # print(f\"Target embeddings: {tgt_embeddings}\")\n",
    "\n",
    "        pred_scores = self.decoder(edge_feature_input)\n",
    "\n",
    "        # print(f\"Predicted scores: {pred_scores}\")\n",
    "        # print(f\"Actual scores: {batch.edge_attr}\")\n",
    "\n",
    "        loss = F.mse_loss(pred_scores, batch.edge_attr)\n",
    "        self.log('train_loss', loss, prog_bar=True, logger=True)\n",
    "        \n",
    "        return loss\n",
    "    \n",
    "    def validation_step(self, batch, batch_idx):\n",
    "        embeddings = self(batch)\n",
    "\n",
    "        src, tgt = batch.edge_index\n",
    "        src_embeddings = embeddings[src]\n",
    "        tgt_embeddings = embeddings[tgt]\n",
    "        edge_feature_input = torch.cat([src_embeddings, tgt_embeddings], dim=1)\n",
    "        pred_scores = self.decoder(edge_feature_input)\n",
    "        loss = F.mse_loss(pred_scores, batch.edge_attr)\n",
    "        self.log('val_loss', loss, prog_bar=True, logger=True)\n",
    "        return loss\n",
    "    \n",
    "    def test_step(self, batch, batch_idx):\n",
    "        embeddings = self(batch)\n",
    "\n",
    "        src, tgt = batch.edge_index\n",
    "        src_embeddings = embeddings[src]\n",
    "        tgt_embeddings = embeddings[tgt]\n",
    "        edge_feature_input = torch.cat([src_embeddings, tgt_embeddings], dim=1)\n",
    "        pred_scores = self.decoder(edge_feature_input)\n",
    "        loss = F.mse_loss(pred_scores, batch.edge_attr)\n",
    "        self.log('test_loss', loss, prog_bar=True, logger=True)\n",
    "        return loss\n",
    "    \n",
    "    def configure_optimizers(self):\n",
    "        return torch.optim.Adam(self.parameters(), lr=self.lr)\n"
   ]
  },
  {
   "cell_type": "code",
   "execution_count": 37,
   "id": "658b1be8",
   "metadata": {},
   "outputs": [],
   "source": [
    "# Function to add reversed edges as negatives to a Data object\n",
    "def add_reversed_negatives(data):\n",
    "    if data.edge_index.size(1) == 0:\n",
    "        return data  # Skip if no edges\n",
    "    original_edges = data.edge_index\n",
    "    reversed_edges = torch.flip(original_edges, dims=[0])\n",
    "    \n",
    "    # Combine original and reversed edges\n",
    "    edge_label_index = torch.cat([original_edges, reversed_edges], dim=1)\n",
    "    edge_label = torch.cat([\n",
    "        torch.ones(original_edges.size(1)),\n",
    "        torch.zeros(reversed_edges.size(1))\n",
    "    ])\n",
    "    \n",
    "    # Use original edge_attr for both directions\n",
    "    edge_label_attr = torch.cat([data.edge_attr, data.edge_attr], dim=0)\n",
    "    \n",
    "    # Shuffle the combined data\n",
    "    perm = torch.randperm(edge_label_index.size(1))\n",
    "    edge_label_index = edge_label_index[:, perm]\n",
    "    edge_label_attr = edge_label_attr[perm]\n",
    "    edge_label = edge_label[perm]\n",
    "    \n",
    "    data.edge_label_index = edge_label_index\n",
    "    data.edge_label_attr = edge_label_attr\n",
    "    data.edge_label = edge_label\n",
    "    return data"
   ]
  },
  {
   "cell_type": "code",
   "execution_count": 38,
   "id": "dba22331",
   "metadata": {},
   "outputs": [],
   "source": [
    "batch_size = 1\n",
    "train_data, val_data, test_data = RandomLinkSplit(num_val=0.1, num_test=0.1)(data)\n",
    "train_data = add_reversed_negatives(train_data)\n",
    "val_data = add_reversed_negatives(val_data)\n",
    "test_data = add_reversed_negatives(test_data)\n",
    "train_loader = DataLoader([train_data], batch_size=batch_size, shuffle=True)\n",
    "val_loader = DataLoader([val_data], batch_size=batch_size, shuffle=False)\n",
    "test_loader = DataLoader([test_data], batch_size=batch_size, shuffle=False)"
   ]
  },
  {
   "cell_type": "code",
   "execution_count": 39,
   "id": "2edc1196",
   "metadata": {},
   "outputs": [
    {
     "name": "stderr",
     "output_type": "stream",
     "text": [
      "You are using the plain ModelCheckpoint callback. Consider using LitModelCheckpoint which with seamless uploading to Model registry.\n",
      "GPU available: False, used: False\n",
      "TPU available: False, using: 0 TPU cores\n",
      "HPU available: False, using: 0 HPUs\n",
      "GPU available: False, used: False\n",
      "TPU available: False, using: 0 TPU cores\n",
      "HPU available: False, using: 0 HPUs\n",
      "\n",
      "  | Name           | Type          | Params | Mode \n",
      "---------------------------------------------------------\n",
      "0 | gnn            | GNNModel      | 13.7 K | train\n",
      "1 | link_predictor | LinkPredictor | 8.4 K  | train\n",
      "2 | loss_fn        | BCELoss       | 0      | train\n",
      "---------------------------------------------------------\n",
      "22.0 K    Trainable params\n",
      "0         Non-trainable params\n",
      "22.0 K    Total params\n",
      "0.088     Total estimated model params size (MB)\n",
      "26        Modules in train mode\n",
      "0         Modules in eval mode\n",
      "\n",
      "  | Name           | Type          | Params | Mode \n",
      "---------------------------------------------------------\n",
      "0 | gnn            | GNNModel      | 13.7 K | train\n",
      "1 | link_predictor | LinkPredictor | 8.4 K  | train\n",
      "2 | loss_fn        | BCELoss       | 0      | train\n",
      "---------------------------------------------------------\n",
      "22.0 K    Trainable params\n",
      "0         Non-trainable params\n",
      "22.0 K    Total params\n",
      "0.088     Total estimated model params size (MB)\n",
      "26        Modules in train mode\n",
      "0         Modules in eval mode\n"
     ]
    },
    {
     "name": "stdout",
     "output_type": "stream",
     "text": [
      "                                                                           "
     ]
    },
    {
     "name": "stderr",
     "output_type": "stream",
     "text": [
      "c:\\Users\\rokaa\\egyetem\\basketball_lineup_analysis\\.venv\\lib\\site-packages\\pytorch_lightning\\trainer\\connectors\\data_connector.py:425: The 'val_dataloader' does not have many workers which may be a bottleneck. Consider increasing the value of the `num_workers` argument` to `num_workers=7` in the `DataLoader` to improve performance.\n",
      "c:\\Users\\rokaa\\egyetem\\basketball_lineup_analysis\\.venv\\lib\\site-packages\\pytorch_lightning\\trainer\\connectors\\data_connector.py:425: The 'train_dataloader' does not have many workers which may be a bottleneck. Consider increasing the value of the `num_workers` argument` to `num_workers=7` in the `DataLoader` to improve performance.\n",
      "c:\\Users\\rokaa\\egyetem\\basketball_lineup_analysis\\.venv\\lib\\site-packages\\pytorch_lightning\\loops\\fit_loop.py:310: The number of training batches (1) is smaller than the logging interval Trainer(log_every_n_steps=50). Set a lower value for log_every_n_steps if you want to see logs for the training epoch.\n"
     ]
    },
    {
     "name": "stdout",
     "output_type": "stream",
     "text": [
      "Epoch 9: 100%|██████████| 1/1 [00:00<00:00,  7.46it/s, v_num=51]"
     ]
    },
    {
     "name": "stderr",
     "output_type": "stream",
     "text": [
      "`Trainer.fit` stopped: `max_epochs=10` reached.\n"
     ]
    },
    {
     "name": "stdout",
     "output_type": "stream",
     "text": [
      "Epoch 9: 100%|██████████| 1/1 [00:00<00:00,  6.44it/s, v_num=51]"
     ]
    },
    {
     "name": "stderr",
     "output_type": "stream",
     "text": [
      "c:\\Users\\rokaa\\egyetem\\basketball_lineup_analysis\\.venv\\lib\\site-packages\\pytorch_lightning\\trainer\\connectors\\data_connector.py:425: The 'test_dataloader' does not have many workers which may be a bottleneck. Consider increasing the value of the `num_workers` argument` to `num_workers=7` in the `DataLoader` to improve performance.\n"
     ]
    },
    {
     "name": "stdout",
     "output_type": "stream",
     "text": [
      "\n",
      "Testing DataLoader 0: 100%|██████████| 1/1 [00:00<00:00, 38.13it/s]\n",
      "────────────────────────────────────────────────────────────────────────────────────────────────────────────────────────\n",
      "       Test metric             DataLoader 0\n",
      "────────────────────────────────────────────────────────────────────────────────────────────────────────────────────────\n",
      "        test_acc            0.7005689740180969\n",
      "        test_loss           0.6319311857223511\n",
      "────────────────────────────────────────────────────────────────────────────────────────────────────────────────────────\n",
      "\n",
      "────────────────────────────────────────────────────────────────────────────────────────────────────────────────────────\n",
      "       Test metric             DataLoader 0\n",
      "────────────────────────────────────────────────────────────────────────────────────────────────────────────────────────\n",
      "        test_acc            0.7005689740180969\n",
      "        test_loss           0.6319311857223511\n",
      "────────────────────────────────────────────────────────────────────────────────────────────────────────────────────────\n"
     ]
    },
    {
     "data": {
      "text/plain": [
       "[{'test_loss': 0.6319311857223511, 'test_acc': 0.7005689740180969}]"
      ]
     },
     "execution_count": 39,
     "metadata": {},
     "output_type": "execute_result"
    }
   ],
   "source": [
    "model = LitGNN(input_dim=data.x.shape[1])\n",
    "\n",
    "trainer = pl.Trainer(\n",
    "    max_epochs=10,\n",
    "    gradient_clip_val=1.0\n",
    ")\n",
    "\n",
    "trainer.fit(model, train_loader, val_loader)\n",
    "trainer.test(model, test_loader)"
   ]
  },
  {
   "cell_type": "code",
   "execution_count": 16,
   "id": "7715819b",
   "metadata": {},
   "outputs": [],
   "source": [
    "sweep_config = {\n",
    "    'method': 'bayes',  # bayes, grid, or random\n",
    "    'metric': {\n",
    "        'name': 'val_loss',\n",
    "        'goal': 'minimize'   \n",
    "    },\n",
    "    'parameters': {\n",
    "        'hidden_dim': {\n",
    "            'values': [32, 64, 128]\n",
    "        },\n",
    "        'num_conv_layers': {\n",
    "            'values': [2, 3, 4]\n",
    "        },\n",
    "        'num_linear_layers': {\n",
    "            'values': [1, 2, 3]\n",
    "        },\n",
    "        'lr': {\n",
    "            'distribution': 'log_uniform',\n",
    "            'min': 1e-4,\n",
    "            'max': 1e-2\n",
    "        },\n",
    "        'dropout': {\n",
    "            'values': [0.0, 0.2, 0.4]\n",
    "        }\n",
    "    }\n",
    "}"
   ]
  },
  {
   "cell_type": "code",
   "execution_count": 17,
   "id": "f6d64040",
   "metadata": {},
   "outputs": [],
   "source": [
    "def train_sweep():\n",
    "    with wandb.init() as run:\n",
    "        config = wandb.config\n",
    "        model = LineupGINE(\n",
    "            input_dim=10,  # Number of features per lineup\n",
    "            edge_feature_dim=1,  # Number of features per edge (e.g., score difference)\n",
    "            hidden_dim=config.hidden_dim,\n",
    "            lr=config.lr,\n",
    "            num_conv_layers=config.num_conv_layers,\n",
    "            num_linear_layers=config.num_linear_layers,\n",
    "            dropout=config.dropout\n",
    "        )\n",
    "\n",
    "        trainer = pl.Trainer(\n",
    "            max_epochs=50,\n",
    "            logger=pl.loggers.WandbLogger(),\n",
    "            callbacks=[\n",
    "                pl.callbacks.EarlyStopping(monitor='val_loss', patience=10),\n",
    "                pl.callbacks.ModelCheckpoint(monitor='val_loss')\n",
    "            ]\n",
    "        )\n",
    "        trainer.fit(model, train_loader, val_loader)\n",
    "        trainer.test(model, test_loader)\n",
    "        wandb.finish()"
   ]
  }
 ],
 "metadata": {
  "kernelspec": {
   "display_name": ".venv",
   "language": "python",
   "name": "python3"
  },
  "language_info": {
   "codemirror_mode": {
    "name": "ipython",
    "version": 3
   },
   "file_extension": ".py",
   "mimetype": "text/x-python",
   "name": "python",
   "nbconvert_exporter": "python",
   "pygments_lexer": "ipython3",
   "version": "3.9.7"
  }
 },
 "nbformat": 4,
 "nbformat_minor": 5
}
