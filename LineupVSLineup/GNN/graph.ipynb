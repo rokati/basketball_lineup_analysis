{
 "cells": [
  {
   "cell_type": "code",
   "execution_count": 88,
   "id": "d7f701b2",
   "metadata": {},
   "outputs": [],
   "source": [
    "# %pip install torch torch_geometric pytorch_lightning wandb scikit-learn matplotlib captum"
   ]
  },
  {
   "cell_type": "code",
   "execution_count": 89,
   "id": "6e26f5d0",
   "metadata": {},
   "outputs": [],
   "source": [
    "import torch\n",
    "from torch_geometric.data import Data\n",
    "import pandas as pd\n",
    "import wandb\n",
    "from sklearn.preprocessing import MultiLabelBinarizer\n",
    "import ast\n",
    "import numpy as np\n",
    "\n",
    "pd.set_option('display.max_columns', None)"
   ]
  },
  {
   "cell_type": "markdown",
   "id": "f40255f3",
   "metadata": {},
   "source": [
    "# Load the data"
   ]
  },
  {
   "cell_type": "code",
   "execution_count": 90,
   "id": "bf4c6c9d",
   "metadata": {},
   "outputs": [],
   "source": [
    "df = pd.read_csv('../get_lineup_target_score/nba_with_lineup_score.csv')\n",
    "pre_df = pd.read_csv('../pre_season/pre_lineup_vs_lineup.csv')\n",
    "pre_player_stats_df = pd.read_csv('../../data/player_stats_2023-24.csv')"
   ]
  },
  {
   "cell_type": "code",
   "execution_count": 97,
   "id": "06adb863",
   "metadata": {},
   "outputs": [],
   "source": [
    "def create_lineup_graph(df, pre_df, pre_player_stats_df):\n",
    "    pre_df.fillna(0, inplace=True)\n",
    "    df.dropna(subset=['net_score'], inplace=True)\n",
    "    df = df[~df['net_score'].isin([np.inf, -np.inf])]\n",
    "\n",
    "    all_lineups = pd.concat([df['home_lineup'], df['away_lineup']]).unique()\n",
    "    pre_df_lineups = pd.concat([pre_df['home_lineup'], pre_df['away_lineup']]).unique()\n",
    "    filtered_lineups = [lineup for lineup in all_lineups if lineup in pre_df_lineups]\n",
    "    all_lineups = np.array(filtered_lineups)\n",
    "\n",
    "    df = df[df['home_lineup'].isin(all_lineups) & df['away_lineup'].isin(all_lineups)]\n",
    "    pre_df = pre_df[pre_df['home_lineup'].isin(all_lineups) & pre_df['away_lineup'].isin(all_lineups)]\n",
    "\n",
    "    lineups_df = pd.DataFrame(all_lineups, columns=['lineup'])\n",
    "    lineups_df[\"3pt_made\"] = 0\n",
    "    lineups_df[\"points\"] = 0\n",
    "    lineups_df[\"assists\"] = 0\n",
    "    lineups_df[\"def_rebounds\"] = 0\n",
    "    lineups_df[\"off_rebounds\"] = 0\n",
    "    lineups_df[\"fouls\"] = 0\n",
    "    lineups_df[\"2pt_made\"] = 0\n",
    "    lineups_df[\"turnovers\"] = 0\n",
    "    lineups_df[\"ft_made\"] = 0\n",
    "    lineups_df[\"steals\"] = 0\n",
    "    lineups_df[\"blocks\"] = 0\n",
    "\n",
    "    cols = ['3pt_made', 'points', 'assists', 'def_rebounds', 'off_rebounds', 'fouls', '2pt_made', 'turnovers', 'ft_made', 'steals', 'blocks']\n",
    "    for index, row in pre_df.iterrows():\n",
    "        home_lineup = row['home_lineup']\n",
    "        away_lineup = row['away_lineup']\n",
    "        \n",
    "        for col in cols:\n",
    "            home_col = 'home_' + col\n",
    "            away_col = 'away_' + col\n",
    "            if home_col in row and away_col in row:\n",
    "                lineups_df.loc[lineups_df['lineup'] == home_lineup, col] += row[home_col]\n",
    "                lineups_df.loc[lineups_df['lineup'] == away_lineup, col] += row[away_col]\n",
    "            else:\n",
    "                print(f'Column {home_col} or {away_col} not found in row')\n",
    "\n",
    "    # Parse the lineup strings into tuples\n",
    "    lineups_df['lineup_tuple'] = lineups_df['lineup'].apply(lambda x: ast.literal_eval(x))\n",
    "\n",
    "    # Create a dictionary mapping player names to their stats\n",
    "    player_stats_dict = pre_player_stats_df.set_index('PLAYER_NAME').to_dict('index')\n",
    "\n",
    "    # Initialize columns for aggregated stats\n",
    "    stat_columns = ['PTS', 'AST', 'REB', 'STL', 'BLK', 'TOV']\n",
    "    for col in stat_columns:\n",
    "        lineups_df[col] = 0\n",
    "\n",
    "    num_lineups_to_not_aggregate = 0\n",
    "\n",
    "    # Aggregate stats for each lineup\n",
    "    for index, row in lineups_df.iterrows():\n",
    "        lineup = row['lineup_tuple']\n",
    "        for player in lineup:\n",
    "            if player in player_stats_dict:\n",
    "                player_stats = player_stats_dict[player]\n",
    "                for col in stat_columns:\n",
    "                    lineups_df.at[index, col] += player_stats.get(col, 0)\n",
    "            else:\n",
    "                # Delete the lineup if any player is not found in player stats\n",
    "                lineups_df.drop(index=index, inplace=True)\n",
    "                num_lineups_to_not_aggregate += 1\n",
    "                break\n",
    "    lineups_df.reset_index(drop=True, inplace=True)\n",
    "    df = df[df['home_lineup'].isin(lineups_df['lineup']) & df['away_lineup'].isin(lineups_df['lineup'])]\n",
    "    df.reset_index(drop=True, inplace=True)\n",
    "\n",
    "    # Normalize the specified columns\n",
    "    for col in stat_columns:\n",
    "        max_value = lineups_df[col].max()\n",
    "        if max_value > 0:  # Avoid division by zero\n",
    "            lineups_df[col] = lineups_df[col] / max_value\n",
    "\n",
    "    lineups_df.drop(columns=['lineup_tuple'], inplace=True)\n",
    "    \n",
    "    # Create unique lineup nodes\n",
    "    lineup2idx = {lineup: idx for idx, lineup in enumerate(lineups_df['lineup'])}\n",
    "    \n",
    "    # Create node features based on lineups_df\n",
    "    x = torch.tensor(lineups_df.iloc[:, 1:].values, dtype=torch.float)\n",
    "    \n",
    "    # Create directed edges with score-based direction\n",
    "    edge_index = []\n",
    "    edge_attr = []\n",
    "    \n",
    "    for _, row in df.iterrows():\n",
    "        home = row['home_lineup']\n",
    "        away = row['away_lineup']\n",
    "        home_idx = lineup2idx[home]\n",
    "        away_idx = lineup2idx[away]\n",
    "        \n",
    "        # Determine edge direction based on normalized scores\n",
    "        if row['normalized_home_score'] > row['normalized_away_score']:\n",
    "            src, dst = home_idx, away_idx\n",
    "        else:\n",
    "            src, dst = away_idx, home_idx\n",
    "            \n",
    "        edge_index.append([src, dst])\n",
    "        edge_attr.append(abs(row['net_score']))\n",
    "    \n",
    "    edge_index = torch.tensor(edge_index, dtype=torch.long).t().contiguous()\n",
    "    edge_attr = torch.tensor(edge_attr, dtype=torch.float).unsqueeze(1)\n",
    "    \n",
    "    return Data(\n",
    "        x=x,\n",
    "        edge_index=edge_index,\n",
    "        edge_attr=edge_attr,\n",
    "        num_nodes=len(lineups_df))"
   ]
  },
  {
   "cell_type": "code",
   "execution_count": 98,
   "id": "29f55db8",
   "metadata": {},
   "outputs": [],
   "source": [
    "data = create_lineup_graph(df, pre_df, pre_player_stats_df)"
   ]
  },
  {
   "cell_type": "code",
   "execution_count": 99,
   "id": "d3e787b2",
   "metadata": {},
   "outputs": [
    {
     "data": {
      "text/plain": [
       "Data(x=[844, 17], edge_index=[2, 696], edge_attr=[696, 1], num_nodes=844)"
      ]
     },
     "execution_count": 99,
     "metadata": {},
     "output_type": "execute_result"
    }
   ],
   "source": [
    "data"
   ]
  },
  {
   "cell_type": "markdown",
   "id": "a96ddd15",
   "metadata": {},
   "source": [
    "# GNN Model"
   ]
  },
  {
   "cell_type": "code",
   "execution_count": 100,
   "id": "71c66e5d",
   "metadata": {},
   "outputs": [],
   "source": [
    "from torch_geometric.transforms import RandomLinkSplit\n",
    "from torch_geometric.nn import GINEConv\n",
    "from torch_geometric.loader import DataLoader\n",
    "import torch.nn as nn\n",
    "import torch.nn.functional as F\n",
    "import pytorch_lightning as pl\n",
    "from torchmetrics import Accuracy, AUROC, F1Score, Precision, Recall\n",
    "from model import LitGNN"
   ]
  },
  {
   "cell_type": "code",
   "execution_count": 101,
   "id": "5a2a4b81",
   "metadata": {},
   "outputs": [],
   "source": [
    "class GNNModel(nn.Module):\n",
    "    def __init__(self, input_dim, num_layers, hidden_dim, dropout_rate):\n",
    "        super().__init__()\n",
    "        self.convs = nn.ModuleList()\n",
    "        self.dropout_rate = dropout_rate\n",
    "        for _ in range(num_layers):\n",
    "            conv = GINEConv(\n",
    "                nn.Sequential(\n",
    "                    nn.Linear(input_dim, hidden_dim),\n",
    "                    nn.ReLU(),\n",
    "                    nn.Linear(hidden_dim, hidden_dim),\n",
    "                ),\n",
    "                train_eps=True,\n",
    "                edge_dim=1,\n",
    "            )\n",
    "            self.convs.append(conv)\n",
    "            input_dim = hidden_dim\n",
    "    \n",
    "    def forward(self, x, edge_index, edge_attr):\n",
    "        for conv in self.convs:\n",
    "            x = conv(x, edge_index, edge_attr)\n",
    "            x = F.relu(x)\n",
    "            x = F.dropout(x, p=self.dropout_rate, training=self.training)\n",
    "        return x\n",
    "\n",
    "# Link Prediction Decoder with Edge Attributes\n",
    "class LinkPredictor(nn.Module):\n",
    "    def __init__(self, num_layers, hidden_dim):\n",
    "        super().__init__()\n",
    "        mlp_layers = []\n",
    "        current_dim = 2 * hidden_dim\n",
    "        for _ in range(num_layers):\n",
    "            mlp_layers.append(nn.Linear(current_dim, hidden_dim))\n",
    "            mlp_layers.append(nn.ReLU())\n",
    "            current_dim = hidden_dim\n",
    "        mlp_layers.append(nn.Linear(hidden_dim, 1))\n",
    "        mlp_layers.append(nn.Sigmoid())\n",
    "        self.mlp = nn.Sequential(*mlp_layers)\n",
    "    \n",
    "    def forward(self, u_emb, v_emb):\n",
    "        concatenated = torch.cat([u_emb, v_emb], dim=1)\n",
    "        return self.mlp(concatenated).squeeze()\n",
    "\n",
    "# Lightning Module for Training\n",
    "class LitGNN1(pl.LightningModule):\n",
    "    def __init__(self,\n",
    "                input_dim,\n",
    "                # Conv layer parameters\n",
    "                conv_layers=2,\n",
    "                conv_hidden_dim=64,\n",
    "                # Link prediction parameters\n",
    "                link_predictor_layers=1,\n",
    "                link_hidden_dim=64,\n",
    "                # Training parameters\n",
    "                learning_rate=0.001,\n",
    "                weight_decay=0.0001,\n",
    "                dropout_rate=0.5):\n",
    "        super().__init__()\n",
    "        self.save_hyperparameters()\n",
    "        self.gnn = GNNModel(input_dim, conv_layers, conv_hidden_dim, dropout_rate)\n",
    "        self.link_predictor = LinkPredictor(link_predictor_layers, link_hidden_dim)\n",
    "        self.loss_fn = nn.BCELoss()\n",
    "\n",
    "        self.learning_rate = learning_rate\n",
    "        self.weight_decay = weight_decay\n",
    "\n",
    "        # Initialize metrics\n",
    "        self.train_acc = Accuracy(task='binary')\n",
    "        self.val_acc = Accuracy(task='binary')\n",
    "        self.test_acc = Accuracy(task='binary')\n",
    "        self.train_auroc = AUROC(task='binary')\n",
    "        self.val_auroc = AUROC(task='binary')\n",
    "        self.test_auroc = AUROC(task='binary')\n",
    "    \n",
    "    def forward(self, x, edge_index, edge_attr):\n",
    "        return self.gnn(x, edge_index, edge_attr)\n",
    "    \n",
    "    def training_step(self, batch, batch_idx):\n",
    "        x, edge_index, edge_attr = batch.x, batch.edge_index, batch.edge_attr\n",
    "        edge_label_index, edge_label = batch.edge_label_index, batch.edge_label\n",
    "\n",
    "        node_emb = self.gnn(x, edge_index, edge_attr)\n",
    "        u_emb = node_emb[edge_label_index[0]]\n",
    "        v_emb = node_emb[edge_label_index[1]]\n",
    "        preds = self.link_predictor(u_emb, v_emb)\n",
    "\n",
    "        loss = self.loss_fn(preds, edge_label.float())\n",
    "        self.log('train_loss', loss, prog_bar=True)\n",
    "        # print(f\"Train Loss: {loss:.4f}\")\n",
    "\n",
    "        # Calculate accuracy\n",
    "        preds_binary = (preds > 0.5).int()\n",
    "        acc = self.train_acc(preds_binary, edge_label.int())\n",
    "        self.log('train_acc', acc, prog_bar=True)\n",
    "        # print(f\"Train Accuracy: {acc:.4f}\")\n",
    "\n",
    "        # Calculate AUC-ROC\n",
    "        if len(torch.unique(edge_label)) > 1:\n",
    "            auc = self.train_auroc(preds, edge_label.int())\n",
    "            self.log('train_auc', auc, prog_bar=True)\n",
    "            # print(f\"Train AUC: {auc:.4f}\")\n",
    "\n",
    "        return loss\n",
    "    \n",
    "    def validation_step(self, batch, batch_idx):\n",
    "        x, edge_index, edge_attr = batch.x, batch.edge_index, batch.edge_attr\n",
    "        edge_label_index, edge_label = batch.edge_label_index, batch.edge_label\n",
    "\n",
    "        node_emb = self.gnn(x, edge_index, edge_attr)\n",
    "        u_emb = node_emb[edge_label_index[0]]\n",
    "        v_emb = node_emb[edge_label_index[1]]\n",
    "        preds = self.link_predictor(u_emb, v_emb)\n",
    "\n",
    "        loss = self.loss_fn(preds, edge_label.float())\n",
    "        self.log('val_loss', loss, prog_bar=True)\n",
    "\n",
    "        # Calculate accuracy\n",
    "        preds_binary = (preds > 0.5).int()\n",
    "        acc = self.val_acc(preds_binary, edge_label.int())\n",
    "        self.log('val_acc', acc, prog_bar=True)\n",
    "\n",
    "        # Calculate AUC-ROC\n",
    "        if len(torch.unique(edge_label)) > 1:  # Ensure both classes are present\n",
    "            auc = self.val_auroc(preds, edge_label.int())\n",
    "            self.log('val_auc', auc, prog_bar=True)\n",
    "\n",
    "        return loss\n",
    "    \n",
    "    def test_step(self, batch, batch_idx):\n",
    "        x, edge_index, edge_attr = batch.x, batch.edge_index, batch.edge_attr\n",
    "        edge_label_index, edge_label = batch.edge_label_index, batch.edge_label\n",
    "\n",
    "        node_emb = self.gnn(x, edge_index, edge_attr)\n",
    "        u_emb = node_emb[edge_label_index[0]]\n",
    "        v_emb = node_emb[edge_label_index[1]]\n",
    "        preds = self.link_predictor(u_emb, v_emb)\n",
    "\n",
    "        loss = self.loss_fn(preds, edge_label.float())\n",
    "        self.log('test_loss', loss, prog_bar=True)\n",
    "\n",
    "        # Calculate accuracy\n",
    "        preds_binary = (preds > 0.5).int()\n",
    "        acc = self.test_acc(preds_binary, edge_label.int())\n",
    "        self.log('test_acc', acc, prog_bar=True)\n",
    "\n",
    "        # Calculate AUC-ROC\n",
    "        if len(torch.unique(edge_label)) > 1:\n",
    "            auc = self.test_auroc(preds, edge_label.int())\n",
    "            self.log('test_auc', auc, prog_bar=True)\n",
    "\n",
    "        return loss\n",
    "    \n",
    "    def configure_optimizers(self):\n",
    "        return torch.optim.Adam(\n",
    "            self.parameters(),\n",
    "            lr=self.learning_rate,\n",
    "            weight_decay=self.weight_decay,\n",
    "        )"
   ]
  },
  {
   "cell_type": "code",
   "execution_count": 102,
   "id": "658b1be8",
   "metadata": {},
   "outputs": [],
   "source": [
    "# Function to add reversed edges as negatives to a Data object\n",
    "def add_reversed_negatives(data):\n",
    "    if data.edge_index.size(1) == 0:\n",
    "        return data  # Skip if no edges\n",
    "    original_edges = data.edge_index\n",
    "    reversed_edges = torch.flip(original_edges, dims=[0])\n",
    "    \n",
    "    # Combine original and reversed edges\n",
    "    edge_label_index = torch.cat([original_edges, reversed_edges], dim=1)\n",
    "    edge_label = torch.cat([\n",
    "        torch.ones(original_edges.size(1)),\n",
    "        torch.zeros(reversed_edges.size(1))\n",
    "    ])\n",
    "    \n",
    "    # Use original edge_attr for both directions\n",
    "    edge_label_attr = torch.cat([data.edge_attr, data.edge_attr], dim=0)\n",
    "    \n",
    "    # Shuffle the combined data\n",
    "    perm = torch.randperm(edge_label_index.size(1))\n",
    "    edge_label_index = edge_label_index[:, perm]\n",
    "    edge_label_attr = edge_label_attr[perm]\n",
    "    edge_label = edge_label[perm]\n",
    "    \n",
    "    data.edge_label_index = edge_label_index\n",
    "    data.edge_label_attr = edge_label_attr\n",
    "    data.edge_label = edge_label\n",
    "    return data"
   ]
  },
  {
   "cell_type": "code",
   "execution_count": 103,
   "id": "dba22331",
   "metadata": {},
   "outputs": [],
   "source": [
    "batch_size = 1\n",
    "train_data, val_data, test_data = RandomLinkSplit(num_val=0.1, num_test=0.1)(data)\n",
    "train_data = add_reversed_negatives(train_data)\n",
    "val_data = add_reversed_negatives(val_data)\n",
    "test_data = add_reversed_negatives(test_data)\n",
    "train_loader = DataLoader([train_data], batch_size=batch_size, shuffle=True)\n",
    "val_loader = DataLoader([val_data], batch_size=batch_size, shuffle=False)\n",
    "test_loader = DataLoader([test_data], batch_size=batch_size, shuffle=False)"
   ]
  },
  {
   "cell_type": "code",
   "execution_count": 104,
   "id": "2edc1196",
   "metadata": {},
   "outputs": [
    {
     "name": "stderr",
     "output_type": "stream",
     "text": [
      "GPU available: False, used: False\n",
      "TPU available: False, using: 0 TPU cores\n",
      "HPU available: False, using: 0 HPUs\n",
      "\n",
      "  | Name           | Type           | Params | Mode \n",
      "----------------------------------------------------------\n",
      "0 | gnn            | GNNModel       | 13.8 K | train\n",
      "1 | link_predictor | LinkPredictor  | 8.3 K  | train\n",
      "2 | loss_fn        | BCELoss        | 0      | train\n",
      "3 | train_acc      | BinaryAccuracy | 0      | train\n",
      "4 | val_acc        | BinaryAccuracy | 0      | train\n",
      "5 | test_acc       | BinaryAccuracy | 0      | train\n",
      "6 | train_auroc    | BinaryAUROC    | 0      | train\n",
      "7 | val_auroc      | BinaryAUROC    | 0      | train\n",
      "8 | test_auroc     | BinaryAUROC    | 0      | train\n",
      "----------------------------------------------------------\n",
      "22.1 K    Trainable params\n",
      "0         Non-trainable params\n",
      "22.1 K    Total params\n",
      "0.088     Total estimated model params size (MB)\n",
      "29        Modules in train mode\n",
      "0         Modules in eval mode\n"
     ]
    },
    {
     "name": "stdout",
     "output_type": "stream",
     "text": [
      "                                                                           "
     ]
    },
    {
     "name": "stderr",
     "output_type": "stream",
     "text": [
      "c:\\Users\\rokaa\\egyetem\\basketball_lineup_analysis\\.venv\\lib\\site-packages\\pytorch_lightning\\trainer\\connectors\\data_connector.py:425: The 'val_dataloader' does not have many workers which may be a bottleneck. Consider increasing the value of the `num_workers` argument` to `num_workers=7` in the `DataLoader` to improve performance.\n",
      "c:\\Users\\rokaa\\egyetem\\basketball_lineup_analysis\\.venv\\lib\\site-packages\\pytorch_lightning\\utilities\\data.py:79: Trying to infer the `batch_size` from an ambiguous collection. The batch size we found is 844. To avoid any miscalculations, use `self.log(..., batch_size=batch_size)`.\n",
      "c:\\Users\\rokaa\\egyetem\\basketball_lineup_analysis\\.venv\\lib\\site-packages\\pytorch_lightning\\trainer\\connectors\\data_connector.py:425: The 'train_dataloader' does not have many workers which may be a bottleneck. Consider increasing the value of the `num_workers` argument` to `num_workers=7` in the `DataLoader` to improve performance.\n",
      "c:\\Users\\rokaa\\egyetem\\basketball_lineup_analysis\\.venv\\lib\\site-packages\\pytorch_lightning\\loops\\fit_loop.py:310: The number of training batches (1) is smaller than the logging interval Trainer(log_every_n_steps=50). Set a lower value for log_every_n_steps if you want to see logs for the training epoch.\n"
     ]
    },
    {
     "name": "stdout",
     "output_type": "stream",
     "text": [
      "Epoch 0: 100%|██████████| 1/1 [00:00<00:00, 13.59it/s, v_num=82, train_loss=0.707, train_acc=0.502, train_auc=0.533, val_loss=0.686, val_acc=0.530, val_auc=0.666]"
     ]
    },
    {
     "name": "stderr",
     "output_type": "stream",
     "text": [
      "Metric val_loss improved. New best score: 0.686\n"
     ]
    },
    {
     "name": "stdout",
     "output_type": "stream",
     "text": [
      "Epoch 1: 100%|██████████| 1/1 [00:00<00:00, 15.96it/s, v_num=82, train_loss=0.684, train_acc=0.585, train_auc=0.640, val_loss=0.679, val_acc=0.593, val_auc=0.740]"
     ]
    },
    {
     "name": "stderr",
     "output_type": "stream",
     "text": [
      "Metric val_loss improved by 0.008 >= min_delta = 0.0. New best score: 0.679\n"
     ]
    },
    {
     "name": "stdout",
     "output_type": "stream",
     "text": [
      "Epoch 2: 100%|██████████| 1/1 [00:00<00:00, 16.49it/s, v_num=82, train_loss=0.682, train_acc=0.599, train_auc=0.678, val_loss=0.672, val_acc=0.616, val_auc=0.754]"
     ]
    },
    {
     "name": "stderr",
     "output_type": "stream",
     "text": [
      "Metric val_loss improved by 0.007 >= min_delta = 0.0. New best score: 0.672\n"
     ]
    },
    {
     "name": "stdout",
     "output_type": "stream",
     "text": [
      "Epoch 3: 100%|██████████| 1/1 [00:00<00:00, 16.67it/s, v_num=82, train_loss=0.694, train_acc=0.599, train_auc=0.670, val_loss=0.667, val_acc=0.626, val_auc=0.760]"
     ]
    },
    {
     "name": "stderr",
     "output_type": "stream",
     "text": [
      "Metric val_loss improved by 0.005 >= min_delta = 0.0. New best score: 0.667\n"
     ]
    },
    {
     "name": "stdout",
     "output_type": "stream",
     "text": [
      "Epoch 4: 100%|██████████| 1/1 [00:00<00:00, 17.67it/s, v_num=82, train_loss=0.682, train_acc=0.635, train_auc=0.711, val_loss=0.664, val_acc=0.659, val_auc=0.760]"
     ]
    },
    {
     "name": "stderr",
     "output_type": "stream",
     "text": [
      "Metric val_loss improved by 0.003 >= min_delta = 0.0. New best score: 0.664\n"
     ]
    },
    {
     "name": "stdout",
     "output_type": "stream",
     "text": [
      "Epoch 5: 100%|██████████| 1/1 [00:00<00:00, 16.66it/s, v_num=82, train_loss=0.665, train_acc=0.678, train_auc=0.747, val_loss=0.661, val_acc=0.676, val_auc=0.759]"
     ]
    },
    {
     "name": "stderr",
     "output_type": "stream",
     "text": [
      "Metric val_loss improved by 0.002 >= min_delta = 0.0. New best score: 0.661\n"
     ]
    },
    {
     "name": "stdout",
     "output_type": "stream",
     "text": [
      "Epoch 6: 100%|██████████| 1/1 [00:00<00:00, 15.62it/s, v_num=82, train_loss=0.725, train_acc=0.662, train_auc=0.727, val_loss=0.659, val_acc=0.681, val_auc=0.760]"
     ]
    },
    {
     "name": "stderr",
     "output_type": "stream",
     "text": [
      "Metric val_loss improved by 0.002 >= min_delta = 0.0. New best score: 0.659\n"
     ]
    },
    {
     "name": "stdout",
     "output_type": "stream",
     "text": [
      "Epoch 7: 100%|██████████| 1/1 [00:00<00:00, 16.84it/s, v_num=82, train_loss=0.704, train_acc=0.664, train_auc=0.716, val_loss=0.658, val_acc=0.686, val_auc=0.760]"
     ]
    },
    {
     "name": "stderr",
     "output_type": "stream",
     "text": [
      "Metric val_loss improved by 0.002 >= min_delta = 0.0. New best score: 0.658\n"
     ]
    },
    {
     "name": "stdout",
     "output_type": "stream",
     "text": [
      "Epoch 8: 100%|██████████| 1/1 [00:00<00:00, 18.30it/s, v_num=82, train_loss=0.663, train_acc=0.660, train_auc=0.705, val_loss=0.656, val_acc=0.701, val_auc=0.761]"
     ]
    },
    {
     "name": "stderr",
     "output_type": "stream",
     "text": [
      "Metric val_loss improved by 0.002 >= min_delta = 0.0. New best score: 0.656\n"
     ]
    },
    {
     "name": "stdout",
     "output_type": "stream",
     "text": [
      "Epoch 9: 100%|██████████| 1/1 [00:00<00:00, 18.52it/s, v_num=82, train_loss=0.675, train_acc=0.711, train_auc=0.758, val_loss=0.654, val_acc=0.723, val_auc=0.761]"
     ]
    },
    {
     "name": "stderr",
     "output_type": "stream",
     "text": [
      "Metric val_loss improved by 0.002 >= min_delta = 0.0. New best score: 0.654\n"
     ]
    },
    {
     "name": "stdout",
     "output_type": "stream",
     "text": [
      "Epoch 10: 100%|██████████| 1/1 [00:00<00:00, 17.26it/s, v_num=82, train_loss=0.691, train_acc=0.683, train_auc=0.719, val_loss=0.652, val_acc=0.730, val_auc=0.761]"
     ]
    },
    {
     "name": "stderr",
     "output_type": "stream",
     "text": [
      "Metric val_loss improved by 0.002 >= min_delta = 0.0. New best score: 0.652\n"
     ]
    },
    {
     "name": "stdout",
     "output_type": "stream",
     "text": [
      "Epoch 11: 100%|██████████| 1/1 [00:00<00:00, 16.39it/s, v_num=82, train_loss=0.653, train_acc=0.710, train_auc=0.753, val_loss=0.650, val_acc=0.729, val_auc=0.761]"
     ]
    },
    {
     "name": "stderr",
     "output_type": "stream",
     "text": [
      "Metric val_loss improved by 0.002 >= min_delta = 0.0. New best score: 0.650\n"
     ]
    },
    {
     "name": "stdout",
     "output_type": "stream",
     "text": [
      "Epoch 12: 100%|██████████| 1/1 [00:00<00:00, 13.37it/s, v_num=82, train_loss=0.651, train_acc=0.728, train_auc=0.754, val_loss=0.648, val_acc=0.728, val_auc=0.762]"
     ]
    },
    {
     "name": "stderr",
     "output_type": "stream",
     "text": [
      "Metric val_loss improved by 0.002 >= min_delta = 0.0. New best score: 0.648\n"
     ]
    },
    {
     "name": "stdout",
     "output_type": "stream",
     "text": [
      "Epoch 13: 100%|██████████| 1/1 [00:00<00:00, 14.15it/s, v_num=82, train_loss=0.642, train_acc=0.709, train_auc=0.757, val_loss=0.645, val_acc=0.728, val_auc=0.764]"
     ]
    },
    {
     "name": "stderr",
     "output_type": "stream",
     "text": [
      "Metric val_loss improved by 0.003 >= min_delta = 0.0. New best score: 0.645\n"
     ]
    },
    {
     "name": "stdout",
     "output_type": "stream",
     "text": [
      "Epoch 14: 100%|██████████| 1/1 [00:00<00:00, 13.83it/s, v_num=82, train_loss=0.655, train_acc=0.721, train_auc=0.743, val_loss=0.641, val_acc=0.728, val_auc=0.767]"
     ]
    },
    {
     "name": "stderr",
     "output_type": "stream",
     "text": [
      "Metric val_loss improved by 0.003 >= min_delta = 0.0. New best score: 0.641\n"
     ]
    },
    {
     "name": "stdout",
     "output_type": "stream",
     "text": [
      "Epoch 15: 100%|██████████| 1/1 [00:00<00:00, 16.40it/s, v_num=82, train_loss=0.668, train_acc=0.727, train_auc=0.739, val_loss=0.637, val_acc=0.729, val_auc=0.771]"
     ]
    },
    {
     "name": "stderr",
     "output_type": "stream",
     "text": [
      "Metric val_loss improved by 0.004 >= min_delta = 0.0. New best score: 0.637\n"
     ]
    },
    {
     "name": "stdout",
     "output_type": "stream",
     "text": [
      "Epoch 16: 100%|██████████| 1/1 [00:00<00:00, 16.95it/s, v_num=82, train_loss=0.645, train_acc=0.717, train_auc=0.745, val_loss=0.633, val_acc=0.736, val_auc=0.775]"
     ]
    },
    {
     "name": "stderr",
     "output_type": "stream",
     "text": [
      "Metric val_loss improved by 0.004 >= min_delta = 0.0. New best score: 0.633\n"
     ]
    },
    {
     "name": "stdout",
     "output_type": "stream",
     "text": [
      "Epoch 17: 100%|██████████| 1/1 [00:00<00:00, 16.71it/s, v_num=82, train_loss=0.649, train_acc=0.723, train_auc=0.739, val_loss=0.629, val_acc=0.737, val_auc=0.779]"
     ]
    },
    {
     "name": "stderr",
     "output_type": "stream",
     "text": [
      "Metric val_loss improved by 0.004 >= min_delta = 0.0. New best score: 0.629\n"
     ]
    },
    {
     "name": "stdout",
     "output_type": "stream",
     "text": [
      "Epoch 18: 100%|██████████| 1/1 [00:00<00:00, 17.86it/s, v_num=82, train_loss=0.658, train_acc=0.722, train_auc=0.739, val_loss=0.625, val_acc=0.728, val_auc=0.783]"
     ]
    },
    {
     "name": "stderr",
     "output_type": "stream",
     "text": [
      "Metric val_loss improved by 0.004 >= min_delta = 0.0. New best score: 0.625\n"
     ]
    },
    {
     "name": "stdout",
     "output_type": "stream",
     "text": [
      "Epoch 19: 100%|██████████| 1/1 [00:00<00:00, 18.21it/s, v_num=82, train_loss=0.643, train_acc=0.721, train_auc=0.762, val_loss=0.621, val_acc=0.733, val_auc=0.786]"
     ]
    },
    {
     "name": "stderr",
     "output_type": "stream",
     "text": [
      "Metric val_loss improved by 0.004 >= min_delta = 0.0. New best score: 0.621\n"
     ]
    },
    {
     "name": "stdout",
     "output_type": "stream",
     "text": [
      "Epoch 20: 100%|██████████| 1/1 [00:00<00:00, 16.21it/s, v_num=82, train_loss=0.648, train_acc=0.708, train_auc=0.731, val_loss=0.616, val_acc=0.737, val_auc=0.791]"
     ]
    },
    {
     "name": "stderr",
     "output_type": "stream",
     "text": [
      "Metric val_loss improved by 0.004 >= min_delta = 0.0. New best score: 0.616\n"
     ]
    },
    {
     "name": "stdout",
     "output_type": "stream",
     "text": [
      "Epoch 21: 100%|██████████| 1/1 [00:00<00:00, 13.83it/s, v_num=82, train_loss=0.615, train_acc=0.732, train_auc=0.778, val_loss=0.611, val_acc=0.736, val_auc=0.793]"
     ]
    },
    {
     "name": "stderr",
     "output_type": "stream",
     "text": [
      "Metric val_loss improved by 0.005 >= min_delta = 0.0. New best score: 0.611\n"
     ]
    },
    {
     "name": "stdout",
     "output_type": "stream",
     "text": [
      "Epoch 22: 100%|██████████| 1/1 [00:00<00:00, 13.71it/s, v_num=82, train_loss=0.640, train_acc=0.718, train_auc=0.738, val_loss=0.607, val_acc=0.735, val_auc=0.798]"
     ]
    },
    {
     "name": "stderr",
     "output_type": "stream",
     "text": [
      "Metric val_loss improved by 0.004 >= min_delta = 0.0. New best score: 0.607\n"
     ]
    },
    {
     "name": "stdout",
     "output_type": "stream",
     "text": [
      "Epoch 23: 100%|██████████| 1/1 [00:00<00:00, 15.16it/s, v_num=82, train_loss=0.627, train_acc=0.723, train_auc=0.766, val_loss=0.602, val_acc=0.735, val_auc=0.801]"
     ]
    },
    {
     "name": "stderr",
     "output_type": "stream",
     "text": [
      "Metric val_loss improved by 0.005 >= min_delta = 0.0. New best score: 0.602\n"
     ]
    },
    {
     "name": "stdout",
     "output_type": "stream",
     "text": [
      "Epoch 24: 100%|██████████| 1/1 [00:00<00:00, 13.87it/s, v_num=82, train_loss=0.624, train_acc=0.721, train_auc=0.768, val_loss=0.596, val_acc=0.735, val_auc=0.802]"
     ]
    },
    {
     "name": "stderr",
     "output_type": "stream",
     "text": [
      "Metric val_loss improved by 0.006 >= min_delta = 0.0. New best score: 0.596\n"
     ]
    },
    {
     "name": "stdout",
     "output_type": "stream",
     "text": [
      "Epoch 25: 100%|██████████| 1/1 [00:00<00:00, 15.46it/s, v_num=82, train_loss=0.623, train_acc=0.720, train_auc=0.746, val_loss=0.590, val_acc=0.740, val_auc=0.804]"
     ]
    },
    {
     "name": "stderr",
     "output_type": "stream",
     "text": [
      "Metric val_loss improved by 0.006 >= min_delta = 0.0. New best score: 0.590\n"
     ]
    },
    {
     "name": "stdout",
     "output_type": "stream",
     "text": [
      "Epoch 26: 100%|██████████| 1/1 [00:00<00:00, 17.89it/s, v_num=82, train_loss=0.617, train_acc=0.727, train_auc=0.765, val_loss=0.585, val_acc=0.741, val_auc=0.807]"
     ]
    },
    {
     "name": "stderr",
     "output_type": "stream",
     "text": [
      "Metric val_loss improved by 0.006 >= min_delta = 0.0. New best score: 0.585\n"
     ]
    },
    {
     "name": "stdout",
     "output_type": "stream",
     "text": [
      "Epoch 27: 100%|██████████| 1/1 [00:00<00:00, 17.72it/s, v_num=82, train_loss=0.606, train_acc=0.728, train_auc=0.767, val_loss=0.578, val_acc=0.746, val_auc=0.808]"
     ]
    },
    {
     "name": "stderr",
     "output_type": "stream",
     "text": [
      "Metric val_loss improved by 0.006 >= min_delta = 0.0. New best score: 0.578\n"
     ]
    },
    {
     "name": "stdout",
     "output_type": "stream",
     "text": [
      "Epoch 28: 100%|██████████| 1/1 [00:00<00:00,  6.43it/s, v_num=82, train_loss=0.590, train_acc=0.758, train_auc=0.805, val_loss=0.572, val_acc=0.745, val_auc=0.810]"
     ]
    },
    {
     "name": "stderr",
     "output_type": "stream",
     "text": [
      "Metric val_loss improved by 0.007 >= min_delta = 0.0. New best score: 0.572\n"
     ]
    },
    {
     "name": "stdout",
     "output_type": "stream",
     "text": [
      "Epoch 29: 100%|██████████| 1/1 [00:00<00:00, 15.63it/s, v_num=82, train_loss=0.616, train_acc=0.735, train_auc=0.762, val_loss=0.565, val_acc=0.746, val_auc=0.814]"
     ]
    },
    {
     "name": "stderr",
     "output_type": "stream",
     "text": [
      "Metric val_loss improved by 0.007 >= min_delta = 0.0. New best score: 0.565\n"
     ]
    },
    {
     "name": "stdout",
     "output_type": "stream",
     "text": [
      "Epoch 30: 100%|██████████| 1/1 [00:00<00:00, 17.48it/s, v_num=82, train_loss=0.582, train_acc=0.737, train_auc=0.786, val_loss=0.559, val_acc=0.745, val_auc=0.818]"
     ]
    },
    {
     "name": "stderr",
     "output_type": "stream",
     "text": [
      "Metric val_loss improved by 0.006 >= min_delta = 0.0. New best score: 0.559\n"
     ]
    },
    {
     "name": "stdout",
     "output_type": "stream",
     "text": [
      "Epoch 31: 100%|██████████| 1/1 [00:00<00:00, 16.67it/s, v_num=82, train_loss=0.586, train_acc=0.727, train_auc=0.780, val_loss=0.553, val_acc=0.751, val_auc=0.824]"
     ]
    },
    {
     "name": "stderr",
     "output_type": "stream",
     "text": [
      "Metric val_loss improved by 0.006 >= min_delta = 0.0. New best score: 0.553\n"
     ]
    },
    {
     "name": "stdout",
     "output_type": "stream",
     "text": [
      "Epoch 32: 100%|██████████| 1/1 [00:00<00:00, 12.44it/s, v_num=82, train_loss=0.602, train_acc=0.737, train_auc=0.769, val_loss=0.548, val_acc=0.752, val_auc=0.828]"
     ]
    },
    {
     "name": "stderr",
     "output_type": "stream",
     "text": [
      "Metric val_loss improved by 0.005 >= min_delta = 0.0. New best score: 0.548\n"
     ]
    },
    {
     "name": "stdout",
     "output_type": "stream",
     "text": [
      "Epoch 33: 100%|██████████| 1/1 [00:00<00:00, 16.01it/s, v_num=82, train_loss=0.569, train_acc=0.740, train_auc=0.797, val_loss=0.543, val_acc=0.751, val_auc=0.830]"
     ]
    },
    {
     "name": "stderr",
     "output_type": "stream",
     "text": [
      "Metric val_loss improved by 0.005 >= min_delta = 0.0. New best score: 0.543\n"
     ]
    },
    {
     "name": "stdout",
     "output_type": "stream",
     "text": [
      "Epoch 34: 100%|██████████| 1/1 [00:00<00:00, 17.60it/s, v_num=82, train_loss=0.549, train_acc=0.761, train_auc=0.815, val_loss=0.538, val_acc=0.752, val_auc=0.830]"
     ]
    },
    {
     "name": "stderr",
     "output_type": "stream",
     "text": [
      "Metric val_loss improved by 0.005 >= min_delta = 0.0. New best score: 0.538\n"
     ]
    },
    {
     "name": "stdout",
     "output_type": "stream",
     "text": [
      "Epoch 35: 100%|██████████| 1/1 [00:00<00:00, 16.71it/s, v_num=82, train_loss=0.554, train_acc=0.746, train_auc=0.816, val_loss=0.533, val_acc=0.752, val_auc=0.830]"
     ]
    },
    {
     "name": "stderr",
     "output_type": "stream",
     "text": [
      "Metric val_loss improved by 0.004 >= min_delta = 0.0. New best score: 0.533\n"
     ]
    },
    {
     "name": "stdout",
     "output_type": "stream",
     "text": [
      "Epoch 36: 100%|██████████| 1/1 [00:00<00:00, 13.05it/s, v_num=82, train_loss=0.549, train_acc=0.738, train_auc=0.808, val_loss=0.529, val_acc=0.753, val_auc=0.831]"
     ]
    },
    {
     "name": "stderr",
     "output_type": "stream",
     "text": [
      "Metric val_loss improved by 0.004 >= min_delta = 0.0. New best score: 0.529\n"
     ]
    },
    {
     "name": "stdout",
     "output_type": "stream",
     "text": [
      "Epoch 37: 100%|██████████| 1/1 [00:00<00:00, 13.29it/s, v_num=82, train_loss=0.552, train_acc=0.726, train_auc=0.795, val_loss=0.527, val_acc=0.751, val_auc=0.831]"
     ]
    },
    {
     "name": "stderr",
     "output_type": "stream",
     "text": [
      "Metric val_loss improved by 0.003 >= min_delta = 0.0. New best score: 0.527\n"
     ]
    },
    {
     "name": "stdout",
     "output_type": "stream",
     "text": [
      "Epoch 38: 100%|██████████| 1/1 [00:00<00:00, 13.29it/s, v_num=82, train_loss=0.556, train_acc=0.747, train_auc=0.811, val_loss=0.525, val_acc=0.747, val_auc=0.833]"
     ]
    },
    {
     "name": "stderr",
     "output_type": "stream",
     "text": [
      "Metric val_loss improved by 0.002 >= min_delta = 0.0. New best score: 0.525\n"
     ]
    },
    {
     "name": "stdout",
     "output_type": "stream",
     "text": [
      "Epoch 39: 100%|██████████| 1/1 [00:00<00:00, 13.08it/s, v_num=82, train_loss=0.566, train_acc=0.737, train_auc=0.788, val_loss=0.524, val_acc=0.746, val_auc=0.833]"
     ]
    },
    {
     "name": "stderr",
     "output_type": "stream",
     "text": [
      "Metric val_loss improved by 0.001 >= min_delta = 0.0. New best score: 0.524\n"
     ]
    },
    {
     "name": "stdout",
     "output_type": "stream",
     "text": [
      "Epoch 44: 100%|██████████| 1/1 [00:00<00:00, 17.54it/s, v_num=82, train_loss=0.535, train_acc=0.730, train_auc=0.817, val_loss=0.520, val_acc=0.758, val_auc=0.837]"
     ]
    },
    {
     "name": "stderr",
     "output_type": "stream",
     "text": [
      "Metric val_loss improved by 0.004 >= min_delta = 0.0. New best score: 0.520\n"
     ]
    },
    {
     "name": "stdout",
     "output_type": "stream",
     "text": [
      "Epoch 45: 100%|██████████| 1/1 [00:00<00:00, 11.85it/s, v_num=82, train_loss=0.550, train_acc=0.742, train_auc=0.810, val_loss=0.516, val_acc=0.759, val_auc=0.839]"
     ]
    },
    {
     "name": "stderr",
     "output_type": "stream",
     "text": [
      "Metric val_loss improved by 0.005 >= min_delta = 0.0. New best score: 0.516\n"
     ]
    },
    {
     "name": "stdout",
     "output_type": "stream",
     "text": [
      "Epoch 46: 100%|██████████| 1/1 [00:00<00:00, 11.67it/s, v_num=82, train_loss=0.527, train_acc=0.757, train_auc=0.827, val_loss=0.510, val_acc=0.759, val_auc=0.841]"
     ]
    },
    {
     "name": "stderr",
     "output_type": "stream",
     "text": [
      "Metric val_loss improved by 0.006 >= min_delta = 0.0. New best score: 0.510\n"
     ]
    },
    {
     "name": "stdout",
     "output_type": "stream",
     "text": [
      "Epoch 47: 100%|██████████| 1/1 [00:00<00:00,  4.49it/s, v_num=82, train_loss=0.524, train_acc=0.736, train_auc=0.821, val_loss=0.504, val_acc=0.761, val_auc=0.843]"
     ]
    },
    {
     "name": "stderr",
     "output_type": "stream",
     "text": [
      "Metric val_loss improved by 0.005 >= min_delta = 0.0. New best score: 0.504\n"
     ]
    },
    {
     "name": "stdout",
     "output_type": "stream",
     "text": [
      "Epoch 48: 100%|██████████| 1/1 [00:00<00:00, 12.79it/s, v_num=82, train_loss=0.531, train_acc=0.747, train_auc=0.814, val_loss=0.500, val_acc=0.759, val_auc=0.845]"
     ]
    },
    {
     "name": "stderr",
     "output_type": "stream",
     "text": [
      "Metric val_loss improved by 0.004 >= min_delta = 0.0. New best score: 0.500\n"
     ]
    },
    {
     "name": "stdout",
     "output_type": "stream",
     "text": [
      "Epoch 49: 100%|██████████| 1/1 [00:00<00:00, 11.28it/s, v_num=82, train_loss=0.537, train_acc=0.753, train_auc=0.819, val_loss=0.496, val_acc=0.760, val_auc=0.847]"
     ]
    },
    {
     "name": "stderr",
     "output_type": "stream",
     "text": [
      "Metric val_loss improved by 0.004 >= min_delta = 0.0. New best score: 0.496\n"
     ]
    },
    {
     "name": "stdout",
     "output_type": "stream",
     "text": [
      "Epoch 50: 100%|██████████| 1/1 [00:00<00:00, 12.99it/s, v_num=82, train_loss=0.532, train_acc=0.764, train_auc=0.828, val_loss=0.492, val_acc=0.758, val_auc=0.849]"
     ]
    },
    {
     "name": "stderr",
     "output_type": "stream",
     "text": [
      "Metric val_loss improved by 0.004 >= min_delta = 0.0. New best score: 0.492\n"
     ]
    },
    {
     "name": "stdout",
     "output_type": "stream",
     "text": [
      "Epoch 51: 100%|██████████| 1/1 [00:00<00:00, 12.18it/s, v_num=82, train_loss=0.504, train_acc=0.740, train_auc=0.837, val_loss=0.488, val_acc=0.756, val_auc=0.852]"
     ]
    },
    {
     "name": "stderr",
     "output_type": "stream",
     "text": [
      "Metric val_loss improved by 0.004 >= min_delta = 0.0. New best score: 0.488\n"
     ]
    },
    {
     "name": "stdout",
     "output_type": "stream",
     "text": [
      "Epoch 52: 100%|██████████| 1/1 [00:00<00:00,  9.69it/s, v_num=82, train_loss=0.505, train_acc=0.756, train_auc=0.836, val_loss=0.484, val_acc=0.758, val_auc=0.854]"
     ]
    },
    {
     "name": "stderr",
     "output_type": "stream",
     "text": [
      "Metric val_loss improved by 0.004 >= min_delta = 0.0. New best score: 0.484\n"
     ]
    },
    {
     "name": "stdout",
     "output_type": "stream",
     "text": [
      "Epoch 53: 100%|██████████| 1/1 [00:00<00:00, 11.76it/s, v_num=82, train_loss=0.525, train_acc=0.746, train_auc=0.820, val_loss=0.480, val_acc=0.758, val_auc=0.857]"
     ]
    },
    {
     "name": "stderr",
     "output_type": "stream",
     "text": [
      "Metric val_loss improved by 0.004 >= min_delta = 0.0. New best score: 0.480\n"
     ]
    },
    {
     "name": "stdout",
     "output_type": "stream",
     "text": [
      "Epoch 54: 100%|██████████| 1/1 [00:00<00:00, 10.42it/s, v_num=82, train_loss=0.519, train_acc=0.752, train_auc=0.829, val_loss=0.477, val_acc=0.758, val_auc=0.860]"
     ]
    },
    {
     "name": "stderr",
     "output_type": "stream",
     "text": [
      "Metric val_loss improved by 0.003 >= min_delta = 0.0. New best score: 0.477\n"
     ]
    },
    {
     "name": "stdout",
     "output_type": "stream",
     "text": [
      "Epoch 55: 100%|██████████| 1/1 [00:00<00:00, 12.50it/s, v_num=82, train_loss=0.506, train_acc=0.761, train_auc=0.840, val_loss=0.474, val_acc=0.760, val_auc=0.863]"
     ]
    },
    {
     "name": "stderr",
     "output_type": "stream",
     "text": [
      "Metric val_loss improved by 0.003 >= min_delta = 0.0. New best score: 0.474\n"
     ]
    },
    {
     "name": "stdout",
     "output_type": "stream",
     "text": [
      "Epoch 56: 100%|██████████| 1/1 [00:00<00:00, 10.86it/s, v_num=82, train_loss=0.509, train_acc=0.761, train_auc=0.836, val_loss=0.472, val_acc=0.760, val_auc=0.865]"
     ]
    },
    {
     "name": "stderr",
     "output_type": "stream",
     "text": [
      "Metric val_loss improved by 0.002 >= min_delta = 0.0. New best score: 0.472\n"
     ]
    },
    {
     "name": "stdout",
     "output_type": "stream",
     "text": [
      "Epoch 57: 100%|██████████| 1/1 [00:00<00:00, 12.70it/s, v_num=82, train_loss=0.516, train_acc=0.751, train_auc=0.828, val_loss=0.471, val_acc=0.767, val_auc=0.868]"
     ]
    },
    {
     "name": "stderr",
     "output_type": "stream",
     "text": [
      "Metric val_loss improved by 0.002 >= min_delta = 0.0. New best score: 0.471\n"
     ]
    },
    {
     "name": "stdout",
     "output_type": "stream",
     "text": [
      "Epoch 58: 100%|██████████| 1/1 [00:00<00:00, 11.76it/s, v_num=82, train_loss=0.485, train_acc=0.769, train_auc=0.856, val_loss=0.467, val_acc=0.769, val_auc=0.871]"
     ]
    },
    {
     "name": "stderr",
     "output_type": "stream",
     "text": [
      "Metric val_loss improved by 0.004 >= min_delta = 0.0. New best score: 0.467\n"
     ]
    },
    {
     "name": "stdout",
     "output_type": "stream",
     "text": [
      "Epoch 59: 100%|██████████| 1/1 [00:00<00:00,  4.50it/s, v_num=82, train_loss=0.503, train_acc=0.746, train_auc=0.839, val_loss=0.466, val_acc=0.772, val_auc=0.873]"
     ]
    },
    {
     "name": "stderr",
     "output_type": "stream",
     "text": [
      "Metric val_loss improved by 0.001 >= min_delta = 0.0. New best score: 0.466\n"
     ]
    },
    {
     "name": "stdout",
     "output_type": "stream",
     "text": [
      "Epoch 60: 100%|██████████| 1/1 [00:00<00:00, 13.38it/s, v_num=82, train_loss=0.494, train_acc=0.761, train_auc=0.849, val_loss=0.463, val_acc=0.773, val_auc=0.875]"
     ]
    },
    {
     "name": "stderr",
     "output_type": "stream",
     "text": [
      "Metric val_loss improved by 0.003 >= min_delta = 0.0. New best score: 0.463\n"
     ]
    },
    {
     "name": "stdout",
     "output_type": "stream",
     "text": [
      "Epoch 61: 100%|██████████| 1/1 [00:00<00:00, 13.52it/s, v_num=82, train_loss=0.517, train_acc=0.736, train_auc=0.825, val_loss=0.460, val_acc=0.775, val_auc=0.877]"
     ]
    },
    {
     "name": "stderr",
     "output_type": "stream",
     "text": [
      "Metric val_loss improved by 0.003 >= min_delta = 0.0. New best score: 0.460\n"
     ]
    },
    {
     "name": "stdout",
     "output_type": "stream",
     "text": [
      "Epoch 62: 100%|██████████| 1/1 [00:00<00:00, 12.33it/s, v_num=82, train_loss=0.480, train_acc=0.754, train_auc=0.850, val_loss=0.456, val_acc=0.776, val_auc=0.878]"
     ]
    },
    {
     "name": "stderr",
     "output_type": "stream",
     "text": [
      "Metric val_loss improved by 0.004 >= min_delta = 0.0. New best score: 0.456\n"
     ]
    },
    {
     "name": "stdout",
     "output_type": "stream",
     "text": [
      "Epoch 63: 100%|██████████| 1/1 [00:00<00:00, 12.52it/s, v_num=82, train_loss=0.498, train_acc=0.752, train_auc=0.839, val_loss=0.451, val_acc=0.777, val_auc=0.879]"
     ]
    },
    {
     "name": "stderr",
     "output_type": "stream",
     "text": [
      "Metric val_loss improved by 0.005 >= min_delta = 0.0. New best score: 0.451\n"
     ]
    },
    {
     "name": "stdout",
     "output_type": "stream",
     "text": [
      "Epoch 64: 100%|██████████| 1/1 [00:00<00:00, 12.28it/s, v_num=82, train_loss=0.490, train_acc=0.745, train_auc=0.848, val_loss=0.447, val_acc=0.779, val_auc=0.881]"
     ]
    },
    {
     "name": "stderr",
     "output_type": "stream",
     "text": [
      "Metric val_loss improved by 0.004 >= min_delta = 0.0. New best score: 0.447\n"
     ]
    },
    {
     "name": "stdout",
     "output_type": "stream",
     "text": [
      "Epoch 65: 100%|██████████| 1/1 [00:00<00:00, 11.43it/s, v_num=82, train_loss=0.463, train_acc=0.755, train_auc=0.862, val_loss=0.440, val_acc=0.779, val_auc=0.882]"
     ]
    },
    {
     "name": "stderr",
     "output_type": "stream",
     "text": [
      "Metric val_loss improved by 0.007 >= min_delta = 0.0. New best score: 0.440\n"
     ]
    },
    {
     "name": "stdout",
     "output_type": "stream",
     "text": [
      "Epoch 66: 100%|██████████| 1/1 [00:00<00:00, 12.18it/s, v_num=82, train_loss=0.463, train_acc=0.750, train_auc=0.859, val_loss=0.432, val_acc=0.773, val_auc=0.883]"
     ]
    },
    {
     "name": "stderr",
     "output_type": "stream",
     "text": [
      "Metric val_loss improved by 0.008 >= min_delta = 0.0. New best score: 0.432\n"
     ]
    },
    {
     "name": "stdout",
     "output_type": "stream",
     "text": [
      "Epoch 67: 100%|██████████| 1/1 [00:00<00:00, 12.91it/s, v_num=82, train_loss=0.477, train_acc=0.763, train_auc=0.856, val_loss=0.425, val_acc=0.772, val_auc=0.884]"
     ]
    },
    {
     "name": "stderr",
     "output_type": "stream",
     "text": [
      "Metric val_loss improved by 0.006 >= min_delta = 0.0. New best score: 0.425\n"
     ]
    },
    {
     "name": "stdout",
     "output_type": "stream",
     "text": [
      "Epoch 68: 100%|██████████| 1/1 [00:00<00:00, 15.63it/s, v_num=82, train_loss=0.475, train_acc=0.769, train_auc=0.859, val_loss=0.422, val_acc=0.772, val_auc=0.886]"
     ]
    },
    {
     "name": "stderr",
     "output_type": "stream",
     "text": [
      "Metric val_loss improved by 0.004 >= min_delta = 0.0. New best score: 0.422\n"
     ]
    },
    {
     "name": "stdout",
     "output_type": "stream",
     "text": [
      "Epoch 69: 100%|██████████| 1/1 [00:00<00:00, 12.72it/s, v_num=82, train_loss=0.477, train_acc=0.751, train_auc=0.858, val_loss=0.419, val_acc=0.773, val_auc=0.888]"
     ]
    },
    {
     "name": "stderr",
     "output_type": "stream",
     "text": [
      "Metric val_loss improved by 0.003 >= min_delta = 0.0. New best score: 0.419\n"
     ]
    },
    {
     "name": "stdout",
     "output_type": "stream",
     "text": [
      "Epoch 75: 100%|██████████| 1/1 [00:00<00:00, 16.64it/s, v_num=82, train_loss=0.452, train_acc=0.759, train_auc=0.863, val_loss=0.415, val_acc=0.788, val_auc=0.896]"
     ]
    },
    {
     "name": "stderr",
     "output_type": "stream",
     "text": [
      "Metric val_loss improved by 0.004 >= min_delta = 0.0. New best score: 0.415\n"
     ]
    },
    {
     "name": "stdout",
     "output_type": "stream",
     "text": [
      "Epoch 76: 100%|██████████| 1/1 [00:00<00:00,  5.04it/s, v_num=82, train_loss=0.443, train_acc=0.778, train_auc=0.872, val_loss=0.408, val_acc=0.785, val_auc=0.897]"
     ]
    },
    {
     "name": "stderr",
     "output_type": "stream",
     "text": [
      "Metric val_loss improved by 0.007 >= min_delta = 0.0. New best score: 0.408\n"
     ]
    },
    {
     "name": "stdout",
     "output_type": "stream",
     "text": [
      "Epoch 77: 100%|██████████| 1/1 [00:00<00:00, 14.65it/s, v_num=82, train_loss=0.446, train_acc=0.759, train_auc=0.868, val_loss=0.402, val_acc=0.788, val_auc=0.899]"
     ]
    },
    {
     "name": "stderr",
     "output_type": "stream",
     "text": [
      "Metric val_loss improved by 0.006 >= min_delta = 0.0. New best score: 0.402\n"
     ]
    },
    {
     "name": "stdout",
     "output_type": "stream",
     "text": [
      "Epoch 78: 100%|██████████| 1/1 [00:00<00:00, 14.76it/s, v_num=82, train_loss=0.428, train_acc=0.754, train_auc=0.873, val_loss=0.395, val_acc=0.792, val_auc=0.900]"
     ]
    },
    {
     "name": "stderr",
     "output_type": "stream",
     "text": [
      "Metric val_loss improved by 0.007 >= min_delta = 0.0. New best score: 0.395\n"
     ]
    },
    {
     "name": "stdout",
     "output_type": "stream",
     "text": [
      "Epoch 79: 100%|██████████| 1/1 [00:00<00:00, 13.65it/s, v_num=82, train_loss=0.432, train_acc=0.783, train_auc=0.879, val_loss=0.390, val_acc=0.790, val_auc=0.901]"
     ]
    },
    {
     "name": "stderr",
     "output_type": "stream",
     "text": [
      "Metric val_loss improved by 0.004 >= min_delta = 0.0. New best score: 0.390\n"
     ]
    },
    {
     "name": "stdout",
     "output_type": "stream",
     "text": [
      "Epoch 80: 100%|██████████| 1/1 [00:00<00:00, 13.52it/s, v_num=82, train_loss=0.404, train_acc=0.786, train_auc=0.892, val_loss=0.385, val_acc=0.793, val_auc=0.903]"
     ]
    },
    {
     "name": "stderr",
     "output_type": "stream",
     "text": [
      "Metric val_loss improved by 0.005 >= min_delta = 0.0. New best score: 0.385\n"
     ]
    },
    {
     "name": "stdout",
     "output_type": "stream",
     "text": [
      "Epoch 81: 100%|██████████| 1/1 [00:00<00:00,  8.51it/s, v_num=82, train_loss=0.403, train_acc=0.779, train_auc=0.888, val_loss=0.379, val_acc=0.792, val_auc=0.905]"
     ]
    },
    {
     "name": "stderr",
     "output_type": "stream",
     "text": [
      "Metric val_loss improved by 0.006 >= min_delta = 0.0. New best score: 0.379\n"
     ]
    },
    {
     "name": "stdout",
     "output_type": "stream",
     "text": [
      "Epoch 82: 100%|██████████| 1/1 [00:00<00:00,  9.35it/s, v_num=82, train_loss=0.423, train_acc=0.766, train_auc=0.878, val_loss=0.374, val_acc=0.797, val_auc=0.907]"
     ]
    },
    {
     "name": "stderr",
     "output_type": "stream",
     "text": [
      "Metric val_loss improved by 0.005 >= min_delta = 0.0. New best score: 0.374\n"
     ]
    },
    {
     "name": "stdout",
     "output_type": "stream",
     "text": [
      "Epoch 83: 100%|██████████| 1/1 [00:00<00:00,  9.65it/s, v_num=82, train_loss=0.411, train_acc=0.782, train_auc=0.886, val_loss=0.370, val_acc=0.797, val_auc=0.910]"
     ]
    },
    {
     "name": "stderr",
     "output_type": "stream",
     "text": [
      "Metric val_loss improved by 0.004 >= min_delta = 0.0. New best score: 0.370\n"
     ]
    },
    {
     "name": "stdout",
     "output_type": "stream",
     "text": [
      "Epoch 84: 100%|██████████| 1/1 [00:00<00:00, 11.76it/s, v_num=82, train_loss=0.417, train_acc=0.772, train_auc=0.880, val_loss=0.368, val_acc=0.805, val_auc=0.913]"
     ]
    },
    {
     "name": "stderr",
     "output_type": "stream",
     "text": [
      "Metric val_loss improved by 0.002 >= min_delta = 0.0. New best score: 0.368\n"
     ]
    },
    {
     "name": "stdout",
     "output_type": "stream",
     "text": [
      "Epoch 85: 100%|██████████| 1/1 [00:00<00:00, 12.85it/s, v_num=82, train_loss=0.411, train_acc=0.754, train_auc=0.878, val_loss=0.367, val_acc=0.807, val_auc=0.916]"
     ]
    },
    {
     "name": "stderr",
     "output_type": "stream",
     "text": [
      "Metric val_loss improved by 0.001 >= min_delta = 0.0. New best score: 0.367\n"
     ]
    },
    {
     "name": "stdout",
     "output_type": "stream",
     "text": [
      "Epoch 93: 100%|██████████| 1/1 [00:00<00:00, 15.38it/s, v_num=82, train_loss=0.377, train_acc=0.782, train_auc=0.892, val_loss=0.359, val_acc=0.818, val_auc=0.924]"
     ]
    },
    {
     "name": "stderr",
     "output_type": "stream",
     "text": [
      "Metric val_loss improved by 0.008 >= min_delta = 0.0. New best score: 0.359\n"
     ]
    },
    {
     "name": "stdout",
     "output_type": "stream",
     "text": [
      "Epoch 94: 100%|██████████| 1/1 [00:00<00:00,  4.13it/s, v_num=82, train_loss=0.376, train_acc=0.792, train_auc=0.901, val_loss=0.349, val_acc=0.824, val_auc=0.926]"
     ]
    },
    {
     "name": "stderr",
     "output_type": "stream",
     "text": [
      "Metric val_loss improved by 0.010 >= min_delta = 0.0. New best score: 0.349\n"
     ]
    },
    {
     "name": "stdout",
     "output_type": "stream",
     "text": [
      "Epoch 95: 100%|██████████| 1/1 [00:00<00:00, 13.89it/s, v_num=82, train_loss=0.364, train_acc=0.795, train_auc=0.905, val_loss=0.340, val_acc=0.823, val_auc=0.927]"
     ]
    },
    {
     "name": "stderr",
     "output_type": "stream",
     "text": [
      "Metric val_loss improved by 0.009 >= min_delta = 0.0. New best score: 0.340\n"
     ]
    },
    {
     "name": "stdout",
     "output_type": "stream",
     "text": [
      "Epoch 96: 100%|██████████| 1/1 [00:00<00:00, 13.62it/s, v_num=82, train_loss=0.368, train_acc=0.784, train_auc=0.900, val_loss=0.333, val_acc=0.821, val_auc=0.929]"
     ]
    },
    {
     "name": "stderr",
     "output_type": "stream",
     "text": [
      "Metric val_loss improved by 0.007 >= min_delta = 0.0. New best score: 0.333\n"
     ]
    },
    {
     "name": "stdout",
     "output_type": "stream",
     "text": [
      "Epoch 97: 100%|██████████| 1/1 [00:00<00:00, 14.73it/s, v_num=82, train_loss=0.396, train_acc=0.784, train_auc=0.895, val_loss=0.331, val_acc=0.821, val_auc=0.930]"
     ]
    },
    {
     "name": "stderr",
     "output_type": "stream",
     "text": [
      "Metric val_loss improved by 0.003 >= min_delta = 0.0. New best score: 0.331\n"
     ]
    },
    {
     "name": "stdout",
     "output_type": "stream",
     "text": [
      "Epoch 105: 100%|██████████| 1/1 [00:00<00:00, 16.88it/s, v_num=82, train_loss=0.349, train_acc=0.804, train_auc=0.912, val_loss=0.330, val_acc=0.821, val_auc=0.932]"
     ]
    },
    {
     "name": "stderr",
     "output_type": "stream",
     "text": [
      "Metric val_loss improved by 0.001 >= min_delta = 0.0. New best score: 0.330\n"
     ]
    },
    {
     "name": "stdout",
     "output_type": "stream",
     "text": [
      "Epoch 106: 100%|██████████| 1/1 [00:00<00:00, 13.75it/s, v_num=82, train_loss=0.346, train_acc=0.824, train_auc=0.921, val_loss=0.321, val_acc=0.821, val_auc=0.933]"
     ]
    },
    {
     "name": "stderr",
     "output_type": "stream",
     "text": [
      "Metric val_loss improved by 0.009 >= min_delta = 0.0. New best score: 0.321\n"
     ]
    },
    {
     "name": "stdout",
     "output_type": "stream",
     "text": [
      "Epoch 107: 100%|██████████| 1/1 [00:00<00:00, 12.60it/s, v_num=82, train_loss=0.351, train_acc=0.796, train_auc=0.909, val_loss=0.315, val_acc=0.820, val_auc=0.933]"
     ]
    },
    {
     "name": "stderr",
     "output_type": "stream",
     "text": [
      "Metric val_loss improved by 0.006 >= min_delta = 0.0. New best score: 0.315\n"
     ]
    },
    {
     "name": "stdout",
     "output_type": "stream",
     "text": [
      "Epoch 108: 100%|██████████| 1/1 [00:00<00:00, 12.92it/s, v_num=82, train_loss=0.335, train_acc=0.804, train_auc=0.916, val_loss=0.311, val_acc=0.816, val_auc=0.934]"
     ]
    },
    {
     "name": "stderr",
     "output_type": "stream",
     "text": [
      "Metric val_loss improved by 0.004 >= min_delta = 0.0. New best score: 0.311\n"
     ]
    },
    {
     "name": "stdout",
     "output_type": "stream",
     "text": [
      "Epoch 109: 100%|██████████| 1/1 [00:00<00:00, 12.08it/s, v_num=82, train_loss=0.334, train_acc=0.812, train_auc=0.918, val_loss=0.310, val_acc=0.820, val_auc=0.936]"
     ]
    },
    {
     "name": "stderr",
     "output_type": "stream",
     "text": [
      "Metric val_loss improved by 0.001 >= min_delta = 0.0. New best score: 0.310\n"
     ]
    },
    {
     "name": "stdout",
     "output_type": "stream",
     "text": [
      "Epoch 117: 100%|██████████| 1/1 [00:00<00:00,  5.49it/s, v_num=82, train_loss=0.327, train_acc=0.822, train_auc=0.925, val_loss=0.300, val_acc=0.833, val_auc=0.939]"
     ]
    },
    {
     "name": "stderr",
     "output_type": "stream",
     "text": [
      "Metric val_loss improved by 0.010 >= min_delta = 0.0. New best score: 0.300\n"
     ]
    },
    {
     "name": "stdout",
     "output_type": "stream",
     "text": [
      "Epoch 118: 100%|██████████| 1/1 [00:00<00:00, 13.93it/s, v_num=82, train_loss=0.342, train_acc=0.796, train_auc=0.912, val_loss=0.294, val_acc=0.832, val_auc=0.939]"
     ]
    },
    {
     "name": "stderr",
     "output_type": "stream",
     "text": [
      "Metric val_loss improved by 0.006 >= min_delta = 0.0. New best score: 0.294\n"
     ]
    },
    {
     "name": "stdout",
     "output_type": "stream",
     "text": [
      "Epoch 119: 100%|██████████| 1/1 [00:00<00:00, 12.99it/s, v_num=82, train_loss=0.305, train_acc=0.815, train_auc=0.931, val_loss=0.287, val_acc=0.834, val_auc=0.939]"
     ]
    },
    {
     "name": "stderr",
     "output_type": "stream",
     "text": [
      "Metric val_loss improved by 0.007 >= min_delta = 0.0. New best score: 0.287\n"
     ]
    },
    {
     "name": "stdout",
     "output_type": "stream",
     "text": [
      "Epoch 120: 100%|██████████| 1/1 [00:00<00:00, 12.15it/s, v_num=82, train_loss=0.326, train_acc=0.815, train_auc=0.921, val_loss=0.286, val_acc=0.838, val_auc=0.939]"
     ]
    },
    {
     "name": "stderr",
     "output_type": "stream",
     "text": [
      "Metric val_loss improved by 0.001 >= min_delta = 0.0. New best score: 0.286\n"
     ]
    },
    {
     "name": "stdout",
     "output_type": "stream",
     "text": [
      "Epoch 129: 100%|██████████| 1/1 [00:00<00:00, 15.50it/s, v_num=82, train_loss=0.315, train_acc=0.816, train_auc=0.923, val_loss=0.286, val_acc=0.837, val_auc=0.942]"
     ]
    },
    {
     "name": "stderr",
     "output_type": "stream",
     "text": [
      "Metric val_loss improved by 0.000 >= min_delta = 0.0. New best score: 0.286\n"
     ]
    },
    {
     "name": "stdout",
     "output_type": "stream",
     "text": [
      "Epoch 135: 100%|██████████| 1/1 [00:00<00:00, 13.74it/s, v_num=82, train_loss=0.315, train_acc=0.818, train_auc=0.924, val_loss=0.285, val_acc=0.841, val_auc=0.943]"
     ]
    },
    {
     "name": "stderr",
     "output_type": "stream",
     "text": [
      "Metric val_loss improved by 0.001 >= min_delta = 0.0. New best score: 0.285\n"
     ]
    },
    {
     "name": "stdout",
     "output_type": "stream",
     "text": [
      "Epoch 136: 100%|██████████| 1/1 [00:00<00:00, 11.54it/s, v_num=82, train_loss=0.311, train_acc=0.807, train_auc=0.926, val_loss=0.280, val_acc=0.840, val_auc=0.943]"
     ]
    },
    {
     "name": "stderr",
     "output_type": "stream",
     "text": [
      "Metric val_loss improved by 0.005 >= min_delta = 0.0. New best score: 0.280\n"
     ]
    },
    {
     "name": "stdout",
     "output_type": "stream",
     "text": [
      "Epoch 144: 100%|██████████| 1/1 [00:00<00:00, 15.21it/s, v_num=82, train_loss=0.292, train_acc=0.832, train_auc=0.938, val_loss=0.279, val_acc=0.846, val_auc=0.944]"
     ]
    },
    {
     "name": "stderr",
     "output_type": "stream",
     "text": [
      "Metric val_loss improved by 0.001 >= min_delta = 0.0. New best score: 0.279\n"
     ]
    },
    {
     "name": "stdout",
     "output_type": "stream",
     "text": [
      "Epoch 151: 100%|██████████| 1/1 [00:00<00:00, 14.75it/s, v_num=82, train_loss=0.303, train_acc=0.821, train_auc=0.929, val_loss=0.276, val_acc=0.841, val_auc=0.945]"
     ]
    },
    {
     "name": "stderr",
     "output_type": "stream",
     "text": [
      "Metric val_loss improved by 0.002 >= min_delta = 0.0. New best score: 0.276\n"
     ]
    },
    {
     "name": "stdout",
     "output_type": "stream",
     "text": [
      "Epoch 152: 100%|██████████| 1/1 [00:00<00:00, 13.65it/s, v_num=82, train_loss=0.309, train_acc=0.817, train_auc=0.925, val_loss=0.272, val_acc=0.842, val_auc=0.944]"
     ]
    },
    {
     "name": "stderr",
     "output_type": "stream",
     "text": [
      "Metric val_loss improved by 0.004 >= min_delta = 0.0. New best score: 0.272\n"
     ]
    },
    {
     "name": "stdout",
     "output_type": "stream",
     "text": [
      "Epoch 162: 100%|██████████| 1/1 [00:00<00:00, 15.82it/s, v_num=82, train_loss=0.275, train_acc=0.837, train_auc=0.942, val_loss=0.272, val_acc=0.846, val_auc=0.946]"
     ]
    },
    {
     "name": "stderr",
     "output_type": "stream",
     "text": [
      "Metric val_loss improved by 0.001 >= min_delta = 0.0. New best score: 0.272\n"
     ]
    },
    {
     "name": "stdout",
     "output_type": "stream",
     "text": [
      "Epoch 163: 100%|██████████| 1/1 [00:00<00:00, 14.41it/s, v_num=82, train_loss=0.301, train_acc=0.830, train_auc=0.934, val_loss=0.271, val_acc=0.846, val_auc=0.946]"
     ]
    },
    {
     "name": "stderr",
     "output_type": "stream",
     "text": [
      "Metric val_loss improved by 0.000 >= min_delta = 0.0. New best score: 0.271\n"
     ]
    },
    {
     "name": "stdout",
     "output_type": "stream",
     "text": [
      "Epoch 172: 100%|██████████| 1/1 [00:00<00:00, 15.56it/s, v_num=82, train_loss=0.292, train_acc=0.829, train_auc=0.935, val_loss=0.270, val_acc=0.843, val_auc=0.948]"
     ]
    },
    {
     "name": "stderr",
     "output_type": "stream",
     "text": [
      "Metric val_loss improved by 0.001 >= min_delta = 0.0. New best score: 0.270\n"
     ]
    },
    {
     "name": "stdout",
     "output_type": "stream",
     "text": [
      "Epoch 174: 100%|██████████| 1/1 [00:00<00:00, 15.70it/s, v_num=82, train_loss=0.294, train_acc=0.819, train_auc=0.929, val_loss=0.269, val_acc=0.841, val_auc=0.948]"
     ]
    },
    {
     "name": "stderr",
     "output_type": "stream",
     "text": [
      "Metric val_loss improved by 0.001 >= min_delta = 0.0. New best score: 0.269\n"
     ]
    },
    {
     "name": "stdout",
     "output_type": "stream",
     "text": [
      "Epoch 175: 100%|██████████| 1/1 [00:00<00:00, 12.74it/s, v_num=82, train_loss=0.282, train_acc=0.831, train_auc=0.937, val_loss=0.269, val_acc=0.841, val_auc=0.948]"
     ]
    },
    {
     "name": "stderr",
     "output_type": "stream",
     "text": [
      "Metric val_loss improved by 0.000 >= min_delta = 0.0. New best score: 0.269\n"
     ]
    },
    {
     "name": "stdout",
     "output_type": "stream",
     "text": [
      "Epoch 184: 100%|██████████| 1/1 [00:00<00:00, 13.40it/s, v_num=82, train_loss=0.280, train_acc=0.828, train_auc=0.939, val_loss=0.269, val_acc=0.847, val_auc=0.950]"
     ]
    },
    {
     "name": "stderr",
     "output_type": "stream",
     "text": [
      "Metric val_loss improved by 0.000 >= min_delta = 0.0. New best score: 0.269\n"
     ]
    },
    {
     "name": "stdout",
     "output_type": "stream",
     "text": [
      "Epoch 185: 100%|██████████| 1/1 [00:00<00:00, 12.92it/s, v_num=82, train_loss=0.286, train_acc=0.825, train_auc=0.936, val_loss=0.268, val_acc=0.847, val_auc=0.950]"
     ]
    },
    {
     "name": "stderr",
     "output_type": "stream",
     "text": [
      "Metric val_loss improved by 0.001 >= min_delta = 0.0. New best score: 0.268\n"
     ]
    },
    {
     "name": "stdout",
     "output_type": "stream",
     "text": [
      "Epoch 189: 100%|██████████| 1/1 [00:00<00:00, 14.23it/s, v_num=82, train_loss=0.291, train_acc=0.815, train_auc=0.932, val_loss=0.267, val_acc=0.849, val_auc=0.950]"
     ]
    },
    {
     "name": "stderr",
     "output_type": "stream",
     "text": [
      "Metric val_loss improved by 0.000 >= min_delta = 0.0. New best score: 0.267\n"
     ]
    },
    {
     "name": "stdout",
     "output_type": "stream",
     "text": [
      "Epoch 190: 100%|██████████| 1/1 [00:00<00:00, 12.32it/s, v_num=82, train_loss=0.277, train_acc=0.825, train_auc=0.939, val_loss=0.265, val_acc=0.846, val_auc=0.950]"
     ]
    },
    {
     "name": "stderr",
     "output_type": "stream",
     "text": [
      "Metric val_loss improved by 0.002 >= min_delta = 0.0. New best score: 0.265\n"
     ]
    },
    {
     "name": "stdout",
     "output_type": "stream",
     "text": [
      "Epoch 191: 100%|██████████| 1/1 [00:00<00:00, 11.91it/s, v_num=82, train_loss=0.274, train_acc=0.832, train_auc=0.941, val_loss=0.261, val_acc=0.844, val_auc=0.948]"
     ]
    },
    {
     "name": "stderr",
     "output_type": "stream",
     "text": [
      "Metric val_loss improved by 0.004 >= min_delta = 0.0. New best score: 0.261\n"
     ]
    },
    {
     "name": "stdout",
     "output_type": "stream",
     "text": [
      "Epoch 192: 100%|██████████| 1/1 [00:00<00:00, 11.39it/s, v_num=82, train_loss=0.287, train_acc=0.827, train_auc=0.935, val_loss=0.261, val_acc=0.843, val_auc=0.947]"
     ]
    },
    {
     "name": "stderr",
     "output_type": "stream",
     "text": [
      "Metric val_loss improved by 0.001 >= min_delta = 0.0. New best score: 0.261\n"
     ]
    },
    {
     "name": "stdout",
     "output_type": "stream",
     "text": [
      "Epoch 198: 100%|██████████| 1/1 [00:00<00:00, 14.81it/s, v_num=82, train_loss=0.283, train_acc=0.831, train_auc=0.935, val_loss=0.260, val_acc=0.838, val_auc=0.949]"
     ]
    },
    {
     "name": "stderr",
     "output_type": "stream",
     "text": [
      "Metric val_loss improved by 0.001 >= min_delta = 0.0. New best score: 0.260\n"
     ]
    },
    {
     "name": "stdout",
     "output_type": "stream",
     "text": [
      "Epoch 199: 100%|██████████| 1/1 [00:00<00:00, 11.24it/s, v_num=82, train_loss=0.265, train_acc=0.834, train_auc=0.943, val_loss=0.259, val_acc=0.839, val_auc=0.948]"
     ]
    },
    {
     "name": "stderr",
     "output_type": "stream",
     "text": [
      "Metric val_loss improved by 0.001 >= min_delta = 0.0. New best score: 0.259\n"
     ]
    },
    {
     "name": "stdout",
     "output_type": "stream",
     "text": [
      "Epoch 200: 100%|██████████| 1/1 [00:00<00:00, 11.91it/s, v_num=82, train_loss=0.279, train_acc=0.840, train_auc=0.941, val_loss=0.259, val_acc=0.839, val_auc=0.948]"
     ]
    },
    {
     "name": "stderr",
     "output_type": "stream",
     "text": [
      "Metric val_loss improved by 0.000 >= min_delta = 0.0. New best score: 0.259\n"
     ]
    },
    {
     "name": "stdout",
     "output_type": "stream",
     "text": [
      "Epoch 208: 100%|██████████| 1/1 [00:00<00:00, 11.95it/s, v_num=82, train_loss=0.283, train_acc=0.837, train_auc=0.942, val_loss=0.256, val_acc=0.849, val_auc=0.952]"
     ]
    },
    {
     "name": "stderr",
     "output_type": "stream",
     "text": [
      "Metric val_loss improved by 0.003 >= min_delta = 0.0. New best score: 0.256\n"
     ]
    },
    {
     "name": "stdout",
     "output_type": "stream",
     "text": [
      "Epoch 209: 100%|██████████| 1/1 [00:00<00:00, 10.07it/s, v_num=82, train_loss=0.262, train_acc=0.858, train_auc=0.950, val_loss=0.253, val_acc=0.849, val_auc=0.952]"
     ]
    },
    {
     "name": "stderr",
     "output_type": "stream",
     "text": [
      "Metric val_loss improved by 0.002 >= min_delta = 0.0. New best score: 0.253\n"
     ]
    },
    {
     "name": "stdout",
     "output_type": "stream",
     "text": [
      "Epoch 219: 100%|██████████| 1/1 [00:00<00:00, 15.63it/s, v_num=82, train_loss=0.284, train_acc=0.841, train_auc=0.943, val_loss=0.253, val_acc=0.849, val_auc=0.954]"
     ]
    },
    {
     "name": "stderr",
     "output_type": "stream",
     "text": [
      "Monitored metric val_loss did not improve in the last 10 records. Best score: 0.253. Signaling Trainer to stop.\n"
     ]
    },
    {
     "name": "stdout",
     "output_type": "stream",
     "text": [
      "Epoch 219: 100%|██████████| 1/1 [00:00<00:00, 14.71it/s, v_num=82, train_loss=0.284, train_acc=0.841, train_auc=0.943, val_loss=0.253, val_acc=0.849, val_auc=0.954]\n"
     ]
    },
    {
     "name": "stderr",
     "output_type": "stream",
     "text": [
      "c:\\Users\\rokaa\\egyetem\\basketball_lineup_analysis\\.venv\\lib\\site-packages\\pytorch_lightning\\trainer\\connectors\\data_connector.py:425: The 'test_dataloader' does not have many workers which may be a bottleneck. Consider increasing the value of the `num_workers` argument` to `num_workers=7` in the `DataLoader` to improve performance.\n"
     ]
    },
    {
     "name": "stdout",
     "output_type": "stream",
     "text": [
      "Testing DataLoader 0: 100%|██████████| 1/1 [00:00<00:00, 36.90it/s]\n",
      "────────────────────────────────────────────────────────────────────────────────────────────────────────────────────────\n",
      "       Test metric             DataLoader 0\n",
      "────────────────────────────────────────────────────────────────────────────────────────────────────────────────────────\n",
      "        test_acc            0.8110047578811646\n",
      "        test_auc            0.9290741682052612\n",
      "        test_loss           0.29970279335975647\n",
      "────────────────────────────────────────────────────────────────────────────────────────────────────────────────────────\n"
     ]
    },
    {
     "data": {
      "text/plain": [
       "[{'test_loss': 0.29970279335975647,\n",
       "  'test_acc': 0.8110047578811646,\n",
       "  'test_auc': 0.9290741682052612}]"
      ]
     },
     "execution_count": 104,
     "metadata": {},
     "output_type": "execute_result"
    }
   ],
   "source": [
    "model = LitGNN(input_dim=data.x.shape[1])\n",
    "\n",
    "trainer = pl.Trainer(\n",
    "    max_epochs=500,\n",
    "    callbacks=[\n",
    "        pl.callbacks.EarlyStopping(monitor='val_loss', patience=10, verbose=True, mode='min'),\n",
    "        pl.callbacks.ModelCheckpoint(monitor='val_loss', save_top_k=1, mode='min')\n",
    "    ],\n",
    ")\n",
    "\n",
    "trainer.fit(model, train_loader, val_loader)\n",
    "trainer.test(model, test_loader)"
   ]
  },
  {
   "cell_type": "markdown",
   "id": "785dc0e1",
   "metadata": {},
   "source": []
  },
  {
   "cell_type": "markdown",
   "id": "12ef00fb",
   "metadata": {},
   "source": [
    "# Evaluation"
   ]
  },
  {
   "cell_type": "code",
   "execution_count": 53,
   "id": "7715819b",
   "metadata": {},
   "outputs": [],
   "source": [
    "sweep_config = {\n",
    "    'method': 'bayes',  # bayes, grid, or random\n",
    "    'metric': {\n",
    "        'name': 'val_loss',\n",
    "        'goal': 'minimize'   \n",
    "    },\n",
    "    'parameters': {\n",
    "        'hidden_dim': {\n",
    "            'values': [32, 64, 128]\n",
    "        },\n",
    "        'num_conv_layers': {\n",
    "            'values': [2, 3, 4]\n",
    "        },\n",
    "        'num_linear_layers': {\n",
    "            'values': [1, 2, 3]\n",
    "        },\n",
    "        'lr': {\n",
    "            'distribution': 'log_uniform_values',\n",
    "            'min': 1e-4,\n",
    "            'max': 1e-2\n",
    "        },\n",
    "        'weight_decay': {\n",
    "            'distribution': 'log_uniform_values',\n",
    "            'min': 1e-5,\n",
    "            'max': 1e-2\n",
    "        },\n",
    "        'dropout': {\n",
    "            'values': [0.0, 0.2, 0.4]\n",
    "        }\n",
    "    }\n",
    "}"
   ]
  },
  {
   "cell_type": "code",
   "execution_count": 54,
   "id": "f6d64040",
   "metadata": {},
   "outputs": [],
   "source": [
    "def train_sweep():\n",
    "    seed = 42\n",
    "    torch.manual_seed(seed)\n",
    "    np.random.seed(seed)\n",
    "    \n",
    "    with wandb.init() as run:\n",
    "        config = wandb.config\n",
    "\n",
    "        # Log the hyperparameters\n",
    "        wandb.log({\n",
    "            \"num_conv_layers\": config.num_conv_layers,\n",
    "            \"num_linear_layers\": config.num_linear_layers,\n",
    "            \"hidden_dim\": config.hidden_dim,\n",
    "            \"lr\": config.lr,\n",
    "            \"weight_decay\": config.weight_decay,\n",
    "            \"dropout\": config.dropout\n",
    "        })\n",
    "        \n",
    "        # Initialize the model\n",
    "        model = LitGNN(\n",
    "            input_dim=data.x.shape[1],\n",
    "            conv_layers=config.num_conv_layers,\n",
    "            link_predictor_layers=config.num_linear_layers,\n",
    "            conv_hidden_dim=config.hidden_dim,\n",
    "            link_hidden_dim=config.hidden_dim,\n",
    "            learning_rate=config.lr,\n",
    "            weight_decay=config.weight_decay,\n",
    "            dropout_rate=config.dropout\n",
    "        )\n",
    "        \n",
    "        trainer = pl.Trainer(\n",
    "            max_epochs=200,\n",
    "            logger=pl.loggers.WandbLogger(),\n",
    "            callbacks=[\n",
    "                pl.callbacks.EarlyStopping(monitor='val_loss', patience=20),\n",
    "                pl.callbacks.ModelCheckpoint(monitor='val_loss')\n",
    "            ]\n",
    "        )\n",
    "        trainer.fit(model, train_loader, val_loader)\n",
    "        trainer.test(model, test_loader)"
   ]
  },
  {
   "cell_type": "code",
   "execution_count": 55,
   "id": "5de0792a",
   "metadata": {},
   "outputs": [
    {
     "name": "stdout",
     "output_type": "stream",
     "text": [
      "Create sweep with ID: w1im1igc\n",
      "Sweep URL: https://wandb.ai/rokaati18-budapesti-m-szaki-s-gazdas-gtudom-nyi-egyetem/nba_lineup_prediction/sweeps/w1im1igc\n"
     ]
    }
   ],
   "source": [
    "# Initialize the sweep\n",
    "sweep_id = wandb.sweep(sweep_config, project=\"nba_lineup_prediction\")\n",
    "# Start the sweep agent\n",
    "# wandb.agent(sweep_id, function=train_sweep, count=20)  # Run 5 agents in parallel"
   ]
  },
  {
   "cell_type": "code",
   "execution_count": 57,
   "id": "4fbde88b",
   "metadata": {},
   "outputs": [
    {
     "data": {
      "image/png": "[encoded data removed]",
      "text/plain": [
       "<Figure size 1000x800 with 1 Axes>"
      ]
     },
     "metadata": {},
     "output_type": "display_data"
    }
   ],
   "source": [
    "# Get the node embeddings from the model\n",
    "node_embeddings = model.gnn(data.x, data.edge_index, data.edge_attr)\n",
    "# Visualize the embeddings\n",
    "visualize_embeddings_tsne(node_embeddings)"
   ]
  },
  {
   "cell_type": "code",
   "execution_count": 59,
   "id": "daead43b",
   "metadata": {},
   "outputs": [
    {
     "name": "stderr",
     "output_type": "stream",
     "text": [
      "c:\\Users\\rokaa\\egyetem\\basketball_lineup_analysis\\.venv\\lib\\site-packages\\sklearn\\utils\\deprecation.py:151: FutureWarning: 'force_all_finite' was renamed to 'ensure_all_finite' in 1.6 and will be removed in 1.8.\n",
      "  warnings.warn(\n",
      "c:\\Users\\rokaa\\egyetem\\basketball_lineup_analysis\\.venv\\lib\\site-packages\\umap\\umap_.py:1952: UserWarning: n_jobs value 1 overridden to 1 by setting random_state. Use no seed for parallelism.\n",
      "  warn(\n"
     ]
    },
    {
     "data": {
      "image/png": "[encoded data removed]",
      "text/plain": [
       "<Figure size 1000x800 with 1 Axes>"
      ]
     },
     "metadata": {},
     "output_type": "display_data"
    }
   ],
   "source": [
    "visualize_embeddings_umap(node_embeddings)"
   ]
  }
 ],
 "metadata": {
  "kernelspec": {
   "display_name": ".venv",
   "language": "python",
   "name": "python3"
  },
  "language_info": {
   "codemirror_mode": {
    "name": "ipython",
    "version": 3
   },
   "file_extension": ".py",
   "mimetype": "text/x-python",
   "name": "python",
   "nbconvert_exporter": "python",
   "pygments_lexer": "ipython3",
   "version": "3.9.7"
  }
 },
 "nbformat": 4,
 "nbformat_minor": 5
}
