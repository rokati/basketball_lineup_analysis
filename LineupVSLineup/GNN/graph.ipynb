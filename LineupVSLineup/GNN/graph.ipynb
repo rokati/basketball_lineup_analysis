{
 "cells": [
  {
   "cell_type": "code",
   "execution_count": 1,
   "id": "d7f701b2",
   "metadata": {},
   "outputs": [
    {
     "name": "stdout",
     "output_type": "stream",
     "text": [
      "Collecting torch\n",
      "  Using cached torch-2.6.0-cp311-cp311-win_amd64.whl.metadata (28 kB)\n",
      "Collecting torch_geometric\n",
      "  Downloading torch_geometric-2.6.1-py3-none-any.whl.metadata (63 kB)\n",
      "     ---------------------------------------- 0.0/63.1 kB ? eta -:--:--\n",
      "     ------------ ------------------------- 20.5/63.1 kB 330.3 kB/s eta 0:00:01\n",
      "     ------------------------------ ------- 51.2/63.1 kB 650.2 kB/s eta 0:00:01\n",
      "     -------------------------------------- 63.1/63.1 kB 484.6 kB/s eta 0:00:00\n",
      "Collecting filelock (from torch)\n",
      "  Using cached filelock-3.18.0-py3-none-any.whl.metadata (2.9 kB)\n",
      "Requirement already satisfied: typing-extensions>=4.10.0 in c:\\users\\anna\\documents\\bme_vik\\a_targyak\\3felev\\halado_adatel\\.venv\\lib\\site-packages (from torch) (4.13.1)\n",
      "Collecting networkx (from torch)\n",
      "  Using cached networkx-3.4.2-py3-none-any.whl.metadata (6.3 kB)\n",
      "Collecting jinja2 (from torch)\n",
      "  Using cached jinja2-3.1.6-py3-none-any.whl.metadata (2.9 kB)\n",
      "Collecting fsspec (from torch)\n",
      "  Using cached fsspec-2025.3.2-py3-none-any.whl.metadata (11 kB)\n",
      "Collecting sympy==1.13.1 (from torch)\n",
      "  Using cached sympy-1.13.1-py3-none-any.whl.metadata (12 kB)\n",
      "Collecting mpmath<1.4,>=1.1.0 (from sympy==1.13.1->torch)\n",
      "  Using cached mpmath-1.3.0-py3-none-any.whl.metadata (8.6 kB)\n",
      "Collecting aiohttp (from torch_geometric)\n",
      "  Downloading aiohttp-3.11.16-cp311-cp311-win_amd64.whl.metadata (8.0 kB)\n",
      "Requirement already satisfied: numpy in c:\\users\\anna\\documents\\bme_vik\\a_targyak\\3felev\\halado_adatel\\.venv\\lib\\site-packages (from torch_geometric) (2.2.4)\n",
      "Requirement already satisfied: psutil>=5.8.0 in c:\\users\\anna\\documents\\bme_vik\\a_targyak\\3felev\\halado_adatel\\.venv\\lib\\site-packages (from torch_geometric) (7.0.0)\n",
      "Collecting pyparsing (from torch_geometric)\n",
      "  Using cached pyparsing-3.2.3-py3-none-any.whl.metadata (5.0 kB)\n",
      "Requirement already satisfied: requests in c:\\users\\anna\\documents\\bme_vik\\a_targyak\\3felev\\halado_adatel\\.venv\\lib\\site-packages (from torch_geometric) (2.32.3)\n",
      "Requirement already satisfied: tqdm in c:\\users\\anna\\documents\\bme_vik\\a_targyak\\3felev\\halado_adatel\\.venv\\lib\\site-packages (from torch_geometric) (4.67.1)\n",
      "Collecting aiohappyeyeballs>=2.3.0 (from aiohttp->torch_geometric)\n",
      "  Downloading aiohappyeyeballs-2.6.1-py3-none-any.whl.metadata (5.9 kB)\n",
      "Collecting aiosignal>=1.1.2 (from aiohttp->torch_geometric)\n",
      "  Downloading aiosignal-1.3.2-py2.py3-none-any.whl.metadata (3.8 kB)\n",
      "Collecting attrs>=17.3.0 (from aiohttp->torch_geometric)\n",
      "  Using cached attrs-25.3.0-py3-none-any.whl.metadata (10 kB)\n",
      "Collecting frozenlist>=1.1.1 (from aiohttp->torch_geometric)\n",
      "  Downloading frozenlist-1.5.0-cp311-cp311-win_amd64.whl.metadata (14 kB)\n",
      "Collecting multidict<7.0,>=4.5 (from aiohttp->torch_geometric)\n",
      "  Downloading multidict-6.4.3-cp311-cp311-win_amd64.whl.metadata (5.5 kB)\n",
      "Collecting propcache>=0.2.0 (from aiohttp->torch_geometric)\n",
      "  Downloading propcache-0.3.1-cp311-cp311-win_amd64.whl.metadata (11 kB)\n",
      "Collecting yarl<2.0,>=1.17.0 (from aiohttp->torch_geometric)\n",
      "  Downloading yarl-1.19.0-cp311-cp311-win_amd64.whl.metadata (74 kB)\n",
      "     ---------------------------------------- 0.0/74.1 kB ? eta -:--:--\n",
      "     ---------------------------------------- 74.1/74.1 kB 4.3 MB/s eta 0:00:00\n",
      "Collecting MarkupSafe>=2.0 (from jinja2->torch)\n",
      "  Using cached MarkupSafe-3.0.2-cp311-cp311-win_amd64.whl.metadata (4.1 kB)\n",
      "Requirement already satisfied: charset-normalizer<4,>=2 in c:\\users\\anna\\documents\\bme_vik\\a_targyak\\3felev\\halado_adatel\\.venv\\lib\\site-packages (from requests->torch_geometric) (3.4.1)\n",
      "Requirement already satisfied: idna<4,>=2.5 in c:\\users\\anna\\documents\\bme_vik\\a_targyak\\3felev\\halado_adatel\\.venv\\lib\\site-packages (from requests->torch_geometric) (3.10)\n",
      "Requirement already satisfied: urllib3<3,>=1.21.1 in c:\\users\\anna\\documents\\bme_vik\\a_targyak\\3felev\\halado_adatel\\.venv\\lib\\site-packages (from requests->torch_geometric) (2.3.0)\n",
      "Requirement already satisfied: certifi>=2017.4.17 in c:\\users\\anna\\documents\\bme_vik\\a_targyak\\3felev\\halado_adatel\\.venv\\lib\\site-packages (from requests->torch_geometric) (2025.1.31)\n",
      "Requirement already satisfied: colorama in c:\\users\\anna\\documents\\bme_vik\\a_targyak\\3felev\\halado_adatel\\.venv\\lib\\site-packages (from tqdm->torch_geometric) (0.4.6)\n",
      "Using cached torch-2.6.0-cp311-cp311-win_amd64.whl (204.2 MB)\n",
      "Using cached sympy-1.13.1-py3-none-any.whl (6.2 MB)\n",
      "Downloading torch_geometric-2.6.1-py3-none-any.whl (1.1 MB)\n",
      "   ---------------------------------------- 0.0/1.1 MB ? eta -:--:--\n",
      "   ---------------------------------------  1.1/1.1 MB 36.0 MB/s eta 0:00:01\n",
      "   ---------------------------------------- 1.1/1.1 MB 18.2 MB/s eta 0:00:00\n",
      "Downloading aiohttp-3.11.16-cp311-cp311-win_amd64.whl (442 kB)\n",
      "   ---------------------------------------- 0.0/443.0 kB ? eta -:--:--\n",
      "   --------------------------------------- 443.0/443.0 kB 27.0 MB/s eta 0:00:00\n",
      "Using cached filelock-3.18.0-py3-none-any.whl (16 kB)\n",
      "Using cached fsspec-2025.3.2-py3-none-any.whl (194 kB)\n",
      "Using cached jinja2-3.1.6-py3-none-any.whl (134 kB)\n",
      "Using cached networkx-3.4.2-py3-none-any.whl (1.7 MB)\n",
      "Using cached pyparsing-3.2.3-py3-none-any.whl (111 kB)\n",
      "Downloading aiohappyeyeballs-2.6.1-py3-none-any.whl (15 kB)\n",
      "Downloading aiosignal-1.3.2-py2.py3-none-any.whl (7.6 kB)\n",
      "Using cached attrs-25.3.0-py3-none-any.whl (63 kB)\n",
      "Downloading frozenlist-1.5.0-cp311-cp311-win_amd64.whl (51 kB)\n",
      "   ---------------------------------------- 0.0/51.6 kB ? eta -:--:--\n",
      "   ---------------------------------------- 51.6/51.6 kB 2.6 MB/s eta 0:00:00\n",
      "Using cached MarkupSafe-3.0.2-cp311-cp311-win_amd64.whl (15 kB)\n",
      "Using cached mpmath-1.3.0-py3-none-any.whl (536 kB)\n",
      "Downloading multidict-6.4.3-cp311-cp311-win_amd64.whl (38 kB)\n",
      "Downloading propcache-0.3.1-cp311-cp311-win_amd64.whl (45 kB)\n",
      "   ---------------------------------------- 0.0/45.2 kB ? eta -:--:--\n",
      "   ---------------------------------------- 45.2/45.2 kB 2.2 MB/s eta 0:00:00\n",
      "Downloading yarl-1.19.0-cp311-cp311-win_amd64.whl (93 kB)\n",
      "   ---------------------------------------- 0.0/93.1 kB ? eta -:--:--\n",
      "   ---------------------------------------- 93.1/93.1 kB 5.2 MB/s eta 0:00:00\n",
      "Installing collected packages: mpmath, sympy, pyparsing, propcache, networkx, multidict, MarkupSafe, fsspec, frozenlist, filelock, attrs, aiohappyeyeballs, yarl, jinja2, aiosignal, torch, aiohttp, torch_geometric\n",
      "Successfully installed MarkupSafe-3.0.2 aiohappyeyeballs-2.6.1 aiohttp-3.11.16 aiosignal-1.3.2 attrs-25.3.0 filelock-3.18.0 frozenlist-1.5.0 fsspec-2025.3.2 jinja2-3.1.6 mpmath-1.3.0 multidict-6.4.3 networkx-3.4.2 propcache-0.3.1 pyparsing-3.2.3 sympy-1.13.1 torch-2.6.0 torch_geometric-2.6.1 yarl-1.19.0\n"
     ]
    },
    {
     "name": "stderr",
     "output_type": "stream",
     "text": [
      "\n",
      "[notice] A new release of pip is available: 24.0 -> 25.0.1\n",
      "[notice] To update, run: python.exe -m pip install --upgrade pip\n"
     ]
    }
   ],
   "source": [
    "!pip install torch torch_geometric"
   ]
  },
  {
   "cell_type": "code",
   "execution_count": 2,
   "id": "6e26f5d0",
   "metadata": {},
   "outputs": [],
   "source": [
    "import torch\n",
    "from torch_geometric.data import Data\n",
    "import pandas as pd"
   ]
  },
  {
   "cell_type": "markdown",
   "id": "f40255f3",
   "metadata": {},
   "source": [
    "# Load the data"
   ]
  },
  {
   "cell_type": "code",
   "execution_count": 6,
   "id": "bf4c6c9d",
   "metadata": {},
   "outputs": [],
   "source": [
    "df = pd.read_csv('..\\\\get_lineup_target_score\\\\nba_with_lineup_score.csv')"
   ]
  },
  {
   "cell_type": "markdown",
   "id": "cdc4967a",
   "metadata": {},
   "source": [
    "# Step 1: Map each unique lineup to an integer index (node ID)"
   ]
  },
  {
   "cell_type": "code",
   "execution_count": 10,
   "id": "6d504c3f",
   "metadata": {},
   "outputs": [],
   "source": [
    "lineups = pd.unique(df[['home_lineup', 'away_lineup']].values.ravel())\n",
    "lineup_to_id = {lineup: i for i, lineup in enumerate(lineups)}"
   ]
  },
  {
   "cell_type": "markdown",
   "id": "6dba7aad",
   "metadata": {},
   "source": [
    "# Step 2: Build edge list with direction based on lineup_score"
   ]
  },
  {
   "cell_type": "code",
   "execution_count": 11,
   "id": "4e4247c5",
   "metadata": {},
   "outputs": [],
   "source": [
    "edge_index = []\n",
    "\n",
    "for _, row in df.iterrows():\n",
    "    home = row['home_lineup']\n",
    "    away = row['away_lineup']\n",
    "    home_score = row['lineup_score']\n",
    "\n",
    "    # Estimate away score if not directly available\n",
    "    # For now, let's assume both teams get the same formula\n",
    "    # You may want to calculate a true 'away_lineup_score' in your preprocessing\n",
    "    away_score = row.get('away_lineup_score', 0)\n",
    "\n",
    "    if home_score > away_score:\n",
    "        edge_index.append([lineup_to_id[away], lineup_to_id[home]])\n",
    "    elif away_score > home_score:\n",
    "        edge_index.append([lineup_to_id[home], lineup_to_id[away]])\n",
    "\n",
    "# Convert to tensor (shape: [2, num_edges])\n",
    "edge_index = torch.tensor(edge_index, dtype=torch.long).t().contiguous()"
   ]
  },
  {
   "cell_type": "markdown",
   "id": "38da448d",
   "metadata": {},
   "source": [
    "# Step 3: Create node features"
   ]
  },
  {
   "cell_type": "code",
   "execution_count": 12,
   "id": "2bf2e1e8",
   "metadata": {},
   "outputs": [],
   "source": [
    "# Placeholder: use a simple zero vector for each lineup\n",
    "# Replace with actual stats (from nba_api) per lineup\n",
    "num_nodes = len(lineup_to_id)\n",
    "x = torch.zeros((num_nodes, 10))  # e.g., 10 features per lineup"
   ]
  },
  {
   "cell_type": "markdown",
   "id": "13089533",
   "metadata": {},
   "source": [
    "# Step 4: Create PyG Data object"
   ]
  },
  {
   "cell_type": "code",
   "execution_count": 13,
   "id": "cbb69e12",
   "metadata": {},
   "outputs": [
    {
     "name": "stdout",
     "output_type": "stream",
     "text": [
      "Data(x=[43136, 10], edge_index=[2, 46035])\n"
     ]
    }
   ],
   "source": [
    "data = Data(x=x, edge_index=edge_index)\n",
    "\n",
    "print(data)"
   ]
  }
 ],
 "metadata": {
  "kernelspec": {
   "display_name": ".venv",
   "language": "python",
   "name": "python3"
  },
  "language_info": {
   "codemirror_mode": {
    "name": "ipython",
    "version": 3
   },
   "file_extension": ".py",
   "mimetype": "text/x-python",
   "name": "python",
   "nbconvert_exporter": "python",
   "pygments_lexer": "ipython3",
   "version": "3.11.9"
  }
 },
 "nbformat": 4,
 "nbformat_minor": 5
}
