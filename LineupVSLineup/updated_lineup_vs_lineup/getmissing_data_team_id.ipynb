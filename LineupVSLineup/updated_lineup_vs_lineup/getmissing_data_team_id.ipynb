{
  "cells": [
    {
      "cell_type": "code",
      "execution_count": 3,
      "id": "d1ffcfd7",
      "metadata": {
        "colab": {
          "base_uri": "https://localhost:8080/"
        },
        "id": "d1ffcfd7",
        "outputId": "75efce2c-4285-41ed-f4be-40141558f1d5"
      },
      "outputs": [
        {
          "output_type": "stream",
          "name": "stdout",
          "text": [
            "Requirement already satisfied: pandas in /usr/local/lib/python3.11/dist-packages (2.2.2)\n",
            "Requirement already satisfied: tqdm in /usr/local/lib/python3.11/dist-packages (4.67.1)\n",
            "Requirement already satisfied: numpy in /usr/local/lib/python3.11/dist-packages (2.0.2)\n",
            "Collecting nba_api\n",
            "  Downloading nba_api-1.9.0-py3-none-any.whl.metadata (5.8 kB)\n",
            "Requirement already satisfied: python-dateutil>=2.8.2 in /usr/local/lib/python3.11/dist-packages (from pandas) (2.9.0.post0)\n",
            "Requirement already satisfied: pytz>=2020.1 in /usr/local/lib/python3.11/dist-packages (from pandas) (2025.2)\n",
            "Requirement already satisfied: tzdata>=2022.7 in /usr/local/lib/python3.11/dist-packages (from pandas) (2025.2)\n",
            "Requirement already satisfied: requests<3.0.0,>=2.32.3 in /usr/local/lib/python3.11/dist-packages (from nba_api) (2.32.3)\n",
            "Requirement already satisfied: six>=1.5 in /usr/local/lib/python3.11/dist-packages (from python-dateutil>=2.8.2->pandas) (1.17.0)\n",
            "Requirement already satisfied: charset-normalizer<4,>=2 in /usr/local/lib/python3.11/dist-packages (from requests<3.0.0,>=2.32.3->nba_api) (3.4.1)\n",
            "Requirement already satisfied: idna<4,>=2.5 in /usr/local/lib/python3.11/dist-packages (from requests<3.0.0,>=2.32.3->nba_api) (3.10)\n",
            "Requirement already satisfied: urllib3<3,>=1.21.1 in /usr/local/lib/python3.11/dist-packages (from requests<3.0.0,>=2.32.3->nba_api) (2.4.0)\n",
            "Requirement already satisfied: certifi>=2017.4.17 in /usr/local/lib/python3.11/dist-packages (from requests<3.0.0,>=2.32.3->nba_api) (2025.4.26)\n",
            "Downloading nba_api-1.9.0-py3-none-any.whl (284 kB)\n",
            "\u001b[2K   \u001b[90m━━━━━━━━━━━━━━━━━━━━━━━━━━━━━━━━━━━━━━━━\u001b[0m \u001b[32m284.9/284.9 kB\u001b[0m \u001b[31m11.7 MB/s\u001b[0m eta \u001b[36m0:00:00\u001b[0m\n",
            "\u001b[?25hInstalling collected packages: nba_api\n",
            "Successfully installed nba_api-1.9.0\n"
          ]
        }
      ],
      "source": [
        "!pip install pandas tqdm numpy nba_api"
      ]
    },
    {
      "cell_type": "code",
      "execution_count": 4,
      "id": "5666220e",
      "metadata": {
        "id": "5666220e"
      },
      "outputs": [],
      "source": [
        "import pandas as pd\n",
        "import time\n",
        "from tqdm import tqdm\n",
        "import numpy as np\n",
        "from collections import defaultdict\n",
        "from nba_api.stats.endpoints import (PlayByPlayV2,\n",
        "                                     BoxScoreSummaryV2,\n",
        "                                     BoxScoreTraditionalV2,\n",
        "                                     LeagueGameFinder,\n",
        "                                     GameRotation)"
      ]
    },
    {
      "cell_type": "code",
      "execution_count": 5,
      "id": "f8ba2f28",
      "metadata": {
        "id": "f8ba2f28"
      },
      "outputs": [],
      "source": [
        "gamefinder = LeagueGameFinder(season_nullable='2023-24', season_type_nullable='Regular Season')\n",
        "games_df = gamefinder.get_data_frames()[0]\n",
        "all_game_ids = games_df['GAME_ID'].unique().tolist()"
      ]
    },
    {
      "cell_type": "code",
      "execution_count": 6,
      "id": "dcebf7f6",
      "metadata": {
        "id": "dcebf7f6"
      },
      "outputs": [],
      "source": [
        "def seconds_to_pctimestring(seconds):\n",
        "    m, s = divmod(int(seconds), 60)\n",
        "    return f\"{m}:{s:02}\"\n",
        "\n",
        "def get_period_and_clock(seconds):\n",
        "    period = int(seconds // 720) + 1\n",
        "    sec_into_period = seconds % 720\n",
        "    return period, seconds_to_pctimestring(720 - sec_into_period)"
      ]
    },
    {
      "cell_type": "code",
      "execution_count": 7,
      "id": "a1984fa4",
      "metadata": {
        "id": "a1984fa4"
      },
      "outputs": [],
      "source": [
        "def pctimestring_to_seconds(t):\n",
        "    m, s = map(int, t.split(\":\"))\n",
        "    return m * 60 + s\n",
        "\n",
        "def convert_to_game_time(period, pctimestring):\n",
        "    return (period - 1) * 720 + (720 - pctimestring_to_seconds(pctimestring))\n",
        "\n",
        "def find_lineup(row, lineup_df):\n",
        "    t = row['GAME_CLOCK_SEC']\n",
        "    is_sub = row['EVENTMSGTYPE'] == 8\n",
        "    for _, seg in lineup_df.iterrows():\n",
        "        if (seg['start_time'] <= t < seg['end_time']) if is_sub else (seg['start_time'] < t <= seg['end_time']):\n",
        "            return pd.Series([seg['home_lineup'], seg['away_lineup']])\n",
        "    return pd.Series([None, None])\n"
      ]
    },
    {
      "cell_type": "code",
      "execution_count": 8,
      "id": "63d8d0d8",
      "metadata": {
        "id": "63d8d0d8"
      },
      "outputs": [],
      "source": [
        "game_ids = all_game_ids[0:50] # next is [50:100]"
      ]
    },
    {
      "cell_type": "code",
      "execution_count": 9,
      "id": "3bf7ca77",
      "metadata": {
        "id": "3bf7ca77"
      },
      "outputs": [],
      "source": [
        "previous_lineup_vs_lineup_df = pd.DataFrame()\n",
        "previous_player_stats_df = pd.DataFrame()"
      ]
    },
    {
      "cell_type": "code",
      "source": [
        "previous_lineup_vs_lineup_df"
      ],
      "metadata": {
        "colab": {
          "base_uri": "https://localhost:8080/",
          "height": 89
        },
        "id": "Pv1mTqVyDiHX",
        "outputId": "86704bbc-68a4-4f5e-f606-1c84a9ef65e5"
      },
      "id": "Pv1mTqVyDiHX",
      "execution_count": 10,
      "outputs": [
        {
          "output_type": "execute_result",
          "data": {
            "text/plain": [
              "Empty DataFrame\n",
              "Columns: []\n",
              "Index: []"
            ],
            "text/html": [
              "\n",
              "  <div id=\"df-87ab46fe-6b69-48a6-a3d9-2ce79f2b6591\" class=\"colab-df-container\">\n",
              "    <div>\n",
              "<style scoped>\n",
              "    .dataframe tbody tr th:only-of-type {\n",
              "        vertical-align: middle;\n",
              "    }\n",
              "\n",
              "    .dataframe tbody tr th {\n",
              "        vertical-align: top;\n",
              "    }\n",
              "\n",
              "    .dataframe thead th {\n",
              "        text-align: right;\n",
              "    }\n",
              "</style>\n",
              "<table border=\"1\" class=\"dataframe\">\n",
              "  <thead>\n",
              "    <tr style=\"text-align: right;\">\n",
              "      <th></th>\n",
              "    </tr>\n",
              "  </thead>\n",
              "  <tbody>\n",
              "  </tbody>\n",
              "</table>\n",
              "</div>\n",
              "    <div class=\"colab-df-buttons\">\n",
              "\n",
              "  <div class=\"colab-df-container\">\n",
              "    <button class=\"colab-df-convert\" onclick=\"convertToInteractive('df-87ab46fe-6b69-48a6-a3d9-2ce79f2b6591')\"\n",
              "            title=\"Convert this dataframe to an interactive table.\"\n",
              "            style=\"display:none;\">\n",
              "\n",
              "  <svg xmlns=\"http://www.w3.org/2000/svg\" height=\"24px\" viewBox=\"0 -960 960 960\">\n",
              "    <path d=\"M120-120v-720h720v720H120Zm60-500h600v-160H180v160Zm220 220h160v-160H400v160Zm0 220h160v-160H400v160ZM180-400h160v-160H180v160Zm440 0h160v-160H620v160ZM180-180h160v-160H180v160Zm440 0h160v-160H620v160Z\"/>\n",
              "  </svg>\n",
              "    </button>\n",
              "\n",
              "  <style>\n",
              "    .colab-df-container {\n",
              "      display:flex;\n",
              "      gap: 12px;\n",
              "    }\n",
              "\n",
              "    .colab-df-convert {\n",
              "      background-color: #E8F0FE;\n",
              "      border: none;\n",
              "      border-radius: 50%;\n",
              "      cursor: pointer;\n",
              "      display: none;\n",
              "      fill: #1967D2;\n",
              "      height: 32px;\n",
              "      padding: 0 0 0 0;\n",
              "      width: 32px;\n",
              "    }\n",
              "\n",
              "    .colab-df-convert:hover {\n",
              "      background-color: #E2EBFA;\n",
              "      box-shadow: 0px 1px 2px rgba(60, 64, 67, 0.3), 0px 1px 3px 1px rgba(60, 64, 67, 0.15);\n",
              "      fill: #174EA6;\n",
              "    }\n",
              "\n",
              "    .colab-df-buttons div {\n",
              "      margin-bottom: 4px;\n",
              "    }\n",
              "\n",
              "    [theme=dark] .colab-df-convert {\n",
              "      background-color: #3B4455;\n",
              "      fill: #D2E3FC;\n",
              "    }\n",
              "\n",
              "    [theme=dark] .colab-df-convert:hover {\n",
              "      background-color: #434B5C;\n",
              "      box-shadow: 0px 1px 3px 1px rgba(0, 0, 0, 0.15);\n",
              "      filter: drop-shadow(0px 1px 2px rgba(0, 0, 0, 0.3));\n",
              "      fill: #FFFFFF;\n",
              "    }\n",
              "  </style>\n",
              "\n",
              "    <script>\n",
              "      const buttonEl =\n",
              "        document.querySelector('#df-87ab46fe-6b69-48a6-a3d9-2ce79f2b6591 button.colab-df-convert');\n",
              "      buttonEl.style.display =\n",
              "        google.colab.kernel.accessAllowed ? 'block' : 'none';\n",
              "\n",
              "      async function convertToInteractive(key) {\n",
              "        const element = document.querySelector('#df-87ab46fe-6b69-48a6-a3d9-2ce79f2b6591');\n",
              "        const dataTable =\n",
              "          await google.colab.kernel.invokeFunction('convertToInteractive',\n",
              "                                                    [key], {});\n",
              "        if (!dataTable) return;\n",
              "\n",
              "        const docLinkHtml = 'Like what you see? Visit the ' +\n",
              "          '<a target=\"_blank\" href=https://colab.research.google.com/notebooks/data_table.ipynb>data table notebook</a>'\n",
              "          + ' to learn more about interactive tables.';\n",
              "        element.innerHTML = '';\n",
              "        dataTable['output_type'] = 'display_data';\n",
              "        await google.colab.output.renderOutput(dataTable, element);\n",
              "        const docLink = document.createElement('div');\n",
              "        docLink.innerHTML = docLinkHtml;\n",
              "        element.appendChild(docLink);\n",
              "      }\n",
              "    </script>\n",
              "  </div>\n",
              "\n",
              "\n",
              "  <div id=\"id_6cd18915-5078-4585-a7ed-4300006b1ac2\">\n",
              "    <style>\n",
              "      .colab-df-generate {\n",
              "        background-color: #E8F0FE;\n",
              "        border: none;\n",
              "        border-radius: 50%;\n",
              "        cursor: pointer;\n",
              "        display: none;\n",
              "        fill: #1967D2;\n",
              "        height: 32px;\n",
              "        padding: 0 0 0 0;\n",
              "        width: 32px;\n",
              "      }\n",
              "\n",
              "      .colab-df-generate:hover {\n",
              "        background-color: #E2EBFA;\n",
              "        box-shadow: 0px 1px 2px rgba(60, 64, 67, 0.3), 0px 1px 3px 1px rgba(60, 64, 67, 0.15);\n",
              "        fill: #174EA6;\n",
              "      }\n",
              "\n",
              "      [theme=dark] .colab-df-generate {\n",
              "        background-color: #3B4455;\n",
              "        fill: #D2E3FC;\n",
              "      }\n",
              "\n",
              "      [theme=dark] .colab-df-generate:hover {\n",
              "        background-color: #434B5C;\n",
              "        box-shadow: 0px 1px 3px 1px rgba(0, 0, 0, 0.15);\n",
              "        filter: drop-shadow(0px 1px 2px rgba(0, 0, 0, 0.3));\n",
              "        fill: #FFFFFF;\n",
              "      }\n",
              "    </style>\n",
              "    <button class=\"colab-df-generate\" onclick=\"generateWithVariable('previous_lineup_vs_lineup_df')\"\n",
              "            title=\"Generate code using this dataframe.\"\n",
              "            style=\"display:none;\">\n",
              "\n",
              "  <svg xmlns=\"http://www.w3.org/2000/svg\" height=\"24px\"viewBox=\"0 0 24 24\"\n",
              "       width=\"24px\">\n",
              "    <path d=\"M7,19H8.4L18.45,9,17,7.55,7,17.6ZM5,21V16.75L18.45,3.32a2,2,0,0,1,2.83,0l1.4,1.43a1.91,1.91,0,0,1,.58,1.4,1.91,1.91,0,0,1-.58,1.4L9.25,21ZM18.45,9,17,7.55Zm-12,3A5.31,5.31,0,0,0,4.9,8.1,5.31,5.31,0,0,0,1,6.5,5.31,5.31,0,0,0,4.9,4.9,5.31,5.31,0,0,0,6.5,1,5.31,5.31,0,0,0,8.1,4.9,5.31,5.31,0,0,0,12,6.5,5.46,5.46,0,0,0,6.5,12Z\"/>\n",
              "  </svg>\n",
              "    </button>\n",
              "    <script>\n",
              "      (() => {\n",
              "      const buttonEl =\n",
              "        document.querySelector('#id_6cd18915-5078-4585-a7ed-4300006b1ac2 button.colab-df-generate');\n",
              "      buttonEl.style.display =\n",
              "        google.colab.kernel.accessAllowed ? 'block' : 'none';\n",
              "\n",
              "      buttonEl.onclick = () => {\n",
              "        google.colab.notebook.generateWithVariable('previous_lineup_vs_lineup_df');\n",
              "      }\n",
              "      })();\n",
              "    </script>\n",
              "  </div>\n",
              "\n",
              "    </div>\n",
              "  </div>\n"
            ],
            "application/vnd.google.colaboratory.intrinsic+json": {
              "type": "dataframe",
              "variable_name": "previous_lineup_vs_lineup_df",
              "summary": "{\n  \"name\": \"previous_lineup_vs_lineup_df\",\n  \"rows\": 0,\n  \"fields\": []\n}"
            }
          },
          "metadata": {},
          "execution_count": 10
        }
      ]
    },
    {
      "cell_type": "code",
      "execution_count": null,
      "id": "27d98547",
      "metadata": {
        "id": "27d98547"
      },
      "outputs": [],
      "source": [
        "previous_lineup_vs_lineup_df = pd.read_csv('PRE_updated_lineup_vs_lineup.csv', dtype={'game_id': 'object'})\n",
        "previous_player_stats_df = pd.read_csv('PRE_updated_player_stats.csv', dtype={'game_id': 'object'})"
      ]
    },
    {
      "cell_type": "code",
      "execution_count": null,
      "id": "70ff4882",
      "metadata": {
        "id": "70ff4882",
        "outputId": "dab6fe1c-ddef-4f99-b2b9-fe6758a14a46"
      },
      "outputs": [
        {
          "name": "stdout",
          "output_type": "stream",
          "text": [
            "Missing game_ids: ['0012300003', '0012300002', '0012300001', '2012300002', '2012300001']\n"
          ]
        }
      ],
      "source": [
        "# All missing lineup game_ids\n",
        "\n",
        "all_game_ids_series = pd.Series(all_game_ids)\n",
        "missing_game_ids = all_game_ids_series[~all_game_ids_series.isin(previous_lineup_vs_lineup_df['game_id'].unique())].tolist()\n",
        "print(f\"Missing game_ids: {missing_game_ids}\")"
      ]
    },
    {
      "cell_type": "code",
      "execution_count": null,
      "id": "8b1fab0e",
      "metadata": {
        "id": "8b1fab0e"
      },
      "outputs": [],
      "source": [
        "missing_game_ids.remove(\"0012300003\")"
      ]
    },
    {
      "cell_type": "code",
      "execution_count": null,
      "id": "bba3cff7",
      "metadata": {
        "id": "bba3cff7",
        "outputId": "d4943942-b21f-4693-b98f-432f228e7a07"
      },
      "outputs": [
        {
          "data": {
            "text/plain": [
              "['0012300002', '0012300001', '2012300002', '2012300001']"
            ]
          },
          "execution_count": 39,
          "metadata": {},
          "output_type": "execute_result"
        }
      ],
      "source": [
        "missing_game_ids"
      ]
    },
    {
      "cell_type": "code",
      "execution_count": null,
      "id": "ae11c7ba",
      "metadata": {
        "id": "ae11c7ba",
        "outputId": "7634d85f-faef-452e-897f-04e324287ca3"
      },
      "outputs": [
        {
          "name": "stderr",
          "output_type": "stream",
          "text": [
            "  0%|          | 0/4 [00:00<?, ?it/s]"
          ]
        },
        {
          "name": "stdout",
          "output_type": "stream",
          "text": [
            "----------------GAME nr.1-----------\n",
            "\n",
            "Data saved to CSV files.\n",
            "Finished game: 0012300002\n"
          ]
        },
        {
          "name": "stderr",
          "output_type": "stream",
          "text": [
            " 25%|██▌       | 1/4 [00:03<00:11,  3.84s/it]"
          ]
        },
        {
          "name": "stdout",
          "output_type": "stream",
          "text": [
            "----------------GAME nr.2-----------\n",
            "\n",
            "Data saved to CSV files.\n",
            "Finished game: 0012300001\n"
          ]
        },
        {
          "name": "stderr",
          "output_type": "stream",
          "text": [
            " 50%|█████     | 2/4 [00:07<00:07,  3.59s/it]"
          ]
        },
        {
          "name": "stdout",
          "output_type": "stream",
          "text": [
            "----------------GAME nr.3-----------\n",
            "\n",
            "Data saved to CSV files.\n",
            "Finished game: 2012300002\n"
          ]
        },
        {
          "name": "stderr",
          "output_type": "stream",
          "text": [
            " 75%|███████▌  | 3/4 [00:10<00:03,  3.52s/it]"
          ]
        },
        {
          "name": "stdout",
          "output_type": "stream",
          "text": [
            "----------------GAME nr.4-----------\n",
            "\n",
            "Data saved to CSV files.\n",
            "Finished game: 2012300001\n"
          ]
        },
        {
          "name": "stderr",
          "output_type": "stream",
          "text": [
            "100%|██████████| 4/4 [00:14<00:00,  3.57s/it]\n"
          ]
        }
      ],
      "source": [
        "# Store all results\n",
        "lineup_vs_lineup_data = []\n",
        "player_stats_data = []\n",
        "nr = 1\n",
        "for game_id in tqdm(missing_game_ids):\n",
        "    try:\n",
        "        # --- Load game data ---\n",
        "        print(f\"----------------GAME nr.{nr}-----------\\n\")\n",
        "        nr += 1\n",
        "        # Load play-by-play data\n",
        "        pbp = PlayByPlayV2(game_id=game_id).get_data_frames()[0]\n",
        "\n",
        "        # Load player rotation data\n",
        "        rotation = GameRotation(game_id=game_id)\n",
        "        home_df = rotation.home_team.get_data_frame()\n",
        "        away_df = rotation.away_team.get_data_frame()\n",
        "\n",
        "        # Add team labels\n",
        "        home_df['TEAM_SIDE'] = 'home'\n",
        "        away_df['TEAM_SIDE'] = 'away'\n",
        "        rotation_df = pd.concat([home_df, away_df], ignore_index=True)\n",
        "\n",
        "        # Create a timeline of substitution events\n",
        "        events = []\n",
        "        for _, row in rotation_df.iterrows():\n",
        "            player = f\"{row['PLAYER_FIRST']} {row['PLAYER_LAST']}\"\n",
        "            team = row['TEAM_SIDE']\n",
        "            team_id = row['TEAM_ID']\n",
        "            events.append({'time': row['IN_TIME_REAL'], 'player': player, 'team': team, 'team_id': team_id, 'action': 'in'})\n",
        "            events.append({'time': row['OUT_TIME_REAL'], 'player': player, 'team': team, 'team_id': team_id, 'action': 'out'})\n",
        "        events = sorted(events, key=lambda x: x['time'])\n",
        "\n",
        "        lineup_segments = []\n",
        "        current_lineups = {'home': set(), 'away': set()}\n",
        "        prev_time = 0\n",
        "\n",
        "        home_team_id = None\n",
        "        away_team_id = None\n",
        "\n",
        "        for event in events:\n",
        "            current_time = event['time']\n",
        "\n",
        "            if home_team_id is None or away_team_id is None:\n",
        "                if event['team'] == 'home':\n",
        "                    home_team_id = event['team_id']\n",
        "                elif event['team'] == 'away':\n",
        "                    away_team_id = event['team_id']\n",
        "\n",
        "            if all(len(lineup) == 5 for lineup in current_lineups.values()):\n",
        "                lineup_segments.append({\n",
        "                    'start_time': prev_time,\n",
        "                    'end_time': current_time,\n",
        "                    'home_lineup': tuple(sorted(current_lineups['home'])),\n",
        "                    'away_lineup': tuple(sorted(current_lineups['away'])),\n",
        "                    'duration': current_time - prev_time,\n",
        "                    'home_team_id': home_team_id,\n",
        "                    'away_team_id': away_team_id\n",
        "                })\n",
        "\n",
        "            team = event['team']\n",
        "            player = event['player']\n",
        "            if event['action'] == 'in':\n",
        "                current_lineups[team].add(player)\n",
        "            else:\n",
        "                current_lineups[team].discard(player)\n",
        "\n",
        "            prev_time = current_time\n",
        "\n",
        "        lineup_df = pd.DataFrame(lineup_segments)\n",
        "        lineup_df[['start_time', 'end_time', 'duration']] = lineup_df[['start_time', 'end_time', 'duration']] / 10\n",
        "        lineup_df[['period', 'start_pctimestring']] = lineup_df['start_time'].apply(lambda x: pd.Series(get_period_and_clock(x)))\n",
        "        lineup_df[['end_period', 'end_pctimestring']] = lineup_df['end_time'].apply(lambda x: pd.Series(get_period_and_clock(x)))\n",
        "\n",
        "        pbp['GAME_CLOCK_SEC'] = pbp.apply(lambda row: convert_to_game_time(row['PERIOD'], row['PCTIMESTRING']), axis=1)\n",
        "        pbp[['HOME_LINEUP', 'AWAY_LINEUP']] = pbp.apply(lambda row: find_lineup(row, lineup_df), axis=1)\n",
        "\n",
        "        important_event_types = list(range(1, 14))\n",
        "        lineup_timeline = []\n",
        "\n",
        "        for _, row in pbp.iterrows():\n",
        "            if row['EVENTMSGTYPE'] in important_event_types and isinstance(row['HOME_LINEUP'], tuple):\n",
        "                lineup_timeline.append({\n",
        "                    'EVENTNUM': row['EVENTNUM'],\n",
        "                    'PERIOD': row['PERIOD'],\n",
        "                    'TIME': row['PCTIMESTRING'],\n",
        "                    'EVENT_TYPE': row['EVENTMSGTYPE'],\n",
        "                    'SCORE': row['SCORE'],\n",
        "                    'HOME_DESCRIPTION': str(row['HOMEDESCRIPTION']) if pd.notna(row['HOMEDESCRIPTION']) else '',\n",
        "                    'AWAY_DESCRIPTION': str(row['VISITORDESCRIPTION']) if pd.notna(row['VISITORDESCRIPTION']) else '',\n",
        "                    'HOME_LINEUP': row['HOME_LINEUP'],\n",
        "                    'AWAY_LINEUP': row['AWAY_LINEUP'],\n",
        "                    'PLAYER1_NAME': row['PLAYER1_NAME'],\n",
        "                    'PLAYER2_NAME': row['PLAYER2_NAME'],\n",
        "                    'PLAYER3_NAME': row['PLAYER3_NAME']\n",
        "                })\n",
        "\n",
        "        lineup_event_df = pd.DataFrame(lineup_timeline)\n",
        "        lineup_event_df.head()\n",
        "\n",
        "        lineup_segments = []\n",
        "        segment = None\n",
        "        prev_home = None\n",
        "        prev_away = None\n",
        "        last_shot_team = None\n",
        "\n",
        "        SKIP_KEYWORDS = ['SUB', 'Jump Ball', 'Delay', 'Offensive', 'Timeout', 'Rebound']\n",
        "\n",
        "        for _, row in lineup_event_df.iterrows():\n",
        "            home_lineup = tuple(sorted(row['HOME_LINEUP']))\n",
        "            away_lineup = tuple(sorted(row['AWAY_LINEUP']))\n",
        "\n",
        "            # Start new segment if lineups changed\n",
        "            if segment is None or home_lineup != prev_home or away_lineup != prev_away:\n",
        "                if segment:\n",
        "                    segment['end_event'] = row['EVENTNUM']\n",
        "                    segment['end_time'] = row['TIME']\n",
        "                    lineup_segments.append(segment)\n",
        "\n",
        "                segment = {\n",
        "                    'home_lineup': home_lineup,\n",
        "                    'away_lineup': away_lineup,\n",
        "                    'start_event': row['EVENTNUM'],\n",
        "                    'start_time': row['TIME'],\n",
        "                    'period': row['PERIOD'],\n",
        "                    'team_stats': {'home': defaultdict(int), 'away': defaultdict(int)},\n",
        "                    'player_stats': defaultdict(lambda: defaultdict(int)),\n",
        "                    'events': []\n",
        "                }\n",
        "\n",
        "                prev_home = home_lineup\n",
        "                prev_away = away_lineup\n",
        "\n",
        "            segment['events'].append({\n",
        "                'EVENTNUM': row['EVENTNUM'],\n",
        "                'TIME': row['TIME'],\n",
        "                'HOME_DESCRIPTION': row['HOME_DESCRIPTION'],\n",
        "                'AWAY_DESCRIPTION': row['AWAY_DESCRIPTION']\n",
        "            })\n",
        "\n",
        "            # Process event descriptions\n",
        "            for team_side, desc in [('home', row['HOME_DESCRIPTION']), ('away', row['AWAY_DESCRIPTION'])]:\n",
        "                if not desc or any(skip in desc for skip in SKIP_KEYWORDS):\n",
        "                    continue\n",
        "\n",
        "                lineup = home_lineup if team_side == 'home' else away_lineup\n",
        "                players_on_court = set(lineup)\n",
        "\n",
        "                def inc(stat, players, value=1):\n",
        "                    segment['team_stats'][team_side][stat] += value\n",
        "                    for p in players:\n",
        "                        if p in players_on_court:\n",
        "                            segment['player_stats'][p][stat] += value\n",
        "\n",
        "                # Detect player involvement\n",
        "                involved_players = [row['PLAYER1_NAME'], row['PLAYER2_NAME'], row['PLAYER3_NAME']]\n",
        "                involved_players = [p for p in involved_players if isinstance(p, str)]\n",
        "\n",
        "                # Scoring\n",
        "                if '3PT' in desc and 'MISS' not in desc:\n",
        "                    inc('3pt_made', [row['PLAYER1_NAME']])\n",
        "                    inc('points', [row['PLAYER1_NAME']], 3)\n",
        "                elif 'Free Throw' in desc and 'MISS' not in desc:\n",
        "                    inc('ft_made', [row['PLAYER1_NAME']])\n",
        "                    inc('points', [row['PLAYER1_NAME']], 1)\n",
        "                elif 'MISS' not in desc and any(kw in desc for kw in ['Fadeaway', 'Dunk', 'Layup', 'Jump Shot', 'Hook Shot']):\n",
        "                    inc('2pt_made', [row['PLAYER1_NAME']])\n",
        "                    inc('points', [row['PLAYER1_NAME']], 2)\n",
        "                elif 'MISS' in desc:\n",
        "                    last_shot_team = team_side\n",
        "\n",
        "                # Other actions\n",
        "                if 'AST' in desc:\n",
        "                    inc('assists', [row['PLAYER2_NAME']])\n",
        "                if 'Turnover' in desc:\n",
        "                    inc('turnovers', [row['PLAYER1_NAME']])\n",
        "                if 'STL' in desc:\n",
        "                    inc('steals', [row['PLAYER2_NAME']])\n",
        "                if 'BLK' in desc:\n",
        "                    inc('blocks', [row['PLAYER2_NAME']])\n",
        "                if '.FOUL' in desc:\n",
        "                    inc('fouls', [row['PLAYER1_NAME']])\n",
        "\n",
        "                # Rebounds\n",
        "                if 'REBOUND' in desc:\n",
        "                    rebound_team = team_side\n",
        "                    rebounder = row['PLAYER1_NAME']\n",
        "                    if last_shot_team:\n",
        "                        if rebound_team == last_shot_team:\n",
        "                            inc('off_rebounds', [rebounder])\n",
        "                        else:\n",
        "                            inc('def_rebounds', [rebounder])\n",
        "                    last_shot_team = None\n",
        "\n",
        "        # Final flush\n",
        "        if segment:\n",
        "            segment['end_event'] = row['EVENTNUM']\n",
        "            segment['end_time'] = row['TIME']\n",
        "            lineup_segments.append(segment)\n",
        "\n",
        "\n",
        "\n",
        "        for seg in lineup_segments:\n",
        "            row = {\n",
        "                'game_id': game_id,\n",
        "                'period': seg['period'],\n",
        "                'start_event': seg['start_event'],\n",
        "                'end_event': seg['end_event'],\n",
        "                'start_time': seg['start_time'],\n",
        "                'end_time': seg['end_time'],\n",
        "                'home_lineup': seg['home_lineup'],\n",
        "                'away_lineup': seg['away_lineup'],\n",
        "                'home_team_id': lineup_df['home_team_id'].iloc[0],\n",
        "                'away_team_id': lineup_df['away_team_id'].iloc[0]\n",
        "            }\n",
        "\n",
        "            for team in ['home', 'away']:\n",
        "                for stat, val in seg['team_stats'][team].items():\n",
        "                    row[f'{team}_{stat}'] = val\n",
        "\n",
        "            lineup_vs_lineup_data.append(row)\n",
        "\n",
        "        # lineup_vs_lineup_df = pd.DataFrame(lineup_vs_lineup_data)\n",
        "\n",
        "\n",
        "\n",
        "        for seg in lineup_segments:\n",
        "            for player, stats in seg['player_stats'].items():\n",
        "                row = {\n",
        "                    'game_id': game_id,\n",
        "                    'player': player,\n",
        "                    'period': seg['period'],\n",
        "                    'start_event': seg['start_event'],\n",
        "                    'end_event': seg['end_event'],\n",
        "                    'start_time': seg['start_time'],\n",
        "                    'end_time': seg['end_time'],\n",
        "                    'home_lineup': seg['home_lineup'],\n",
        "                    'away_lineup': seg['away_lineup']\n",
        "                }\n",
        "\n",
        "                for stat, val in stats.items():\n",
        "                    row[stat] = val\n",
        "\n",
        "                player_stats_data.append(row)\n",
        "\n",
        "        player_stats_df = pd.DataFrame(player_stats_data)\n",
        "\n",
        "        # Convert to DataFrame\n",
        "        lineup_vs_lineup_df = pd.DataFrame(lineup_vs_lineup_data)\n",
        "        player_stats_df = pd.DataFrame(player_stats_data)\n",
        "\n",
        "        # Concatenate with previous data\n",
        "        lineup_vs_lineup_df = pd.concat([previous_lineup_vs_lineup_df, lineup_vs_lineup_df], ignore_index=True)\n",
        "        player_stats_df = pd.concat([previous_player_stats_df, player_stats_df], ignore_index=True)\n",
        "\n",
        "        # Save to CSV\n",
        "        # lineup_vs_lineup_df.to_csv('PRE_updated_lineup_vs_lineup.csv', index=False)\n",
        "        # player_stats_df.to_csv('PRE_updated_player_stats.csv', index=False)\n",
        "        print(\"Data saved to CSV files.\")\n",
        "\n",
        "        print(f\"Finished game: {game_id}\")\n",
        "\n",
        "        # Respect rate limits\n",
        "        break\n",
        "        time.sleep(1)\n",
        "\n",
        "    except Exception as e:\n",
        "        print(f\"Failed on game {game_id}: {e}\")\n",
        "        break"
      ]
    }
  ],
  "metadata": {
    "kernelspec": {
      "display_name": ".venv",
      "language": "python",
      "name": "python3"
    },
    "language_info": {
      "codemirror_mode": {
        "name": "ipython",
        "version": 3
      },
      "file_extension": ".py",
      "mimetype": "text/x-python",
      "name": "python",
      "nbconvert_exporter": "python",
      "pygments_lexer": "ipython3",
      "version": "3.9.7"
    },
    "colab": {
      "provenance": []
    }
  },
  "nbformat": 4,
  "nbformat_minor": 5
}