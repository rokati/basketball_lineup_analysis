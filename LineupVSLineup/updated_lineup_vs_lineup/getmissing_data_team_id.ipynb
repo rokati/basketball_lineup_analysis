{
  "cells": [
    {
      "cell_type": "code",
      "execution_count": 35,
      "id": "d1ffcfd7",
      "metadata": {
        "colab": {
          "base_uri": "https://localhost:8080/"
        },
        "id": "d1ffcfd7",
        "outputId": "75efce2c-4285-41ed-f4be-40141558f1d5"
      },
      "outputs": [
        {
          "name": "stdout",
          "output_type": "stream",
          "text": [
            "Requirement already satisfied: pandas in c:\\users\\rokaa\\egyetem\\basketball_lineup_analysis\\.venv\\lib\\site-packages (2.2.2)\n",
            "Requirement already satisfied: tqdm in c:\\users\\rokaa\\egyetem\\basketball_lineup_analysis\\.venv\\lib\\site-packages (4.67.1)\n",
            "Requirement already satisfied: numpy in c:\\users\\rokaa\\egyetem\\basketball_lineup_analysis\\.venv\\lib\\site-packages (1.26.4)\n",
            "Requirement already satisfied: nba_api in c:\\users\\rokaa\\egyetem\\basketball_lineup_analysis\\.venv\\lib\\site-packages (1.9.0)\n",
            "Requirement already satisfied: python-dateutil>=2.8.2 in c:\\users\\rokaa\\egyetem\\basketball_lineup_analysis\\.venv\\lib\\site-packages (from pandas) (2.9.0.post0)\n",
            "Requirement already satisfied: pytz>=2020.1 in c:\\users\\rokaa\\egyetem\\basketball_lineup_analysis\\.venv\\lib\\site-packages (from pandas) (2025.2)\n",
            "Requirement already satisfied: tzdata>=2022.7 in c:\\users\\rokaa\\egyetem\\basketball_lineup_analysis\\.venv\\lib\\site-packages (from pandas) (2025.2)\n",
            "Requirement already satisfied: colorama in c:\\users\\rokaa\\egyetem\\basketball_lineup_analysis\\.venv\\lib\\site-packages (from tqdm) (0.4.6)\n",
            "Requirement already satisfied: requests<3.0.0,>=2.32.3 in c:\\users\\rokaa\\egyetem\\basketball_lineup_analysis\\.venv\\lib\\site-packages (from nba_api) (2.32.3)\n",
            "Requirement already satisfied: six>=1.5 in c:\\users\\rokaa\\egyetem\\basketball_lineup_analysis\\.venv\\lib\\site-packages (from python-dateutil>=2.8.2->pandas) (1.17.0)\n",
            "Requirement already satisfied: charset-normalizer<4,>=2 in c:\\users\\rokaa\\egyetem\\basketball_lineup_analysis\\.venv\\lib\\site-packages (from requests<3.0.0,>=2.32.3->nba_api) (3.4.1)\n",
            "Requirement already satisfied: idna<4,>=2.5 in c:\\users\\rokaa\\egyetem\\basketball_lineup_analysis\\.venv\\lib\\site-packages (from requests<3.0.0,>=2.32.3->nba_api) (3.10)\n",
            "Requirement already satisfied: urllib3<3,>=1.21.1 in c:\\users\\rokaa\\egyetem\\basketball_lineup_analysis\\.venv\\lib\\site-packages (from requests<3.0.0,>=2.32.3->nba_api) (2.4.0)\n",
            "Requirement already satisfied: certifi>=2017.4.17 in c:\\users\\rokaa\\egyetem\\basketball_lineup_analysis\\.venv\\lib\\site-packages (from requests<3.0.0,>=2.32.3->nba_api) (2025.1.31)\n"
          ]
        },
        {
          "name": "stderr",
          "output_type": "stream",
          "text": [
            "\n",
            "[notice] A new release of pip is available: 25.0.1 -> 25.1.1\n",
            "[notice] To update, run: python.exe -m pip install --upgrade pip\n"
          ]
        }
      ],
      "source": [
        "!pip install pandas tqdm numpy nba_api"
      ]
    },
    {
      "cell_type": "code",
      "execution_count": 36,
      "id": "5666220e",
      "metadata": {
        "id": "5666220e"
      },
      "outputs": [],
      "source": [
        "import pandas as pd\n",
        "import time\n",
        "from tqdm import tqdm\n",
        "import numpy as np\n",
        "from collections import defaultdict\n",
        "from nba_api.stats.endpoints import (PlayByPlayV2,\n",
        "                                     BoxScoreSummaryV2,\n",
        "                                     BoxScoreTraditionalV2,\n",
        "                                     LeagueGameFinder,\n",
        "                                     GameRotation)"
      ]
    },
    {
      "cell_type": "code",
      "execution_count": 38,
      "id": "f8ba2f28",
      "metadata": {
        "id": "f8ba2f28"
      },
      "outputs": [],
      "source": [
        "gamefinder = LeagueGameFinder(season_nullable='2023-24', season_type_nullable='Regular Season')\n",
        "games_df = gamefinder.get_data_frames()[0]\n",
        "all_game_ids = games_df['GAME_ID'].unique().tolist()"
      ]
    },
    {
      "cell_type": "code",
      "execution_count": 39,
      "id": "dcebf7f6",
      "metadata": {
        "id": "dcebf7f6"
      },
      "outputs": [],
      "source": [
        "def seconds_to_pctimestring(seconds):\n",
        "    m, s = divmod(int(seconds), 60)\n",
        "    return f\"{m}:{s:02}\"\n",
        "\n",
        "def get_period_and_clock(seconds):\n",
        "    period = int(seconds // 720) + 1\n",
        "    sec_into_period = seconds % 720\n",
        "    return period, seconds_to_pctimestring(720 - sec_into_period)"
      ]
    },
    {
      "cell_type": "code",
      "execution_count": 40,
      "id": "a1984fa4",
      "metadata": {
        "id": "a1984fa4"
      },
      "outputs": [],
      "source": [
        "def pctimestring_to_seconds(t):\n",
        "    m, s = map(int, t.split(\":\"))\n",
        "    return m * 60 + s\n",
        "\n",
        "def convert_to_game_time(period, pctimestring):\n",
        "    return (period - 1) * 720 + (720 - pctimestring_to_seconds(pctimestring))\n",
        "\n",
        "def find_lineup(row, lineup_df):\n",
        "    t = row['GAME_CLOCK_SEC']\n",
        "    is_sub = row['EVENTMSGTYPE'] == 8\n",
        "    for _, seg in lineup_df.iterrows():\n",
        "        if (seg['start_time'] <= t < seg['end_time']) if is_sub else (seg['start_time'] < t <= seg['end_time']):\n",
        "            return pd.Series([seg['home_lineup'], seg['away_lineup']])\n",
        "    return pd.Series([None, None])\n"
      ]
    },
    {
      "cell_type": "code",
      "execution_count": 41,
      "id": "3bf7ca77",
      "metadata": {
        "id": "3bf7ca77"
      },
      "outputs": [],
      "source": [
        "previous_lineup_vs_lineup_df = pd.DataFrame()\n",
        "previous_player_stats_df = pd.DataFrame()"
      ]
    },
    {
      "cell_type": "code",
      "execution_count": 42,
      "id": "Pv1mTqVyDiHX",
      "metadata": {
        "colab": {
          "base_uri": "https://localhost:8080/",
          "height": 89
        },
        "id": "Pv1mTqVyDiHX",
        "outputId": "86704bbc-68a4-4f5e-f606-1c84a9ef65e5"
      },
      "outputs": [
        {
          "data": {
            "text/html": [
              "<div>\n",
              "<style scoped>\n",
              "    .dataframe tbody tr th:only-of-type {\n",
              "        vertical-align: middle;\n",
              "    }\n",
              "\n",
              "    .dataframe tbody tr th {\n",
              "        vertical-align: top;\n",
              "    }\n",
              "\n",
              "    .dataframe thead th {\n",
              "        text-align: right;\n",
              "    }\n",
              "</style>\n",
              "<table border=\"1\" class=\"dataframe\">\n",
              "  <thead>\n",
              "    <tr style=\"text-align: right;\">\n",
              "      <th></th>\n",
              "    </tr>\n",
              "  </thead>\n",
              "  <tbody>\n",
              "  </tbody>\n",
              "</table>\n",
              "</div>"
            ],
            "text/plain": [
              "Empty DataFrame\n",
              "Columns: []\n",
              "Index: []"
            ]
          },
          "execution_count": 42,
          "metadata": {},
          "output_type": "execute_result"
        }
      ],
      "source": [
        "previous_lineup_vs_lineup_df"
      ]
    },
    {
      "cell_type": "code",
      "execution_count": 43,
      "id": "27d98547",
      "metadata": {
        "id": "27d98547"
      },
      "outputs": [],
      "source": [
        "previous_lineup_vs_lineup_df = pd.read_csv('lineup_vs_lineup_with_team_id.csv', dtype={'game_id': 'object'})\n",
        "previous_player_stats_df = pd.read_csv('player_stats_with_team_id.csv', dtype={'game_id': 'object'})"
      ]
    },
    {
      "cell_type": "code",
      "execution_count": 44,
      "id": "70ff4882",
      "metadata": {
        "id": "70ff4882",
        "outputId": "dab6fe1c-ddef-4f99-b2b9-fe6758a14a46"
      },
      "outputs": [
        {
          "name": "stdout",
          "output_type": "stream",
          "text": [
            "Missing game_ids: ['0022300820']\n"
          ]
        }
      ],
      "source": [
        "# All missing lineup game_ids\n",
        "\n",
        "all_game_ids_series = pd.Series(all_game_ids)\n",
        "missing_game_ids = all_game_ids_series[~all_game_ids_series.isin(previous_lineup_vs_lineup_df['game_id'].unique())].tolist()\n",
        "print(f\"Missing game_ids: {missing_game_ids}\")"
      ]
    },
    {
      "cell_type": "code",
      "execution_count": 45,
      "id": "bba3cff7",
      "metadata": {
        "id": "bba3cff7",
        "outputId": "d4943942-b21f-4693-b98f-432f228e7a07"
      },
      "outputs": [
        {
          "data": {
            "text/plain": [
              "1"
            ]
          },
          "execution_count": 45,
          "metadata": {},
          "output_type": "execute_result"
        }
      ],
      "source": [
        "len(missing_game_ids)"
      ]
    },
    {
      "cell_type": "code",
      "execution_count": 46,
      "id": "486cfadb",
      "metadata": {},
      "outputs": [],
      "source": [
        "wrong_game_ids = [\n",
        "    '0022300820'\n",
        "]"
      ]
    },
    {
      "cell_type": "code",
      "execution_count": 47,
      "id": "7770ad50",
      "metadata": {},
      "outputs": [],
      "source": [
        "missing_game_ids = [game_id for game_id in missing_game_ids if game_id not in wrong_game_ids]"
      ]
    },
    {
      "cell_type": "code",
      "execution_count": 48,
      "id": "75186290",
      "metadata": {},
      "outputs": [
        {
          "data": {
            "text/plain": [
              "0"
            ]
          },
          "execution_count": 48,
          "metadata": {},
          "output_type": "execute_result"
        }
      ],
      "source": [
        "len(missing_game_ids)"
      ]
    },
    {
      "cell_type": "code",
      "execution_count": 34,
      "id": "ae11c7ba",
      "metadata": {
        "id": "ae11c7ba",
        "outputId": "7634d85f-faef-452e-897f-04e324287ca3"
      },
      "outputs": [
        {
          "name": "stderr",
          "output_type": "stream",
          "text": [
            "  0%|          | 0/83 [00:00<?, ?it/s]"
          ]
        },
        {
          "name": "stdout",
          "output_type": "stream",
          "text": [
            "----------------GAME nr.1-----------\n",
            "\n",
            "Data saved to CSV files.\n",
            "Finished game: 0022300132\n"
          ]
        },
        {
          "name": "stderr",
          "output_type": "stream",
          "text": [
            "  1%|          | 1/83 [00:19<26:30, 19.40s/it]"
          ]
        },
        {
          "name": "stdout",
          "output_type": "stream",
          "text": [
            "----------------GAME nr.2-----------\n",
            "\n",
            "Data saved to CSV files.\n",
            "Finished game: 0022300138\n"
          ]
        },
        {
          "name": "stderr",
          "output_type": "stream",
          "text": [
            "  2%|▏         | 2/83 [00:33<22:01, 16.31s/it]"
          ]
        },
        {
          "name": "stdout",
          "output_type": "stream",
          "text": [
            "----------------GAME nr.3-----------\n",
            "\n",
            "Data saved to CSV files.\n",
            "Finished game: 0022300135\n"
          ]
        },
        {
          "name": "stderr",
          "output_type": "stream",
          "text": [
            "  4%|▎         | 3/83 [00:47<20:01, 15.02s/it]"
          ]
        },
        {
          "name": "stdout",
          "output_type": "stream",
          "text": [
            "----------------GAME nr.4-----------\n",
            "\n",
            "Data saved to CSV files.\n",
            "Finished game: 0022300137\n"
          ]
        },
        {
          "name": "stderr",
          "output_type": "stream",
          "text": [
            "  5%|▍         | 4/83 [01:00<19:08, 14.54s/it]"
          ]
        },
        {
          "name": "stdout",
          "output_type": "stream",
          "text": [
            "----------------GAME nr.5-----------\n",
            "\n",
            "Data saved to CSV files.\n",
            "Finished game: 0022300134\n"
          ]
        },
        {
          "name": "stderr",
          "output_type": "stream",
          "text": [
            "  6%|▌         | 5/83 [01:13<18:01, 13.86s/it]"
          ]
        },
        {
          "name": "stdout",
          "output_type": "stream",
          "text": [
            "----------------GAME nr.6-----------\n",
            "\n",
            "Data saved to CSV files.\n",
            "Finished game: 0022300003\n"
          ]
        },
        {
          "name": "stderr",
          "output_type": "stream",
          "text": [
            "  7%|▋         | 6/83 [01:25<17:10, 13.39s/it]"
          ]
        },
        {
          "name": "stdout",
          "output_type": "stream",
          "text": [
            "----------------GAME nr.7-----------\n",
            "\n",
            "Data saved to CSV files.\n",
            "Finished game: 0022300001\n"
          ]
        },
        {
          "name": "stderr",
          "output_type": "stream",
          "text": [
            "  8%|▊         | 7/83 [01:40<17:15, 13.62s/it]"
          ]
        },
        {
          "name": "stdout",
          "output_type": "stream",
          "text": [
            "----------------GAME nr.8-----------\n",
            "\n",
            "Data saved to CSV files.\n",
            "Finished game: 0022300002\n"
          ]
        },
        {
          "name": "stderr",
          "output_type": "stream",
          "text": [
            " 10%|▉         | 8/83 [01:52<16:36, 13.29s/it]"
          ]
        },
        {
          "name": "stdout",
          "output_type": "stream",
          "text": [
            "----------------GAME nr.9-----------\n",
            "\n",
            "Data saved to CSV files.\n",
            "Finished game: 0022300007\n"
          ]
        },
        {
          "name": "stderr",
          "output_type": "stream",
          "text": [
            " 11%|█         | 9/83 [02:06<16:32, 13.41s/it]"
          ]
        },
        {
          "name": "stdout",
          "output_type": "stream",
          "text": [
            "----------------GAME nr.10-----------\n",
            "\n",
            "Data saved to CSV files.\n",
            "Finished game: 0022300006\n"
          ]
        },
        {
          "name": "stderr",
          "output_type": "stream",
          "text": [
            " 12%|█▏        | 10/83 [02:19<16:15, 13.37s/it]"
          ]
        },
        {
          "name": "stdout",
          "output_type": "stream",
          "text": [
            "----------------GAME nr.11-----------\n",
            "\n",
            "Data saved to CSV files.\n",
            "Finished game: 0022300005\n"
          ]
        },
        {
          "name": "stderr",
          "output_type": "stream",
          "text": [
            " 13%|█▎        | 11/83 [02:33<16:12, 13.51s/it]"
          ]
        },
        {
          "name": "stdout",
          "output_type": "stream",
          "text": [
            "----------------GAME nr.12-----------\n",
            "\n",
            "Data saved to CSV files.\n",
            "Finished game: 0022300004\n"
          ]
        },
        {
          "name": "stderr",
          "output_type": "stream",
          "text": [
            " 14%|█▍        | 12/83 [02:47<16:05, 13.61s/it]"
          ]
        },
        {
          "name": "stdout",
          "output_type": "stream",
          "text": [
            "----------------GAME nr.13-----------\n",
            "\n",
            "Data saved to CSV files.\n",
            "Finished game: 0022300129\n"
          ]
        },
        {
          "name": "stderr",
          "output_type": "stream",
          "text": [
            " 16%|█▌        | 13/83 [03:02<16:27, 14.11s/it]"
          ]
        },
        {
          "name": "stdout",
          "output_type": "stream",
          "text": [
            "----------------GAME nr.14-----------\n",
            "\n",
            "Data saved to CSV files.\n",
            "Finished game: 0022300128\n"
          ]
        },
        {
          "name": "stderr",
          "output_type": "stream",
          "text": [
            " 17%|█▋        | 14/83 [03:17<16:28, 14.33s/it]"
          ]
        },
        {
          "name": "stdout",
          "output_type": "stream",
          "text": [
            "----------------GAME nr.15-----------\n",
            "\n",
            "Data saved to CSV files.\n",
            "Finished game: 0022300131\n"
          ]
        },
        {
          "name": "stderr",
          "output_type": "stream",
          "text": [
            " 18%|█▊        | 15/83 [03:30<15:41, 13.85s/it]"
          ]
        },
        {
          "name": "stdout",
          "output_type": "stream",
          "text": [
            "----------------GAME nr.16-----------\n",
            "\n",
            "Data saved to CSV files.\n",
            "Finished game: 0022300130\n"
          ]
        },
        {
          "name": "stderr",
          "output_type": "stream",
          "text": [
            " 19%|█▉        | 16/83 [03:42<15:04, 13.50s/it]"
          ]
        },
        {
          "name": "stdout",
          "output_type": "stream",
          "text": [
            "----------------GAME nr.17-----------\n",
            "\n",
            "Data saved to CSV files.\n",
            "Finished game: 0022300127\n"
          ]
        },
        {
          "name": "stderr",
          "output_type": "stream",
          "text": [
            " 20%|██        | 17/83 [03:55<14:36, 13.29s/it]"
          ]
        },
        {
          "name": "stdout",
          "output_type": "stream",
          "text": [
            "----------------GAME nr.18-----------\n",
            "\n",
            "Data saved to CSV files.\n",
            "Finished game: 0022300126\n"
          ]
        },
        {
          "name": "stderr",
          "output_type": "stream",
          "text": [
            " 22%|██▏       | 18/83 [04:09<14:45, 13.63s/it]"
          ]
        },
        {
          "name": "stdout",
          "output_type": "stream",
          "text": [
            "----------------GAME nr.19-----------\n",
            "\n",
            "Data saved to CSV files.\n",
            "Finished game: 0022300117\n"
          ]
        },
        {
          "name": "stderr",
          "output_type": "stream",
          "text": [
            " 23%|██▎       | 19/83 [04:24<14:57, 14.02s/it]"
          ]
        },
        {
          "name": "stdout",
          "output_type": "stream",
          "text": [
            "----------------GAME nr.20-----------\n",
            "\n",
            "Data saved to CSV files.\n",
            "Finished game: 0022300122\n"
          ]
        },
        {
          "name": "stderr",
          "output_type": "stream",
          "text": [
            " 24%|██▍       | 20/83 [04:45<16:56, 16.14s/it]"
          ]
        },
        {
          "name": "stdout",
          "output_type": "stream",
          "text": [
            "----------------GAME nr.21-----------\n",
            "\n",
            "Data saved to CSV files.\n",
            "Finished game: 0022300124\n"
          ]
        },
        {
          "name": "stderr",
          "output_type": "stream",
          "text": [
            " 25%|██▌       | 21/83 [05:06<18:11, 17.60s/it]"
          ]
        },
        {
          "name": "stdout",
          "output_type": "stream",
          "text": [
            "----------------GAME nr.22-----------\n",
            "\n",
            "Data saved to CSV files.\n",
            "Finished game: 0022300119\n"
          ]
        },
        {
          "name": "stderr",
          "output_type": "stream",
          "text": [
            " 27%|██▋       | 22/83 [05:26<18:31, 18.22s/it]"
          ]
        },
        {
          "name": "stdout",
          "output_type": "stream",
          "text": [
            "----------------GAME nr.23-----------\n",
            "\n",
            "Data saved to CSV files.\n",
            "Finished game: 0022300120\n"
          ]
        },
        {
          "name": "stderr",
          "output_type": "stream",
          "text": [
            " 28%|██▊       | 23/83 [05:48<19:16, 19.28s/it]"
          ]
        },
        {
          "name": "stdout",
          "output_type": "stream",
          "text": [
            "----------------GAME nr.24-----------\n",
            "\n",
            "Data saved to CSV files.\n",
            "Finished game: 0022300125\n"
          ]
        },
        {
          "name": "stderr",
          "output_type": "stream",
          "text": [
            " 29%|██▉       | 24/83 [06:08<19:08, 19.46s/it]"
          ]
        },
        {
          "name": "stdout",
          "output_type": "stream",
          "text": [
            "----------------GAME nr.25-----------\n",
            "\n",
            "Data saved to CSV files.\n",
            "Finished game: 0022300116\n"
          ]
        },
        {
          "name": "stderr",
          "output_type": "stream",
          "text": [
            " 30%|███       | 25/83 [06:28<19:05, 19.75s/it]"
          ]
        },
        {
          "name": "stdout",
          "output_type": "stream",
          "text": [
            "----------------GAME nr.26-----------\n",
            "\n",
            "Data saved to CSV files.\n",
            "Finished game: 0022300123\n"
          ]
        },
        {
          "name": "stderr",
          "output_type": "stream",
          "text": [
            " 31%|███▏      | 26/83 [06:46<18:17, 19.26s/it]"
          ]
        },
        {
          "name": "stdout",
          "output_type": "stream",
          "text": [
            "----------------GAME nr.27-----------\n",
            "\n",
            "Data saved to CSV files.\n",
            "Finished game: 0022300118\n"
          ]
        },
        {
          "name": "stderr",
          "output_type": "stream",
          "text": [
            " 33%|███▎      | 27/83 [06:54<14:40, 15.73s/it]"
          ]
        },
        {
          "name": "stdout",
          "output_type": "stream",
          "text": [
            "----------------GAME nr.28-----------\n",
            "\n",
            "Data saved to CSV files.\n",
            "Finished game: 0022300121\n"
          ]
        },
        {
          "name": "stderr",
          "output_type": "stream",
          "text": [
            " 34%|███▎      | 28/83 [07:02<12:13, 13.33s/it]"
          ]
        },
        {
          "name": "stdout",
          "output_type": "stream",
          "text": [
            "----------------GAME nr.29-----------\n",
            "\n",
            "Data saved to CSV files.\n",
            "Finished game: 0022300115\n"
          ]
        },
        {
          "name": "stderr",
          "output_type": "stream",
          "text": [
            " 35%|███▍      | 29/83 [07:08<10:15, 11.40s/it]"
          ]
        },
        {
          "name": "stdout",
          "output_type": "stream",
          "text": [
            "----------------GAME nr.30-----------\n",
            "\n",
            "Data saved to CSV files.\n",
            "Finished game: 0022300114\n"
          ]
        },
        {
          "name": "stderr",
          "output_type": "stream",
          "text": [
            " 36%|███▌      | 30/83 [07:15<08:48,  9.98s/it]"
          ]
        },
        {
          "name": "stdout",
          "output_type": "stream",
          "text": [
            "----------------GAME nr.31-----------\n",
            "\n",
            "Data saved to CSV files.\n",
            "Finished game: 0022300112\n"
          ]
        },
        {
          "name": "stderr",
          "output_type": "stream",
          "text": [
            " 37%|███▋      | 31/83 [07:22<07:48,  9.02s/it]"
          ]
        },
        {
          "name": "stdout",
          "output_type": "stream",
          "text": [
            "----------------GAME nr.32-----------\n",
            "\n",
            "Data saved to CSV files.\n",
            "Finished game: 0022300113\n"
          ]
        },
        {
          "name": "stderr",
          "output_type": "stream",
          "text": [
            " 39%|███▊      | 32/83 [07:30<07:24,  8.71s/it]"
          ]
        },
        {
          "name": "stdout",
          "output_type": "stream",
          "text": [
            "----------------GAME nr.33-----------\n",
            "\n",
            "Data saved to CSV files.\n",
            "Finished game: 0022300108\n"
          ]
        },
        {
          "name": "stderr",
          "output_type": "stream",
          "text": [
            " 40%|███▉      | 33/83 [07:37<06:54,  8.28s/it]"
          ]
        },
        {
          "name": "stdout",
          "output_type": "stream",
          "text": [
            "----------------GAME nr.34-----------\n",
            "\n",
            "Data saved to CSV files.\n",
            "Finished game: 0022300101\n"
          ]
        },
        {
          "name": "stderr",
          "output_type": "stream",
          "text": [
            " 41%|████      | 34/83 [07:44<06:26,  7.89s/it]"
          ]
        },
        {
          "name": "stdout",
          "output_type": "stream",
          "text": [
            "----------------GAME nr.35-----------\n",
            "\n",
            "Data saved to CSV files.\n",
            "Finished game: 0022300107\n"
          ]
        },
        {
          "name": "stderr",
          "output_type": "stream",
          "text": [
            " 42%|████▏     | 35/83 [07:51<06:06,  7.63s/it]"
          ]
        },
        {
          "name": "stdout",
          "output_type": "stream",
          "text": [
            "----------------GAME nr.36-----------\n",
            "\n",
            "Data saved to CSV files.\n",
            "Finished game: 0022300104\n"
          ]
        },
        {
          "name": "stderr",
          "output_type": "stream",
          "text": [
            " 43%|████▎     | 36/83 [07:58<05:50,  7.46s/it]"
          ]
        },
        {
          "name": "stdout",
          "output_type": "stream",
          "text": [
            "----------------GAME nr.37-----------\n",
            "\n",
            "Data saved to CSV files.\n",
            "Finished game: 0022300105\n"
          ]
        },
        {
          "name": "stderr",
          "output_type": "stream",
          "text": [
            " 45%|████▍     | 37/83 [08:05<05:38,  7.36s/it]"
          ]
        },
        {
          "name": "stdout",
          "output_type": "stream",
          "text": [
            "----------------GAME nr.38-----------\n",
            "\n",
            "Data saved to CSV files.\n",
            "Finished game: 0022300111\n"
          ]
        },
        {
          "name": "stderr",
          "output_type": "stream",
          "text": [
            " 46%|████▌     | 38/83 [08:12<05:21,  7.14s/it]"
          ]
        },
        {
          "name": "stdout",
          "output_type": "stream",
          "text": [
            "----------------GAME nr.39-----------\n",
            "\n",
            "Data saved to CSV files.\n",
            "Finished game: 0022300102\n"
          ]
        },
        {
          "name": "stderr",
          "output_type": "stream",
          "text": [
            " 47%|████▋     | 39/83 [08:19<05:12,  7.11s/it]"
          ]
        },
        {
          "name": "stdout",
          "output_type": "stream",
          "text": [
            "----------------GAME nr.40-----------\n",
            "\n",
            "Data saved to CSV files.\n",
            "Finished game: 0022300109\n"
          ]
        },
        {
          "name": "stderr",
          "output_type": "stream",
          "text": [
            " 48%|████▊     | 40/83 [08:26<05:03,  7.06s/it]"
          ]
        },
        {
          "name": "stdout",
          "output_type": "stream",
          "text": [
            "----------------GAME nr.41-----------\n",
            "\n",
            "Data saved to CSV files.\n",
            "Finished game: 0022300110\n"
          ]
        },
        {
          "name": "stderr",
          "output_type": "stream",
          "text": [
            " 49%|████▉     | 41/83 [08:33<04:53,  6.98s/it]"
          ]
        },
        {
          "name": "stdout",
          "output_type": "stream",
          "text": [
            "----------------GAME nr.42-----------\n",
            "\n",
            "Data saved to CSV files.\n",
            "Finished game: 0022300106\n"
          ]
        },
        {
          "name": "stderr",
          "output_type": "stream",
          "text": [
            " 51%|█████     | 42/83 [08:40<04:45,  6.96s/it]"
          ]
        },
        {
          "name": "stdout",
          "output_type": "stream",
          "text": [
            "----------------GAME nr.43-----------\n",
            "\n",
            "Data saved to CSV files.\n",
            "Finished game: 0022300103\n"
          ]
        },
        {
          "name": "stderr",
          "output_type": "stream",
          "text": [
            " 52%|█████▏    | 43/83 [08:47<04:41,  7.03s/it]"
          ]
        },
        {
          "name": "stdout",
          "output_type": "stream",
          "text": [
            "----------------GAME nr.44-----------\n",
            "\n",
            "Data saved to CSV files.\n",
            "Finished game: 0022300100\n"
          ]
        },
        {
          "name": "stderr",
          "output_type": "stream",
          "text": [
            " 53%|█████▎    | 44/83 [08:54<04:36,  7.08s/it]"
          ]
        },
        {
          "name": "stdout",
          "output_type": "stream",
          "text": [
            "----------------GAME nr.45-----------\n",
            "\n",
            "Data saved to CSV files.\n",
            "Finished game: 0022300099\n"
          ]
        },
        {
          "name": "stderr",
          "output_type": "stream",
          "text": [
            " 54%|█████▍    | 45/83 [09:01<04:31,  7.15s/it]"
          ]
        },
        {
          "name": "stdout",
          "output_type": "stream",
          "text": [
            "----------------GAME nr.46-----------\n",
            "\n",
            "Data saved to CSV files.\n",
            "Finished game: 0022300098\n"
          ]
        },
        {
          "name": "stderr",
          "output_type": "stream",
          "text": [
            " 55%|█████▌    | 46/83 [09:09<04:28,  7.26s/it]"
          ]
        },
        {
          "name": "stdout",
          "output_type": "stream",
          "text": [
            "----------------GAME nr.47-----------\n",
            "\n",
            "Data saved to CSV files.\n",
            "Finished game: 0022300096\n"
          ]
        },
        {
          "name": "stderr",
          "output_type": "stream",
          "text": [
            " 57%|█████▋    | 47/83 [09:16<04:15,  7.10s/it]"
          ]
        },
        {
          "name": "stdout",
          "output_type": "stream",
          "text": [
            "----------------GAME nr.48-----------\n",
            "\n",
            "Data saved to CSV files.\n",
            "Finished game: 0022300097\n"
          ]
        },
        {
          "name": "stderr",
          "output_type": "stream",
          "text": [
            " 58%|█████▊    | 48/83 [09:22<04:04,  7.00s/it]"
          ]
        },
        {
          "name": "stdout",
          "output_type": "stream",
          "text": [
            "----------------GAME nr.49-----------\n",
            "\n",
            "Data saved to CSV files.\n",
            "Finished game: 0022300095\n"
          ]
        },
        {
          "name": "stderr",
          "output_type": "stream",
          "text": [
            " 59%|█████▉    | 49/83 [09:29<03:54,  6.89s/it]"
          ]
        },
        {
          "name": "stdout",
          "output_type": "stream",
          "text": [
            "----------------GAME nr.50-----------\n",
            "\n",
            "Data saved to CSV files.\n",
            "Finished game: 0022300090\n"
          ]
        },
        {
          "name": "stderr",
          "output_type": "stream",
          "text": [
            " 60%|██████    | 50/83 [09:36<03:49,  6.95s/it]"
          ]
        },
        {
          "name": "stdout",
          "output_type": "stream",
          "text": [
            "----------------GAME nr.51-----------\n",
            "\n",
            "Data saved to CSV files.\n",
            "Finished game: 0022300093\n"
          ]
        },
        {
          "name": "stderr",
          "output_type": "stream",
          "text": [
            " 61%|██████▏   | 51/83 [09:43<03:39,  6.87s/it]"
          ]
        },
        {
          "name": "stdout",
          "output_type": "stream",
          "text": [
            "----------------GAME nr.52-----------\n",
            "\n",
            "Data saved to CSV files.\n",
            "Finished game: 0022300094\n"
          ]
        },
        {
          "name": "stderr",
          "output_type": "stream",
          "text": [
            " 63%|██████▎   | 52/83 [09:50<03:38,  7.05s/it]"
          ]
        },
        {
          "name": "stdout",
          "output_type": "stream",
          "text": [
            "----------------GAME nr.53-----------\n",
            "\n",
            "Data saved to CSV files.\n",
            "Finished game: 0022300088\n"
          ]
        },
        {
          "name": "stderr",
          "output_type": "stream",
          "text": [
            " 64%|██████▍   | 53/83 [09:57<03:30,  7.03s/it]"
          ]
        },
        {
          "name": "stdout",
          "output_type": "stream",
          "text": [
            "----------------GAME nr.54-----------\n",
            "\n",
            "Data saved to CSV files.\n",
            "Finished game: 0022300092\n"
          ]
        },
        {
          "name": "stderr",
          "output_type": "stream",
          "text": [
            " 65%|██████▌   | 54/83 [10:04<03:22,  6.98s/it]"
          ]
        },
        {
          "name": "stdout",
          "output_type": "stream",
          "text": [
            "----------------GAME nr.55-----------\n",
            "\n",
            "Data saved to CSV files.\n",
            "Finished game: 0022300089\n"
          ]
        },
        {
          "name": "stderr",
          "output_type": "stream",
          "text": [
            " 66%|██████▋   | 55/83 [10:11<03:18,  7.08s/it]"
          ]
        },
        {
          "name": "stdout",
          "output_type": "stream",
          "text": [
            "----------------GAME nr.56-----------\n",
            "\n",
            "Data saved to CSV files.\n",
            "Finished game: 0022300091\n"
          ]
        },
        {
          "name": "stderr",
          "output_type": "stream",
          "text": [
            " 67%|██████▋   | 56/83 [10:18<03:09,  7.01s/it]"
          ]
        },
        {
          "name": "stdout",
          "output_type": "stream",
          "text": [
            "----------------GAME nr.57-----------\n",
            "\n",
            "Data saved to CSV files.\n",
            "Finished game: 0022300082\n"
          ]
        },
        {
          "name": "stderr",
          "output_type": "stream",
          "text": [
            " 69%|██████▊   | 57/83 [10:25<03:03,  7.05s/it]"
          ]
        },
        {
          "name": "stdout",
          "output_type": "stream",
          "text": [
            "----------------GAME nr.58-----------\n",
            "\n",
            "Data saved to CSV files.\n",
            "Finished game: 0022300079\n"
          ]
        },
        {
          "name": "stderr",
          "output_type": "stream",
          "text": [
            " 70%|██████▉   | 58/83 [10:32<02:55,  7.03s/it]"
          ]
        },
        {
          "name": "stdout",
          "output_type": "stream",
          "text": [
            "----------------GAME nr.59-----------\n",
            "\n",
            "Data saved to CSV files.\n",
            "Finished game: 0022300080\n"
          ]
        },
        {
          "name": "stderr",
          "output_type": "stream",
          "text": [
            " 71%|███████   | 59/83 [10:40<02:50,  7.12s/it]"
          ]
        },
        {
          "name": "stdout",
          "output_type": "stream",
          "text": [
            "----------------GAME nr.60-----------\n",
            "\n",
            "Data saved to CSV files.\n",
            "Finished game: 0022300077\n"
          ]
        },
        {
          "name": "stderr",
          "output_type": "stream",
          "text": [
            " 72%|███████▏  | 60/83 [10:47<02:44,  7.15s/it]"
          ]
        },
        {
          "name": "stdout",
          "output_type": "stream",
          "text": [
            "----------------GAME nr.61-----------\n",
            "\n",
            "Data saved to CSV files.\n",
            "Finished game: 0022300084\n"
          ]
        },
        {
          "name": "stderr",
          "output_type": "stream",
          "text": [
            " 73%|███████▎  | 61/83 [10:54<02:37,  7.16s/it]"
          ]
        },
        {
          "name": "stdout",
          "output_type": "stream",
          "text": [
            "----------------GAME nr.62-----------\n",
            "\n",
            "Data saved to CSV files.\n",
            "Finished game: 0022300078\n"
          ]
        },
        {
          "name": "stderr",
          "output_type": "stream",
          "text": [
            " 75%|███████▍  | 62/83 [11:01<02:29,  7.12s/it]"
          ]
        },
        {
          "name": "stdout",
          "output_type": "stream",
          "text": [
            "----------------GAME nr.63-----------\n",
            "\n",
            "Data saved to CSV files.\n",
            "Finished game: 0022300083\n"
          ]
        },
        {
          "name": "stderr",
          "output_type": "stream",
          "text": [
            " 76%|███████▌  | 63/83 [11:08<02:22,  7.11s/it]"
          ]
        },
        {
          "name": "stdout",
          "output_type": "stream",
          "text": [
            "----------------GAME nr.64-----------\n",
            "\n",
            "Data saved to CSV files.\n",
            "Finished game: 0022300086\n"
          ]
        },
        {
          "name": "stderr",
          "output_type": "stream",
          "text": [
            " 77%|███████▋  | 64/83 [11:15<02:13,  7.04s/it]"
          ]
        },
        {
          "name": "stdout",
          "output_type": "stream",
          "text": [
            "----------------GAME nr.65-----------\n",
            "\n",
            "Data saved to CSV files.\n",
            "Finished game: 0022300087\n"
          ]
        },
        {
          "name": "stderr",
          "output_type": "stream",
          "text": [
            " 78%|███████▊  | 65/83 [11:23<02:12,  7.39s/it]"
          ]
        },
        {
          "name": "stdout",
          "output_type": "stream",
          "text": [
            "----------------GAME nr.66-----------\n",
            "\n",
            "Data saved to CSV files.\n",
            "Finished game: 0022300081\n"
          ]
        },
        {
          "name": "stderr",
          "output_type": "stream",
          "text": [
            " 80%|███████▉  | 66/83 [11:31<02:05,  7.36s/it]"
          ]
        },
        {
          "name": "stdout",
          "output_type": "stream",
          "text": [
            "----------------GAME nr.67-----------\n",
            "\n",
            "Data saved to CSV files.\n",
            "Finished game: 0022300085\n"
          ]
        },
        {
          "name": "stderr",
          "output_type": "stream",
          "text": [
            " 81%|████████  | 67/83 [11:38<01:56,  7.26s/it]"
          ]
        },
        {
          "name": "stdout",
          "output_type": "stream",
          "text": [
            "----------------GAME nr.68-----------\n",
            "\n",
            "Data saved to CSV files.\n",
            "Finished game: 0022300075\n"
          ]
        },
        {
          "name": "stderr",
          "output_type": "stream",
          "text": [
            " 82%|████████▏ | 68/83 [11:45<01:51,  7.42s/it]"
          ]
        },
        {
          "name": "stdout",
          "output_type": "stream",
          "text": [
            "----------------GAME nr.69-----------\n",
            "\n",
            "Data saved to CSV files.\n",
            "Finished game: 0022300076\n"
          ]
        },
        {
          "name": "stderr",
          "output_type": "stream",
          "text": [
            " 83%|████████▎ | 69/83 [11:52<01:41,  7.25s/it]"
          ]
        },
        {
          "name": "stdout",
          "output_type": "stream",
          "text": [
            "----------------GAME nr.70-----------\n",
            "\n",
            "Data saved to CSV files.\n",
            "Finished game: 0022300074\n"
          ]
        },
        {
          "name": "stderr",
          "output_type": "stream",
          "text": [
            " 84%|████████▍ | 70/83 [11:59<01:33,  7.16s/it]"
          ]
        },
        {
          "name": "stdout",
          "output_type": "stream",
          "text": [
            "----------------GAME nr.71-----------\n",
            "\n",
            "Data saved to CSV files.\n",
            "Finished game: 0022300070\n"
          ]
        },
        {
          "name": "stderr",
          "output_type": "stream",
          "text": [
            " 86%|████████▌ | 71/83 [12:06<01:25,  7.14s/it]"
          ]
        },
        {
          "name": "stdout",
          "output_type": "stream",
          "text": [
            "----------------GAME nr.72-----------\n",
            "\n",
            "Data saved to CSV files.\n",
            "Finished game: 0022300069\n"
          ]
        },
        {
          "name": "stderr",
          "output_type": "stream",
          "text": [
            " 87%|████████▋ | 72/83 [12:13<01:17,  7.04s/it]"
          ]
        },
        {
          "name": "stdout",
          "output_type": "stream",
          "text": [
            "----------------GAME nr.73-----------\n",
            "\n",
            "Data saved to CSV files.\n",
            "Finished game: 0022300072\n"
          ]
        },
        {
          "name": "stderr",
          "output_type": "stream",
          "text": [
            " 88%|████████▊ | 73/83 [12:21<01:12,  7.23s/it]"
          ]
        },
        {
          "name": "stdout",
          "output_type": "stream",
          "text": [
            "----------------GAME nr.74-----------\n",
            "\n",
            "Data saved to CSV files.\n",
            "Finished game: 0022300071\n"
          ]
        },
        {
          "name": "stderr",
          "output_type": "stream",
          "text": [
            " 89%|████████▉ | 74/83 [12:28<01:04,  7.20s/it]"
          ]
        },
        {
          "name": "stdout",
          "output_type": "stream",
          "text": [
            "----------------GAME nr.75-----------\n",
            "\n",
            "Data saved to CSV files.\n",
            "Finished game: 0022300073\n"
          ]
        },
        {
          "name": "stderr",
          "output_type": "stream",
          "text": [
            " 90%|█████████ | 75/83 [12:36<00:58,  7.31s/it]"
          ]
        },
        {
          "name": "stdout",
          "output_type": "stream",
          "text": [
            "----------------GAME nr.76-----------\n",
            "\n",
            "Data saved to CSV files.\n",
            "Finished game: 0022300064\n"
          ]
        },
        {
          "name": "stderr",
          "output_type": "stream",
          "text": [
            " 92%|█████████▏| 76/83 [12:43<00:50,  7.25s/it]"
          ]
        },
        {
          "name": "stdout",
          "output_type": "stream",
          "text": [
            "----------------GAME nr.77-----------\n",
            "\n",
            "Data saved to CSV files.\n",
            "Finished game: 0022300067\n"
          ]
        },
        {
          "name": "stderr",
          "output_type": "stream",
          "text": [
            " 93%|█████████▎| 77/83 [12:50<00:43,  7.19s/it]"
          ]
        },
        {
          "name": "stdout",
          "output_type": "stream",
          "text": [
            "----------------GAME nr.78-----------\n",
            "\n",
            "Data saved to CSV files.\n",
            "Finished game: 0022300065\n"
          ]
        },
        {
          "name": "stderr",
          "output_type": "stream",
          "text": [
            " 94%|█████████▍| 78/83 [12:57<00:35,  7.09s/it]"
          ]
        },
        {
          "name": "stdout",
          "output_type": "stream",
          "text": [
            "----------------GAME nr.79-----------\n",
            "\n",
            "Data saved to CSV files.\n",
            "Finished game: 0022300063\n"
          ]
        },
        {
          "name": "stderr",
          "output_type": "stream",
          "text": [
            " 95%|█████████▌| 79/83 [13:05<00:29,  7.40s/it]"
          ]
        },
        {
          "name": "stdout",
          "output_type": "stream",
          "text": [
            "----------------GAME nr.80-----------\n",
            "\n",
            "Data saved to CSV files.\n",
            "Finished game: 0022300066\n"
          ]
        },
        {
          "name": "stderr",
          "output_type": "stream",
          "text": [
            " 96%|█████████▋| 80/83 [13:11<00:21,  7.23s/it]"
          ]
        },
        {
          "name": "stdout",
          "output_type": "stream",
          "text": [
            "----------------GAME nr.81-----------\n",
            "\n",
            "Data saved to CSV files.\n",
            "Finished game: 0022300068\n"
          ]
        },
        {
          "name": "stderr",
          "output_type": "stream",
          "text": [
            " 98%|█████████▊| 81/83 [13:20<00:15,  7.65s/it]"
          ]
        },
        {
          "name": "stdout",
          "output_type": "stream",
          "text": [
            "----------------GAME nr.82-----------\n",
            "\n",
            "Data saved to CSV files.\n",
            "Finished game: 0022300061\n"
          ]
        },
        {
          "name": "stderr",
          "output_type": "stream",
          "text": [
            " 99%|█████████▉| 82/83 [13:27<00:07,  7.44s/it]"
          ]
        },
        {
          "name": "stdout",
          "output_type": "stream",
          "text": [
            "----------------GAME nr.83-----------\n",
            "\n",
            "Data saved to CSV files.\n",
            "Finished game: 0022300062\n"
          ]
        },
        {
          "name": "stderr",
          "output_type": "stream",
          "text": [
            "100%|██████████| 83/83 [13:34<00:00,  9.81s/it]\n"
          ]
        }
      ],
      "source": [
        "# Store all results\n",
        "lineup_vs_lineup_data = []\n",
        "player_stats_data = []\n",
        "nr = 1\n",
        "for game_id in tqdm(missing_game_ids):\n",
        "    try:\n",
        "        # --- Load game data ---\n",
        "        print(f\"----------------GAME nr.{nr}-----------\\n\")\n",
        "        nr += 1\n",
        "        # Load play-by-play data\n",
        "        pbp = PlayByPlayV2(game_id=game_id).get_data_frames()[0]\n",
        "\n",
        "        # Load player rotation data\n",
        "        rotation = GameRotation(game_id=game_id)\n",
        "        home_df = rotation.home_team.get_data_frame()\n",
        "        away_df = rotation.away_team.get_data_frame()\n",
        "\n",
        "        # Add team labels\n",
        "        home_df['TEAM_SIDE'] = 'home'\n",
        "        away_df['TEAM_SIDE'] = 'away'\n",
        "        rotation_df = pd.concat([home_df, away_df], ignore_index=True)\n",
        "\n",
        "        # Create a timeline of substitution events\n",
        "        events = []\n",
        "        for _, row in rotation_df.iterrows():\n",
        "            player = f\"{row['PLAYER_FIRST']} {row['PLAYER_LAST']}\"\n",
        "            team = row['TEAM_SIDE']\n",
        "            team_id = row['TEAM_ID']\n",
        "            events.append({'time': row['IN_TIME_REAL'], 'player': player, 'team': team, 'team_id': team_id, 'action': 'in'})\n",
        "            events.append({'time': row['OUT_TIME_REAL'], 'player': player, 'team': team, 'team_id': team_id, 'action': 'out'})\n",
        "        events = sorted(events, key=lambda x: x['time'])\n",
        "\n",
        "        lineup_segments = []\n",
        "        current_lineups = {'home': set(), 'away': set()}\n",
        "        prev_time = 0\n",
        "\n",
        "        home_team_id = None\n",
        "        away_team_id = None\n",
        "\n",
        "        for event in events:\n",
        "            current_time = event['time']\n",
        "\n",
        "            if home_team_id is None or away_team_id is None:\n",
        "                if event['team'] == 'home':\n",
        "                    home_team_id = event['team_id']\n",
        "                elif event['team'] == 'away':\n",
        "                    away_team_id = event['team_id']\n",
        "\n",
        "            if all(len(lineup) == 5 for lineup in current_lineups.values()):\n",
        "                lineup_segments.append({\n",
        "                    'start_time': prev_time,\n",
        "                    'end_time': current_time,\n",
        "                    'home_lineup': tuple(sorted(current_lineups['home'])),\n",
        "                    'away_lineup': tuple(sorted(current_lineups['away'])),\n",
        "                    'duration': current_time - prev_time,\n",
        "                    'home_team_id': home_team_id,\n",
        "                    'away_team_id': away_team_id\n",
        "                })\n",
        "\n",
        "            team = event['team']\n",
        "            player = event['player']\n",
        "            if event['action'] == 'in':\n",
        "                current_lineups[team].add(player)\n",
        "            else:\n",
        "                current_lineups[team].discard(player)\n",
        "\n",
        "            prev_time = current_time\n",
        "\n",
        "        lineup_df = pd.DataFrame(lineup_segments)\n",
        "        lineup_df[['start_time', 'end_time', 'duration']] = lineup_df[['start_time', 'end_time', 'duration']] / 10\n",
        "        lineup_df[['period', 'start_pctimestring']] = lineup_df['start_time'].apply(lambda x: pd.Series(get_period_and_clock(x)))\n",
        "        lineup_df[['end_period', 'end_pctimestring']] = lineup_df['end_time'].apply(lambda x: pd.Series(get_period_and_clock(x)))\n",
        "\n",
        "        pbp['GAME_CLOCK_SEC'] = pbp.apply(lambda row: convert_to_game_time(row['PERIOD'], row['PCTIMESTRING']), axis=1)\n",
        "        pbp[['HOME_LINEUP', 'AWAY_LINEUP']] = pbp.apply(lambda row: find_lineup(row, lineup_df), axis=1)\n",
        "\n",
        "        important_event_types = list(range(1, 14))\n",
        "        lineup_timeline = []\n",
        "\n",
        "        for _, row in pbp.iterrows():\n",
        "            if row['EVENTMSGTYPE'] in important_event_types and isinstance(row['HOME_LINEUP'], tuple):\n",
        "                lineup_timeline.append({\n",
        "                    'EVENTNUM': row['EVENTNUM'],\n",
        "                    'PERIOD': row['PERIOD'],\n",
        "                    'TIME': row['PCTIMESTRING'],\n",
        "                    'EVENT_TYPE': row['EVENTMSGTYPE'],\n",
        "                    'SCORE': row['SCORE'],\n",
        "                    'HOME_DESCRIPTION': str(row['HOMEDESCRIPTION']) if pd.notna(row['HOMEDESCRIPTION']) else '',\n",
        "                    'AWAY_DESCRIPTION': str(row['VISITORDESCRIPTION']) if pd.notna(row['VISITORDESCRIPTION']) else '',\n",
        "                    'HOME_LINEUP': row['HOME_LINEUP'],\n",
        "                    'AWAY_LINEUP': row['AWAY_LINEUP'],\n",
        "                    'PLAYER1_NAME': row['PLAYER1_NAME'],\n",
        "                    'PLAYER2_NAME': row['PLAYER2_NAME'],\n",
        "                    'PLAYER3_NAME': row['PLAYER3_NAME']\n",
        "                })\n",
        "\n",
        "        lineup_event_df = pd.DataFrame(lineup_timeline)\n",
        "        lineup_event_df.head()\n",
        "\n",
        "        lineup_segments = []\n",
        "        segment = None\n",
        "        prev_home = None\n",
        "        prev_away = None\n",
        "        last_shot_team = None\n",
        "\n",
        "        SKIP_KEYWORDS = ['SUB', 'Jump Ball', 'Delay', 'Offensive', 'Timeout', 'Rebound']\n",
        "\n",
        "        for _, row in lineup_event_df.iterrows():\n",
        "            home_lineup = tuple(sorted(row['HOME_LINEUP']))\n",
        "            away_lineup = tuple(sorted(row['AWAY_LINEUP']))\n",
        "\n",
        "            # Start new segment if lineups changed\n",
        "            if segment is None or home_lineup != prev_home or away_lineup != prev_away:\n",
        "                if segment:\n",
        "                    segment['end_event'] = row['EVENTNUM']\n",
        "                    segment['end_time'] = row['TIME']\n",
        "                    lineup_segments.append(segment)\n",
        "\n",
        "                segment = {\n",
        "                    'home_lineup': home_lineup,\n",
        "                    'away_lineup': away_lineup,\n",
        "                    'start_event': row['EVENTNUM'],\n",
        "                    'start_time': row['TIME'],\n",
        "                    'period': row['PERIOD'],\n",
        "                    'team_stats': {'home': defaultdict(int), 'away': defaultdict(int)},\n",
        "                    'player_stats': defaultdict(lambda: defaultdict(int)),\n",
        "                    'events': []\n",
        "                }\n",
        "\n",
        "                prev_home = home_lineup\n",
        "                prev_away = away_lineup\n",
        "\n",
        "            segment['events'].append({\n",
        "                'EVENTNUM': row['EVENTNUM'],\n",
        "                'TIME': row['TIME'],\n",
        "                'HOME_DESCRIPTION': row['HOME_DESCRIPTION'],\n",
        "                'AWAY_DESCRIPTION': row['AWAY_DESCRIPTION']\n",
        "            })\n",
        "\n",
        "            # Process event descriptions\n",
        "            for team_side, desc in [('home', row['HOME_DESCRIPTION']), ('away', row['AWAY_DESCRIPTION'])]:\n",
        "                if not desc or any(skip in desc for skip in SKIP_KEYWORDS):\n",
        "                    continue\n",
        "\n",
        "                lineup = home_lineup if team_side == 'home' else away_lineup\n",
        "                players_on_court = set(lineup)\n",
        "\n",
        "                def inc(stat, players, value=1):\n",
        "                    segment['team_stats'][team_side][stat] += value\n",
        "                    for p in players:\n",
        "                        if p in players_on_court:\n",
        "                            segment['player_stats'][p][stat] += value\n",
        "\n",
        "                # Detect player involvement\n",
        "                involved_players = [row['PLAYER1_NAME'], row['PLAYER2_NAME'], row['PLAYER3_NAME']]\n",
        "                involved_players = [p for p in involved_players if isinstance(p, str)]\n",
        "\n",
        "                # Scoring\n",
        "                if '3PT' in desc and 'MISS' not in desc:\n",
        "                    inc('3pt_made', [row['PLAYER1_NAME']])\n",
        "                    inc('points', [row['PLAYER1_NAME']], 3)\n",
        "                elif 'Free Throw' in desc and 'MISS' not in desc:\n",
        "                    inc('ft_made', [row['PLAYER1_NAME']])\n",
        "                    inc('points', [row['PLAYER1_NAME']], 1)\n",
        "                elif 'MISS' not in desc and any(kw in desc for kw in ['Fadeaway', 'Dunk', 'Layup', 'Jump Shot', 'Hook Shot']):\n",
        "                    inc('2pt_made', [row['PLAYER1_NAME']])\n",
        "                    inc('points', [row['PLAYER1_NAME']], 2)\n",
        "                elif 'MISS' in desc:\n",
        "                    last_shot_team = team_side\n",
        "\n",
        "                # Other actions\n",
        "                if 'AST' in desc:\n",
        "                    inc('assists', [row['PLAYER2_NAME']])\n",
        "                if 'Turnover' in desc:\n",
        "                    inc('turnovers', [row['PLAYER1_NAME']])\n",
        "                if 'STL' in desc:\n",
        "                    inc('steals', [row['PLAYER2_NAME']])\n",
        "                if 'BLK' in desc:\n",
        "                    inc('blocks', [row['PLAYER2_NAME']])\n",
        "                if '.FOUL' in desc:\n",
        "                    inc('fouls', [row['PLAYER1_NAME']])\n",
        "\n",
        "                # Rebounds\n",
        "                if 'REBOUND' in desc:\n",
        "                    rebound_team = team_side\n",
        "                    rebounder = row['PLAYER1_NAME']\n",
        "                    if last_shot_team:\n",
        "                        if rebound_team == last_shot_team:\n",
        "                            inc('off_rebounds', [rebounder])\n",
        "                        else:\n",
        "                            inc('def_rebounds', [rebounder])\n",
        "                    last_shot_team = None\n",
        "\n",
        "        # Final flush\n",
        "        if segment:\n",
        "            segment['end_event'] = row['EVENTNUM']\n",
        "            segment['end_time'] = row['TIME']\n",
        "            lineup_segments.append(segment)\n",
        "\n",
        "\n",
        "\n",
        "        for seg in lineup_segments:\n",
        "            row = {\n",
        "                'game_id': game_id,\n",
        "                'period': seg['period'],\n",
        "                'start_event': seg['start_event'],\n",
        "                'end_event': seg['end_event'],\n",
        "                'start_time': seg['start_time'],\n",
        "                'end_time': seg['end_time'],\n",
        "                'home_lineup': seg['home_lineup'],\n",
        "                'away_lineup': seg['away_lineup'],\n",
        "                'home_team_id': lineup_df['home_team_id'].iloc[0],\n",
        "                'away_team_id': lineup_df['away_team_id'].iloc[0]\n",
        "            }\n",
        "\n",
        "            for team in ['home', 'away']:\n",
        "                for stat, val in seg['team_stats'][team].items():\n",
        "                    row[f'{team}_{stat}'] = val\n",
        "\n",
        "            lineup_vs_lineup_data.append(row)\n",
        "\n",
        "        # lineup_vs_lineup_df = pd.DataFrame(lineup_vs_lineup_data)\n",
        "\n",
        "\n",
        "\n",
        "        for seg in lineup_segments:\n",
        "            for player, stats in seg['player_stats'].items():\n",
        "                row = {\n",
        "                    'game_id': game_id,\n",
        "                    'player': player,\n",
        "                    'period': seg['period'],\n",
        "                    'start_event': seg['start_event'],\n",
        "                    'end_event': seg['end_event'],\n",
        "                    'start_time': seg['start_time'],\n",
        "                    'end_time': seg['end_time'],\n",
        "                    'home_lineup': seg['home_lineup'],\n",
        "                    'away_lineup': seg['away_lineup']\n",
        "                }\n",
        "\n",
        "                for stat, val in stats.items():\n",
        "                    row[stat] = val\n",
        "\n",
        "                player_stats_data.append(row)\n",
        "\n",
        "        player_stats_df = pd.DataFrame(player_stats_data)\n",
        "\n",
        "        # Convert to DataFrame\n",
        "        lineup_vs_lineup_df = pd.DataFrame(lineup_vs_lineup_data)\n",
        "        player_stats_df = pd.DataFrame(player_stats_data)\n",
        "\n",
        "        # Concatenate with previous data\n",
        "        lineup_vs_lineup_df = pd.concat([previous_lineup_vs_lineup_df, lineup_vs_lineup_df], ignore_index=True)\n",
        "        player_stats_df = pd.concat([previous_player_stats_df, player_stats_df], ignore_index=True)\n",
        "\n",
        "        # Save to CSV\n",
        "        lineup_vs_lineup_df.to_csv('lineup_vs_lineup_with_team_id.csv', index=False)\n",
        "        player_stats_df.to_csv('player_stats_with_team_id.csv', index=False)\n",
        "        print(\"Data saved to CSV files.\")\n",
        "\n",
        "        print(f\"Finished game: {game_id}\")\n",
        "\n",
        "        # Respect rate limits\n",
        "        time.sleep(1)\n",
        "\n",
        "    except Exception as e:\n",
        "        print(f\"Failed on game {game_id}: {e}\")\n",
        "        break"
      ]
    },
    {
      "cell_type": "code",
      "execution_count": null,
      "id": "d3740ebb",
      "metadata": {},
      "outputs": [],
      "source": []
    }
  ],
  "metadata": {
    "colab": {
      "provenance": []
    },
    "kernelspec": {
      "display_name": ".venv",
      "language": "python",
      "name": "python3"
    },
    "language_info": {
      "codemirror_mode": {
        "name": "ipython",
        "version": 3
      },
      "file_extension": ".py",
      "mimetype": "text/x-python",
      "name": "python",
      "nbconvert_exporter": "python",
      "pygments_lexer": "ipython3",
      "version": "3.9.7"
    }
  },
  "nbformat": 4,
  "nbformat_minor": 5
}
