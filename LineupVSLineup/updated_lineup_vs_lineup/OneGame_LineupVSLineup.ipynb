{
  "cells": [
    {
      "cell_type": "markdown",
      "metadata": {
        "id": "pReiXUBWl9zI"
      },
      "source": [
        "# Prequisite"
      ]
    },
    {
      "cell_type": "code",
      "execution_count": 1,
      "metadata": {
        "colab": {
          "base_uri": "https://localhost:8080/",
          "height": 981
        },
        "collapsed": true,
        "id": "tYWQjsZolvVh",
        "outputId": "6aa55510-6647-4503-d7c7-0ad42bfd7cf7"
      },
      "outputs": [
        {
          "name": "stdout",
          "output_type": "stream",
          "text": [
            "Collecting numpy==1.26.4\n",
            "  Downloading numpy-1.26.4-cp311-cp311-manylinux_2_17_x86_64.manylinux2014_x86_64.whl.metadata (61 kB)\n",
            "\u001b[?25l     \u001b[90m━━━━━━━━━━━━━━━━━━━━━━━━━━━━━━━━━━━━━━━━\u001b[0m \u001b[32m0.0/61.0 kB\u001b[0m \u001b[31m?\u001b[0m eta \u001b[36m-:--:--\u001b[0m\r\u001b[2K     \u001b[90m━━━━━━━━━━━━━━━━━━━━━━━━━━━━━━━━━━━━━━━━\u001b[0m \u001b[32m61.0/61.0 kB\u001b[0m \u001b[31m62.0 MB/s\u001b[0m eta \u001b[36m0:00:00\u001b[0m\n",
            "\u001b[?25hCollecting pandas==2.2.2\n",
            "  Downloading pandas-2.2.2-cp311-cp311-manylinux_2_17_x86_64.manylinux2014_x86_64.whl.metadata (19 kB)\n",
            "Collecting python-dateutil>=2.8.2 (from pandas==2.2.2)\n",
            "  Downloading python_dateutil-2.9.0.post0-py2.py3-none-any.whl.metadata (8.4 kB)\n",
            "Collecting pytz>=2020.1 (from pandas==2.2.2)\n",
            "  Downloading pytz-2025.2-py2.py3-none-any.whl.metadata (22 kB)\n",
            "Collecting tzdata>=2022.7 (from pandas==2.2.2)\n",
            "  Downloading tzdata-2025.2-py2.py3-none-any.whl.metadata (1.4 kB)\n",
            "Collecting six>=1.5 (from python-dateutil>=2.8.2->pandas==2.2.2)\n",
            "  Downloading six-1.17.0-py2.py3-none-any.whl.metadata (1.7 kB)\n",
            "Downloading numpy-1.26.4-cp311-cp311-manylinux_2_17_x86_64.manylinux2014_x86_64.whl (18.3 MB)\n",
            "\u001b[2K   \u001b[90m━━━━━━━━━━━━━━━━━━━━━━━━━━━━━━━━━━━━━━━━\u001b[0m \u001b[32m18.3/18.3 MB\u001b[0m \u001b[31m84.9 MB/s\u001b[0m eta \u001b[36m0:00:00\u001b[0m\n",
            "\u001b[?25hDownloading pandas-2.2.2-cp311-cp311-manylinux_2_17_x86_64.manylinux2014_x86_64.whl (13.0 MB)\n",
            "\u001b[2K   \u001b[90m━━━━━━━━━━━━━━━━━━━━━━━━━━━━━━━━━━━━━━━━\u001b[0m \u001b[32m13.0/13.0 MB\u001b[0m \u001b[31m94.6 MB/s\u001b[0m eta \u001b[36m0:00:00\u001b[0m\n",
            "\u001b[?25hDownloading python_dateutil-2.9.0.post0-py2.py3-none-any.whl (229 kB)\n",
            "\u001b[2K   \u001b[90m━━━━━━━━━━━━━━━━━━━━━━━━━━━━━━━━━━━━━━━━\u001b[0m \u001b[32m229.9/229.9 kB\u001b[0m \u001b[31m143.7 MB/s\u001b[0m eta \u001b[36m0:00:00\u001b[0m\n",
            "\u001b[?25hDownloading pytz-2025.2-py2.py3-none-any.whl (509 kB)\n",
            "\u001b[2K   \u001b[90m━━━━━━━━━━━━━━━━━━━━━━━━━━━━━━━━━━━━━━━━\u001b[0m \u001b[32m509.2/509.2 kB\u001b[0m \u001b[31m147.0 MB/s\u001b[0m eta \u001b[36m0:00:00\u001b[0m\n",
            "\u001b[?25hDownloading tzdata-2025.2-py2.py3-none-any.whl (347 kB)\n",
            "\u001b[2K   \u001b[90m━━━━━━━━━━━━━━━━━━━━━━━━━━━━━━━━━━━━━━━━\u001b[0m \u001b[32m347.8/347.8 kB\u001b[0m \u001b[31m87.8 MB/s\u001b[0m eta \u001b[36m0:00:00\u001b[0m\n",
            "\u001b[?25hDownloading six-1.17.0-py2.py3-none-any.whl (11 kB)\n",
            "Installing collected packages: pytz, tzdata, six, numpy, python-dateutil, pandas\n",
            "  Attempting uninstall: pytz\n",
            "    Found existing installation: pytz 2025.2\n",
            "    Uninstalling pytz-2025.2:\n",
            "      Successfully uninstalled pytz-2025.2\n",
            "  Attempting uninstall: tzdata\n",
            "    Found existing installation: tzdata 2025.2\n",
            "    Uninstalling tzdata-2025.2:\n",
            "      Successfully uninstalled tzdata-2025.2\n",
            "  Attempting uninstall: six\n",
            "    Found existing installation: six 1.17.0\n",
            "    Uninstalling six-1.17.0:\n",
            "      Successfully uninstalled six-1.17.0\n",
            "  Attempting uninstall: numpy\n",
            "    Found existing installation: numpy 2.0.2\n",
            "    Uninstalling numpy-2.0.2:\n",
            "      Successfully uninstalled numpy-2.0.2\n",
            "  Attempting uninstall: python-dateutil\n",
            "    Found existing installation: python-dateutil 2.8.2\n",
            "    Uninstalling python-dateutil-2.8.2:\n",
            "      Successfully uninstalled python-dateutil-2.8.2\n",
            "  Attempting uninstall: pandas\n",
            "    Found existing installation: pandas 2.2.2\n",
            "    Uninstalling pandas-2.2.2:\n",
            "      Successfully uninstalled pandas-2.2.2\n",
            "Successfully installed numpy-1.26.4 pandas-2.2.2 python-dateutil-2.9.0.post0 pytz-2025.2 six-1.17.0 tzdata-2025.2\n"
          ]
        },
        {
          "data": {
            "application/vnd.colab-display-data+json": {
              "id": "deb45f98e6964255abd4aff0f9b646d9",
              "pip_warning": {
                "packages": [
                  "dateutil",
                  "six"
                ]
              }
            }
          },
          "metadata": {},
          "output_type": "display_data"
        }
      ],
      "source": [
        "!pip install --no-cache-dir --force-reinstall numpy==1.26.4 pandas==2.2.2"
      ]
    },
    {
      "cell_type": "code",
      "execution_count": 1,
      "metadata": {
        "colab": {
          "base_uri": "https://localhost:8080/"
        },
        "collapsed": true,
        "id": "2br-6M9Ol0Zt",
        "outputId": "dd0536aa-6def-4a04-a794-e4e1bff5e174"
      },
      "outputs": [
        {
          "name": "stdout",
          "output_type": "stream",
          "text": [
            "Collecting nba_api\n",
            "  Downloading nba_api-1.9.0-py3-none-any.whl.metadata (5.8 kB)\n",
            "Requirement already satisfied: numpy>=1.26.0 in /usr/local/lib/python3.11/dist-packages (from nba_api) (1.26.4)\n",
            "Requirement already satisfied: pandas>=2.1.0 in /usr/local/lib/python3.11/dist-packages (from nba_api) (2.2.2)\n",
            "Requirement already satisfied: requests<3.0.0,>=2.32.3 in /usr/local/lib/python3.11/dist-packages (from nba_api) (2.32.3)\n",
            "Requirement already satisfied: python-dateutil>=2.8.2 in /usr/local/lib/python3.11/dist-packages (from pandas>=2.1.0->nba_api) (2.9.0.post0)\n",
            "Requirement already satisfied: pytz>=2020.1 in /usr/local/lib/python3.11/dist-packages (from pandas>=2.1.0->nba_api) (2025.2)\n",
            "Requirement already satisfied: tzdata>=2022.7 in /usr/local/lib/python3.11/dist-packages (from pandas>=2.1.0->nba_api) (2025.2)\n",
            "Requirement already satisfied: charset-normalizer<4,>=2 in /usr/local/lib/python3.11/dist-packages (from requests<3.0.0,>=2.32.3->nba_api) (3.4.1)\n",
            "Requirement already satisfied: idna<4,>=2.5 in /usr/local/lib/python3.11/dist-packages (from requests<3.0.0,>=2.32.3->nba_api) (3.10)\n",
            "Requirement already satisfied: urllib3<3,>=1.21.1 in /usr/local/lib/python3.11/dist-packages (from requests<3.0.0,>=2.32.3->nba_api) (2.3.0)\n",
            "Requirement already satisfied: certifi>=2017.4.17 in /usr/local/lib/python3.11/dist-packages (from requests<3.0.0,>=2.32.3->nba_api) (2025.1.31)\n",
            "Requirement already satisfied: six>=1.5 in /usr/local/lib/python3.11/dist-packages (from python-dateutil>=2.8.2->pandas>=2.1.0->nba_api) (1.17.0)\n",
            "Downloading nba_api-1.9.0-py3-none-any.whl (284 kB)\n",
            "\u001b[2K   \u001b[90m━━━━━━━━━━━━━━━━━━━━━━━━━━━━━━━━━━━━━━━━\u001b[0m \u001b[32m284.9/284.9 kB\u001b[0m \u001b[31m8.5 MB/s\u001b[0m eta \u001b[36m0:00:00\u001b[0m\n",
            "\u001b[?25hInstalling collected packages: nba_api\n",
            "Successfully installed nba_api-1.9.0\n"
          ]
        }
      ],
      "source": [
        "!pip install nba_api"
      ]
    },
    {
      "cell_type": "code",
      "execution_count": 39,
      "metadata": {
        "id": "NmJNMN_nl68v"
      },
      "outputs": [],
      "source": [
        "import pandas as pd\n",
        "import numpy as np\n",
        "from collections import defaultdict\n",
        "from nba_api.stats.endpoints import PlayByPlayV2, GameRotation"
      ]
    },
    {
      "cell_type": "markdown",
      "metadata": {
        "id": "Jli8MnpImE3m"
      },
      "source": [
        "# Game Configuration"
      ]
    },
    {
      "cell_type": "code",
      "execution_count": 40,
      "metadata": {
        "id": "ADNaMt4UmEhx"
      },
      "outputs": [],
      "source": [
        "game_id = '0022300001'"
      ]
    },
    {
      "cell_type": "code",
      "execution_count": 41,
      "metadata": {
        "id": "ZwPPRY9TEXPQ"
      },
      "outputs": [],
      "source": [
        "# Load play-by-play data\n",
        "pbp = PlayByPlayV2(game_id=game_id).get_data_frames()[0]\n",
        "\n",
        "# Load player rotation data\n",
        "rotation = GameRotation(game_id=game_id)\n",
        "home_df = rotation.home_team.get_data_frame()\n",
        "away_df = rotation.away_team.get_data_frame()\n",
        "\n",
        "# Add team labels\n",
        "home_df['TEAM_SIDE'] = 'home'\n",
        "away_df['TEAM_SIDE'] = 'away'\n",
        "rotation_df = pd.concat([home_df, away_df], ignore_index=True)"
      ]
    },
    {
      "cell_type": "markdown",
      "metadata": {
        "id": "Iz0T54-bZVTe"
      },
      "source": [
        "# Build Timeline from Sub Events"
      ]
    },
    {
      "cell_type": "code",
      "execution_count": 42,
      "metadata": {
        "id": "fqCLd7oOEmnV"
      },
      "outputs": [],
      "source": [
        "# Create a timeline of substitution events\n",
        "events = []\n",
        "for _, row in rotation_df.iterrows():\n",
        "    player = f\"{row['PLAYER_FIRST']} {row['PLAYER_LAST']}\"\n",
        "    team = row['TEAM_SIDE']\n",
        "    events.append({'time': row['IN_TIME_REAL'], 'player': player, 'team': team, 'action': 'in'})\n",
        "    events.append({'time': row['OUT_TIME_REAL'], 'player': player, 'team': team, 'action': 'out'})\n",
        "events = sorted(events, key=lambda x: x['time'])"
      ]
    },
    {
      "cell_type": "markdown",
      "metadata": {
        "id": "uYV_IbkvZiGg"
      },
      "source": [
        "# Build Lineup vs Lineup Segments"
      ]
    },
    {
      "cell_type": "code",
      "execution_count": 43,
      "metadata": {
        "id": "3ZJ-ELQmPrOl"
      },
      "outputs": [],
      "source": [
        "lineup_segments = []\n",
        "current_lineups = {'home': set(), 'away': set()}\n",
        "prev_time = 0\n",
        "\n",
        "for event in events:\n",
        "    current_time = event['time']\n",
        "\n",
        "    if all(len(lineup) == 5 for lineup in current_lineups.values()):\n",
        "        lineup_segments.append({\n",
        "            'start_time': prev_time,\n",
        "            'end_time': current_time,\n",
        "            'home_lineup': tuple(sorted(current_lineups['home'])),\n",
        "            'away_lineup': tuple(sorted(current_lineups['away'])),\n",
        "            'duration': current_time - prev_time\n",
        "        })\n",
        "\n",
        "    team = event['team']\n",
        "    player = event['player']\n",
        "    if event['action'] == 'in':\n",
        "        current_lineups[team].add(player)\n",
        "    else:\n",
        "        current_lineups[team].discard(player)\n",
        "\n",
        "    prev_time = current_time\n",
        "\n",
        "lineup_df = pd.DataFrame(lineup_segments)\n",
        "lineup_df[['start_time', 'end_time', 'duration']] = lineup_df[['start_time', 'end_time', 'duration']] / 10"
      ]
    },
    {
      "cell_type": "markdown",
      "metadata": {
        "id": "rYcyFWskZqZU"
      },
      "source": [
        "## Add Period and Clock Format"
      ]
    },
    {
      "cell_type": "code",
      "execution_count": 44,
      "metadata": {
        "id": "5VpL1qojP5-K"
      },
      "outputs": [],
      "source": [
        "def seconds_to_pctimestring(seconds):\n",
        "    m, s = divmod(int(seconds), 60)\n",
        "    return f\"{m}:{s:02}\"\n",
        "\n",
        "def get_period_and_clock(seconds):\n",
        "    period = int(seconds // 720) + 1\n",
        "    sec_into_period = seconds % 720\n",
        "    return period, seconds_to_pctimestring(720 - sec_into_period)\n",
        "\n",
        "lineup_df[['period', 'start_pctimestring']] = lineup_df['start_time'].apply(lambda x: pd.Series(get_period_and_clock(x)))\n",
        "lineup_df[['end_period', 'end_pctimestring']] = lineup_df['end_time'].apply(lambda x: pd.Series(get_period_and_clock(x)))"
      ]
    },
    {
      "cell_type": "markdown",
      "metadata": {
        "id": "vEv9Ik7uZwEI"
      },
      "source": [
        "# Match Lineups to PBP Events"
      ]
    },
    {
      "cell_type": "code",
      "execution_count": 45,
      "metadata": {
        "id": "lO5W0RMqQtuK"
      },
      "outputs": [],
      "source": [
        "def pctimestring_to_seconds(t):\n",
        "    m, s = map(int, t.split(\":\"))\n",
        "    return m * 60 + s\n",
        "\n",
        "def convert_to_game_time(period, pctimestring):\n",
        "    return (period - 1) * 720 + (720 - pctimestring_to_seconds(pctimestring))\n",
        "\n",
        "pbp['GAME_CLOCK_SEC'] = pbp.apply(lambda row: convert_to_game_time(row['PERIOD'], row['PCTIMESTRING']), axis=1)\n",
        "\n",
        "def find_lineup(row, lineup_df):\n",
        "    t = row['GAME_CLOCK_SEC']\n",
        "    is_sub = row['EVENTMSGTYPE'] == 8\n",
        "    for _, seg in lineup_df.iterrows():\n",
        "        if (seg['start_time'] <= t < seg['end_time']) if is_sub else (seg['start_time'] < t <= seg['end_time']):\n",
        "            return pd.Series([seg['home_lineup'], seg['away_lineup']])\n",
        "    return pd.Series([None, None])\n",
        "\n",
        "pbp[['HOME_LINEUP', 'AWAY_LINEUP']] = pbp.apply(lambda row: find_lineup(row, lineup_df), axis=1)"
      ]
    },
    {
      "cell_type": "markdown",
      "metadata": {
        "id": "QGnyXYC8Z3gy"
      },
      "source": [
        "# Build Final Event Timeline"
      ]
    },
    {
      "cell_type": "code",
      "execution_count": 46,
      "metadata": {
        "colab": {
          "base_uri": "https://localhost:8080/",
          "height": 293
        },
        "id": "RwAVfWLSmajE",
        "outputId": "ff28f738-8201-4437-f5d2-fa3d2f9df68c"
      },
      "outputs": [
        {
          "data": {
            "application/vnd.google.colaboratory.intrinsic+json": {
              "summary": "{\n  \"name\": \"lineup_event_df\",\n  \"rows\": 471,\n  \"fields\": [\n    {\n      \"column\": \"EVENTNUM\",\n      \"properties\": {\n        \"dtype\": \"number\",\n        \"std\": 195,\n        \"min\": 7,\n        \"max\": 693,\n        \"num_unique_values\": 471,\n        \"samples\": [\n          88,\n          116,\n          56\n        ],\n        \"semantic_type\": \"\",\n        \"description\": \"\"\n      }\n    },\n    {\n      \"column\": \"PERIOD\",\n      \"properties\": {\n        \"dtype\": \"number\",\n        \"std\": 1,\n        \"min\": 1,\n        \"max\": 4,\n        \"num_unique_values\": 4,\n        \"samples\": [\n          2,\n          4,\n          1\n        ],\n        \"semantic_type\": \"\",\n        \"description\": \"\"\n      }\n    },\n    {\n      \"column\": \"TIME\",\n      \"properties\": {\n        \"dtype\": \"object\",\n        \"num_unique_values\": 262,\n        \"samples\": [\n          \"2:27\",\n          \"0:49\",\n          \"4:35\"\n        ],\n        \"semantic_type\": \"\",\n        \"description\": \"\"\n      }\n    },\n    {\n      \"column\": \"EVENT_TYPE\",\n      \"properties\": {\n        \"dtype\": \"number\",\n        \"std\": 2,\n        \"min\": 1,\n        \"max\": 13,\n        \"num_unique_values\": 12,\n        \"samples\": [\n          7,\n          12,\n          1\n        ],\n        \"semantic_type\": \"\",\n        \"description\": \"\"\n      }\n    },\n    {\n      \"column\": \"SCORE\",\n      \"properties\": {\n        \"dtype\": \"category\",\n        \"num_unique_values\": 125,\n        \"samples\": [\n          \"17 - 22\",\n          \"41 - 48\",\n          \"32 - 43\"\n        ],\n        \"semantic_type\": \"\",\n        \"description\": \"\"\n      }\n    },\n    {\n      \"column\": \"HOME_DESCRIPTION\",\n      \"properties\": {\n        \"dtype\": \"category\",\n        \"num_unique_values\": 222,\n        \"samples\": [\n          \"Smith REBOUND (Off:1 Def:2)\",\n          \"Haliburton Free Throw 1 of 2 (15 PTS)\",\n          \"Brown REBOUND (Off:1 Def:1)\"\n        ],\n        \"semantic_type\": \"\",\n        \"description\": \"\"\n      }\n    },\n    {\n      \"column\": \"AWAY_DESCRIPTION\",\n      \"properties\": {\n        \"dtype\": \"category\",\n        \"num_unique_values\": 235,\n        \"samples\": [\n          \"SUB: Mitchell FOR Garland\",\n          \"Garland Free Throw 2 of 2 (14 PTS)\",\n          \"Mitchell 27' 3PT Jump Shot (31 PTS) (Okoro 2 AST)\"\n        ],\n        \"semantic_type\": \"\",\n        \"description\": \"\"\n      }\n    },\n    {\n      \"column\": \"HOME_LINEUP\",\n      \"properties\": {\n        \"dtype\": \"category\",\n        \"num_unique_values\": 14,\n        \"samples\": [\n          [\n            \"Aaron Nesmith\",\n            \"Bruce Brown\",\n            \"Buddy Hield\",\n            \"Myles Turner\",\n            \"Tyrese Haliburton\"\n          ],\n          [\n            \"Andrew Nembhard\",\n            \"Bruce Brown\",\n            \"Buddy Hield\",\n            \"Myles Turner\",\n            \"Tyrese Haliburton\"\n          ],\n          [\n            \"Bennedict Mathurin\",\n            \"Bruce Brown\",\n            \"Myles Turner\",\n            \"Obi Toppin\",\n            \"Tyrese Haliburton\"\n          ]\n        ],\n        \"semantic_type\": \"\",\n        \"description\": \"\"\n      }\n    },\n    {\n      \"column\": \"AWAY_LINEUP\",\n      \"properties\": {\n        \"dtype\": \"category\",\n        \"num_unique_values\": 16,\n        \"samples\": [\n          [\n            \"Darius Garland\",\n            \"Donovan Mitchell\",\n            \"Evan Mobley\",\n            \"Jarrett Allen\",\n            \"Max Strus\"\n          ],\n          [\n            \"Darius Garland\",\n            \"Donovan Mitchell\",\n            \"Evan Mobley\",\n            \"Georges Niang\",\n            \"Max Strus\"\n          ],\n          [\n            \"Caris LeVert\",\n            \"Dean Wade\",\n            \"Donovan Mitchell\",\n            \"Georges Niang\",\n            \"Isaac Okoro\"\n          ]\n        ],\n        \"semantic_type\": \"\",\n        \"description\": \"\"\n      }\n    },\n    {\n      \"column\": \"PLAYER1_NAME\",\n      \"properties\": {\n        \"dtype\": \"category\",\n        \"num_unique_values\": 19,\n        \"samples\": [\n          \"Myles Turner\",\n          \"Max Strus\",\n          \"Obi Toppin\"\n        ],\n        \"semantic_type\": \"\",\n        \"description\": \"\"\n      }\n    },\n    {\n      \"column\": \"PLAYER2_NAME\",\n      \"properties\": {\n        \"dtype\": \"category\",\n        \"num_unique_values\": 19,\n        \"samples\": [\n          \"Tyrese Haliburton\",\n          \"Myles Turner\",\n          \"Andrew Nembhard\"\n        ],\n        \"semantic_type\": \"\",\n        \"description\": \"\"\n      }\n    },\n    {\n      \"column\": \"PLAYER3_NAME\",\n      \"properties\": {\n        \"dtype\": \"category\",\n        \"num_unique_values\": 9,\n        \"samples\": [\n          \"Max Strus\",\n          \"Evan Mobley\",\n          \"Caris LeVert\"\n        ],\n        \"semantic_type\": \"\",\n        \"description\": \"\"\n      }\n    }\n  ]\n}",
              "type": "dataframe",
              "variable_name": "lineup_event_df"
            },
            "text/html": [
              "\n",
              "  <div id=\"df-ff04354d-c97f-4a79-b38e-4cba7929dfe2\" class=\"colab-df-container\">\n",
              "    <div>\n",
              "<style scoped>\n",
              "    .dataframe tbody tr th:only-of-type {\n",
              "        vertical-align: middle;\n",
              "    }\n",
              "\n",
              "    .dataframe tbody tr th {\n",
              "        vertical-align: top;\n",
              "    }\n",
              "\n",
              "    .dataframe thead th {\n",
              "        text-align: right;\n",
              "    }\n",
              "</style>\n",
              "<table border=\"1\" class=\"dataframe\">\n",
              "  <thead>\n",
              "    <tr style=\"text-align: right;\">\n",
              "      <th></th>\n",
              "      <th>EVENTNUM</th>\n",
              "      <th>PERIOD</th>\n",
              "      <th>TIME</th>\n",
              "      <th>EVENT_TYPE</th>\n",
              "      <th>SCORE</th>\n",
              "      <th>HOME_DESCRIPTION</th>\n",
              "      <th>AWAY_DESCRIPTION</th>\n",
              "      <th>HOME_LINEUP</th>\n",
              "      <th>AWAY_LINEUP</th>\n",
              "      <th>PLAYER1_NAME</th>\n",
              "      <th>PLAYER2_NAME</th>\n",
              "      <th>PLAYER3_NAME</th>\n",
              "    </tr>\n",
              "  </thead>\n",
              "  <tbody>\n",
              "    <tr>\n",
              "      <th>0</th>\n",
              "      <td>7</td>\n",
              "      <td>1</td>\n",
              "      <td>11:41</td>\n",
              "      <td>1</td>\n",
              "      <td>0 - 2</td>\n",
              "      <td>Turner 2' Cutting Dunk Shot (2 PTS) (Haliburto...</td>\n",
              "      <td></td>\n",
              "      <td>(Bennedict Mathurin, Bruce Brown, Myles Turner...</td>\n",
              "      <td>(Darius Garland, Donovan Mitchell, Evan Mobley...</td>\n",
              "      <td>Myles Turner</td>\n",
              "      <td>Tyrese Haliburton</td>\n",
              "      <td>None</td>\n",
              "    </tr>\n",
              "    <tr>\n",
              "      <th>1</th>\n",
              "      <td>9</td>\n",
              "      <td>1</td>\n",
              "      <td>11:23</td>\n",
              "      <td>2</td>\n",
              "      <td>None</td>\n",
              "      <td></td>\n",
              "      <td>MISS Mobley 8' Turnaround Jump Shot</td>\n",
              "      <td>(Bennedict Mathurin, Bruce Brown, Myles Turner...</td>\n",
              "      <td>(Darius Garland, Donovan Mitchell, Evan Mobley...</td>\n",
              "      <td>Evan Mobley</td>\n",
              "      <td>None</td>\n",
              "      <td>None</td>\n",
              "    </tr>\n",
              "    <tr>\n",
              "      <th>2</th>\n",
              "      <td>10</td>\n",
              "      <td>1</td>\n",
              "      <td>11:20</td>\n",
              "      <td>4</td>\n",
              "      <td>None</td>\n",
              "      <td>Turner REBOUND (Off:0 Def:1)</td>\n",
              "      <td></td>\n",
              "      <td>(Bennedict Mathurin, Bruce Brown, Myles Turner...</td>\n",
              "      <td>(Darius Garland, Donovan Mitchell, Evan Mobley...</td>\n",
              "      <td>Myles Turner</td>\n",
              "      <td>None</td>\n",
              "      <td>None</td>\n",
              "    </tr>\n",
              "    <tr>\n",
              "      <th>3</th>\n",
              "      <td>11</td>\n",
              "      <td>1</td>\n",
              "      <td>11:15</td>\n",
              "      <td>2</td>\n",
              "      <td>None</td>\n",
              "      <td>MISS Brown 2' Running Layup</td>\n",
              "      <td></td>\n",
              "      <td>(Bennedict Mathurin, Bruce Brown, Myles Turner...</td>\n",
              "      <td>(Darius Garland, Donovan Mitchell, Evan Mobley...</td>\n",
              "      <td>Bruce Brown</td>\n",
              "      <td>None</td>\n",
              "      <td>None</td>\n",
              "    </tr>\n",
              "    <tr>\n",
              "      <th>4</th>\n",
              "      <td>12</td>\n",
              "      <td>1</td>\n",
              "      <td>11:12</td>\n",
              "      <td>4</td>\n",
              "      <td>None</td>\n",
              "      <td>Brown REBOUND (Off:1 Def:0)</td>\n",
              "      <td></td>\n",
              "      <td>(Bennedict Mathurin, Bruce Brown, Myles Turner...</td>\n",
              "      <td>(Darius Garland, Donovan Mitchell, Evan Mobley...</td>\n",
              "      <td>Bruce Brown</td>\n",
              "      <td>None</td>\n",
              "      <td>None</td>\n",
              "    </tr>\n",
              "  </tbody>\n",
              "</table>\n",
              "</div>\n",
              "    <div class=\"colab-df-buttons\">\n",
              "\n",
              "  <div class=\"colab-df-container\">\n",
              "    <button class=\"colab-df-convert\" onclick=\"convertToInteractive('df-ff04354d-c97f-4a79-b38e-4cba7929dfe2')\"\n",
              "            title=\"Convert this dataframe to an interactive table.\"\n",
              "            style=\"display:none;\">\n",
              "\n",
              "  <svg xmlns=\"http://www.w3.org/2000/svg\" height=\"24px\" viewBox=\"0 -960 960 960\">\n",
              "    <path d=\"M120-120v-720h720v720H120Zm60-500h600v-160H180v160Zm220 220h160v-160H400v160Zm0 220h160v-160H400v160ZM180-400h160v-160H180v160Zm440 0h160v-160H620v160ZM180-180h160v-160H180v160Zm440 0h160v-160H620v160Z\"/>\n",
              "  </svg>\n",
              "    </button>\n",
              "\n",
              "  <style>\n",
              "    .colab-df-container {\n",
              "      display:flex;\n",
              "      gap: 12px;\n",
              "    }\n",
              "\n",
              "    .colab-df-convert {\n",
              "      background-color: #E8F0FE;\n",
              "      border: none;\n",
              "      border-radius: 50%;\n",
              "      cursor: pointer;\n",
              "      display: none;\n",
              "      fill: #1967D2;\n",
              "      height: 32px;\n",
              "      padding: 0 0 0 0;\n",
              "      width: 32px;\n",
              "    }\n",
              "\n",
              "    .colab-df-convert:hover {\n",
              "      background-color: #E2EBFA;\n",
              "      box-shadow: 0px 1px 2px rgba(60, 64, 67, 0.3), 0px 1px 3px 1px rgba(60, 64, 67, 0.15);\n",
              "      fill: #174EA6;\n",
              "    }\n",
              "\n",
              "    .colab-df-buttons div {\n",
              "      margin-bottom: 4px;\n",
              "    }\n",
              "\n",
              "    [theme=dark] .colab-df-convert {\n",
              "      background-color: #3B4455;\n",
              "      fill: #D2E3FC;\n",
              "    }\n",
              "\n",
              "    [theme=dark] .colab-df-convert:hover {\n",
              "      background-color: #434B5C;\n",
              "      box-shadow: 0px 1px 3px 1px rgba(0, 0, 0, 0.15);\n",
              "      filter: drop-shadow(0px 1px 2px rgba(0, 0, 0, 0.3));\n",
              "      fill: #FFFFFF;\n",
              "    }\n",
              "  </style>\n",
              "\n",
              "    <script>\n",
              "      const buttonEl =\n",
              "        document.querySelector('#df-ff04354d-c97f-4a79-b38e-4cba7929dfe2 button.colab-df-convert');\n",
              "      buttonEl.style.display =\n",
              "        google.colab.kernel.accessAllowed ? 'block' : 'none';\n",
              "\n",
              "      async function convertToInteractive(key) {\n",
              "        const element = document.querySelector('#df-ff04354d-c97f-4a79-b38e-4cba7929dfe2');\n",
              "        const dataTable =\n",
              "          await google.colab.kernel.invokeFunction('convertToInteractive',\n",
              "                                                    [key], {});\n",
              "        if (!dataTable) return;\n",
              "\n",
              "        const docLinkHtml = 'Like what you see? Visit the ' +\n",
              "          '<a target=\"_blank\" href=https://colab.research.google.com/notebooks/data_table.ipynb>data table notebook</a>'\n",
              "          + ' to learn more about interactive tables.';\n",
              "        element.innerHTML = '';\n",
              "        dataTable['output_type'] = 'display_data';\n",
              "        await google.colab.output.renderOutput(dataTable, element);\n",
              "        const docLink = document.createElement('div');\n",
              "        docLink.innerHTML = docLinkHtml;\n",
              "        element.appendChild(docLink);\n",
              "      }\n",
              "    </script>\n",
              "  </div>\n",
              "\n",
              "\n",
              "<div id=\"df-7c251861-9067-456a-a0a2-a4e8224f757f\">\n",
              "  <button class=\"colab-df-quickchart\" onclick=\"quickchart('df-7c251861-9067-456a-a0a2-a4e8224f757f')\"\n",
              "            title=\"Suggest charts\"\n",
              "            style=\"display:none;\">\n",
              "\n",
              "<svg xmlns=\"http://www.w3.org/2000/svg\" height=\"24px\"viewBox=\"0 0 24 24\"\n",
              "     width=\"24px\">\n",
              "    <g>\n",
              "        <path d=\"M19 3H5c-1.1 0-2 .9-2 2v14c0 1.1.9 2 2 2h14c1.1 0 2-.9 2-2V5c0-1.1-.9-2-2-2zM9 17H7v-7h2v7zm4 0h-2V7h2v10zm4 0h-2v-4h2v4z\"/>\n",
              "    </g>\n",
              "</svg>\n",
              "  </button>\n",
              "\n",
              "<style>\n",
              "  .colab-df-quickchart {\n",
              "      --bg-color: #E8F0FE;\n",
              "      --fill-color: #1967D2;\n",
              "      --hover-bg-color: #E2EBFA;\n",
              "      --hover-fill-color: #174EA6;\n",
              "      --disabled-fill-color: #AAA;\n",
              "      --disabled-bg-color: #DDD;\n",
              "  }\n",
              "\n",
              "  [theme=dark] .colab-df-quickchart {\n",
              "      --bg-color: #3B4455;\n",
              "      --fill-color: #D2E3FC;\n",
              "      --hover-bg-color: #434B5C;\n",
              "      --hover-fill-color: #FFFFFF;\n",
              "      --disabled-bg-color: #3B4455;\n",
              "      --disabled-fill-color: #666;\n",
              "  }\n",
              "\n",
              "  .colab-df-quickchart {\n",
              "    background-color: var(--bg-color);\n",
              "    border: none;\n",
              "    border-radius: 50%;\n",
              "    cursor: pointer;\n",
              "    display: none;\n",
              "    fill: var(--fill-color);\n",
              "    height: 32px;\n",
              "    padding: 0;\n",
              "    width: 32px;\n",
              "  }\n",
              "\n",
              "  .colab-df-quickchart:hover {\n",
              "    background-color: var(--hover-bg-color);\n",
              "    box-shadow: 0 1px 2px rgba(60, 64, 67, 0.3), 0 1px 3px 1px rgba(60, 64, 67, 0.15);\n",
              "    fill: var(--button-hover-fill-color);\n",
              "  }\n",
              "\n",
              "  .colab-df-quickchart-complete:disabled,\n",
              "  .colab-df-quickchart-complete:disabled:hover {\n",
              "    background-color: var(--disabled-bg-color);\n",
              "    fill: var(--disabled-fill-color);\n",
              "    box-shadow: none;\n",
              "  }\n",
              "\n",
              "  .colab-df-spinner {\n",
              "    border: 2px solid var(--fill-color);\n",
              "    border-color: transparent;\n",
              "    border-bottom-color: var(--fill-color);\n",
              "    animation:\n",
              "      spin 1s steps(1) infinite;\n",
              "  }\n",
              "\n",
              "  @keyframes spin {\n",
              "    0% {\n",
              "      border-color: transparent;\n",
              "      border-bottom-color: var(--fill-color);\n",
              "      border-left-color: var(--fill-color);\n",
              "    }\n",
              "    20% {\n",
              "      border-color: transparent;\n",
              "      border-left-color: var(--fill-color);\n",
              "      border-top-color: var(--fill-color);\n",
              "    }\n",
              "    30% {\n",
              "      border-color: transparent;\n",
              "      border-left-color: var(--fill-color);\n",
              "      border-top-color: var(--fill-color);\n",
              "      border-right-color: var(--fill-color);\n",
              "    }\n",
              "    40% {\n",
              "      border-color: transparent;\n",
              "      border-right-color: var(--fill-color);\n",
              "      border-top-color: var(--fill-color);\n",
              "    }\n",
              "    60% {\n",
              "      border-color: transparent;\n",
              "      border-right-color: var(--fill-color);\n",
              "    }\n",
              "    80% {\n",
              "      border-color: transparent;\n",
              "      border-right-color: var(--fill-color);\n",
              "      border-bottom-color: var(--fill-color);\n",
              "    }\n",
              "    90% {\n",
              "      border-color: transparent;\n",
              "      border-bottom-color: var(--fill-color);\n",
              "    }\n",
              "  }\n",
              "</style>\n",
              "\n",
              "  <script>\n",
              "    async function quickchart(key) {\n",
              "      const quickchartButtonEl =\n",
              "        document.querySelector('#' + key + ' button');\n",
              "      quickchartButtonEl.disabled = true;  // To prevent multiple clicks.\n",
              "      quickchartButtonEl.classList.add('colab-df-spinner');\n",
              "      try {\n",
              "        const charts = await google.colab.kernel.invokeFunction(\n",
              "            'suggestCharts', [key], {});\n",
              "      } catch (error) {\n",
              "        console.error('Error during call to suggestCharts:', error);\n",
              "      }\n",
              "      quickchartButtonEl.classList.remove('colab-df-spinner');\n",
              "      quickchartButtonEl.classList.add('colab-df-quickchart-complete');\n",
              "    }\n",
              "    (() => {\n",
              "      let quickchartButtonEl =\n",
              "        document.querySelector('#df-7c251861-9067-456a-a0a2-a4e8224f757f button');\n",
              "      quickchartButtonEl.style.display =\n",
              "        google.colab.kernel.accessAllowed ? 'block' : 'none';\n",
              "    })();\n",
              "  </script>\n",
              "</div>\n",
              "\n",
              "    </div>\n",
              "  </div>\n"
            ],
            "text/plain": [
              "   EVENTNUM  PERIOD   TIME  EVENT_TYPE  SCORE  \\\n",
              "0         7       1  11:41           1  0 - 2   \n",
              "1         9       1  11:23           2   None   \n",
              "2        10       1  11:20           4   None   \n",
              "3        11       1  11:15           2   None   \n",
              "4        12       1  11:12           4   None   \n",
              "\n",
              "                                    HOME_DESCRIPTION  \\\n",
              "0  Turner 2' Cutting Dunk Shot (2 PTS) (Haliburto...   \n",
              "1                                                      \n",
              "2                       Turner REBOUND (Off:0 Def:1)   \n",
              "3                        MISS Brown 2' Running Layup   \n",
              "4                        Brown REBOUND (Off:1 Def:0)   \n",
              "\n",
              "                      AWAY_DESCRIPTION  \\\n",
              "0                                        \n",
              "1  MISS Mobley 8' Turnaround Jump Shot   \n",
              "2                                        \n",
              "3                                        \n",
              "4                                        \n",
              "\n",
              "                                         HOME_LINEUP  \\\n",
              "0  (Bennedict Mathurin, Bruce Brown, Myles Turner...   \n",
              "1  (Bennedict Mathurin, Bruce Brown, Myles Turner...   \n",
              "2  (Bennedict Mathurin, Bruce Brown, Myles Turner...   \n",
              "3  (Bennedict Mathurin, Bruce Brown, Myles Turner...   \n",
              "4  (Bennedict Mathurin, Bruce Brown, Myles Turner...   \n",
              "\n",
              "                                         AWAY_LINEUP  PLAYER1_NAME  \\\n",
              "0  (Darius Garland, Donovan Mitchell, Evan Mobley...  Myles Turner   \n",
              "1  (Darius Garland, Donovan Mitchell, Evan Mobley...   Evan Mobley   \n",
              "2  (Darius Garland, Donovan Mitchell, Evan Mobley...  Myles Turner   \n",
              "3  (Darius Garland, Donovan Mitchell, Evan Mobley...   Bruce Brown   \n",
              "4  (Darius Garland, Donovan Mitchell, Evan Mobley...   Bruce Brown   \n",
              "\n",
              "        PLAYER2_NAME PLAYER3_NAME  \n",
              "0  Tyrese Haliburton         None  \n",
              "1               None         None  \n",
              "2               None         None  \n",
              "3               None         None  \n",
              "4               None         None  "
            ]
          },
          "execution_count": 46,
          "metadata": {},
          "output_type": "execute_result"
        }
      ],
      "source": [
        "important_event_types = list(range(1, 14))\n",
        "lineup_timeline = []\n",
        "\n",
        "for _, row in pbp.iterrows():\n",
        "    if row['EVENTMSGTYPE'] in important_event_types and isinstance(row['HOME_LINEUP'], tuple):\n",
        "        lineup_timeline.append({\n",
        "            'EVENTNUM': row['EVENTNUM'],\n",
        "            'PERIOD': row['PERIOD'],\n",
        "            'TIME': row['PCTIMESTRING'],\n",
        "            'EVENT_TYPE': row['EVENTMSGTYPE'],\n",
        "            'SCORE': row['SCORE'],\n",
        "            'HOME_DESCRIPTION': str(row['HOMEDESCRIPTION']) if pd.notna(row['HOMEDESCRIPTION']) else '',\n",
        "            'AWAY_DESCRIPTION': str(row['VISITORDESCRIPTION']) if pd.notna(row['VISITORDESCRIPTION']) else '',\n",
        "            'HOME_LINEUP': row['HOME_LINEUP'],\n",
        "            'AWAY_LINEUP': row['AWAY_LINEUP'],\n",
        "            'PLAYER1_NAME': row['PLAYER1_NAME'],\n",
        "            'PLAYER2_NAME': row['PLAYER2_NAME'],\n",
        "            'PLAYER3_NAME': row['PLAYER3_NAME']\n",
        "        })\n",
        "\n",
        "lineup_event_df = pd.DataFrame(lineup_timeline)\n",
        "lineup_event_df.head()"
      ]
    },
    {
      "cell_type": "markdown",
      "metadata": {
        "id": "F3ss4uhaSnlb"
      },
      "source": [
        "# Lineup vs Lineup Stats & Player Contributions"
      ]
    },
    {
      "cell_type": "markdown",
      "metadata": {
        "id": "Mi0GqDZparfz"
      },
      "source": [
        "## Step 1: Aggregate Events into Lineup Segments\n",
        "\n",
        "Each segment represents a time window with the same 5v5 lineups. We'll:\n",
        " - Track team stats: points, 3pt/2pt/FT made, rebounds, assists, TOs, etc.\n",
        " - Track player stats: for each player involved in that lineup"
      ]
    },
    {
      "cell_type": "code",
      "execution_count": 48,
      "metadata": {
        "id": "5fQJc0euwsFT"
      },
      "outputs": [],
      "source": [
        "lineup_segments = []\n",
        "segment = None\n",
        "prev_home = None\n",
        "prev_away = None\n",
        "last_shot_team = None\n",
        "\n",
        "SKIP_KEYWORDS = ['SUB', 'Jump Ball', 'Delay', 'Offensive', 'Timeout', 'Rebound']\n",
        "\n",
        "for _, row in lineup_event_df.iterrows():\n",
        "    home_lineup = tuple(sorted(row['HOME_LINEUP']))\n",
        "    away_lineup = tuple(sorted(row['AWAY_LINEUP']))\n",
        "\n",
        "    # Start new segment if lineups changed\n",
        "    if segment is None or home_lineup != prev_home or away_lineup != prev_away:\n",
        "        if segment:\n",
        "            segment['end_event'] = row['EVENTNUM']\n",
        "            segment['end_time'] = row['TIME']\n",
        "            lineup_segments.append(segment)\n",
        "\n",
        "        segment = {\n",
        "            'home_lineup': home_lineup,\n",
        "            'away_lineup': away_lineup,\n",
        "            'start_event': row['EVENTNUM'],\n",
        "            'start_time': row['TIME'],\n",
        "            'period': row['PERIOD'],\n",
        "            'team_stats': {'home': defaultdict(int), 'away': defaultdict(int)},\n",
        "            'player_stats': defaultdict(lambda: defaultdict(int)),\n",
        "            'events': []\n",
        "        }\n",
        "\n",
        "        prev_home = home_lineup\n",
        "        prev_away = away_lineup\n",
        "\n",
        "    segment['events'].append({\n",
        "        'EVENTNUM': row['EVENTNUM'],\n",
        "        'TIME': row['TIME'],\n",
        "        'HOME_DESCRIPTION': row['HOME_DESCRIPTION'],\n",
        "        'AWAY_DESCRIPTION': row['AWAY_DESCRIPTION']\n",
        "    })\n",
        "\n",
        "    # Process event descriptions\n",
        "    for team_side, desc in [('home', row['HOME_DESCRIPTION']), ('away', row['AWAY_DESCRIPTION'])]:\n",
        "        if not desc or any(skip in desc for skip in SKIP_KEYWORDS):\n",
        "            continue\n",
        "\n",
        "        lineup = home_lineup if team_side == 'home' else away_lineup\n",
        "        players_on_court = set(lineup)\n",
        "\n",
        "        def inc(stat, players, value=1):\n",
        "            segment['team_stats'][team_side][stat] += value\n",
        "            for p in players:\n",
        "                if p in players_on_court:\n",
        "                    segment['player_stats'][p][stat] += value\n",
        "\n",
        "        # Detect player involvement\n",
        "        involved_players = [row['PLAYER1_NAME'], row['PLAYER2_NAME'], row['PLAYER3_NAME']]\n",
        "        involved_players = [p for p in involved_players if isinstance(p, str)]\n",
        "\n",
        "        # Scoring\n",
        "        if '3PT' in desc and 'MISS' not in desc:\n",
        "            inc('3pt_made', [row['PLAYER1_NAME']])\n",
        "            inc('points', [row['PLAYER1_NAME']], 3)\n",
        "        elif 'Free Throw' in desc and 'MISS' not in desc:\n",
        "            inc('ft_made', [row['PLAYER1_NAME']])\n",
        "            inc('points', [row['PLAYER1_NAME']], 1)\n",
        "        elif 'MISS' not in desc and any(kw in desc for kw in ['Fadeaway', 'Dunk', 'Layup', 'Jump Shot', 'Hook Shot']):\n",
        "            inc('2pt_made', [row['PLAYER1_NAME']])\n",
        "            inc('points', [row['PLAYER1_NAME']], 2)\n",
        "        elif 'MISS' in desc:\n",
        "            last_shot_team = team_side\n",
        "\n",
        "        # Other actions\n",
        "        if 'AST' in desc:\n",
        "            inc('assists', [row['PLAYER2_NAME']])\n",
        "        if 'Turnover' in desc:\n",
        "            inc('turnovers', [row['PLAYER1_NAME']])\n",
        "        if 'STL' in desc:\n",
        "            inc('steals', [row['PLAYER2_NAME']])\n",
        "        if 'BLK' in desc:\n",
        "            inc('blocks', [row['PLAYER2_NAME']])\n",
        "        if '.FOUL' in desc:\n",
        "            inc('fouls', [row['PLAYER1_NAME']])\n",
        "\n",
        "        # Rebounds\n",
        "        if 'REBOUND' in desc:\n",
        "            rebound_team = team_side\n",
        "            rebounder = row['PLAYER1_NAME']\n",
        "            if last_shot_team:\n",
        "                if rebound_team == last_shot_team:\n",
        "                    inc('off_rebounds', [rebounder])\n",
        "                else:\n",
        "                    inc('def_rebounds', [rebounder])\n",
        "            last_shot_team = None\n",
        "\n",
        "# Final flush\n",
        "if segment:\n",
        "    segment['end_event'] = row['EVENTNUM']\n",
        "    segment['end_time'] = row['TIME']\n",
        "    lineup_segments.append(segment)"
      ]
    },
    {
      "cell_type": "markdown",
      "metadata": {
        "id": "b_Nft0vlJR3G"
      },
      "source": [
        "## Step 2: Build Lineup vs Lineup DataFrame\n"
      ]
    },
    {
      "cell_type": "code",
      "execution_count": 49,
      "metadata": {
        "id": "VtMZ-6rpJax9"
      },
      "outputs": [],
      "source": [
        "lineup_vs_lineup_data = []\n",
        "\n",
        "for seg in lineup_segments:\n",
        "    row = {\n",
        "        'period': seg['period'],\n",
        "        'start_event': seg['start_event'],\n",
        "        'end_event': seg['end_event'],\n",
        "        'start_time': seg['start_time'],\n",
        "        'end_time': seg['end_time'],\n",
        "        'home_lineup': seg['home_lineup'],\n",
        "        'away_lineup': seg['away_lineup']\n",
        "    }\n",
        "\n",
        "    for team in ['home', 'away']:\n",
        "        for stat, val in seg['team_stats'][team].items():\n",
        "            row[f'{team}_{stat}'] = val\n",
        "\n",
        "    lineup_vs_lineup_data.append(row)\n",
        "\n",
        "lineup_vs_lineup_df = pd.DataFrame(lineup_vs_lineup_data)"
      ]
    },
    {
      "cell_type": "markdown",
      "metadata": {
        "id": "xruaQuRDbA-V"
      },
      "source": [
        "## Step 3: Player Stats per Segment"
      ]
    },
    {
      "cell_type": "code",
      "execution_count": 50,
      "metadata": {
        "id": "L6CC2Jc0bCMS"
      },
      "outputs": [],
      "source": [
        "player_stats_data = []\n",
        "\n",
        "for seg in lineup_segments:\n",
        "    for player, stats in seg['player_stats'].items():\n",
        "        row = {\n",
        "            'player': player,\n",
        "            'period': seg['period'],\n",
        "            'start_event': seg['start_event'],\n",
        "            'end_event': seg['end_event'],\n",
        "            'start_time': seg['start_time'],\n",
        "            'end_time': seg['end_time'],\n",
        "            'home_lineup': seg['home_lineup'],\n",
        "            'away_lineup': seg['away_lineup']\n",
        "        }\n",
        "\n",
        "        for stat, val in stats.items():\n",
        "            row[stat] = val\n",
        "\n",
        "        player_stats_data.append(row)\n",
        "\n",
        "player_stats_df = pd.DataFrame(player_stats_data)"
      ]
    }
  ],
  "metadata": {
    "colab": {
      "collapsed_sections": [
        "pReiXUBWl9zI"
      ],
      "provenance": []
    },
    "kernelspec": {
      "display_name": ".venv",
      "language": "python",
      "name": "python3"
    },
    "language_info": {
      "name": "python",
      "version": "3.9.7"
    }
  },
  "nbformat": 4,
  "nbformat_minor": 0
}
