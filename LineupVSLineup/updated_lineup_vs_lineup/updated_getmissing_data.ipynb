{
 "cells": [
  {
   "cell_type": "code",
   "execution_count": 1,
   "id": "d1ffcfd7",
   "metadata": {},
   "outputs": [],
   "source": [
    "# %pip install pandas tqdm numpy nba_api"
   ]
  },
  {
   "cell_type": "code",
   "execution_count": 2,
   "id": "5666220e",
   "metadata": {},
   "outputs": [],
   "source": [
    "import pandas as pd\n",
    "import time\n",
    "from tqdm import tqdm\n",
    "import numpy as np\n",
    "from collections import defaultdict\n",
    "from nba_api.stats.endpoints import (PlayByPlayV2,\n",
    "                                     BoxScoreSummaryV2,\n",
    "                                     BoxScoreTraditionalV2,\n",
    "                                     LeagueGameFinder,\n",
    "                                     GameRotation)"
   ]
  },
  {
   "cell_type": "code",
   "execution_count": null,
   "id": "f8ba2f28",
   "metadata": {},
   "outputs": [],
   "source": [
    "gamefinder = LeagueGameFinder(season_nullable='2023-24', season_type_nullable='Regular Season')\n",
    "games_df = gamefinder.get_data_frames()[0]\n",
    "all_game_ids = games_df['GAME_ID'].unique().tolist()"
   ]
  },
  {
   "cell_type": "code",
   "execution_count": 32,
   "id": "dcebf7f6",
   "metadata": {},
   "outputs": [],
   "source": [
    "def seconds_to_pctimestring(seconds):\n",
    "    m, s = divmod(int(seconds), 60)\n",
    "    return f\"{m}:{s:02}\"\n",
    "\n",
    "def get_period_and_clock(seconds):\n",
    "    period = int(seconds // 720) + 1\n",
    "    sec_into_period = seconds % 720\n",
    "    return period, seconds_to_pctimestring(720 - sec_into_period)"
   ]
  },
  {
   "cell_type": "code",
   "execution_count": 33,
   "id": "a1984fa4",
   "metadata": {},
   "outputs": [],
   "source": [
    "def pctimestring_to_seconds(t):\n",
    "    m, s = map(int, t.split(\":\"))\n",
    "    return m * 60 + s\n",
    "\n",
    "def convert_to_game_time(period, pctimestring):\n",
    "    return (period - 1) * 720 + (720 - pctimestring_to_seconds(pctimestring))\n",
    "\n",
    "def find_lineup(row, lineup_df):\n",
    "    t = row['GAME_CLOCK_SEC']\n",
    "    is_sub = row['EVENTMSGTYPE'] == 8\n",
    "    for _, seg in lineup_df.iterrows():\n",
    "        if (seg['start_time'] <= t < seg['end_time']) if is_sub else (seg['start_time'] < t <= seg['end_time']):\n",
    "            return pd.Series([seg['home_lineup'], seg['away_lineup']])\n",
    "    return pd.Series([None, None])\n"
   ]
  },
  {
   "cell_type": "code",
   "execution_count": 34,
   "id": "63d8d0d8",
   "metadata": {},
   "outputs": [],
   "source": [
    "game_ids = all_game_ids[0:50] # next is [50:100]"
   ]
  },
  {
   "cell_type": "code",
   "execution_count": 35,
   "id": "3bf7ca77",
   "metadata": {},
   "outputs": [],
   "source": [
    "previous_lineup_vs_lineup_df = pd.DataFrame()\n",
    "previous_player_stats_df = pd.DataFrame()"
   ]
  },
  {
   "cell_type": "code",
   "execution_count": 36,
   "id": "27d98547",
   "metadata": {},
   "outputs": [],
   "source": [
    "previous_lineup_vs_lineup_df = pd.read_csv('PRE_updated_lineup_vs_lineup.csv', dtype={'game_id': 'object'})\n",
    "previous_player_stats_df = pd.read_csv('PRE_updated_player_stats.csv', dtype={'game_id': 'object'})"
   ]
  },
  {
   "cell_type": "code",
   "execution_count": 37,
   "id": "70ff4882",
   "metadata": {},
   "outputs": [
    {
     "name": "stdout",
     "output_type": "stream",
     "text": [
      "Missing game_ids: ['0012300003', '0012300002', '0012300001', '2012300002', '2012300001']\n"
     ]
    }
   ],
   "source": [
    "# All missing lineup game_ids\n",
    "\n",
    "all_game_ids_series = pd.Series(all_game_ids)\n",
    "missing_game_ids = all_game_ids_series[~all_game_ids_series.isin(previous_lineup_vs_lineup_df['game_id'].unique())].tolist()\n",
    "print(f\"Missing game_ids: {missing_game_ids}\")"
   ]
  },
  {
   "cell_type": "code",
   "execution_count": 38,
   "id": "8b1fab0e",
   "metadata": {},
   "outputs": [],
   "source": [
    "missing_game_ids.remove(\"0012300003\")"
   ]
  },
  {
   "cell_type": "code",
   "execution_count": 39,
   "id": "bba3cff7",
   "metadata": {},
   "outputs": [
    {
     "data": {
      "text/plain": [
       "['0012300002', '0012300001', '2012300002', '2012300001']"
      ]
     },
     "execution_count": 39,
     "metadata": {},
     "output_type": "execute_result"
    }
   ],
   "source": [
    "missing_game_ids"
   ]
  },
  {
   "cell_type": "code",
   "execution_count": 40,
   "id": "ae11c7ba",
   "metadata": {},
   "outputs": [
    {
     "name": "stderr",
     "output_type": "stream",
     "text": [
      "  0%|          | 0/4 [00:00<?, ?it/s]"
     ]
    },
    {
     "name": "stdout",
     "output_type": "stream",
     "text": [
      "----------------GAME nr.1-----------\n",
      "\n",
      "Data saved to CSV files.\n",
      "Finished game: 0012300002\n"
     ]
    },
    {
     "name": "stderr",
     "output_type": "stream",
     "text": [
      " 25%|██▌       | 1/4 [00:03<00:11,  3.84s/it]"
     ]
    },
    {
     "name": "stdout",
     "output_type": "stream",
     "text": [
      "----------------GAME nr.2-----------\n",
      "\n",
      "Data saved to CSV files.\n",
      "Finished game: 0012300001\n"
     ]
    },
    {
     "name": "stderr",
     "output_type": "stream",
     "text": [
      " 50%|█████     | 2/4 [00:07<00:07,  3.59s/it]"
     ]
    },
    {
     "name": "stdout",
     "output_type": "stream",
     "text": [
      "----------------GAME nr.3-----------\n",
      "\n",
      "Data saved to CSV files.\n",
      "Finished game: 2012300002\n"
     ]
    },
    {
     "name": "stderr",
     "output_type": "stream",
     "text": [
      " 75%|███████▌  | 3/4 [00:10<00:03,  3.52s/it]"
     ]
    },
    {
     "name": "stdout",
     "output_type": "stream",
     "text": [
      "----------------GAME nr.4-----------\n",
      "\n",
      "Data saved to CSV files.\n",
      "Finished game: 2012300001\n"
     ]
    },
    {
     "name": "stderr",
     "output_type": "stream",
     "text": [
      "100%|██████████| 4/4 [00:14<00:00,  3.57s/it]\n"
     ]
    }
   ],
   "source": [
    "# Store all results\n",
    "lineup_vs_lineup_data = []\n",
    "player_stats_data = []\n",
    "nr = 1\n",
    "for game_id in tqdm(missing_game_ids):\n",
    "    try:\n",
    "        # --- Load game data ---\n",
    "        print(f\"----------------GAME nr.{nr}-----------\\n\")\n",
    "        nr += 1\n",
    "        # Load play-by-play data\n",
    "        pbp = PlayByPlayV2(game_id=game_id).get_data_frames()[0]\n",
    "\n",
    "        # Load player rotation data\n",
    "        rotation = GameRotation(game_id=game_id)\n",
    "        home_df = rotation.home_team.get_data_frame()\n",
    "        away_df = rotation.away_team.get_data_frame()\n",
    "\n",
    "        # Add team labels\n",
    "        home_df['TEAM_SIDE'] = 'home'\n",
    "        away_df['TEAM_SIDE'] = 'away'\n",
    "        rotation_df = pd.concat([home_df, away_df], ignore_index=True)\n",
    "\n",
    "        # Create a timeline of substitution events\n",
    "        events = []\n",
    "        for _, row in rotation_df.iterrows():\n",
    "            player = f\"{row['PLAYER_FIRST']} {row['PLAYER_LAST']}\"\n",
    "            team = row['TEAM_SIDE']\n",
    "            events.append({'time': row['IN_TIME_REAL'], 'player': player, 'team': team, 'action': 'in'})\n",
    "            events.append({'time': row['OUT_TIME_REAL'], 'player': player, 'team': team, 'action': 'out'})\n",
    "        events = sorted(events, key=lambda x: x['time'])\n",
    "\n",
    "        lineup_segments = []\n",
    "        current_lineups = {'home': set(), 'away': set()}\n",
    "        prev_time = 0\n",
    "\n",
    "        for event in events:\n",
    "            current_time = event['time']\n",
    "\n",
    "            if all(len(lineup) == 5 for lineup in current_lineups.values()):\n",
    "                lineup_segments.append({\n",
    "                    'start_time': prev_time,\n",
    "                    'end_time': current_time,\n",
    "                    'home_lineup': tuple(sorted(current_lineups['home'])),\n",
    "                    'away_lineup': tuple(sorted(current_lineups['away'])),\n",
    "                    'duration': current_time - prev_time\n",
    "                })\n",
    "\n",
    "            team = event['team']\n",
    "            player = event['player']\n",
    "            if event['action'] == 'in':\n",
    "                current_lineups[team].add(player)\n",
    "            else:\n",
    "                current_lineups[team].discard(player)\n",
    "\n",
    "            prev_time = current_time\n",
    "\n",
    "        lineup_df = pd.DataFrame(lineup_segments)\n",
    "        lineup_df[['start_time', 'end_time', 'duration']] = lineup_df[['start_time', 'end_time', 'duration']] / 10\n",
    "        lineup_df[['period', 'start_pctimestring']] = lineup_df['start_time'].apply(lambda x: pd.Series(get_period_and_clock(x)))\n",
    "        lineup_df[['end_period', 'end_pctimestring']] = lineup_df['end_time'].apply(lambda x: pd.Series(get_period_and_clock(x)))\n",
    "\n",
    "        pbp['GAME_CLOCK_SEC'] = pbp.apply(lambda row: convert_to_game_time(row['PERIOD'], row['PCTIMESTRING']), axis=1)\n",
    "        pbp[['HOME_LINEUP', 'AWAY_LINEUP']] = pbp.apply(lambda row: find_lineup(row, lineup_df), axis=1)\n",
    "\n",
    "        important_event_types = list(range(1, 14))\n",
    "        lineup_timeline = []\n",
    "\n",
    "        for _, row in pbp.iterrows():\n",
    "            if row['EVENTMSGTYPE'] in important_event_types and isinstance(row['HOME_LINEUP'], tuple):\n",
    "                lineup_timeline.append({\n",
    "                    'EVENTNUM': row['EVENTNUM'],\n",
    "                    'PERIOD': row['PERIOD'],\n",
    "                    'TIME': row['PCTIMESTRING'],\n",
    "                    'EVENT_TYPE': row['EVENTMSGTYPE'],\n",
    "                    'SCORE': row['SCORE'],\n",
    "                    'HOME_DESCRIPTION': str(row['HOMEDESCRIPTION']) if pd.notna(row['HOMEDESCRIPTION']) else '',\n",
    "                    'AWAY_DESCRIPTION': str(row['VISITORDESCRIPTION']) if pd.notna(row['VISITORDESCRIPTION']) else '',\n",
    "                    'HOME_LINEUP': row['HOME_LINEUP'],\n",
    "                    'AWAY_LINEUP': row['AWAY_LINEUP'],\n",
    "                    'PLAYER1_NAME': row['PLAYER1_NAME'],\n",
    "                    'PLAYER2_NAME': row['PLAYER2_NAME'],\n",
    "                    'PLAYER3_NAME': row['PLAYER3_NAME']\n",
    "                })\n",
    "\n",
    "        lineup_event_df = pd.DataFrame(lineup_timeline)\n",
    "        lineup_event_df.head()\n",
    "\n",
    "        lineup_segments = []\n",
    "        segment = None\n",
    "        prev_home = None\n",
    "        prev_away = None\n",
    "        last_shot_team = None\n",
    "\n",
    "        SKIP_KEYWORDS = ['SUB', 'Jump Ball', 'Delay', 'Offensive', 'Timeout', 'Rebound']\n",
    "\n",
    "        for _, row in lineup_event_df.iterrows():\n",
    "            home_lineup = tuple(sorted(row['HOME_LINEUP']))\n",
    "            away_lineup = tuple(sorted(row['AWAY_LINEUP']))\n",
    "\n",
    "            # Start new segment if lineups changed\n",
    "            if segment is None or home_lineup != prev_home or away_lineup != prev_away:\n",
    "                if segment:\n",
    "                    segment['end_event'] = row['EVENTNUM']\n",
    "                    segment['end_time'] = row['TIME']\n",
    "                    lineup_segments.append(segment)\n",
    "\n",
    "                segment = {\n",
    "                    'home_lineup': home_lineup,\n",
    "                    'away_lineup': away_lineup,\n",
    "                    'start_event': row['EVENTNUM'],\n",
    "                    'start_time': row['TIME'],\n",
    "                    'period': row['PERIOD'],\n",
    "                    'team_stats': {'home': defaultdict(int), 'away': defaultdict(int)},\n",
    "                    'player_stats': defaultdict(lambda: defaultdict(int)),\n",
    "                    'events': []\n",
    "                }\n",
    "\n",
    "                prev_home = home_lineup\n",
    "                prev_away = away_lineup\n",
    "\n",
    "            segment['events'].append({\n",
    "                'EVENTNUM': row['EVENTNUM'],\n",
    "                'TIME': row['TIME'],\n",
    "                'HOME_DESCRIPTION': row['HOME_DESCRIPTION'],\n",
    "                'AWAY_DESCRIPTION': row['AWAY_DESCRIPTION']\n",
    "            })\n",
    "\n",
    "            # Process event descriptions\n",
    "            for team_side, desc in [('home', row['HOME_DESCRIPTION']), ('away', row['AWAY_DESCRIPTION'])]:\n",
    "                if not desc or any(skip in desc for skip in SKIP_KEYWORDS):\n",
    "                    continue\n",
    "\n",
    "                lineup = home_lineup if team_side == 'home' else away_lineup\n",
    "                players_on_court = set(lineup)\n",
    "\n",
    "                def inc(stat, players, value=1):\n",
    "                    segment['team_stats'][team_side][stat] += value\n",
    "                    for p in players:\n",
    "                        if p in players_on_court:\n",
    "                            segment['player_stats'][p][stat] += value\n",
    "\n",
    "                # Detect player involvement\n",
    "                involved_players = [row['PLAYER1_NAME'], row['PLAYER2_NAME'], row['PLAYER3_NAME']]\n",
    "                involved_players = [p for p in involved_players if isinstance(p, str)]\n",
    "\n",
    "                # Scoring\n",
    "                if '3PT' in desc and 'MISS' not in desc:\n",
    "                    inc('3pt_made', [row['PLAYER1_NAME']])\n",
    "                    inc('points', [row['PLAYER1_NAME']], 3)\n",
    "                elif 'Free Throw' in desc and 'MISS' not in desc:\n",
    "                    inc('ft_made', [row['PLAYER1_NAME']])\n",
    "                    inc('points', [row['PLAYER1_NAME']], 1)\n",
    "                elif 'MISS' not in desc and any(kw in desc for kw in ['Fadeaway', 'Dunk', 'Layup', 'Jump Shot', 'Hook Shot']):\n",
    "                    inc('2pt_made', [row['PLAYER1_NAME']])\n",
    "                    inc('points', [row['PLAYER1_NAME']], 2)\n",
    "                elif 'MISS' in desc:\n",
    "                    last_shot_team = team_side\n",
    "\n",
    "                # Other actions\n",
    "                if 'AST' in desc:\n",
    "                    inc('assists', [row['PLAYER2_NAME']])\n",
    "                if 'Turnover' in desc:\n",
    "                    inc('turnovers', [row['PLAYER1_NAME']])\n",
    "                if 'STL' in desc:\n",
    "                    inc('steals', [row['PLAYER2_NAME']])\n",
    "                if 'BLK' in desc:\n",
    "                    inc('blocks', [row['PLAYER2_NAME']])\n",
    "                if '.FOUL' in desc:\n",
    "                    inc('fouls', [row['PLAYER1_NAME']])\n",
    "\n",
    "                # Rebounds\n",
    "                if 'REBOUND' in desc:\n",
    "                    rebound_team = team_side\n",
    "                    rebounder = row['PLAYER1_NAME']\n",
    "                    if last_shot_team:\n",
    "                        if rebound_team == last_shot_team:\n",
    "                            inc('off_rebounds', [rebounder])\n",
    "                        else:\n",
    "                            inc('def_rebounds', [rebounder])\n",
    "                    last_shot_team = None\n",
    "\n",
    "        # Final flush\n",
    "        if segment:\n",
    "            segment['end_event'] = row['EVENTNUM']\n",
    "            segment['end_time'] = row['TIME']\n",
    "            lineup_segments.append(segment)\n",
    "\n",
    "        \n",
    "\n",
    "        for seg in lineup_segments:\n",
    "            row = {\n",
    "                'game_id': game_id,\n",
    "                'period': seg['period'],\n",
    "                'start_event': seg['start_event'],\n",
    "                'end_event': seg['end_event'],\n",
    "                'start_time': seg['start_time'],\n",
    "                'end_time': seg['end_time'],\n",
    "                'home_lineup': seg['home_lineup'],\n",
    "                'away_lineup': seg['away_lineup']\n",
    "            }\n",
    "\n",
    "            for team in ['home', 'away']:\n",
    "                for stat, val in seg['team_stats'][team].items():\n",
    "                    row[f'{team}_{stat}'] = val\n",
    "\n",
    "            lineup_vs_lineup_data.append(row)\n",
    "\n",
    "        # lineup_vs_lineup_df = pd.DataFrame(lineup_vs_lineup_data)\n",
    "\n",
    "        \n",
    "\n",
    "        for seg in lineup_segments:\n",
    "            for player, stats in seg['player_stats'].items():\n",
    "                row = {\n",
    "                    'game_id': game_id,\n",
    "                    'player': player,\n",
    "                    'period': seg['period'],\n",
    "                    'start_event': seg['start_event'],\n",
    "                    'end_event': seg['end_event'],\n",
    "                    'start_time': seg['start_time'],\n",
    "                    'end_time': seg['end_time'],\n",
    "                    'home_lineup': seg['home_lineup'],\n",
    "                    'away_lineup': seg['away_lineup']\n",
    "                }\n",
    "\n",
    "                for stat, val in stats.items():\n",
    "                    row[stat] = val\n",
    "\n",
    "                player_stats_data.append(row)\n",
    "\n",
    "        player_stats_df = pd.DataFrame(player_stats_data)\n",
    "        \n",
    "        # Convert to DataFrame\n",
    "        lineup_vs_lineup_df = pd.DataFrame(lineup_vs_lineup_data)\n",
    "        player_stats_df = pd.DataFrame(player_stats_data)\n",
    "\n",
    "        # Concatenate with previous data\n",
    "        lineup_vs_lineup_df = pd.concat([previous_lineup_vs_lineup_df, lineup_vs_lineup_df], ignore_index=True)\n",
    "        player_stats_df = pd.concat([previous_player_stats_df, player_stats_df], ignore_index=True)\n",
    "\n",
    "        # Save to CSV\n",
    "        lineup_vs_lineup_df.to_csv('PRE_updated_lineup_vs_lineup.csv', index=False)\n",
    "        player_stats_df.to_csv('PRE_updated_player_stats.csv', index=False)\n",
    "        print(\"Data saved to CSV files.\")\n",
    "\n",
    "        print(f\"Finished game: {game_id}\")\n",
    "\n",
    "        # Respect rate limits\n",
    "        time.sleep(1)\n",
    "\n",
    "    except Exception as e:\n",
    "        print(f\"Failed on game {game_id}: {e}\")\n",
    "        break"
   ]
  }
 ],
 "metadata": {
  "kernelspec": {
   "display_name": ".venv",
   "language": "python",
   "name": "python3"
  },
  "language_info": {
   "codemirror_mode": {
    "name": "ipython",
    "version": 3
   },
   "file_extension": ".py",
   "mimetype": "text/x-python",
   "name": "python",
   "nbconvert_exporter": "python",
   "pygments_lexer": "ipython3",
   "version": "3.11.9"
  }
 },
 "nbformat": 4,
 "nbformat_minor": 5
}
