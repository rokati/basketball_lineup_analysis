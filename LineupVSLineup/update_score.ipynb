{
 "cells": [
  {
   "cell_type": "code",
   "execution_count": 1,
   "id": "943675d2",
   "metadata": {},
   "outputs": [],
   "source": [
    "import pandas as pd"
   ]
  },
  {
   "cell_type": "markdown",
   "id": "ed57ee34",
   "metadata": {},
   "source": [
    "# Step 1: Load the CSV"
   ]
  },
  {
   "cell_type": "code",
   "execution_count": 6,
   "id": "c2e2a15c",
   "metadata": {},
   "outputs": [],
   "source": [
    "df = pd.read_csv('C:\\\\Users\\\\Anna\\\\Documents\\\\BME_VIK\\\\A_TARGYAK\\\\3felev\\\\halado_adatel\\\\basketball_lineup_analysis\\\\LineupVSLineup\\\\lineup_vs_lineup.csv')\n"
   ]
  },
  {
   "cell_type": "markdown",
   "id": "f8c3e6af",
   "metadata": {},
   "source": [
    "# Step 2: Define the formula for lineup_score"
   ]
  },
  {
   "cell_type": "code",
   "execution_count": 7,
   "id": "99175bda",
   "metadata": {},
   "outputs": [],
   "source": [
    "df['lineup_score'] = (\n",
    "    3.0 * df['home_3pt_made'].fillna(0) +\n",
    "    2.0 * df['home_2pt_made'].fillna(0) +\n",
    "    1.5 * df['home_ft_made'].fillna(0) +\n",
    "    1.0 * df['home_assists'].fillna(0) +\n",
    "    1.0 * df['home_steals'].fillna(0) +\n",
    "    1.0 * df['home_blocks'].fillna(0) +\n",
    "    0.7 * df['home_off_rebounds'].fillna(0) +\n",
    "    0.5 * df['home_def_rebounds'].fillna(0) -\n",
    "    1.0 * df['home_turnovers'].fillna(0) -\n",
    "    0.5 * df['home_fouls'].fillna(0) -\n",
    "\n",
    "    2.0 * df['away_2pt_made'].fillna(0) -\n",
    "    3.0 * df['away_3pt_made'].fillna(0) -\n",
    "    1.5 * df['away_ft_made'].fillna(0) -\n",
    "    1.0 * df['away_assists'].fillna(0) -\n",
    "    1.0 * df['away_steals'].fillna(0) -\n",
    "    1.0 * df['away_blocks'].fillna(0) -\n",
    "    0.7 * df['away_off_rebounds'].fillna(0) -\n",
    "    0.5 * df['away_def_rebounds'].fillna(0) +\n",
    "    1.0 * df['away_turnovers'].fillna(0) -\n",
    "    0.5 * df['away_fouls'].fillna(0) +\n",
    "\n",
    "    0.01 * df['duration'].fillna(0)\n",
    ")"
   ]
  },
  {
   "cell_type": "markdown",
   "id": "c2a77b4a",
   "metadata": {},
   "source": [
    "# Step 3: Save to a new CSV"
   ]
  },
  {
   "cell_type": "code",
   "execution_count": 8,
   "id": "b8368e80",
   "metadata": {},
   "outputs": [
    {
     "name": "stdout",
     "output_type": "stream",
     "text": [
      "✅ New file saved as 'nba_with_lineup_score.csv'\n"
     ]
    }
   ],
   "source": [
    "df.to_csv('nba_with_lineup_score.csv', index=False)\n",
    "\n",
    "print(\"✅ New file saved as 'nba_with_lineup_score.csv'\")"
   ]
  }
 ],
 "metadata": {
  "kernelspec": {
   "display_name": ".venv",
   "language": "python",
   "name": "python3"
  },
  "language_info": {
   "codemirror_mode": {
    "name": "ipython",
    "version": 3
   },
   "file_extension": ".py",
   "mimetype": "text/x-python",
   "name": "python",
   "nbconvert_exporter": "python",
   "pygments_lexer": "ipython3",
   "version": "3.11.9"
  }
 },
 "nbformat": 4,
 "nbformat_minor": 5
}
