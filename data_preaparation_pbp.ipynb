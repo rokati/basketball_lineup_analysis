{
  "cells": [
    {
      "cell_type": "markdown",
      "metadata": {
        "id": "Kere6IHX8NIx"
      },
      "source": [
        "# Installing all needed dataframes"
      ]
    },
    {
      "cell_type": "code",
      "execution_count": null,
      "metadata": {
        "id": "W2UwGTHR7dtK"
      },
      "outputs": [],
      "source": [
        "!pip install nba_api"
      ]
    },
    {
      "cell_type": "code",
      "execution_count": null,
      "metadata": {
        "id": "Huz6g8_-D0yF"
      },
      "outputs": [],
      "source": [
        "from nba_api.stats.endpoints import BoxScoreAdvancedV2, LeagueDashTeamStats, LeagueGameFinder, LeagueDashPlayerStats, PlayByPlayV2, LeagueLineupViz, TeamPlayerOnOffDetails, TeamPlayerOnOffSummary\n",
        "import pandas as pd\n",
        "from tqdm import tqdm\n",
        "import time\n",
        "from tenacity import retry, stop_after_attempt, wait_exponential\n",
        "import matplotlib.pyplot as plt\n",
        "import seaborn as sns\n",
        "\n",
        "pd.set_option('display.max_columns', None)"
      ]
    },
    {
      "cell_type": "code",
      "execution_count": null,
      "metadata": {
        "id": "CK4hqxfsDSP-"
      },
      "outputs": [],
      "source": [
        "season = \"2023-24\"\n",
        "game_id = \"0022300881\"\n",
        "team_id = \"1610612741\""
      ]
    },
    {
      "cell_type": "code",
      "execution_count": null,
      "metadata": {
        "id": "CeriR5Hesgfk"
      },
      "outputs": [],
      "source": [
        "def fetch_team_stats(season):\n",
        "    team_stats = LeagueDashTeamStats(season=season).get_data_frames()[0]\n",
        "    return team_stats\n",
        "\n",
        "def fetch_game_stats(game_id):\n",
        "    game_stats = LeagueGameFinder(season_nullable=season).get_data_frames()[0]\n",
        "    return game_stats\n",
        "\n",
        "def fetch_player_stats(season):\n",
        "    player_stats = LeagueDashPlayerStats(season=season).get_data_frames()[0]\n",
        "    return player_stats\n",
        "\n",
        "def fetch_lineup_data(season, minutes_min):\n",
        "    lineup_data = LeagueLineupViz(season=season, measure_type_detailed_defense=\"Advanced\", minutes_min=minutes_min).get_data_frames()[0]\n",
        "    return lineup_data\n",
        "\n",
        "@retry(stop=stop_after_attempt(3), wait=wait_exponential(multiplier=1, min=2, max=30))\n",
        "def fetch_substitution_events(game_id):\n",
        "    play_by_play = PlayByPlayV2(game_id=game_id).get_data_frames()[0]\n",
        "    substitution_events = play_by_play[play_by_play[\"EVENTMSGTYPE\"] == 8]\n",
        "    return substitution_events\n",
        "\n",
        "@retry(stop=stop_after_attempt(3), wait=wait_exponential(multiplier=2, min=5, max=40))\n",
        "def fetch_team_on_off_details(team_id, season):\n",
        "    team_on_off_details = TeamPlayerOnOffDetails(team_id=team_id, season=season).get_data_frames()[0]\n",
        "    return team_on_off_details\n",
        "\n",
        "@retry(stop=stop_after_attempt(3), wait=wait_exponential(multiplier=2, min=5, max=40))\n",
        "def fetch_player_on_details(team_id, season):\n",
        "    player_on_details = TeamPlayerOnOffSummary(team_id=team_id, season=season).get_data_frames()[1]\n",
        "    return player_on_details\n",
        "\n",
        "@retry(stop=stop_after_attempt(3), wait=wait_exponential(multiplier=2, min=5, max=40))\n",
        "def fetch_player_off_details(team_id, season):\n",
        "    player_off_details = TeamPlayerOnOffSummary(team_id=team_id, season=season).get_data_frames()[2]\n",
        "    return player_off_details"
      ]
    },
    {
      "cell_type": "code",
      "execution_count": null,
      "metadata": {
        "id": "RrRVMmoEtAuZ"
      },
      "outputs": [],
      "source": [
        "team_stats = fetch_team_stats(season=season)\n",
        "game_stats = fetch_game_stats(game_id=game_id)\n",
        "player_stats = fetch_player_stats(season=season)\n",
        "lineup_data = fetch_lineup_data(season=season, minutes_min=5)"
      ]
    },
    {
      "cell_type": "code",
      "execution_count": null,
      "metadata": {
        "id": "tEM-6e4tuzjg"
      },
      "outputs": [],
      "source": [
        "all_team_on_off_details = pd.DataFrame()\n",
        "all_player_on_details = pd.DataFrame()\n",
        "all_player_off_details = pd.DataFrame()\n",
        "for team in tqdm(team_stats[:100].iterrows()):\n",
        "  try:\n",
        "    team_on_off_details = fetch_team_on_off_details(team_id=team[1]['TEAM_ID'], season=season)\n",
        "    all_team_on_off_details = pd.concat([all_team_on_off_details, team_on_off_details])\n",
        "\n",
        "    player_on_details = fetch_player_on_details(team_id=team[1]['TEAM_ID'], season=season)\n",
        "    all_player_on_details = pd.concat([all_player_on_details, player_on_details])\n",
        "\n",
        "    player_off_details = fetch_player_off_details(team_id=team[1]['TEAM_ID'], season=season)\n",
        "    all_player_off_details = pd.concat([all_player_off_details, player_off_details])\n",
        "\n",
        "  except Exception as e:\n",
        "    print(f\"Skipping team {team[1]['TEAM_ID']} after retries: {e}\")\n",
        "\n",
        "all_team_on_off_details.to_csv(\"team_on_off_details.csv\")\n",
        "all_player_on_details.to_csv(\"player_on_details.csv\")\n",
        "all_player_off_details.to_csv(\"player_off_details.csv\")"
      ]
    },
    {
      "cell_type": "code",
      "execution_count": null,
      "metadata": {
        "colab": {
          "background_save": true,
          "base_uri": "https://localhost:8080/"
        },
        "id": "aKHym1Djuxcf",
        "outputId": "02c1f7c5-d78c-4f3f-9c5a-36110725dbc1"
      },
      "outputs": [
        {
          "metadata": {
            "tags": null
          },
          "name": "stderr",
          "output_type": "stream",
          "text": [
            "61it [03:51, 28.41s/it]"
          ]
        },
        {
          "metadata": {
            "tags": null
          },
          "name": "stdout",
          "output_type": "stream",
          "text": [
            "Skipping game 0042300213 after retries: RetryError[<Future at 0x79b50d546510 state=finished raised ReadTimeout>]\n"
          ]
        },
        {
          "metadata": {
            "tags": null
          },
          "name": "stderr",
          "output_type": "stream",
          "text": [
            "\r62it [05:26, 48.15s/it]"
          ]
        },
        {
          "metadata": {
            "tags": null
          },
          "name": "stdout",
          "output_type": "stream",
          "text": [
            "Skipping game 0042300233 after retries: RetryError[<Future at 0x79b50d735490 state=finished raised ReadTimeout>]\n"
          ]
        },
        {
          "metadata": {
            "tags": null
          },
          "name": "stderr",
          "output_type": "stream",
          "text": [
            "\r63it [07:00, 61.99s/it]"
          ]
        },
        {
          "metadata": {
            "tags": null
          },
          "name": "stdout",
          "output_type": "stream",
          "text": [
            "Skipping game 0042300222 after retries: RetryError[<Future at 0x79b50d628d50 state=finished raised ReadTimeout>]\n"
          ]
        },
        {
          "metadata": {
            "tags": null
          },
          "name": "stderr",
          "output_type": "stream",
          "text": [
            "94it [10:46, 15.97s/it]"
          ]
        },
        {
          "metadata": {
            "tags": null
          },
          "name": "stdout",
          "output_type": "stream",
          "text": [
            "Skipping game 0042300115 after retries: RetryError[<Future at 0x79b50d65b3d0 state=finished raised ReadTimeout>]\n"
          ]
        },
        {
          "metadata": {
            "tags": null
          },
          "name": "stderr",
          "output_type": "stream",
          "text": [
            "\r95it [12:20, 30.60s/it]"
          ]
        }
      ],
      "source": [
        "all_substitution_events = pd.DataFrame()\n",
        "n = 0\n",
        "for game in tqdm(game_stats.iterrows()):\n",
        "  if n == 100:\n",
        "    break\n",
        "  n += 1\n",
        "  try:\n",
        "    substitution_events = fetch_substitution_events(game_id=game[1]['GAME_ID'])\n",
        "    all_substitution_events = pd.concat([all_substitution_events, substitution_events])\n",
        "  except Exception as e:\n",
        "    print(f\"Skipping game {game[1]['GAME_ID']} after retries: {e}\")\n",
        "\n",
        "all_substitution_events.to_csv(\"substitution_events.csv\")"
      ]
    },
    {
      "cell_type": "code",
      "execution_count": null,
      "metadata": {
        "id": "MEpzD1kg5_-X"
      },
      "outputs": [],
      "source": [
        "all_player_on_details[all_player_on_details['TEAM_ID'] == 1610612744]"
      ]
    },
    {
      "cell_type": "code",
      "execution_count": null,
      "metadata": {
        "id": "_xsqEUyw5pvi"
      },
      "outputs": [],
      "source": [
        "game = game_stats.loc[game_stats['TEAM_ID'] == 1610612744].reset_index(drop=True)\n",
        "game.loc[0]"
      ]
    },
    {
      "cell_type": "code",
      "execution_count": null,
      "metadata": {
        "id": "Secf3jOl2oaJ"
      },
      "outputs": [],
      "source": [
        "all_substitution_events.PLAYER1_TEAM_ID/10"
      ]
    },
    {
      "cell_type": "code",
      "execution_count": null,
      "metadata": {
        "id": "lbo6oRXE2l5k"
      },
      "outputs": [],
      "source": [
        "\n",
        "def plot_on_off_rating_difference(players_on_details, player_off_details, team_id, rating='NET_RATING'):\n",
        "  \"\"\"\n",
        "  Plots the difference in on/off ratings for each player in a given team.\n",
        "\n",
        "  Args:\n",
        "      players_on_details: DataFrame of player on-court details.\n",
        "      player_off_details: DataFrame of player off-court details.\n",
        "      team_id: ID of the team to plot.\n",
        "      rating: Rating to use\n",
        "      (default is 'NET_RATING')\n",
        "  \"\"\"\n",
        "\n",
        "  players_on_details = players_on_details.loc[players_on_details['TEAM_ID'] == team_id]\n",
        "  player_off_details = player_off_details.loc[player_off_details['TEAM_ID'] == team_id]\n",
        "\n",
        "  # Merge the dataframes\n",
        "  player_on_off_details = pd.merge(players_on_details, player_off_details, on='VS_PLAYER_ID', suffixes=('_on', '_off'))\n",
        "\n",
        "  # Calculate the difference in rating\n",
        "  player_on_off_details['RATING_DIFF'] = player_on_off_details[f'{rating}_on'] - player_on_off_details[f'{rating}_off']\n",
        "\n",
        "  # Create the plot\n",
        "  plt.figure(figsize=(12, 8))\n",
        "  sns.barplot(x='VS_PLAYER_NAME_on', y='RATING_DIFF', data=player_on_off_details)\n",
        "  plt.xticks(rotation=90)\n",
        "  plt.xlabel('Player Name')\n",
        "  plt.ylabel('On/Off Rating Difference')\n",
        "  plt.title(f'Difference in On/Off {rating.upper()} for Each Player in ')\n",
        "  plt.tight_layout()\n",
        "  plt.show()"
      ]
    },
    {
      "cell_type": "code",
      "execution_count": null,
      "metadata": {
        "id": "wcQau1ic37f8"
      },
      "outputs": [],
      "source": [
        "plot_on_off_rating_difference(player_on_details, player_off_details, team_id=team_id, rating='NET_RATING')"
      ]
    },
    {
      "cell_type": "code",
      "execution_count": null,
      "metadata": {
        "id": "coW4jb5k5HHY"
      },
      "outputs": [],
      "source": [
        "def plot_team_rating_over_substitutions(substitution_events, player_on_details, player_off_details, team_on_off_details, game_id):\n",
        "    \"\"\"\n",
        "    Plots the team's rating over time, updating it at each substitution.\n",
        "\n",
        "    Args:\n",
        "        substitution_events: DataFrame of substitution events.\n",
        "        player_on_details: DataFrame of player on-court details.\n",
        "        player_off_details: DataFrame of player off-court details.\n",
        "    \"\"\"\n",
        "\n",
        "    # Placeholder for team rating (replace with your actual rating calculation)\n",
        "\n",
        "    substitution_events = substitution_events.loc[substitution_events['GAME_ID'] == game_id]\n",
        "\n",
        "    team_ids = substitution_events['PLAYER1_TEAM_ID'].unique()\n",
        "    team_names = substitution_events['PLAYER1_TEAM_NAME'].unique()\n",
        "    substitution_times_list = []\n",
        "    team_ratings_list = []\n",
        "\n",
        "    for i, team_id in enumerate(team_ids):\n",
        "        team_on_off_details = team_on_off_details.loc[team_on_off_details['TEAM_ID'] == team_id]\n",
        "        player_on_details = player_on_details.loc[player_on_details['TEAM_ID'] == team_id]\n",
        "        player_off_details = player_off_details.loc[player_off_details['TEAM_ID'] == team_id]\n",
        "\n",
        "        team_rating = team_on_off_details['NET_RATING'].values[0]\n",
        "        team_ratings_over_time = []\n",
        "        substitution_times = []\n",
        "\n",
        "        for index, row in substitution_events.iterrows():\n",
        "            substitution_times.append(row['PCTIMESTRING'])\n",
        "\n",
        "            incoming_player = row['PLAYER1_ID']\n",
        "            outgoing_player = row['PLAYER2_ID']\n",
        "\n",
        "            incoming_player_rating = player_on_details[player_on_details['VS_PLAYER_ID'] == incoming_player]['NET_RATING'].values[0]\n",
        "            outgoing_player_rating = player_off_details[player_off_details['VS_PLAYER_ID'] == outgoing_player]['NET_RATING'].values[0]\n",
        "\n",
        "            team_rating = team_rating + incoming_player_rating - outgoing_player_rating\n",
        "\n",
        "            team_ratings_over_time.append(team_rating)\n",
        "        substitution_times_list.append(substitution_times)\n",
        "        team_ratings_list.append(team_ratings_over_time)\n",
        "\n",
        "    fig, (ax1, ax2) = plt.subplots(2)\n",
        "\n",
        "    # Create the plot\n",
        "    fig.suptitle('Team Rating Over Time (Substitutions)')\n",
        "    ax1.plot(substitution_times_list[0], team_ratings_list[0], marker='o')\n",
        "    ax1.set_xlabel('Time')\n",
        "    ax1.set_ylabel(f'{team_names[0]} Rating')\n",
        "    ax1.set_title(f'{team_names[0]} Rating Over Time (Substitutions)')\n",
        "\n",
        "    ax2.plot(substitution_times_list[1], team_ratings_list[1], marker='o')\n",
        "    ax2.set_xlabel('Time')\n",
        "    ax2.set_ylabel(f'{team_names[1]} Rating')\n",
        "    ax2.set_title(f'{team_names[1]} Rating Over Time (Substitutions)')\n",
        "    plt.xticks(rotation=45)\n",
        "    plt.tight_layout()\n",
        "    plt.show()"
      ]
    }
  ],
  "metadata": {
    "colab": {
      "provenance": []
    },
    "kernelspec": {
      "display_name": "Python 3",
      "name": "python3"
    },
    "language_info": {
      "name": "python"
    }
  },
  "nbformat": 4,
  "nbformat_minor": 0
}